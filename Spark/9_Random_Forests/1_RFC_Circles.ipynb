{
 "cells": [
  {
   "cell_type": "markdown",
   "metadata": {},
   "source": [
    "# Decision Trees and Random Forests\n",
    "Decision trees algorithms are used for classification and regression tasks. By means of if-else statements, the input space is iteratively divided in subsets, until all the samples in each subset belong to the same class. \n",
    "Splits that produce pure subsets increase our information about the data, and are better than splits that produce subsets with mixed observations. We can quantify the amount of information using a measure called entropy. Entropy is given by the following equation:\n",
    "\n",
    "$$H=-{\\sum}_c P_{c}\\log_{2}P_{c}$$\n",
    "\n",
    "where $P_{c}$ is the proportion of the samples that belongs to class $c$. \n",
    "Because the log of a number less than one is negative, the entire sum returns a positive value. The entropy is 0 if all samples at a node belong to the same class ($\\log_{2}(1)=0$), and it is maximal if we have a uniform class distribution. In other words a better split reduces the entropy.\n",
    "Reduction in entropy is measured by a metric called information gain.\n",
    "\n",
    "$$I_{G}=H_{P}-\\frac{N_{L}}{N_{P}}H_{L}-\\frac{N_{R}}{N_{P}}H_{R}$$\n",
    "\n",
    "Here, $H_{P}$ is the entropy of the parent set, $H_{L}$ and $H_{R}$\n",
    "are the entropies for the left and right child set, $N_{P}$ is the\n",
    "total number of samples at the parent set, $N_{L}$ and $N_{R}$ are\n",
    "the number of samples in the left and right child set. By calculating\n",
    "$I_{G}$ the best split candidate is decided.\n",
    "\n",
    "This process can result in a very deep tree with many nodes, which\n",
    "can lead to overfitting. Thus, it is common practice to set a maximum\n",
    "depth for the tree, but this is not enough. We need to combine multiple\n",
    "estimators to reduce the effect of overfitting.\n",
    "\n",
    "A $\\textbf{random forest}$ is a collection of decision trees that has\n",
    "a better predictive performance than a single decision tree. The algorithm\n",
    "trains each decision tree in the ensemble independently using a random\n",
    "sample of data. The prediction is the average of the predictions of\n",
    "the single trees. The number of trees in an ensemble is of the order\n",
    "of hundreds."
   ]
  },
  {
   "cell_type": "code",
   "execution_count": 1,
   "metadata": {
    "collapsed": true
   },
   "outputs": [],
   "source": [
    "import org.apache.spark.sql.functions._\n",
    "import org.apache.spark.ml.linalg.Vectors\n",
    "import org.apache.spark.ml.linalg.DenseVector\n",
    "import org.apache.spark.ml.feature.VectorAssembler\n",
    "import org.apache.spark.ml.Pipeline\n",
    "import org.apache.spark.ml.classification.RandomForestClassifier\n",
    "import org.apache.spark.ml.evaluation.MulticlassClassificationEvaluator\n",
    "import breeze.plot._\n",
    "import convert.jfc.tohtml"
   ]
  },
  {
   "cell_type": "markdown",
   "metadata": {},
   "source": [
    "## Load the dataset"
   ]
  },
  {
   "cell_type": "code",
   "execution_count": 2,
   "metadata": {},
   "outputs": [
    {
     "data": {
      "text/plain": [
       "df = [x1: double, x2: double ... 1 more field]\n"
      ]
     },
     "metadata": {},
     "output_type": "display_data"
    },
    {
     "data": {
      "text/plain": [
       "[x1: double, x2: double ... 1 more field]"
      ]
     },
     "execution_count": 2,
     "metadata": {},
     "output_type": "execute_result"
    }
   ],
   "source": [
    "val df = spark.read.\n",
    "  format(\"csv\").\n",
    "  option(\"header\", \"true\").\n",
    "  option(\"inferschema\", \"true\").\n",
    "  option(\"delimiter\",\",\").\n",
    "  load(\"../Datasets/Circles.csv\")"
   ]
  },
  {
   "cell_type": "markdown",
   "metadata": {},
   "source": [
    "## Explore the dataset"
   ]
  },
  {
   "cell_type": "code",
   "execution_count": 3,
   "metadata": {},
   "outputs": [
    {
     "name": "stdout",
     "output_type": "stream",
     "text": [
      "+----------------+---------------+---+\n",
      "|              x1|             x2|  y|\n",
      "+----------------+---------------+---+\n",
      "|  0.846649756819| 0.487329981917|  0|\n",
      "|  -1.03849757478|-0.274275182577|  0|\n",
      "|   1.03690844231|-0.384525436991|  0|\n",
      "| -0.584861591913| 0.996708715045|  0|\n",
      "|   1.03363614647| 0.373811127616|  0|\n",
      "|  -0.61080949638|    1.006592094|  0|\n",
      "|-0.0516171570897| 0.139178302889|  1|\n",
      "|  0.133018383164|0.0940726995832|  1|\n",
      "| -0.924003510567| 0.222330133012|  0|\n",
      "|-0.0860432056902|0.0420813350282|  1|\n",
      "+----------------+---------------+---+\n",
      "only showing top 10 rows\n",
      "\n"
     ]
    }
   ],
   "source": [
    "df.show(10)"
   ]
  },
  {
   "cell_type": "code",
   "execution_count": 4,
   "metadata": {},
   "outputs": [
    {
     "name": "stdout",
     "output_type": "stream",
     "text": [
      "root\n",
      " |-- x1: double (nullable = true)\n",
      " |-- x2: double (nullable = true)\n",
      " |-- y: integer (nullable = true)\n",
      "\n"
     ]
    }
   ],
   "source": [
    "df.printSchema"
   ]
  },
  {
   "cell_type": "code",
   "execution_count": 5,
   "metadata": {},
   "outputs": [
    {
     "name": "stdout",
     "output_type": "stream",
     "text": [
      "+-------+--------------------+--------------------+------------------+\n",
      "|summary|                  x1|                  x2|                 y|\n",
      "+-------+--------------------+--------------------+------------------+\n",
      "|  count|                1000|                1000|              1000|\n",
      "|   mean|-9.40353624820699...|0.001200687946179...|               0.5|\n",
      "| stddev|  0.5221233975699611|  0.5239333827823931|0.5002501876563866|\n",
      "|    min|      -1.18437664394|      -1.17585629601|                 0|\n",
      "|    max|       1.21443132534|       1.25587185691|                 1|\n",
      "+-------+--------------------+--------------------+------------------+\n",
      "\n"
     ]
    }
   ],
   "source": [
    "df.describe().show()"
   ]
  },
  {
   "cell_type": "code",
   "execution_count": 6,
   "metadata": {},
   "outputs": [
    {
     "name": "stdout",
     "output_type": "stream",
     "text": [
      "+---+-----+\n",
      "|  y|count|\n",
      "+---+-----+\n",
      "|  1|  500|\n",
      "|  0|  500|\n",
      "+---+-----+\n",
      "\n"
     ]
    }
   ],
   "source": [
    "df.groupBy(\"y\").count.show()"
   ]
  },
  {
   "cell_type": "markdown",
   "metadata": {},
   "source": [
    "## Apply Vector Assembler"
   ]
  },
  {
   "cell_type": "code",
   "execution_count": 7,
   "metadata": {},
   "outputs": [
    {
     "data": {
      "text/plain": [
       "assembler = vecAssembler_9ade0ac31156\n"
      ]
     },
     "metadata": {},
     "output_type": "display_data"
    },
    {
     "data": {
      "text/plain": [
       "vecAssembler_9ade0ac31156"
      ]
     },
     "execution_count": 7,
     "metadata": {},
     "output_type": "execute_result"
    }
   ],
   "source": [
    "val assembler = new VectorAssembler().\n",
    "  setInputCols(Array(\"x1\", \"x2\")).\n",
    "  setOutputCol(\"features\")"
   ]
  },
  {
   "cell_type": "code",
   "execution_count": 8,
   "metadata": {},
   "outputs": [
    {
     "name": "stdout",
     "output_type": "stream",
     "text": [
      "+--------------------+-----+\n",
      "|            features|label|\n",
      "+--------------------+-----+\n",
      "|[0.846649756819,0...|  0.0|\n",
      "|[-1.03849757478,-...|  0.0|\n",
      "|[1.03690844231,-0...|  0.0|\n",
      "|[-0.584861591913,...|  0.0|\n",
      "|[1.03363614647,0....|  0.0|\n",
      "|[-0.61080949638,1...|  0.0|\n",
      "|[-0.0516171570897...|  1.0|\n",
      "|[0.133018383164,0...|  1.0|\n",
      "|[-0.924003510567,...|  0.0|\n",
      "|[-0.0860432056902...|  1.0|\n",
      "+--------------------+-----+\n",
      "only showing top 10 rows\n",
      "\n"
     ]
    },
    {
     "data": {
      "text/plain": [
       "df_v = [features: vector, label: double]\n"
      ]
     },
     "metadata": {},
     "output_type": "display_data"
    },
    {
     "data": {
      "text/plain": [
       "[features: vector, label: double]"
      ]
     },
     "execution_count": 8,
     "metadata": {},
     "output_type": "execute_result"
    }
   ],
   "source": [
    "val df_v = assembler.transform(df).select(col(\"features\"),col(\"y\").cast(\"double\").as(\"label\"))\n",
    "df_v.show(10)"
   ]
  },
  {
   "cell_type": "markdown",
   "metadata": {},
   "source": [
    "## Split into train and test sets"
   ]
  },
  {
   "cell_type": "code",
   "execution_count": 9,
   "metadata": {},
   "outputs": [
    {
     "data": {
      "text/plain": [
       "trainingData = [features: vector, label: double]\n",
       "testData = [features: vector, label: double]\n"
      ]
     },
     "metadata": {},
     "output_type": "display_data"
    },
    {
     "data": {
      "text/plain": [
       "[features: vector, label: double]"
      ]
     },
     "execution_count": 9,
     "metadata": {},
     "output_type": "execute_result"
    }
   ],
   "source": [
    "val Array(trainingData, testData) = df_v.randomSplit(Array(0.7, 0.3))"
   ]
  },
  {
   "cell_type": "markdown",
   "metadata": {},
   "source": [
    "## Train the model"
   ]
  },
  {
   "cell_type": "code",
   "execution_count": 10,
   "metadata": {},
   "outputs": [
    {
     "data": {
      "text/plain": [
       "rf = rfc_55975a216bfd\n"
      ]
     },
     "metadata": {},
     "output_type": "display_data"
    },
    {
     "data": {
      "text/plain": [
       "rfc_55975a216bfd"
      ]
     },
     "execution_count": 10,
     "metadata": {},
     "output_type": "execute_result"
    }
   ],
   "source": [
    "val rf = new RandomForestClassifier().\n",
    "    setNumTrees(100).\n",
    "    setMaxDepth(10)"
   ]
  },
  {
   "cell_type": "code",
   "execution_count": 11,
   "metadata": {},
   "outputs": [
    {
     "data": {
      "text/plain": [
       "labelCol: label column name (default: ...\n"
      ]
     },
     "metadata": {},
     "output_type": "display_data"
    },
    {
     "data": {
      "text/plain": [
       "cacheNodeIds: If false, the algorithm will pass trees to executors to match instances with nodes. If true, the algorithm will cache node IDs for each instance. Caching can speed up training of deeper trees. (default: false)\n",
       "checkpointInterval: set checkpoint interval (>= 1) or disable checkpoint (-1). E.g. 10 means that the cache will get checkpointed every 10 iterations (default: 10)\n",
       "featureSubsetStrategy: The number of features to consider for splits at each tree node. Supported options: auto, all, onethird, sqrt, log2, (0.0-1.0], [1-n]. (default: auto)\n",
       "featuresCol: features column name (default: features)\n",
       "impurity: Criterion used for information gain calculation (case-insensitive). Supported options: entropy, gini (default: gini)\n",
       "labelCol: label column name (default: label)\n",
       "maxBins: Max number of bins for discretizing continuous features.  Must be >=2 and >= number of categories for any categorical feature. (default: 32)\n",
       "maxDepth: Maximum depth of the tree. (>= 0) E.g., depth 0 means 1 leaf node; depth 1 means 1 internal node + 2 leaf nodes. (default: 5, current: 10)\n",
       "maxMemoryInMB: Maximum memory in MB allocated to histogram aggregation. (default: 256)\n",
       "minInfoGain: Minimum information gain for a split to be considered at a tree node. (default: 0.0)\n",
       "minInstancesPerNode: Minimum number of instances each child must have after split.  If a split causes the left or right child to have fewer than minInstancesPerNode, the split will be discarded as invalid. Should be >= 1. (default: 1)\n",
       "numTrees: Number of trees to train (>= 1) (default: 20, current: 100)\n",
       "predictionCol: prediction column name (default: prediction)\n",
       "probabilityCol: Column name for predicted class conditional probabilities. Note: Not all models output well-calibrated probability estimates! These probabilities should be treated as confidences, not precise probabilities (default: probability)\n",
       "rawPredictionCol: raw prediction (a.k.a. confidence) column name (default: rawPrediction)\n",
       "seed: random seed (default: 207336481)\n",
       "subsamplingRate: Fraction of the training data used for learning each decision tree, in range (0, 1]. (default: 1.0)\n",
       "thresholds: Thresholds in multi-class classification to adjust the probability of predicting each class. Array must have length equal to the number of classes, with values >= 0. The class with largest value p/t is predicted, where p is the original probability of that class and t is the class' threshold (undefined)"
      ]
     },
     "execution_count": 11,
     "metadata": {},
     "output_type": "execute_result"
    }
   ],
   "source": [
    "rf.explainParams"
   ]
  },
  {
   "cell_type": "code",
   "execution_count": 12,
   "metadata": {},
   "outputs": [
    {
     "data": {
      "text/plain": [
       "model = RandomForestClassificationModel (uid=rfc_f4c2f87751c8) with 100 trees\n"
      ]
     },
     "metadata": {},
     "output_type": "display_data"
    },
    {
     "data": {
      "text/plain": [
       "RandomForestClassificationModel (uid=rfc_f4c2f87751c8) with 100 trees"
      ]
     },
     "execution_count": 12,
     "metadata": {},
     "output_type": "execute_result"
    }
   ],
   "source": [
    "val model = rf.fit(trainingData)"
   ]
  },
  {
   "cell_type": "markdown",
   "metadata": {},
   "source": [
    "## Feature importance"
   ]
  },
  {
   "cell_type": "code",
   "execution_count": 13,
   "metadata": {},
   "outputs": [
    {
     "name": "stdout",
     "output_type": "stream",
     "text": [
      "+-------+-------------------+\n",
      "|feature|         importance|\n",
      "+-------+-------------------+\n",
      "|     x2| 0.5682885834147079|\n",
      "|     x1|0.43171141658529216|\n",
      "+-------+-------------------+\n",
      "\n"
     ]
    },
    {
     "data": {
      "text/plain": [
       "fi = [feature: string, importance: double]\n"
      ]
     },
     "metadata": {},
     "output_type": "display_data"
    },
    {
     "data": {
      "text/plain": [
       "[feature: string, importance: double]"
      ]
     },
     "execution_count": 13,
     "metadata": {},
     "output_type": "execute_result"
    }
   ],
   "source": [
    "val fi = List.range(0,2).map(i => (df.columns(i), model.featureImportances.toArray(i)) ).toDF(\"feature\", \"importance\")\n",
    "fi.sort(col(\"importance\").desc).show()"
   ]
  },
  {
   "cell_type": "markdown",
   "metadata": {},
   "source": [
    "## Make predictions"
   ]
  },
  {
   "cell_type": "code",
   "execution_count": 14,
   "metadata": {},
   "outputs": [
    {
     "name": "stdout",
     "output_type": "stream",
     "text": [
      "+--------------------+-----+-------------+-----------+----------+\n",
      "|            features|label|rawPrediction|probability|prediction|\n",
      "+--------------------+-----+-------------+-----------+----------+\n",
      "|[-1.16248692634,-...|  0.0|  [100.0,0.0]|  [1.0,0.0]|       0.0|\n",
      "|[-1.13954035663,0...|  0.0|  [100.0,0.0]|  [1.0,0.0]|       0.0|\n",
      "|[-1.12819135003,-...|  0.0|  [100.0,0.0]|  [1.0,0.0]|       0.0|\n",
      "|[-1.07740659047,0...|  0.0|  [100.0,0.0]|  [1.0,0.0]|       0.0|\n",
      "|[-1.04526759498,0...|  0.0|  [100.0,0.0]|  [1.0,0.0]|       0.0|\n",
      "|[-1.01430737658,-...|  0.0|  [100.0,0.0]|  [1.0,0.0]|       0.0|\n",
      "|[-1.01115751569,-...|  0.0|  [100.0,0.0]|  [1.0,0.0]|       0.0|\n",
      "|[-1.00825132088,-...|  0.0|  [100.0,0.0]|  [1.0,0.0]|       0.0|\n",
      "|[-1.00193170155,0...|  0.0|  [100.0,0.0]|  [1.0,0.0]|       0.0|\n",
      "|[-0.968726624436,...|  0.0|  [100.0,0.0]|  [1.0,0.0]|       0.0|\n",
      "+--------------------+-----+-------------+-----------+----------+\n",
      "only showing top 10 rows\n",
      "\n"
     ]
    },
    {
     "data": {
      "text/plain": [
       "predictions = [features: vector, label: double ... 3 more fields]\n"
      ]
     },
     "metadata": {},
     "output_type": "display_data"
    },
    {
     "data": {
      "text/plain": [
       "[features: vector, label: double ... 3 more fields]"
      ]
     },
     "execution_count": 14,
     "metadata": {},
     "output_type": "execute_result"
    }
   ],
   "source": [
    "val predictions = model.transform(testData)\n",
    "predictions.show(10)"
   ]
  },
  {
   "cell_type": "markdown",
   "metadata": {},
   "source": [
    "## Plot predictions"
   ]
  },
  {
   "cell_type": "code",
   "execution_count": 15,
   "metadata": {},
   "outputs": [
    {
     "data": {
      "text/plain": [
       "x1 = Array(-1.16248692634, -1.13954035663, -1.12819135003, -1.07740659047, -1.04526759498, -1.01430737658, -1.01115751569, -1.00825132088, -1.00193170155, -0.968726624436, -0.963957290914, -0.962787689277, -0.958047075336, -0.955793548895, -0.953455441962, -0.950549404207, -0.914348006217, -0.910685065827, -0.902187151805, -0.88317749423, -0.877127210879, -0.873078480076, -0.858976159578, -0.857533335587, -0.850207401739, -0.832613418806, -0.821940876465, -0.820566310549, -0.794309111682, -0.788562640801, -0.767305839441, -0.757583275275, -0.757466409686, -0.728474317033, -0.724602687449, -0.696470425313, -0.688534888825, -0.61080949638, -0.593493134074, -0.55759457081, -0.555819240103, -0.549826787006, -0.547671957612, -0.531576430493, -0.511814723138, -0.50292129151, -0...\n"
      ]
     },
     "metadata": {},
     "output_type": "display_data"
    },
    {
     "data": {
      "text/plain": [
       "[-1.16248692634, -1.13954035663, -1.12819135003, -1.07740659047, -1.04526759498, -1.01430737658, -1.01115751569, -1.00825132088, -1.00193170155, -0.968726624436, -0.963957290914, -0.962787689277, -0.958047075336, -0.955793548895, -0.953455441962, -0.950549404207, -0.914348006217, -0.910685065827, -0.902187151805, -0.88317749423, -0.877127210879, -0.873078480076, -0.858976159578, -0.857533335587, -0.850207401739, -0.832613418806, -0.821940876465, -0.820566310549, -0.794309111682, -0.788562640801, -0.767305839441, -0.757583275275, -0.757466409686, -0.728474317033, -0.724602687449, -0.696470425313, -0.688534888825, -0.61080949638, -0.593493134074, -0.55759457081, -0.555819240103, -0.549826787006, -0.547671957612, -0.531576430493, -0.511814723138, -0.50292129151, -0.4802036071, -0.467071864127, -0.447512043389, -0.443652522021, -0.441426082325, -0.434574011787, -0.430820806116, -0.40682376338, -0.367570546025, -0.356522152831, -0.351736118292, -0.332318140888, -0.329553164446, -0.32312939351, -0.303443013574, -0.302614460534, -0.297882875741, -0.292198737405, -0.289247554371, -0.288755279232, -0.27218802029, -0.271068407079, -0.269543406491, -0.265317524202, -0.265054857496, -0.263492435184, -0.245778706503, -0.2439338193, -0.240428523007, -0.240042189036, -0.236188589477, -0.234871723445, -0.234801694839, -0.232918448578, -0.232109801321, -0.23131559757, -0.229970831472, -0.227972301994, -0.221554987439, -0.217888674805, -0.217344854904, -0.203850930005, -0.201234627414, -0.195683229029, -0.194560801356, -0.194427183673, -0.193695407532, -0.193348219673, -0.189318551374, -0.186687727713, -0.186521503056, -0.183207478957, -0.180217622706, -0.178318347537, -0.172143906475, -0.167256985915, -0.166953686032, -0.166464154574, -0.162991283106, -0.145974496819, -0.14404840988, -0.143777146709, -0.139243999812, -0.136360224051, -0.135634988725, -0.133539701367, -0.131562278823, -0.121123522685, -0.116893712174, -0.116621552322, -0.115072778277, -0.110007671999, -0.109942166578, -0.106915918619, -0.106144728833, -0.102654200016, -0.101440129635, -0.0969566208289, -0.0903803886191, -0.0893925249532, -0.0868857211603, -0.0798303581784, -0.0737707245254, -0.0654286713118, -0.0648499204355, -0.0613908853666, -0.0608631669116, -0.0596890494773, -0.0489589899796, -0.0418280742005, -0.0412228003101, -0.0363733064088, -0.0360608945932, -0.0359021333103, -0.0282308240865, -0.0266912418003, -0.0222769258919, -0.0215220411118, -0.0206356578234, -0.0182629946133, -0.0174086916998, -0.0166013592963, -0.0140622264186, -0.0106684472858, -0.00265185945863, 3.04575341149E-4, 9.1635279302E-4, 0.00730061665023, 0.011951278478, 0.0128032818159, 0.0150282959136, 0.0176292970565, 0.0189146929597, 0.0200830082998, 0.0201546022875, 0.0219197752313, 0.0225760530554, 0.0242019763625, 0.0257984403602, 0.0284925851786, 0.0331099891279, 0.0340091144978, 0.0344887400727, 0.0418372423733, 0.0431697849282, 0.0467813882816, 0.0488018532947, 0.0525553992176, 0.0566416492138, 0.0577023322946, 0.0605971686187, 0.0689087557068, 0.0725194211885, 0.0787626012608, 0.0793666837637, 0.0800986841689, 0.0837476720359, 0.0883847774237, 0.0895126774181, 0.0905301704531, 0.0936736984907, 0.102378194532, 0.105759796632, 0.111791892101, 0.113243364866, 0.114224770962, 0.117130731489, 0.120886448695, 0.121237988321, 0.124635349772, 0.124759456047, 0.126062528582, 0.128585530815, 0.129037166983, 0.133018383164, 0.134687572656, 0.137574953151, 0.138135857593, 0.14015403632, 0.145923808103, 0.146846488306, 0.148571786126, 0.148935143461, 0.153444059077, 0.153952107307, 0.159698468877, 0.161319549996, 0.16455861363, 0.165135238721, 0.173793741039, 0.178377496579, 0.178428889427, 0.178570747631, 0.178949357417, 0.180126701613, 0.182923777055, 0.189154894432, 0.192230915592, 0.193406089556, 0.19647071994, 0.201217126631, 0.201436725616, 0.204685523229, 0.205262960181, 0.210071543258, 0.211073336321, 0.213058707791, 0.213244009084, 0.216283804929, 0.216582216089, 0.221602958558, 0.224192931862, 0.230495315374, 0.236276783025, 0.240135111371, 0.249085508356, 0.272076961158, 0.278213414562, 0.281589690705, 0.285545056015, 0.286250924695, 0.288134038315, 0.298655656222, 0.304584286113, 0.306392286777, 0.312312963815, 0.317703668311, 0.322239921213, 0.329726537377, 0.342382140976, 0.350926422842, 0.356758283343, 0.365901587922, 0.404080695587, 0.420683666955, 0.442668457911, 0.455455437586, 0.481016960695, 0.532312854526, 0.584245700658, 0.590337123151, 0.609848458584, 0.632713602639, 0.635926560045, 0.640509001532, 0.688415240798, 0.697124082664, 0.708256433153, 0.712298823609, 0.716414824044, 0.719439858385, 0.728457128772, 0.728500379183, 0.730527083944, 0.732318144295, 0.741204163417, 0.749574445981, 0.76158663436, 0.76441451364, 0.783546156464, 0.784937398828, 0.78672837092, 0.792579651717, 0.832176811815, 0.844571339291, 0.859711690609, 0.877258303562, 0.878981191379, 0.889551852299, 0.920632014155, 0.925646837418, 0.930920701878, 0.933176662885, 0.933288069112, 0.933419301982, 0.947015509097, 0.962915785485, 0.973815208094, 0.988870669376, 0.992382089799, 1.01276179116, 1.02146303679, 1.03363614647, 1.03690844231, 1.0479151178, 1.06400996894, 1.07487498471, 1.09084804124, 1.1431315305, 1.17653244584]"
      ]
     },
     "execution_count": 15,
     "metadata": {},
     "output_type": "execute_result"
    }
   ],
   "source": [
    "val x1 = predictions.select(\"features\").collect.map(row=>row(0).asInstanceOf[DenseVector](0))"
   ]
  },
  {
   "cell_type": "code",
   "execution_count": 16,
   "metadata": {},
   "outputs": [
    {
     "data": {
      "text/plain": [
       "x2 = Array(-0.301233995694, 0.011278119127, -0.00441023742714, 0.129495560338, 0.165053807973, -0.497797051188, -0.114707144458, -0.0410405527739, 0.0636945464323, -0.60658340289, -0.126531129403, 0.132307280096, 0.416965500712, 0.116224846513, 0.386488512151, 0.0209826010842, -0.338386978365, -0.0567778562773, 0.21760617646, -0.433726713136, -0.59511618466, 0.248582432801, -0.590115278181, -0.575687806863, -0.44912138132, -0.648995999503, 0.784862974465, 0.0169802387372, -0.0318665555085, 0.628715258976, -0.580357403783, -0.722161751535, -0.479421226203, 0.680256326939, 0.809688308346, -0.563555340848, 0.818651740645, 1.006592094, 0.606958421855, 0.955120700792, -0.781454087152, 0.937439546893, -0.993230465057, -0.723985811026, 0.969242877753, -0.819756142857, -0.9862613...\n"
      ]
     },
     "metadata": {},
     "output_type": "display_data"
    },
    {
     "data": {
      "text/plain": [
       "[-0.301233995694, 0.011278119127, -0.00441023742714, 0.129495560338, 0.165053807973, -0.497797051188, -0.114707144458, -0.0410405527739, 0.0636945464323, -0.60658340289, -0.126531129403, 0.132307280096, 0.416965500712, 0.116224846513, 0.386488512151, 0.0209826010842, -0.338386978365, -0.0567778562773, 0.21760617646, -0.433726713136, -0.59511618466, 0.248582432801, -0.590115278181, -0.575687806863, -0.44912138132, -0.648995999503, 0.784862974465, 0.0169802387372, -0.0318665555085, 0.628715258976, -0.580357403783, -0.722161751535, -0.479421226203, 0.680256326939, 0.809688308346, -0.563555340848, 0.818651740645, 1.006592094, 0.606958421855, 0.955120700792, -0.781454087152, 0.937439546893, -0.993230465057, -0.723985811026, 0.969242877753, -0.819756142857, -0.986261335505, 0.84648422096, -0.969985584234, 0.777590625772, 0.812385508945, 0.933698256138, 0.923694483998, -1.06065675269, -0.256572657742, 0.768565375616, 1.08296451269, -0.0742127314211, -0.330904437295, 0.063562378046, 0.169346263164, 0.868042839751, 0.973067793078, -0.127668033109, 0.0122041904552, 0.0161136182975, 0.866191124786, 0.0074565463768, -0.219718075908, 0.114229836917, -1.02979959337, -0.0728939963746, -0.236904435684, -0.162501355168, -0.214482915679, 1.2069759632, 0.240577029344, -0.874716374156, 1.00716997611, -0.0854181311872, -0.0445656808449, 0.839148794613, -0.0414594835538, -1.04792383514, 0.239711350272, -0.14921242857, 0.0132793085918, -0.20890196133, -0.962510327397, 0.118829792011, 0.951223641272, 0.0347283490301, 0.0349467408994, 0.122241770391, -0.0469738906495, 0.0744457127922, 1.18139171956, -0.0269706689918, 0.172203217735, 0.00783687410698, -0.275938883455, -0.231089210516, 1.1367897377, 0.0278859032105, 0.146074868201, 0.088406337032, -0.00726382558912, 0.0642656200046, -0.276077192664, 0.108187840451, -0.0716206810954, 0.135821129301, -0.230859776564, 0.191361329713, 0.0142448604868, -0.225287445461, -0.11569972078, 0.157169411541, -0.0337838986275, 0.131440104652, -0.181523067261, 0.0648640495977, 0.0545831663511, -0.0366497648276, 0.0522947772194, 0.993690326114, 0.0541612689534, -1.03707626251, -0.264829222502, -0.186681411293, 0.00829653960107, 0.0295385602018, -0.0883722897055, -0.189534280817, -0.169993316047, 0.111370458358, 0.186717040424, 0.0370320803765, -0.273032497016, -0.261527767476, 0.0848950611458, 1.02280127438, -0.151227138693, 0.16994479105, -0.0696440459704, -1.05521544787, -0.0845626602496, -0.202048467095, 0.0626030866607, 0.106410784968, -0.103799290226, -0.225781086252, 0.319625386136, -0.110553217855, -0.147100421054, -0.187746183465, 0.019270013669, -0.202814259, 0.336354442616, 0.243429688494, 0.125370305395, 0.208071218467, -0.902694015893, -0.117002384383, -1.11788732072, 0.287515676441, -0.129679573532, -0.137884205704, 0.0811459117851, -1.09916891257, -0.0315093541426, 0.269204749046, -0.174561509044, -0.120135835529, 0.193167990219, 0.100395110239, -0.296537670461, 0.193913573569, -0.326753423397, -0.0363716619507, 0.0351446786264, -0.169961488434, 0.186243675267, -0.184616039097, -0.187540703061, 0.109124497111, 0.33332946386, -0.208567847211, -0.0213774269119, -0.00582030333072, -0.031675031326, -0.0146825974785, 0.215220313297, 0.119578306835, -0.0220447509743, -0.048572400984, 0.806500522454, -0.131008131325, 0.288651211141, 0.189947653703, 0.0940726995832, -0.197862947916, 0.0294436245772, 0.267940747795, -0.228469607747, -1.03676994168, 0.849533690126, 0.150216633546, 0.111411582042, 0.229055090113, 0.0526898600354, -0.338571471904, -0.147553157598, 0.134323098819, 0.797409616235, 1.0753217235, 0.349569184711, 0.0631230180649, -0.0473866044762, -0.885496334656, -0.0494398217847, 0.988858001643, -0.076582455595, -0.289164726193, 0.0898654604667, -0.204106385488, 0.068664499899, 0.224097156989, 0.023306897467, -0.0985061142462, -0.149630160779, -0.0589134377834, 0.783660929694, 0.0210076941062, -1.01969612438, -0.118813753761, 0.0783077992888, 0.0545404055057, 0.00536957384369, 0.167528884792, -0.828326809187, -0.104258427805, -0.021357762586, -0.385478083197, 0.129470018419, -0.243601986454, 0.163993565443, -1.14031728898, -0.139638270788, -0.028931772347, -0.0763880431077, 1.01780146821, -1.08541216904, 0.920087373405, -0.996035741975, -0.142987100332, 0.0630175709023, -0.88147513204, -0.976527295922, 0.72326576733, 0.972002545261, 0.961731164574, 0.820607022673, -0.744387262885, 0.749007411986, 0.744836617503, 0.734741285134, -0.754721190611, -0.638808325187, 0.855473252832, -0.674345342763, 0.747541361777, 0.865051949435, 0.0453639005143, -0.748626438425, 0.655302576451, -0.366192350251, -0.708811143285, 0.77188864176, -0.506113236486, 0.700225383772, 0.484345260091, 0.524994935767, -0.832180613101, 0.419788475851, -0.581538637356, -1.01451145809, 0.720653309111, 0.348181314667, -0.350048736161, -0.557072921181, -0.266066150704, -0.380403134648, -0.45686215129, -0.581162508409, -0.195347135395, -0.0566879488894, 0.504856275866, 0.302825640854, 0.0770645903567, 0.228228284242, -0.550784742952, -0.0598270932801, -0.220667029775, 0.159527950505, 0.250462010894, 0.414554609918, -0.0646594149166, 0.373811127616, -0.384525436991, -0.335790269629, 0.253454779045, -0.0337828767966, -0.315804167942, 0.0260945736381, 0.119970928902]"
      ]
     },
     "execution_count": 16,
     "metadata": {},
     "output_type": "execute_result"
    }
   ],
   "source": [
    "val x2 = predictions.select(\"features\").collect.map(row=>row(0).asInstanceOf[DenseVector](1))"
   ]
  },
  {
   "cell_type": "code",
   "execution_count": 17,
   "metadata": {},
   "outputs": [
    {
     "data": {
      "text/plain": [
       "fig = breeze.plot.Figure@61d909e5\n",
       "plt = breeze.plot.Plot@bc57abb\n"
      ]
     },
     "metadata": {},
     "output_type": "display_data"
    },
    {
     "data": {
      "text/plain": [
       "breeze.plot.Plot@bc57abb"
      ]
     },
     "execution_count": 17,
     "metadata": {},
     "output_type": "execute_result"
    }
   ],
   "source": [
    "val fig = Figure()\n",
    "val plt = fig.subplot(0)"
   ]
  },
  {
   "cell_type": "code",
   "execution_count": 18,
   "metadata": {},
   "outputs": [
    {
     "data": {
      "text/plain": [
       "c = Array(java.awt.Color[r=255,g=0,b=0], java.awt.Color[r=255,g=0,b=0], java.awt.Color[r=255,g=0,b=0], java.awt.Color[r=255,g=0,b=0], java.awt.Color[r=255,g=0,b=0], java.awt.Color[r=255,g=0,b=0], java.awt.Color[r=255,g=0,b=0], java.awt.Color[r=255,g=0,b=0], java.awt.Color[r=255,g=0,b=0], java.awt.Color[r=255,g=0,b=0], java.awt.Color[r=255,g=0,b=0], java.awt.Color[r=255,g=0,b=0], java.awt.Color[r=255,g=0,b=0], java.awt.Color[r=255,g=0,b=0], java.awt.Color[r=255,g=0,b=0], java.awt.Color[r=255,g=0,b=0], java.awt.Color[r=255,g=0,b=0], java.awt.Color[r=255,g=0,b=0], java.awt.Color[r=255,g=0,b=0], java.awt.Color[r=255,g=0,b=0], java.awt.Color[r=255,g=0,b=0], java.awt.Color[r=255,g=0,b=0], java.awt.Color[r=255,g=0,b=0], java.awt.Color[r=255,g=0,b=0], java.awt.Color[r=255...\n"
      ]
     },
     "metadata": {},
     "output_type": "display_data"
    },
    {
     "data": {
      "text/plain": [
       "[java.awt.Color[r=255,g=0,b=0], java.awt.Color[r=255,g=0,b=0], java.awt.Color[r=255,g=0,b=0], java.awt.Color[r=255,g=0,b=0], java.awt.Color[r=255,g=0,b=0], java.awt.Color[r=255,g=0,b=0], java.awt.Color[r=255,g=0,b=0], java.awt.Color[r=255,g=0,b=0], java.awt.Color[r=255,g=0,b=0], java.awt.Color[r=255,g=0,b=0], java.awt.Color[r=255,g=0,b=0], java.awt.Color[r=255,g=0,b=0], java.awt.Color[r=255,g=0,b=0], java.awt.Color[r=255,g=0,b=0], java.awt.Color[r=255,g=0,b=0], java.awt.Color[r=255,g=0,b=0], java.awt.Color[r=255,g=0,b=0], java.awt.Color[r=255,g=0,b=0], java.awt.Color[r=255,g=0,b=0], java.awt.Color[r=255,g=0,b=0], java.awt.Color[r=255,g=0,b=0], java.awt.Color[r=255,g=0,b=0], java.awt.Color[r=255,g=0,b=0], java.awt.Color[r=255,g=0,b=0], java.awt.Color[r=255,g=0,b=0], java.awt.Color[r=255,g=0,b=0], java.awt.Color[r=255,g=0,b=0], java.awt.Color[r=255,g=0,b=0], java.awt.Color[r=255,g=0,b=0], java.awt.Color[r=255,g=0,b=0], java.awt.Color[r=255,g=0,b=0], java.awt.Color[r=255,g=0,b=0], java.awt.Color[r=255,g=0,b=0], java.awt.Color[r=255,g=0,b=0], java.awt.Color[r=255,g=0,b=0], java.awt.Color[r=255,g=0,b=0], java.awt.Color[r=255,g=0,b=0], java.awt.Color[r=255,g=0,b=0], java.awt.Color[r=255,g=0,b=0], java.awt.Color[r=255,g=0,b=0], java.awt.Color[r=255,g=0,b=0], java.awt.Color[r=255,g=0,b=0], java.awt.Color[r=255,g=0,b=0], java.awt.Color[r=255,g=0,b=0], java.awt.Color[r=255,g=0,b=0], java.awt.Color[r=255,g=0,b=0], java.awt.Color[r=255,g=0,b=0], java.awt.Color[r=255,g=0,b=0], java.awt.Color[r=255,g=0,b=0], java.awt.Color[r=255,g=0,b=0], java.awt.Color[r=255,g=0,b=0], java.awt.Color[r=255,g=0,b=0], java.awt.Color[r=255,g=0,b=0], java.awt.Color[r=255,g=0,b=0], java.awt.Color[r=0,g=0,b=255], java.awt.Color[r=255,g=0,b=0], java.awt.Color[r=255,g=0,b=0], java.awt.Color[r=0,g=0,b=255], java.awt.Color[r=0,g=0,b=255], java.awt.Color[r=0,g=0,b=255], java.awt.Color[r=0,g=0,b=255], java.awt.Color[r=255,g=0,b=0], java.awt.Color[r=255,g=0,b=0], java.awt.Color[r=0,g=0,b=255], java.awt.Color[r=0,g=0,b=255], java.awt.Color[r=0,g=0,b=255], java.awt.Color[r=255,g=0,b=0], java.awt.Color[r=0,g=0,b=255], java.awt.Color[r=0,g=0,b=255], java.awt.Color[r=0,g=0,b=255], java.awt.Color[r=255,g=0,b=0], java.awt.Color[r=0,g=0,b=255], java.awt.Color[r=0,g=0,b=255], java.awt.Color[r=0,g=0,b=255], java.awt.Color[r=0,g=0,b=255], java.awt.Color[r=255,g=0,b=0], java.awt.Color[r=0,g=0,b=255], java.awt.Color[r=255,g=0,b=0], java.awt.Color[r=255,g=0,b=0], java.awt.Color[r=0,g=0,b=255], java.awt.Color[r=0,g=0,b=255], java.awt.Color[r=255,g=0,b=0], java.awt.Color[r=0,g=0,b=255], java.awt.Color[r=255,g=0,b=0], java.awt.Color[r=0,g=0,b=255], java.awt.Color[r=0,g=0,b=255], java.awt.Color[r=0,g=0,b=255], java.awt.Color[r=0,g=0,b=255], java.awt.Color[r=255,g=0,b=0], java.awt.Color[r=0,g=0,b=255], java.awt.Color[r=255,g=0,b=0], java.awt.Color[r=0,g=0,b=255], java.awt.Color[r=0,g=0,b=255], java.awt.Color[r=0,g=0,b=255], java.awt.Color[r=0,g=0,b=255], java.awt.Color[r=0,g=0,b=255], java.awt.Color[r=255,g=0,b=0], java.awt.Color[r=0,g=0,b=255], java.awt.Color[r=0,g=0,b=255], java.awt.Color[r=0,g=0,b=255], java.awt.Color[r=0,g=0,b=255], java.awt.Color[r=0,g=0,b=255], java.awt.Color[r=255,g=0,b=0], java.awt.Color[r=0,g=0,b=255], java.awt.Color[r=0,g=0,b=255], java.awt.Color[r=0,g=0,b=255], java.awt.Color[r=0,g=0,b=255], java.awt.Color[r=0,g=0,b=255], java.awt.Color[r=0,g=0,b=255], java.awt.Color[r=0,g=0,b=255], java.awt.Color[r=0,g=0,b=255], java.awt.Color[r=0,g=0,b=255], java.awt.Color[r=0,g=0,b=255], java.awt.Color[r=0,g=0,b=255], java.awt.Color[r=0,g=0,b=255], java.awt.Color[r=0,g=0,b=255], java.awt.Color[r=0,g=0,b=255], java.awt.Color[r=0,g=0,b=255], java.awt.Color[r=0,g=0,b=255], java.awt.Color[r=0,g=0,b=255], java.awt.Color[r=0,g=0,b=255], java.awt.Color[r=0,g=0,b=255], java.awt.Color[r=0,g=0,b=255], java.awt.Color[r=0,g=0,b=255], java.awt.Color[r=0,g=0,b=255], java.awt.Color[r=255,g=0,b=0], java.awt.Color[r=0,g=0,b=255], java.awt.Color[r=255,g=0,b=0], java.awt.Color[r=0,g=0,b=255], java.awt.Color[r=0,g=0,b=255], java.awt.Color[r=0,g=0,b=255], java.awt.Color[r=0,g=0,b=255], java.awt.Color[r=0,g=0,b=255], java.awt.Color[r=0,g=0,b=255], java.awt.Color[r=0,g=0,b=255], java.awt.Color[r=0,g=0,b=255], java.awt.Color[r=0,g=0,b=255], java.awt.Color[r=0,g=0,b=255], java.awt.Color[r=0,g=0,b=255], java.awt.Color[r=0,g=0,b=255], java.awt.Color[r=0,g=0,b=255], java.awt.Color[r=255,g=0,b=0], java.awt.Color[r=0,g=0,b=255], java.awt.Color[r=0,g=0,b=255], java.awt.Color[r=0,g=0,b=255], java.awt.Color[r=255,g=0,b=0], java.awt.Color[r=0,g=0,b=255], java.awt.Color[r=0,g=0,b=255], java.awt.Color[r=0,g=0,b=255], java.awt.Color[r=0,g=0,b=255], java.awt.Color[r=0,g=0,b=255], java.awt.Color[r=0,g=0,b=255], java.awt.Color[r=0,g=0,b=255], java.awt.Color[r=0,g=0,b=255], java.awt.Color[r=0,g=0,b=255], java.awt.Color[r=0,g=0,b=255], java.awt.Color[r=0,g=0,b=255], java.awt.Color[r=0,g=0,b=255], java.awt.Color[r=0,g=0,b=255], java.awt.Color[r=0,g=0,b=255], java.awt.Color[r=0,g=0,b=255], java.awt.Color[r=0,g=0,b=255], java.awt.Color[r=255,g=0,b=0], java.awt.Color[r=0,g=0,b=255], java.awt.Color[r=255,g=0,b=0], java.awt.Color[r=0,g=0,b=255], java.awt.Color[r=0,g=0,b=255], java.awt.Color[r=0,g=0,b=255], java.awt.Color[r=0,g=0,b=255], java.awt.Color[r=255,g=0,b=0], java.awt.Color[r=0,g=0,b=255], java.awt.Color[r=0,g=0,b=255], java.awt.Color[r=0,g=0,b=255], java.awt.Color[r=0,g=0,b=255], java.awt.Color[r=0,g=0,b=255], java.awt.Color[r=0,g=0,b=255], java.awt.Color[r=0,g=0,b=255], java.awt.Color[r=0,g=0,b=255], java.awt.Color[r=0,g=0,b=255], java.awt.Color[r=0,g=0,b=255], java.awt.Color[r=0,g=0,b=255], java.awt.Color[r=0,g=0,b=255], java.awt.Color[r=0,g=0,b=255], java.awt.Color[r=0,g=0,b=255], java.awt.Color[r=0,g=0,b=255], java.awt.Color[r=0,g=0,b=255], java.awt.Color[r=0,g=0,b=255], java.awt.Color[r=0,g=0,b=255], java.awt.Color[r=0,g=0,b=255], java.awt.Color[r=0,g=0,b=255], java.awt.Color[r=0,g=0,b=255], java.awt.Color[r=0,g=0,b=255], java.awt.Color[r=0,g=0,b=255], java.awt.Color[r=0,g=0,b=255], java.awt.Color[r=0,g=0,b=255], java.awt.Color[r=0,g=0,b=255], java.awt.Color[r=255,g=0,b=0], java.awt.Color[r=0,g=0,b=255], java.awt.Color[r=0,g=0,b=255], java.awt.Color[r=0,g=0,b=255], java.awt.Color[r=0,g=0,b=255], java.awt.Color[r=0,g=0,b=255], java.awt.Color[r=0,g=0,b=255], java.awt.Color[r=0,g=0,b=255], java.awt.Color[r=0,g=0,b=255], java.awt.Color[r=255,g=0,b=0], java.awt.Color[r=255,g=0,b=0], java.awt.Color[r=0,g=0,b=255], java.awt.Color[r=0,g=0,b=255], java.awt.Color[r=0,g=0,b=255], java.awt.Color[r=0,g=0,b=255], java.awt.Color[r=255,g=0,b=0], java.awt.Color[r=0,g=0,b=255], java.awt.Color[r=0,g=0,b=255], java.awt.Color[r=255,g=0,b=0], java.awt.Color[r=255,g=0,b=0], java.awt.Color[r=0,g=0,b=255], java.awt.Color[r=0,g=0,b=255], java.awt.Color[r=0,g=0,b=255], java.awt.Color[r=255,g=0,b=0], java.awt.Color[r=0,g=0,b=255], java.awt.Color[r=255,g=0,b=0], java.awt.Color[r=0,g=0,b=255], java.awt.Color[r=0,g=0,b=255], java.awt.Color[r=0,g=0,b=255], java.awt.Color[r=0,g=0,b=255], java.awt.Color[r=0,g=0,b=255], java.awt.Color[r=0,g=0,b=255], java.awt.Color[r=0,g=0,b=255], java.awt.Color[r=0,g=0,b=255], java.awt.Color[r=0,g=0,b=255], java.awt.Color[r=0,g=0,b=255], java.awt.Color[r=255,g=0,b=0], java.awt.Color[r=0,g=0,b=255], java.awt.Color[r=255,g=0,b=0], java.awt.Color[r=0,g=0,b=255], java.awt.Color[r=0,g=0,b=255], java.awt.Color[r=0,g=0,b=255], java.awt.Color[r=0,g=0,b=255], java.awt.Color[r=0,g=0,b=255], java.awt.Color[r=255,g=0,b=0], java.awt.Color[r=0,g=0,b=255], java.awt.Color[r=0,g=0,b=255], java.awt.Color[r=255,g=0,b=0], java.awt.Color[r=0,g=0,b=255], java.awt.Color[r=0,g=0,b=255], java.awt.Color[r=0,g=0,b=255], java.awt.Color[r=255,g=0,b=0], java.awt.Color[r=0,g=0,b=255], java.awt.Color[r=0,g=0,b=255], java.awt.Color[r=0,g=0,b=255], java.awt.Color[r=255,g=0,b=0], java.awt.Color[r=255,g=0,b=0], java.awt.Color[r=255,g=0,b=0], java.awt.Color[r=255,g=0,b=0], java.awt.Color[r=0,g=0,b=255], java.awt.Color[r=0,g=0,b=255], java.awt.Color[r=255,g=0,b=0], java.awt.Color[r=255,g=0,b=0], java.awt.Color[r=255,g=0,b=0], java.awt.Color[r=255,g=0,b=0], java.awt.Color[r=255,g=0,b=0], java.awt.Color[r=255,g=0,b=0], java.awt.Color[r=255,g=0,b=0], java.awt.Color[r=255,g=0,b=0], java.awt.Color[r=255,g=0,b=0], java.awt.Color[r=255,g=0,b=0], java.awt.Color[r=255,g=0,b=0], java.awt.Color[r=255,g=0,b=0], java.awt.Color[r=255,g=0,b=0], java.awt.Color[r=255,g=0,b=0], java.awt.Color[r=255,g=0,b=0], java.awt.Color[r=255,g=0,b=0], java.awt.Color[r=255,g=0,b=0], java.awt.Color[r=255,g=0,b=0], java.awt.Color[r=255,g=0,b=0], java.awt.Color[r=255,g=0,b=0], java.awt.Color[r=255,g=0,b=0], java.awt.Color[r=255,g=0,b=0], java.awt.Color[r=255,g=0,b=0], java.awt.Color[r=255,g=0,b=0], java.awt.Color[r=255,g=0,b=0], java.awt.Color[r=255,g=0,b=0], java.awt.Color[r=255,g=0,b=0], java.awt.Color[r=255,g=0,b=0], java.awt.Color[r=255,g=0,b=0], java.awt.Color[r=255,g=0,b=0], java.awt.Color[r=255,g=0,b=0], java.awt.Color[r=255,g=0,b=0], java.awt.Color[r=255,g=0,b=0], java.awt.Color[r=255,g=0,b=0], java.awt.Color[r=255,g=0,b=0], java.awt.Color[r=255,g=0,b=0], java.awt.Color[r=255,g=0,b=0], java.awt.Color[r=255,g=0,b=0], java.awt.Color[r=255,g=0,b=0], java.awt.Color[r=255,g=0,b=0], java.awt.Color[r=255,g=0,b=0], java.awt.Color[r=255,g=0,b=0], java.awt.Color[r=255,g=0,b=0], java.awt.Color[r=255,g=0,b=0], java.awt.Color[r=255,g=0,b=0], java.awt.Color[r=255,g=0,b=0], java.awt.Color[r=255,g=0,b=0], java.awt.Color[r=255,g=0,b=0], java.awt.Color[r=255,g=0,b=0], java.awt.Color[r=255,g=0,b=0], java.awt.Color[r=255,g=0,b=0], java.awt.Color[r=255,g=0,b=0], java.awt.Color[r=255,g=0,b=0], java.awt.Color[r=255,g=0,b=0], java.awt.Color[r=255,g=0,b=0], java.awt.Color[r=255,g=0,b=0], java.awt.Color[r=255,g=0,b=0], java.awt.Color[r=255,g=0,b=0], java.awt.Color[r=255,g=0,b=0]]"
      ]
     },
     "execution_count": 18,
     "metadata": {},
     "output_type": "execute_result"
    }
   ],
   "source": [
    "val c = predictions.select(\"prediction\").as[Double].collect.map(Map(0.0 -> java.awt.Color.red, 1.0 -> java.awt.Color.blue))\n",
    "\n",
    "plt += scatter(x1, x2, size = x1.map(i=>0.05), colors = c)\n",
    "\n",
    "plt.legend = true\n",
    "plt.title = \"RFC\"\n",
    "plt.xlabel = \"x1\"\n",
    "//plt.xlim(0,6)\n",
    "plt.ylabel = \"x2\""
   ]
  },
  {
   "cell_type": "code",
   "execution_count": 19,
   "metadata": {},
   "outputs": [
    {
     "data": {
      "text/html": [
       "<img width=\"600\" height=\"400\" src=\"data:image/png;base64,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\" />"
      ]
     },
     "execution_count": 19,
     "metadata": {},
     "output_type": "execute_result"
    }
   ],
   "source": [
    "kernel.magics.html(tohtml(plt.chart))"
   ]
  },
  {
   "cell_type": "markdown",
   "metadata": {},
   "source": [
    "## Evaluate the model"
   ]
  },
  {
   "cell_type": "code",
   "execution_count": 20,
   "metadata": {},
   "outputs": [
    {
     "data": {
      "text/plain": [
       "evaluator = mcEval_d4810f9c41ba\n"
      ]
     },
     "metadata": {},
     "output_type": "display_data"
    },
    {
     "data": {
      "text/plain": [
       "mcEval_d4810f9c41ba"
      ]
     },
     "execution_count": 20,
     "metadata": {},
     "output_type": "execute_result"
    }
   ],
   "source": [
    "val evaluator = new MulticlassClassificationEvaluator().\n",
    "    setLabelCol(\"label\").\n",
    "    setPredictionCol(\"prediction\").\n",
    "    setMetricName(\"accuracy\")"
   ]
  },
  {
   "cell_type": "code",
   "execution_count": 21,
   "metadata": {},
   "outputs": [
    {
     "data": {
      "text/plain": [
       "accuracy = 0.9936708860759493\n"
      ]
     },
     "metadata": {},
     "output_type": "display_data"
    },
    {
     "data": {
      "text/plain": [
       "0.9936708860759493"
      ]
     },
     "execution_count": 21,
     "metadata": {},
     "output_type": "execute_result"
    }
   ],
   "source": [
    "val accuracy = evaluator.evaluate(predictions)"
   ]
  }
 ],
 "metadata": {
  "kernelspec": {
   "display_name": "Apache Toree - Scala",
   "language": "scala",
   "name": "apache_toree_scala"
  },
  "language_info": {
   "codemirror_mode": "text/x-scala",
   "file_extension": ".scala",
   "mimetype": "text/x-scala",
   "name": "scala",
   "pygments_lexer": "scala",
   "version": "2.11.8"
  }
 },
 "nbformat": 4,
 "nbformat_minor": 2
}
