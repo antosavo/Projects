{
 "cells": [
  {
   "cell_type": "code",
   "execution_count": 1,
   "metadata": {
    "collapsed": true
   },
   "outputs": [],
   "source": [
    "import org.apache.spark.sql.functions._\n",
    "import org.apache.spark.ml.linalg.Vectors\n",
    "import org.apache.spark.ml.linalg.DenseVector\n",
    "import org.apache.spark.ml.feature.VectorAssembler\n",
    "import org.apache.spark.ml.regression.RandomForestRegressor\n",
    "import org.apache.spark.ml.evaluation.RegressionEvaluator\n",
    "import breeze.plot._\n",
    "import convert.jfc.tohtml"
   ]
  },
  {
   "cell_type": "markdown",
   "metadata": {},
   "source": [
    "## Load the dataset"
   ]
  },
  {
   "cell_type": "code",
   "execution_count": 2,
   "metadata": {},
   "outputs": [
    {
     "data": {
      "text/plain": [
       "df = [t: double, z: double]\n"
      ]
     },
     "metadata": {},
     "output_type": "display_data"
    },
    {
     "data": {
      "text/plain": [
       "[t: double, z: double]"
      ]
     },
     "execution_count": 2,
     "metadata": {},
     "output_type": "execute_result"
    }
   ],
   "source": [
    "val df = spark.read.\n",
    "  format(\"csv\").\n",
    "  option(\"header\", \"true\").\n",
    "  option(\"inferschema\", \"true\").\n",
    "  option(\"delimiter\",\",\").\n",
    "  load(\"../Datasets/Accelerating_particle.csv\")"
   ]
  },
  {
   "cell_type": "markdown",
   "metadata": {},
   "source": [
    "## Explore the dataset"
   ]
  },
  {
   "cell_type": "code",
   "execution_count": 3,
   "metadata": {},
   "outputs": [
    {
     "name": "stdout",
     "output_type": "stream",
     "text": [
      "+-------------+--------------+\n",
      "|            t|             z|\n",
      "+-------------+--------------+\n",
      "|          0.0|0.581492499944|\n",
      "|0.01001001001|0.109579774655|\n",
      "|0.02002002002|0.736651613589|\n",
      "|0.03003003003| 1.48598356416|\n",
      "|0.04004004004| 1.74318272131|\n",
      "+-------------+--------------+\n",
      "only showing top 5 rows\n",
      "\n"
     ]
    }
   ],
   "source": [
    "df.show(5)"
   ]
  },
  {
   "cell_type": "code",
   "execution_count": 4,
   "metadata": {},
   "outputs": [
    {
     "name": "stdout",
     "output_type": "stream",
     "text": [
      "root\n",
      " |-- t: double (nullable = true)\n",
      " |-- z: double (nullable = true)\n",
      "\n"
     ]
    }
   ],
   "source": [
    "df.printSchema"
   ]
  },
  {
   "cell_type": "code",
   "execution_count": 5,
   "metadata": {},
   "outputs": [
    {
     "name": "stdout",
     "output_type": "stream",
     "text": [
      "+-------+------------------+------------------+\n",
      "|summary|                 t|                 z|\n",
      "+-------+------------------+------------------+\n",
      "|  count|              1000|              1000|\n",
      "|   mean| 5.000000000000049| 17.64991205090991|\n",
      "| stddev|2.8910854464052678|14.983189399049817|\n",
      "|    min|               0.0|    -1.35666247476|\n",
      "|    max|              10.0|      51.253265726|\n",
      "+-------+------------------+------------------+\n",
      "\n"
     ]
    }
   ],
   "source": [
    "df.describe().show()"
   ]
  },
  {
   "cell_type": "markdown",
   "metadata": {},
   "source": [
    "## Vector Assembler"
   ]
  },
  {
   "cell_type": "code",
   "execution_count": 6,
   "metadata": {},
   "outputs": [
    {
     "data": {
      "text/plain": [
       "assembler = vecAssembler_8bef74557120\n"
      ]
     },
     "metadata": {},
     "output_type": "display_data"
    },
    {
     "data": {
      "text/plain": [
       "vecAssembler_8bef74557120"
      ]
     },
     "execution_count": 6,
     "metadata": {},
     "output_type": "execute_result"
    }
   ],
   "source": [
    "val assembler = new VectorAssembler().\n",
    "  setInputCols(Array(\"t\")).\n",
    "  setOutputCol(\"features\")"
   ]
  },
  {
   "cell_type": "code",
   "execution_count": 7,
   "metadata": {},
   "outputs": [
    {
     "name": "stdout",
     "output_type": "stream",
     "text": [
      "+---------------+-----------------+\n",
      "|          label|         features|\n",
      "+---------------+-----------------+\n",
      "| 0.581492499944|            [0.0]|\n",
      "| 0.109579774655|  [0.01001001001]|\n",
      "| 0.736651613589|  [0.02002002002]|\n",
      "|  1.48598356416|  [0.03003003003]|\n",
      "|  1.74318272131|  [0.04004004004]|\n",
      "|-0.180520976165|[0.0500500500501]|\n",
      "| 0.592680533783|[0.0600600600601]|\n",
      "|  1.16782126493|[0.0700700700701]|\n",
      "| 0.556445117136|[0.0800800800801]|\n",
      "|-0.408362632843|[0.0900900900901]|\n",
      "+---------------+-----------------+\n",
      "only showing top 10 rows\n",
      "\n"
     ]
    },
    {
     "data": {
      "text/plain": [
       "df_v = [label: double, features: vector]\n"
      ]
     },
     "metadata": {},
     "output_type": "display_data"
    },
    {
     "data": {
      "text/plain": [
       "[label: double, features: vector]"
      ]
     },
     "execution_count": 7,
     "metadata": {},
     "output_type": "execute_result"
    }
   ],
   "source": [
    "val df_v = assembler.transform(df).select(col(\"z\").as(\"label\"), col(\"features\"))\n",
    "df_v.show(10)"
   ]
  },
  {
   "cell_type": "markdown",
   "metadata": {},
   "source": [
    "## Split into train and test sets"
   ]
  },
  {
   "cell_type": "code",
   "execution_count": 8,
   "metadata": {},
   "outputs": [
    {
     "data": {
      "text/plain": [
       "trainingData = [label: double, features: vector]\n",
       "testData = [label: double, features: vector]\n"
      ]
     },
     "metadata": {},
     "output_type": "display_data"
    },
    {
     "data": {
      "text/plain": [
       "[label: double, features: vector]"
      ]
     },
     "execution_count": 8,
     "metadata": {},
     "output_type": "execute_result"
    }
   ],
   "source": [
    "val Array(trainingData, testData) = df_v.randomSplit(Array(0.7, 0.3))"
   ]
  },
  {
   "cell_type": "markdown",
   "metadata": {},
   "source": [
    "## Train the model"
   ]
  },
  {
   "cell_type": "code",
   "execution_count": 9,
   "metadata": {},
   "outputs": [
    {
     "data": {
      "text/plain": [
       "rf = rfr_7a0d8ce28ce4\n"
      ]
     },
     "metadata": {},
     "output_type": "display_data"
    },
    {
     "data": {
      "text/plain": [
       "rfr_7a0d8ce28ce4"
      ]
     },
     "execution_count": 9,
     "metadata": {},
     "output_type": "execute_result"
    }
   ],
   "source": [
    "val rf = new RandomForestRegressor().\n",
    "    setNumTrees(100).\n",
    "    setMaxDepth(10)"
   ]
  },
  {
   "cell_type": "code",
   "execution_count": 10,
   "metadata": {},
   "outputs": [
    {
     "data": {
      "text/plain": [
       "model = RandomForestRegressionModel (uid=rfr_0051f46da375) with 100 trees\n"
      ]
     },
     "metadata": {},
     "output_type": "display_data"
    },
    {
     "data": {
      "text/plain": [
       "RandomForestRegressionModel (uid=rfr_0051f46da375) with 100 trees"
      ]
     },
     "execution_count": 10,
     "metadata": {},
     "output_type": "execute_result"
    }
   ],
   "source": [
    "val model = rf.fit(trainingData)"
   ]
  },
  {
   "cell_type": "markdown",
   "metadata": {},
   "source": [
    "## Make predictions"
   ]
  },
  {
   "cell_type": "code",
   "execution_count": 11,
   "metadata": {},
   "outputs": [
    {
     "name": "stdout",
     "output_type": "stream",
     "text": [
      "+---------------+-----------------+------------------+\n",
      "|          label|         features|        prediction|\n",
      "+---------------+-----------------+------------------+\n",
      "| 0.556445117136|[0.0800800800801]|0.5213743954122685|\n",
      "|  1.46645821002|   [0.1001001001]|0.5213743954122685|\n",
      "|  1.11205142444|  [0.15015015015]|0.5213743954122685|\n",
      "|  1.23614103562|  [0.17017017017]|0.5213743954122685|\n",
      "|-0.279015109822|  [0.18018018018]|0.5213743954122685|\n",
      "| 0.376409689971|   [0.2002002002]|0.5213743954122685|\n",
      "| 0.205323407272|  [0.24024024024]|0.5213743954122685|\n",
      "| 0.742837121531|  [0.28028028028]|0.5213743954122685|\n",
      "| 0.994512600596|  [0.31031031031]| 1.189886419345981|\n",
      "|-0.691767857101|  [0.33033033033]| 1.189886419345981|\n",
      "+---------------+-----------------+------------------+\n",
      "only showing top 10 rows\n",
      "\n"
     ]
    },
    {
     "data": {
      "text/plain": [
       "predictions = [label: double, features: vector ... 1 more field]\n"
      ]
     },
     "metadata": {},
     "output_type": "display_data"
    },
    {
     "data": {
      "text/plain": [
       "[label: double, features: vector ... 1 more field]"
      ]
     },
     "execution_count": 11,
     "metadata": {},
     "output_type": "execute_result"
    }
   ],
   "source": [
    "val predictions = model.transform(testData).sort(\"features\")\n",
    "predictions.show(10)"
   ]
  },
  {
   "cell_type": "markdown",
   "metadata": {},
   "source": [
    "## Evaluate the model"
   ]
  },
  {
   "cell_type": "code",
   "execution_count": 12,
   "metadata": {},
   "outputs": [
    {
     "data": {
      "text/plain": [
       "evaluator = regEval_8594a624a93a\n"
      ]
     },
     "metadata": {},
     "output_type": "display_data"
    },
    {
     "data": {
      "text/plain": [
       "regEval_8594a624a93a"
      ]
     },
     "execution_count": 12,
     "metadata": {},
     "output_type": "execute_result"
    }
   ],
   "source": [
    "val evaluator = new RegressionEvaluator().setMetricName(\"r2\")\n",
    "  //setLabelCol(\"label\").\n",
    "  //setPredictionCol(\"prediction\")"
   ]
  },
  {
   "cell_type": "code",
   "execution_count": 13,
   "metadata": {},
   "outputs": [
    {
     "name": "stdout",
     "output_type": "stream",
     "text": [
      "\r",
      "[Stage 35:============================================>         (164 + 4) / 200]"
     ]
    },
    {
     "data": {
      "text/plain": [
       "r2 = 0.996967689414005\n"
      ]
     },
     "metadata": {},
     "output_type": "display_data"
    },
    {
     "data": {
      "text/plain": [
       "0.996967689414005"
      ]
     },
     "execution_count": 13,
     "metadata": {},
     "output_type": "execute_result"
    }
   ],
   "source": [
    "val r2 = evaluator.evaluate(predictions)"
   ]
  },
  {
   "cell_type": "markdown",
   "metadata": {},
   "source": [
    "## Compare data with prediction"
   ]
  },
  {
   "cell_type": "code",
   "execution_count": 14,
   "metadata": {},
   "outputs": [
    {
     "data": {
      "text/plain": [
       "x = Array(0.0800800800801, 0.1001001001, 0.15015015015, 0.17017017017, 0.18018018018, 0.2002002002, 0.24024024024, 0.28028028028, 0.31031031031, 0.33033033033, 0.36036036036, 0.37037037037, 0.38038038038, 0.39039039039, 0.47047047047, 0.580580580581, 0.650650650651, 0.680680680681, 0.760760760761, 0.820820820821, 0.830830830831, 0.850850850851, 0.860860860861, 0.980980980981, 1.02102102102, 1.03103103103, 1.1011011011, 1.12112112112, 1.13113113113, 1.15115115115, 1.19119119119, 1.25125125125, 1.3013013013, 1.33133133133, 1.35135135135, 1.38138138138, 1.39139139139, 1.4014014014, 1.42142142142, 1.45145145145, 1.48148148148, 1.51151151151, 1.52152152152, 1.56156156156, 1.61161161161, 1.69169169169, 1.7017017017, 1.74174174174, 1.79179179179, 1.83183183183, 1.85185185185, 1....\n"
      ]
     },
     "metadata": {},
     "output_type": "display_data"
    },
    {
     "data": {
      "text/plain": [
       "[0.0800800800801, 0.1001001001, 0.15015015015, 0.17017017017, 0.18018018018, 0.2002002002, 0.24024024024, 0.28028028028, 0.31031031031, 0.33033033033, 0.36036036036, 0.37037037037, 0.38038038038, 0.39039039039, 0.47047047047, 0.580580580581, 0.650650650651, 0.680680680681, 0.760760760761, 0.820820820821, 0.830830830831, 0.850850850851, 0.860860860861, 0.980980980981, 1.02102102102, 1.03103103103, 1.1011011011, 1.12112112112, 1.13113113113, 1.15115115115, 1.19119119119, 1.25125125125, 1.3013013013, 1.33133133133, 1.35135135135, 1.38138138138, 1.39139139139, 1.4014014014, 1.42142142142, 1.45145145145, 1.48148148148, 1.51151151151, 1.52152152152, 1.56156156156, 1.61161161161, 1.69169169169, 1.7017017017, 1.74174174174, 1.79179179179, 1.83183183183, 1.85185185185, 1.88188188188, 1.89189189189, 1.92192192192, 1.93193193193, 1.95195195195, 1.99199199199, 2.03203203203, 2.04204204204, 2.05205205205, 2.07207207207, 2.08208208208, 2.11211211211, 2.16216216216, 2.17217217217, 2.21221221221, 2.23223223223, 2.26226226226, 2.27227227227, 2.28228228228, 2.3023023023, 2.31231231231, 2.35235235235, 2.36236236236, 2.37237237237, 2.39239239239, 2.46246246246, 2.48248248248, 2.5025025025, 2.57257257257, 2.58258258258, 2.6026026026, 2.62262262262, 2.72272272272, 2.73273273273, 2.78278278278, 2.79279279279, 2.8028028028, 2.82282282282, 2.84284284284, 2.87287287287, 2.88288288288, 2.92292292292, 2.94294294294, 2.95295295295, 3.01301301301, 3.02302302302, 3.03303303303, 3.06306306306, 3.1031031031, 3.11311311311, 3.14314314314, 3.19319319319, 3.21321321321, 3.23323323323, 3.3033033033, 3.35335335335, 3.38338338338, 3.39339339339, 3.4034034034, 3.44344344344, 3.46346346346, 3.48348348348, 3.5035035035, 3.51351351351, 3.52352352352, 3.53353353353, 3.56356356356, 3.61361361361, 3.63363363363, 3.66366366366, 3.7037037037, 3.71371371371, 3.72372372372, 3.78378378378, 3.81381381381, 3.82382382382, 3.85385385385, 3.9039039039, 3.93393393393, 3.95395395395, 3.97397397397, 3.99399399399, 4.004004004, 4.03403403403, 4.06406406406, 4.07407407407, 4.17417417417, 4.18418418418, 4.19419419419, 4.21421421421, 4.25425425425, 4.29429429429, 4.36436436436, 4.37437437437, 4.38438438438, 4.39439439439, 4.46446446446, 4.48448448448, 4.53453453453, 4.57457457457, 4.58458458458, 4.61461461461, 4.65465465465, 4.7047047047, 4.71471471471, 4.82482482482, 4.85485485485, 4.87487487487, 4.89489489489, 4.92492492492, 4.95495495495, 4.99499499499, 5.02502502503, 5.03503503504, 5.15515515516, 5.22522522523, 5.37537537538, 5.38538538539, 5.40540540541, 5.48548548549, 5.53553553554, 5.55555555556, 5.57557557558, 5.58558558559, 5.62562562563, 5.65565565566, 5.68568568569, 5.71571571572, 5.72572572573, 5.77577577578, 5.78578578579, 5.8958958959, 5.90590590591, 5.94594594595, 5.96596596597, 5.98598598599, 6.00600600601, 6.01601601602, 6.04604604605, 6.12612612613, 6.42642642643, 6.43643643644, 6.44644644645, 6.45645645646, 6.48648648649, 6.50650650651, 6.53653653654, 6.54654654655, 6.55655655656, 6.57657657658, 6.5965965966, 6.61661661662, 6.64664664665, 6.66666666667, 6.76676676677, 6.80680680681, 6.84684684685, 6.87687687688, 6.97697697698, 7.04704704705, 7.11711711712, 7.12712712713, 7.13713713714, 7.18718718719, 7.20720720721, 7.22722722723, 7.23723723724, 7.32732732733, 7.33733733734, 7.34734734735, 7.37737737738, 7.38738738739, 7.45745745746, 7.47747747748, 7.54754754755, 7.56756756757, 7.65765765766, 7.74774774775, 7.7977977978, 7.83783783784, 7.84784784785, 7.87787787788, 7.96796796797, 8.02802802803, 8.05805805806, 8.07807807808, 8.0980980981, 8.12812812813, 8.14814814815, 8.1981981982, 8.20820820821, 8.25825825826, 8.30830830831, 8.32832832833, 8.38838838839, 8.45845845846, 8.46846846847, 8.47847847848, 8.4984984985, 8.52852852853, 8.55855855856, 8.62862862863, 8.63863863864, 8.67867867868, 8.6986986987, 8.74874874875, 8.75875875876, 8.76876876877, 8.7987987988, 8.81881881882, 8.83883883884, 8.85885885886, 8.90890890891, 8.94894894895, 8.97897897898, 8.998998999, 9.06906906907, 9.10910910911, 9.12912912913, 9.13913913914, 9.15915915916, 9.20920920921, 9.22922922923, 9.26926926927, 9.27927927928, 9.31931931932, 9.32932932933, 9.35935935936, 9.38938938939, 9.45945945946, 9.46946946947, 9.48948948949, 9.51951951952, 9.5995995996, 9.62962962963, 9.70970970971, 9.72972972973, 9.73973973974, 9.75975975976, 9.7997997998, 9.85985985986, 9.87987987988, 9.90990990991, 9.94994994995, 9.96996996997, 9.98998998999]"
      ]
     },
     "execution_count": 14,
     "metadata": {},
     "output_type": "execute_result"
    }
   ],
   "source": [
    "val x = predictions.select(\"features\").collect.map(row=>row(0).asInstanceOf[DenseVector](0))\n",
    "val y = predictions.select(\"label\").as[Double].collect\n",
    "val yp = predictions.select(\"prediction\").as[Double].collect"
   ]
  },
  {
   "cell_type": "code",
   "execution_count": 15,
   "metadata": {},
   "outputs": [
    {
     "data": {
      "text/plain": [
       "fig = breeze.plot.Figure@35220a5e\n",
       "plt = breeze.plot.Plot@226be7fd\n"
      ]
     },
     "metadata": {},
     "output_type": "display_data"
    },
    {
     "data": {
      "text/plain": [
       "breeze.plot.Plot@226be7fd"
      ]
     },
     "execution_count": 15,
     "metadata": {},
     "output_type": "execute_result"
    }
   ],
   "source": [
    "val fig = Figure()\n",
    "val plt = fig.subplot(0)"
   ]
  },
  {
   "cell_type": "code",
   "execution_count": 16,
   "metadata": {},
   "outputs": [
    {
     "data": {
      "text/plain": [
       "plt.legend: Boolean = true\n",
       "plt.title: String = RF Regression\n",
       "plt.xlabel: String = t\n",
       "plt.ylabel: String = z\n"
      ]
     },
     "metadata": {},
     "output_type": "display_data"
    }
   ],
   "source": [
    "plt += plot(x, y, '+', name = \"Data\", colorcode=\"red\")\n",
    "plt += plot(x, yp, '-', name = \"Fit\", colorcode=\"blue\")\n",
    "\n",
    "plt.legend = true\n",
    "plt.title = \"RF Regression\"\n",
    "plt.xlabel = \"t\"\n",
    "//plt.xlim(0,11)\n",
    "plt.ylabel = \"z\"\n",
    "//plt.ylim(0,6)"
   ]
  },
  {
   "cell_type": "code",
   "execution_count": 17,
   "metadata": {},
   "outputs": [
    {
     "data": {
      "text/html": [
       "<img width=\"600\" height=\"400\" src=\"data:image/png;base64,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\" />"
      ]
     },
     "execution_count": 17,
     "metadata": {},
     "output_type": "execute_result"
    }
   ],
   "source": [
    "kernel.magics.html(tohtml(plt.chart))"
   ]
  }
 ],
 "metadata": {
  "kernelspec": {
   "display_name": "Apache Toree - Scala",
   "language": "scala",
   "name": "apache_toree_scala"
  },
  "language_info": {
   "codemirror_mode": "text/x-scala",
   "file_extension": ".scala",
   "mimetype": "text/x-scala",
   "name": "scala",
   "pygments_lexer": "scala",
   "version": "2.11.8"
  }
 },
 "nbformat": 4,
 "nbformat_minor": 2
}
