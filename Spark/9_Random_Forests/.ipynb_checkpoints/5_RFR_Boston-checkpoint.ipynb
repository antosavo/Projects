{
 "cells": [
  {
   "cell_type": "code",
   "execution_count": 1,
   "metadata": {
    "collapsed": true
   },
   "outputs": [],
   "source": [
    "import org.apache.spark.sql.functions._\n",
    "import org.apache.spark.ml.linalg.Vectors\n",
    "import org.apache.spark.ml.linalg.DenseVector\n",
    "import org.apache.spark.ml.regression.RandomForestRegressor\n",
    "import org.apache.spark.ml.feature.VectorAssembler\n",
    "import org.apache.spark.ml.feature.{MinMaxScaler,StandardScaler}\n",
    "import org.apache.spark.ml.evaluation.RegressionEvaluator\n",
    "import breeze.plot._\n",
    "import convert.jfc.tohtml"
   ]
  },
  {
   "cell_type": "markdown",
   "metadata": {},
   "source": [
    "## Load the dataset"
   ]
  },
  {
   "cell_type": "code",
   "execution_count": 2,
   "metadata": {},
   "outputs": [
    {
     "data": {
      "text/plain": [
       "df = [CRIM: double, ZN: double ... 12 more fields]\n"
      ]
     },
     "metadata": {},
     "output_type": "display_data"
    },
    {
     "data": {
      "text/plain": [
       "[CRIM: double, ZN: double ... 12 more fields]"
      ]
     },
     "execution_count": 2,
     "metadata": {},
     "output_type": "execute_result"
    }
   ],
   "source": [
    "val df = spark.read.\n",
    "  format(\"csv\").\n",
    "  option(\"header\", \"true\").\n",
    "  option(\"inferschema\", \"true\").\n",
    "  option(\"delimiter\",\",\").\n",
    "  load(\"../Datasets/Boston.csv\")"
   ]
  },
  {
   "cell_type": "markdown",
   "metadata": {},
   "source": [
    "## Explore the dataset"
   ]
  },
  {
   "cell_type": "code",
   "execution_count": 3,
   "metadata": {},
   "outputs": [
    {
     "name": "stdout",
     "output_type": "stream",
     "text": [
      "+-----------+----+-----------+----+-----------+-----------+-----------+-----------+---+---+-----------+-----------+-----------+-----------+\n",
      "|       CRIM|  ZN|      INDUS|CHAS|        NOX|         RM|        AGE|        DIS|RAD|TAX|    PTRATIO|          B|      LSTAT|       MEDV|\n",
      "+-----------+----+-----------+----+-----------+-----------+-----------+-----------+---+---+-----------+-----------+-----------+-----------+\n",
      "|    0.00632|18.0|2.309999943|   0|0.537999988|6.574999809|65.19999695|4.090000153|  1|296|15.30000019|396.8999939|4.980000019|       24.0|\n",
      "|0.027310001| 0.0|7.070000172|   0|0.469000012|6.421000004|78.90000153|4.967100143|  2|242|17.79999924|396.8999939|9.140000343|21.60000038|\n",
      "|    0.02729| 0.0|7.070000172|   0|0.469000012|7.184999943|61.09999847|4.967100143|  2|242|17.79999924|392.8299866| 4.03000021|34.70000076|\n",
      "|0.032370001| 0.0|2.180000067|   0|0.458000004|6.998000145|45.79999924|6.062200069|  3|222|18.70000076|394.6300049|2.940000057|33.40000153|\n",
      "|0.069049999| 0.0|2.180000067|   0|0.458000004|7.146999836|54.20000076|6.062200069|  3|222|18.70000076|396.8999939|5.329999924|36.20000076|\n",
      "+-----------+----+-----------+----+-----------+-----------+-----------+-----------+---+---+-----------+-----------+-----------+-----------+\n",
      "only showing top 5 rows\n",
      "\n"
     ]
    }
   ],
   "source": [
    "df.show(5)"
   ]
  },
  {
   "cell_type": "code",
   "execution_count": 4,
   "metadata": {},
   "outputs": [
    {
     "name": "stdout",
     "output_type": "stream",
     "text": [
      "root\n",
      " |-- CRIM: double (nullable = true)\n",
      " |-- ZN: double (nullable = true)\n",
      " |-- INDUS: double (nullable = true)\n",
      " |-- CHAS: integer (nullable = true)\n",
      " |-- NOX: double (nullable = true)\n",
      " |-- RM: double (nullable = true)\n",
      " |-- AGE: double (nullable = true)\n",
      " |-- DIS: double (nullable = true)\n",
      " |-- RAD: integer (nullable = true)\n",
      " |-- TAX: integer (nullable = true)\n",
      " |-- PTRATIO: double (nullable = true)\n",
      " |-- B: double (nullable = true)\n",
      " |-- LSTAT: double (nullable = true)\n",
      " |-- MEDV: double (nullable = true)\n",
      "\n"
     ]
    }
   ],
   "source": [
    "df.printSchema"
   ]
  },
  {
   "cell_type": "code",
   "execution_count": 5,
   "metadata": {},
   "outputs": [
    {
     "name": "stdout",
     "output_type": "stream",
     "text": [
      "+-------+------------------+------------------+------------------+------------------+------------------+------------------+------------------+------------------+-----------------+------------------+-----------------+------------------+------------------+-----------------+\n",
      "|summary|              CRIM|                ZN|             INDUS|              CHAS|               NOX|                RM|               AGE|               DIS|              RAD|               TAX|          PTRATIO|                 B|             LSTAT|             MEDV|\n",
      "+-------+------------------+------------------+------------------+------------------+------------------+------------------+------------------+------------------+-----------------+------------------+-----------------+------------------+------------------+-----------------+\n",
      "|  count|               506|               506|               506|               506|               506|               506|               506|               506|              506|               506|              506|               506|               506|              506|\n",
      "|   mean|3.6135235608162057|11.363636363636363|11.136778749531626|0.0691699604743083|0.5546950602312246|  6.28463438896641| 68.57490120115612|3.7950426960059325|9.549407114624506| 408.2371541501976|18.45553382776679|356.67402960597883|12.653063233922925|22.53280636250988|\n",
      "| stddev| 8.601545086715594| 23.32245299451514|  6.86035298095724|0.2539940413404101|0.1158776754570543|0.7026171549511354|28.148861532793276| 2.105710142043288|8.707259384239366|168.53711605495903|2.164945780039869| 91.29486340272308| 7.141061500195388|9.197104107945272|\n",
      "|    min|           0.00632|               0.0|       0.460000008|                 0|        0.38499999|       3.561000109|       2.900000095|       1.129600048|                1|               187|      12.60000038|       0.319999993|       1.730000019|              5.0|\n",
      "|    max|       88.97619629|             100.0|       27.73999977|                 1|       0.870999992|       8.779999733|             100.0|       12.12650013|               24|               711|             22.0|       396.8999939|       37.97000122|             50.0|\n",
      "+-------+------------------+------------------+------------------+------------------+------------------+------------------+------------------+------------------+-----------------+------------------+-----------------+------------------+------------------+-----------------+\n",
      "\n"
     ]
    }
   ],
   "source": [
    "df.describe().show()"
   ]
  },
  {
   "cell_type": "code",
   "execution_count": 6,
   "metadata": {},
   "outputs": [
    {
     "data": {
      "text/plain": [
       "[CRIM, ZN, INDUS, CHAS, NOX, RM, AGE, DIS, RAD, TAX, PTRATIO, B, LSTAT, MEDV]"
      ]
     },
     "execution_count": 6,
     "metadata": {},
     "output_type": "execute_result"
    }
   ],
   "source": [
    "df.columns"
   ]
  },
  {
   "cell_type": "code",
   "execution_count": 7,
   "metadata": {},
   "outputs": [
    {
     "data": {
      "text/plain": [
       "14"
      ]
     },
     "execution_count": 7,
     "metadata": {},
     "output_type": "execute_result"
    }
   ],
   "source": [
    "df.columns.length"
   ]
  },
  {
   "cell_type": "code",
   "execution_count": 8,
   "metadata": {},
   "outputs": [
    {
     "data": {
      "text/plain": [
       "506"
      ]
     },
     "execution_count": 8,
     "metadata": {},
     "output_type": "execute_result"
    }
   ],
   "source": [
    "df.count"
   ]
  },
  {
   "cell_type": "code",
   "execution_count": 9,
   "metadata": {},
   "outputs": [
    {
     "name": "stdout",
     "output_type": "stream",
     "text": [
      "+-------+--------------------+\n",
      "|colname|         correlation|\n",
      "+-------+--------------------+\n",
      "|   CRIM| -0.3883046116575088|\n",
      "|     ZN| 0.36044534463752903|\n",
      "|  INDUS|-0.48372517128143383|\n",
      "|   CHAS| 0.17526017775291847|\n",
      "|    NOX| -0.4273207763683772|\n",
      "|     RM|   0.695359937127267|\n",
      "|    AGE|-0.37695456714288667|\n",
      "|    DIS| 0.24992873873512172|\n",
      "|    RAD| -0.3816262315669168|\n",
      "|    TAX|-0.46853593528654536|\n",
      "|PTRATIO| -0.5077867038116085|\n",
      "|      B|  0.3334608226834164|\n",
      "|  LSTAT| -0.7376627294671615|\n",
      "|   MEDV|                 1.0|\n",
      "+-------+--------------------+\n",
      "\n"
     ]
    },
    {
     "data": {
      "text/plain": [
       "L = List((CRIM,-0.3883046116575088), (ZN,0.36044534463752903), (INDUS,-0.48372517128143383), (CHAS,0.17526017775291847), (NOX,-0.4273207763683772), (RM,0.695359937127267), (AGE,-0.37695456714288667), (DIS,0.24992873873512172), (RAD,-0.3816262315669168), (TAX,-0.46853593528654536), (PTRATIO,-0.5077867038116085), (B,0.3334608226834164), (LSTAT,-0.7376627294671615), (MEDV,1.0))\n",
       "df_corr = [colname: string, correlation: double]\n"
      ]
     },
     "metadata": {},
     "output_type": "display_data"
    },
    {
     "data": {
      "text/plain": [
       "[colname: string, correlation: double]"
      ]
     },
     "execution_count": 9,
     "metadata": {},
     "output_type": "execute_result"
    }
   ],
   "source": [
    "var L = List.empty[(String,Double)]\n",
    "\n",
    "for(cn <- df.columns) L = L :+ (cn,df.stat.corr(\"MEDV\", cn))\n",
    "\n",
    "val df_corr = L.toDF(\"colname\",\"correlation\")\n",
    "df_corr.show()"
   ]
  },
  {
   "cell_type": "code",
   "execution_count": 10,
   "metadata": {},
   "outputs": [
    {
     "name": "stdout",
     "output_type": "stream",
     "text": [
      "+-------+-------------------+\n",
      "|colname|   abs(correlation)|\n",
      "+-------+-------------------+\n",
      "|   MEDV|                1.0|\n",
      "|  LSTAT| 0.7376627294671615|\n",
      "|     RM|  0.695359937127267|\n",
      "|PTRATIO| 0.5077867038116085|\n",
      "|  INDUS|0.48372517128143383|\n",
      "|    TAX|0.46853593528654536|\n",
      "|    NOX| 0.4273207763683772|\n",
      "|   CRIM| 0.3883046116575088|\n",
      "|    RAD| 0.3816262315669168|\n",
      "|    AGE|0.37695456714288667|\n",
      "|     ZN|0.36044534463752903|\n",
      "|      B| 0.3334608226834164|\n",
      "|    DIS|0.24992873873512172|\n",
      "|   CHAS|0.17526017775291847|\n",
      "+-------+-------------------+\n",
      "\n"
     ]
    }
   ],
   "source": [
    "df_corr.select(col(\"colname\"),abs(col(\"correlation\"))).sort(col(\"abs(correlation)\").desc).show()"
   ]
  },
  {
   "cell_type": "markdown",
   "metadata": {},
   "source": [
    "## Apply Vector Assembler"
   ]
  },
  {
   "cell_type": "code",
   "execution_count": 11,
   "metadata": {},
   "outputs": [
    {
     "data": {
      "text/plain": [
       "features = Array(CRIM, ZN, INDUS, CHAS, NOX, RM, AGE, DIS, RAD, TAX, PTRATIO, B, LSTAT)\n"
      ]
     },
     "metadata": {},
     "output_type": "display_data"
    },
    {
     "data": {
      "text/plain": [
       "[CRIM, ZN, INDUS, CHAS, NOX, RM, AGE, DIS, RAD, TAX, PTRATIO, B, LSTAT]"
      ]
     },
     "execution_count": 11,
     "metadata": {},
     "output_type": "execute_result"
    }
   ],
   "source": [
    "val features = df.columns.slice(0,df.columns.length -1)"
   ]
  },
  {
   "cell_type": "code",
   "execution_count": 12,
   "metadata": {},
   "outputs": [
    {
     "data": {
      "text/plain": [
       "assembler = vecAssembler_faa6047ca478\n"
      ]
     },
     "metadata": {},
     "output_type": "display_data"
    },
    {
     "data": {
      "text/plain": [
       "vecAssembler_faa6047ca478"
      ]
     },
     "execution_count": 12,
     "metadata": {},
     "output_type": "execute_result"
    }
   ],
   "source": [
    "val assembler = new VectorAssembler().\n",
    "  setInputCols(features).//setInputCols(Array(\"_c1\", \"_c2\")).\n",
    "  setOutputCol(\"features\")"
   ]
  },
  {
   "cell_type": "code",
   "execution_count": 13,
   "metadata": {},
   "outputs": [
    {
     "name": "stdout",
     "output_type": "stream",
     "text": [
      "+--------------------+-----------+\n",
      "|            features|      label|\n",
      "+--------------------+-----------+\n",
      "|[0.00632,18.0,2.3...|       24.0|\n",
      "|[0.027310001,0.0,...|21.60000038|\n",
      "|[0.02729,0.0,7.07...|34.70000076|\n",
      "|[0.032370001,0.0,...|33.40000153|\n",
      "|[0.069049999,0.0,...|36.20000076|\n",
      "|[0.029850001,0.0,...|28.70000076|\n",
      "|[0.088289998,12.5...|22.89999962|\n",
      "|[0.144549996,12.5...|27.10000038|\n",
      "|[0.211239994,12.5...|       16.5|\n",
      "|[0.170039997,12.5...|18.89999962|\n",
      "+--------------------+-----------+\n",
      "only showing top 10 rows\n",
      "\n"
     ]
    },
    {
     "data": {
      "text/plain": [
       "df_v = [features: vector, label: double]\n"
      ]
     },
     "metadata": {},
     "output_type": "display_data"
    },
    {
     "data": {
      "text/plain": [
       "[features: vector, label: double]"
      ]
     },
     "execution_count": 13,
     "metadata": {},
     "output_type": "execute_result"
    }
   ],
   "source": [
    "val df_v = assembler.transform(df).\n",
    "    select(col(\"features\"), col(\"MEDV\").as(\"label\"))\n",
    "\n",
    "df_v.show(10)"
   ]
  },
  {
   "cell_type": "markdown",
   "metadata": {},
   "source": [
    "## Split into train and test sets"
   ]
  },
  {
   "cell_type": "code",
   "execution_count": 14,
   "metadata": {},
   "outputs": [
    {
     "data": {
      "text/plain": [
       "trainingData = [features: vector, label: double]\n",
       "testData = [features: vector, label: double]\n"
      ]
     },
     "metadata": {},
     "output_type": "display_data"
    },
    {
     "data": {
      "text/plain": [
       "[features: vector, label: double]"
      ]
     },
     "execution_count": 14,
     "metadata": {},
     "output_type": "execute_result"
    }
   ],
   "source": [
    "val Array(trainingData, testData) = df_v.randomSplit(Array(0.7, 0.3))"
   ]
  },
  {
   "cell_type": "markdown",
   "metadata": {},
   "source": [
    "## Train the model"
   ]
  },
  {
   "cell_type": "code",
   "execution_count": 15,
   "metadata": {},
   "outputs": [
    {
     "data": {
      "text/plain": [
       "rf = rfr_ec46a627230a\n"
      ]
     },
     "metadata": {},
     "output_type": "display_data"
    },
    {
     "data": {
      "text/plain": [
       "rfr_ec46a627230a"
      ]
     },
     "execution_count": 15,
     "metadata": {},
     "output_type": "execute_result"
    }
   ],
   "source": [
    "val rf = new RandomForestRegressor().\n",
    "    setNumTrees(100).\n",
    "    setMaxDepth(10)"
   ]
  },
  {
   "cell_type": "code",
   "execution_count": 16,
   "metadata": {},
   "outputs": [
    {
     "data": {
      "text/plain": [
       "model = RandomForestRegressionModel (uid=rfr_a1880f8ddcfa) with 100 trees\n"
      ]
     },
     "metadata": {},
     "output_type": "display_data"
    },
    {
     "data": {
      "text/plain": [
       "RandomForestRegressionModel (uid=rfr_a1880f8ddcfa) with 100 trees"
      ]
     },
     "execution_count": 16,
     "metadata": {},
     "output_type": "execute_result"
    }
   ],
   "source": [
    "val model = rf.fit(trainingData)"
   ]
  },
  {
   "cell_type": "markdown",
   "metadata": {},
   "source": [
    "## Make predictions"
   ]
  },
  {
   "cell_type": "code",
   "execution_count": 17,
   "metadata": {},
   "outputs": [
    {
     "name": "stdout",
     "output_type": "stream",
     "text": [
      "+--------------------+-----------+------------------+\n",
      "|            features|      label|        prediction|\n",
      "+--------------------+-----------+------------------+\n",
      "|[0.01301,35.0,1.5...|32.70000076| 32.84828876901207|\n",
      "|[0.01501,90.0,1.2...|       50.0|  43.2648749503625|\n",
      "|[0.0187,85.0,4.15...|23.10000038|24.353056051354653|\n",
      "|[0.019509999,17.5...|       33.0| 33.67808340940357|\n",
      "|[0.020090001,95.0...|       50.0| 46.96720831319917|\n",
      "|[0.02187,60.0,2.9...|31.10000038|28.593010767281235|\n",
      "|[0.02729,0.0,7.07...|34.70000076| 34.41900432914125|\n",
      "|[0.030409999,0.0,...|       18.5|20.198703715485657|\n",
      "|[0.032370001,0.0,...|33.40000153|35.403669732271645|\n",
      "|[0.03427,0.0,5.19...|       19.5| 20.00478709519469|\n",
      "+--------------------+-----------+------------------+\n",
      "only showing top 10 rows\n",
      "\n"
     ]
    },
    {
     "data": {
      "text/plain": [
       "predictions = [features: vector, label: double ... 1 more field]\n"
      ]
     },
     "metadata": {},
     "output_type": "display_data"
    },
    {
     "data": {
      "text/plain": [
       "[features: vector, label: double ... 1 more field]"
      ]
     },
     "execution_count": 17,
     "metadata": {},
     "output_type": "execute_result"
    }
   ],
   "source": [
    "val predictions = model.transform(testData)\n",
    "predictions.show(10)"
   ]
  },
  {
   "cell_type": "markdown",
   "metadata": {},
   "source": [
    "## Evaluate the model"
   ]
  },
  {
   "cell_type": "code",
   "execution_count": 18,
   "metadata": {},
   "outputs": [
    {
     "data": {
      "text/plain": [
       "evaluator = regEval_5da1fd5734a9\n"
      ]
     },
     "metadata": {},
     "output_type": "display_data"
    },
    {
     "data": {
      "text/plain": [
       "regEval_5da1fd5734a9"
      ]
     },
     "execution_count": 18,
     "metadata": {},
     "output_type": "execute_result"
    }
   ],
   "source": [
    "val evaluator = new RegressionEvaluator().setMetricName(\"r2\")\n",
    "  //setLabelCol(\"label\").\n",
    "  //setPredictionCol(\"prediction\")"
   ]
  },
  {
   "cell_type": "code",
   "execution_count": 19,
   "metadata": {},
   "outputs": [
    {
     "data": {
      "text/plain": [
       "r2 = 0.8126596138065366\n"
      ]
     },
     "metadata": {},
     "output_type": "display_data"
    },
    {
     "data": {
      "text/plain": [
       "0.8126596138065366"
      ]
     },
     "execution_count": 19,
     "metadata": {},
     "output_type": "execute_result"
    }
   ],
   "source": [
    "val r2 = evaluator.evaluate(predictions)"
   ]
  },
  {
   "cell_type": "markdown",
   "metadata": {},
   "source": [
    "## Compare data with prediction"
   ]
  },
  {
   "cell_type": "code",
   "execution_count": 20,
   "metadata": {},
   "outputs": [
    {
     "data": {
      "text/plain": [
       "y = Array(32.70000076, 50.0, 23.10000038, 33.0, 50.0, 31.10000038, 34.70000076, 18.5, 33.40000153, 19.5, 28.5, 22.0, 20.89999962, 24.79999924, 21.10000038, 18.20000076, 20.5, 23.89999962, 20.60000038, 30.29999924, 22.60000038, 11.89999962, 28.70000076, 19.0, 23.60000038, 46.0, 17.20000076, 18.89999962, 36.20000076, 22.0, 36.20000076, 30.5, 28.70000076, 33.40000153, 32.0, 24.10000038, 24.10000038, 19.70000076, 37.0, 21.39999962, 18.79999924, 33.09999847, 22.79999924, 20.0, 33.20000076, 20.10000038, 21.70000076, 22.0, 20.10000038, 23.0, 24.39999962, 18.89999962, 28.39999962, 29.79999924, 25.0, 19.79999924, 20.89999962, 20.39999962, 24.39999962, 22.60000038, 23.10000038, 28.10000038, 27.10000038, 18.70000076, 15.19999981, 23.29999924, 21.70000076, 24.5, 18.29999924, 21.79999...\n"
      ]
     },
     "metadata": {},
     "output_type": "display_data"
    },
    {
     "data": {
      "text/plain": [
       "[32.70000076, 50.0, 23.10000038, 33.0, 50.0, 31.10000038, 34.70000076, 18.5, 33.40000153, 19.5, 28.5, 22.0, 20.89999962, 24.79999924, 21.10000038, 18.20000076, 20.5, 23.89999962, 20.60000038, 30.29999924, 22.60000038, 11.89999962, 28.70000076, 19.0, 23.60000038, 46.0, 17.20000076, 18.89999962, 36.20000076, 22.0, 36.20000076, 30.5, 28.70000076, 33.40000153, 32.0, 24.10000038, 24.10000038, 19.70000076, 37.0, 21.39999962, 18.79999924, 33.09999847, 22.79999924, 20.0, 33.20000076, 20.10000038, 21.70000076, 22.0, 20.10000038, 23.0, 24.39999962, 18.89999962, 28.39999962, 29.79999924, 25.0, 19.79999924, 20.89999962, 20.39999962, 24.39999962, 22.60000038, 23.10000038, 28.10000038, 27.10000038, 18.70000076, 15.19999981, 23.29999924, 21.70000076, 24.5, 18.29999924, 21.79999924, 23.10000038, 20.0, 26.20000076, 24.60000038, 35.09999847, 19.29999924, 24.79999924, 15.0, 18.60000038, 16.60000038, 22.5, 16.20000076, 14.39999962, 16.20000076, 21.10000038, 18.39999962, 19.20000076, 21.70000076, 22.79999924, 50.0, 23.0, 30.10000038, 27.5, 19.89999962, 20.39999962, 36.0, 16.60000038, 18.20000076, 30.70000076, 19.60000038, 15.60000038, 17.39999962, 41.29999924, 13.60000038, 14.5, 50.0, 14.39999962, 21.5, 23.79999924, 22.70000076, 19.10000038, 13.80000019, 15.39999962, 21.79999924, 19.89999962, 15.60000038, 23.20000076, 21.89999962, 19.0, 19.89999962, 19.60000038, 29.79999924, 12.69999981, 20.60000038, 50.0, 16.10000038, 15.19999981, 14.30000019, 25.0, 12.5, 16.10000038, 50.0, 14.19999981, 13.39999962, 11.0, 13.0, 21.39999962, 11.69999981, 11.30000019, 50.0, 12.60000038, 15.39999962, 14.10000038, 14.60000038, 12.69999981, 10.19999981, 8.300000191, 10.19999981, 7.199999809, 13.80000019, 11.89999962, 13.10000038, 10.39999962]"
      ]
     },
     "execution_count": 20,
     "metadata": {},
     "output_type": "execute_result"
    }
   ],
   "source": [
    "val y = predictions.select(\"label\").as[Double].collect\n",
    "val yp = predictions.select(\"prediction\").as[Double].collect\n",
    "val d = predictions.select(col(\"prediction\")-col(\"label\")).as[Double].collect"
   ]
  },
  {
   "cell_type": "code",
   "execution_count": 21,
   "metadata": {},
   "outputs": [
    {
     "data": {
      "text/plain": [
       "fig = breeze.plot.Figure@2aba6761\n",
       "plt = breeze.plot.Plot@7d122a27\n"
      ]
     },
     "metadata": {},
     "output_type": "display_data"
    },
    {
     "data": {
      "text/plain": [
       "breeze.plot.Plot@7d122a27"
      ]
     },
     "execution_count": 21,
     "metadata": {},
     "output_type": "execute_result"
    }
   ],
   "source": [
    "val fig = Figure()\n",
    "val plt = fig.subplot(0)"
   ]
  },
  {
   "cell_type": "code",
   "execution_count": 22,
   "metadata": {},
   "outputs": [
    {
     "data": {
      "text/plain": [
       "plt.legend: Boolean = true\n",
       "plt.xlabel: String = y\n",
       "plt.ylabel: String = y_pred -y\n"
      ]
     },
     "metadata": {},
     "output_type": "display_data"
    }
   ],
   "source": [
    "plt += plot(y, d, '+', name = \"y_pred-y\", colorcode=\"blue\")\n",
    "plt += plot(Array(0,50), Array(0,0), '-', name =\"y\", colorcode=\"red\")\n",
    "\n",
    "plt.legend = true\n",
    "//plt.title = \"xxx\"\n",
    "plt.xlabel = \"y\"\n",
    "//plt.xlim(0,50)\n",
    "plt.ylabel = \"y_pred -y\"\n",
    "//plt.ylim(0,6)"
   ]
  },
  {
   "cell_type": "code",
   "execution_count": 23,
   "metadata": {},
   "outputs": [
    {
     "data": {
      "text/html": [
       "<img width=\"600\" height=\"400\" src=\"data:image/png;base64,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\" />"
      ]
     },
     "execution_count": 23,
     "metadata": {},
     "output_type": "execute_result"
    }
   ],
   "source": [
    "kernel.magics.html(tohtml(plt.chart))"
   ]
  },
  {
   "cell_type": "markdown",
   "metadata": {},
   "source": [
    "## Feature importance"
   ]
  },
  {
   "cell_type": "code",
   "execution_count": 24,
   "metadata": {},
   "outputs": [
    {
     "name": "stdout",
     "output_type": "stream",
     "text": [
      "+-------+--------------------+\n",
      "|feature|          importance|\n",
      "+-------+--------------------+\n",
      "|     RM| 0.32860023409181816|\n",
      "|  LSTAT| 0.30095888047308755|\n",
      "|PTRATIO| 0.07064303975103525|\n",
      "|  INDUS| 0.05625528437935128|\n",
      "|    NOX|0.048850547557134756|\n",
      "|   CRIM| 0.04425768952897345|\n",
      "|    DIS|0.043391039807007155|\n",
      "|    TAX|0.034903738490761685|\n",
      "|    AGE|0.032148749387693944|\n",
      "|      B| 0.02005529074910807|\n",
      "|    RAD|0.009953698284632837|\n",
      "|   CHAS|0.006969063884170661|\n",
      "|     ZN|0.003012743615225035|\n",
      "+-------+--------------------+\n",
      "\n"
     ]
    },
    {
     "data": {
      "text/plain": [
       "fi = [feature: string, importance: double]\n"
      ]
     },
     "metadata": {},
     "output_type": "display_data"
    },
    {
     "data": {
      "text/plain": [
       "[feature: string, importance: double]"
      ]
     },
     "execution_count": 24,
     "metadata": {},
     "output_type": "execute_result"
    }
   ],
   "source": [
    "val fi = List.range(0,df.columns.length -1).map(i => (df.columns(i), model.featureImportances.toArray(i)) ).toDF(\"feature\", \"importance\")\n",
    "fi.sort(col(\"importance\").desc).show()"
   ]
  }
 ],
 "metadata": {
  "kernelspec": {
   "display_name": "Apache Toree - Scala",
   "language": "scala",
   "name": "apache_toree_scala"
  },
  "language_info": {
   "codemirror_mode": "text/x-scala",
   "file_extension": ".scala",
   "mimetype": "text/x-scala",
   "name": "scala",
   "pygments_lexer": "scala",
   "version": "2.11.8"
  }
 },
 "nbformat": 4,
 "nbformat_minor": 2
}
