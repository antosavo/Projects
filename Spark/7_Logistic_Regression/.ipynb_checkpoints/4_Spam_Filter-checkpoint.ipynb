{
 "cells": [
  {
   "cell_type": "code",
   "execution_count": 1,
   "metadata": {
    "collapsed": true
   },
   "outputs": [],
   "source": [
    "import org.apache.spark.sql.functions._\n",
    "import org.apache.spark.ml.feature.{Tokenizer,StopWordsRemover,CountVectorizer,IDF,StringIndexer}\n",
    "import org.apache.spark.ml.Pipeline\n",
    "import org.apache.spark.ml.tuning.{CrossValidator, ParamGridBuilder}\n",
    "import org.apache.spark.ml.classification.LogisticRegression\n",
    "import org.apache.spark.ml.evaluation.MulticlassClassificationEvaluator"
   ]
  },
  {
   "cell_type": "markdown",
   "metadata": {},
   "source": [
    "## Load the dataset"
   ]
  },
  {
   "cell_type": "code",
   "execution_count": 2,
   "metadata": {},
   "outputs": [
    {
     "data": {
      "text/plain": [
       "df = [label_s: string, message: string]\n"
      ]
     },
     "metadata": {},
     "output_type": "display_data"
    },
    {
     "data": {
      "text/plain": [
       "[label_s: string, message: string]"
      ]
     },
     "execution_count": 2,
     "metadata": {},
     "output_type": "execute_result"
    }
   ],
   "source": [
    "val df = spark.read.\n",
    "    format(\"csv\").\n",
    "    option(\"header\", \"false\").\n",
    "    option(\"inferschema\", \"true\").\n",
    "    option(\"delimiter\",\"\\t\").\n",
    "    load(\"../Datasets/Sms_spam.csv\").toDF(\"label_s\",\"message\")"
   ]
  },
  {
   "cell_type": "markdown",
   "metadata": {},
   "source": [
    "## Explore the dataset"
   ]
  },
  {
   "cell_type": "code",
   "execution_count": 3,
   "metadata": {},
   "outputs": [
    {
     "name": "stdout",
     "output_type": "stream",
     "text": [
      "+-------+--------------------+\n",
      "|label_s|             message|\n",
      "+-------+--------------------+\n",
      "|    ham|Go until jurong p...|\n",
      "|    ham|Ok lar... Joking ...|\n",
      "|   spam|Free entry in 2 a...|\n",
      "|    ham|U dun say so earl...|\n",
      "|    ham|Nah I don't think...|\n",
      "+-------+--------------------+\n",
      "only showing top 5 rows\n",
      "\n"
     ]
    }
   ],
   "source": [
    "df.show(5)"
   ]
  },
  {
   "cell_type": "code",
   "execution_count": 4,
   "metadata": {},
   "outputs": [
    {
     "name": "stdout",
     "output_type": "stream",
     "text": [
      "root\n",
      " |-- label_s: string (nullable = true)\n",
      " |-- message: string (nullable = true)\n",
      "\n"
     ]
    }
   ],
   "source": [
    "df.printSchema"
   ]
  },
  {
   "cell_type": "code",
   "execution_count": 5,
   "metadata": {},
   "outputs": [
    {
     "data": {
      "text/plain": [
       "2"
      ]
     },
     "execution_count": 5,
     "metadata": {},
     "output_type": "execute_result"
    }
   ],
   "source": [
    "df.columns.length"
   ]
  },
  {
   "cell_type": "code",
   "execution_count": 6,
   "metadata": {},
   "outputs": [
    {
     "data": {
      "text/plain": [
       "5572"
      ]
     },
     "execution_count": 6,
     "metadata": {},
     "output_type": "execute_result"
    }
   ],
   "source": [
    "df.count"
   ]
  },
  {
   "cell_type": "code",
   "execution_count": 7,
   "metadata": {},
   "outputs": [
    {
     "name": "stdout",
     "output_type": "stream",
     "text": [
      "+-------+-----+                                                                 \n",
      "|label_s|count|\n",
      "+-------+-----+\n",
      "|    ham| 4825|\n",
      "|   spam|  747|\n",
      "+-------+-----+\n",
      "\n"
     ]
    }
   ],
   "source": [
    "df.groupBy(\"label_s\").count.show()"
   ]
  },
  {
   "cell_type": "markdown",
   "metadata": {},
   "source": [
    "## Split into train and test sets"
   ]
  },
  {
   "cell_type": "code",
   "execution_count": 8,
   "metadata": {},
   "outputs": [
    {
     "data": {
      "text/plain": [
       "trainingData = [label_s: string, message: string]\n",
       "testData = [label_s: string, message: string]\n"
      ]
     },
     "metadata": {},
     "output_type": "display_data"
    },
    {
     "data": {
      "text/plain": [
       "[label_s: string, message: string]"
      ]
     },
     "execution_count": 8,
     "metadata": {},
     "output_type": "execute_result"
    }
   ],
   "source": [
    "val Array(trainingData, testData) = df.randomSplit(Array(0.7, 0.3))"
   ]
  },
  {
   "cell_type": "markdown",
   "metadata": {},
   "source": [
    "## Vectorize the messages"
   ]
  },
  {
   "cell_type": "code",
   "execution_count": 9,
   "metadata": {},
   "outputs": [
    {
     "data": {
      "text/plain": [
       "tokenizer = tok_4c64ec021171\n"
      ]
     },
     "metadata": {},
     "output_type": "display_data"
    },
    {
     "data": {
      "text/plain": [
       "tok_4c64ec021171"
      ]
     },
     "execution_count": 9,
     "metadata": {},
     "output_type": "execute_result"
    }
   ],
   "source": [
    "val tokenizer = new Tokenizer().\n",
    "  setInputCol(\"message\").\n",
    "  setOutputCol(\"raw_words\")"
   ]
  },
  {
   "cell_type": "code",
   "execution_count": 10,
   "metadata": {},
   "outputs": [
    {
     "data": {
      "text/plain": [
       "remover = stopWords_74027186f116\n"
      ]
     },
     "metadata": {},
     "output_type": "display_data"
    },
    {
     "data": {
      "text/plain": [
       "stopWords_74027186f116"
      ]
     },
     "execution_count": 10,
     "metadata": {},
     "output_type": "execute_result"
    }
   ],
   "source": [
    "val remover = new StopWordsRemover().\n",
    "  setInputCol(\"raw_words\").\n",
    "  setOutputCol(\"filtered_words\")"
   ]
  },
  {
   "cell_type": "code",
   "execution_count": 11,
   "metadata": {},
   "outputs": [
    {
     "data": {
      "text/plain": [
       "cv = cntVec_7adcee02e789\n"
      ]
     },
     "metadata": {},
     "output_type": "display_data"
    },
    {
     "data": {
      "text/plain": [
       "cntVec_7adcee02e789"
      ]
     },
     "execution_count": 11,
     "metadata": {},
     "output_type": "execute_result"
    }
   ],
   "source": [
    "val cv = new CountVectorizer().\n",
    "  setInputCol(\"filtered_words\").\n",
    "  setOutputCol(\"rawFeatures\")"
   ]
  },
  {
   "cell_type": "code",
   "execution_count": 12,
   "metadata": {},
   "outputs": [
    {
     "data": {
      "text/plain": [
       "idf = idf_bff0a2d2aad4\n"
      ]
     },
     "metadata": {},
     "output_type": "display_data"
    },
    {
     "data": {
      "text/plain": [
       "idf_bff0a2d2aad4"
      ]
     },
     "execution_count": 12,
     "metadata": {},
     "output_type": "execute_result"
    }
   ],
   "source": [
    "val idf = new IDF().\n",
    "  setInputCol(\"rawFeatures\").\n",
    "  setOutputCol(\"features\")"
   ]
  },
  {
   "cell_type": "code",
   "execution_count": 13,
   "metadata": {},
   "outputs": [
    {
     "data": {
      "text/plain": [
       "indexer = strIdx_dde28190f7ce\n"
      ]
     },
     "metadata": {},
     "output_type": "display_data"
    },
    {
     "data": {
      "text/plain": [
       "strIdx_dde28190f7ce"
      ]
     },
     "execution_count": 13,
     "metadata": {},
     "output_type": "execute_result"
    }
   ],
   "source": [
    "val indexer = new StringIndexer().\n",
    "  setInputCol(\"label_s\").\n",
    "  setOutputCol(\"label\")"
   ]
  },
  {
   "cell_type": "code",
   "execution_count": 14,
   "metadata": {},
   "outputs": [
    {
     "data": {
      "text/plain": [
       "pipeline = pipeline_7a1bf8f1315c\n"
      ]
     },
     "metadata": {},
     "output_type": "display_data"
    },
    {
     "data": {
      "text/plain": [
       "pipeline_7a1bf8f1315c"
      ]
     },
     "execution_count": 14,
     "metadata": {},
     "output_type": "execute_result"
    }
   ],
   "source": [
    "val pipeline = new Pipeline().\n",
    "  setStages(Array(tokenizer, remover, cv, idf, indexer))"
   ]
  },
  {
   "cell_type": "code",
   "execution_count": 15,
   "metadata": {},
   "outputs": [
    {
     "data": {
      "text/plain": [
       "T = pipeline_7a1bf8f1315c\n"
      ]
     },
     "metadata": {},
     "output_type": "display_data"
    },
    {
     "data": {
      "text/plain": [
       "pipeline_7a1bf8f1315c"
      ]
     },
     "execution_count": 15,
     "metadata": {},
     "output_type": "execute_result"
    }
   ],
   "source": [
    "val T = pipeline.fit(trainingData)"
   ]
  },
  {
   "cell_type": "code",
   "execution_count": 16,
   "metadata": {},
   "outputs": [
    {
     "name": "stdout",
     "output_type": "stream",
     "text": [
      "+--------------------+-----+\n",
      "|            features|label|\n",
      "+--------------------+-----+\n",
      "|(10826,[3,8,3603,...|  0.0|\n",
      "|(10826,[3,8,44,22...|  0.0|\n",
      "|(10826,[3,104,135...|  0.0|\n",
      "|(10826,[3,14,79,8...|  0.0|\n",
      "|(10826,[0,3,108,2...|  0.0|\n",
      "+--------------------+-----+\n",
      "only showing top 5 rows\n",
      "\n"
     ]
    },
    {
     "data": {
      "text/plain": [
       "trainingData_v = [features: vector, label: double]\n"
      ]
     },
     "metadata": {},
     "output_type": "display_data"
    },
    {
     "data": {
      "text/plain": [
       "[features: vector, label: double]"
      ]
     },
     "execution_count": 16,
     "metadata": {},
     "output_type": "execute_result"
    }
   ],
   "source": [
    "val trainingData_v = T.transform(trainingData).select(\"features\",\"label\")\n",
    "trainingData_v.show(5)"
   ]
  },
  {
   "cell_type": "code",
   "execution_count": 17,
   "metadata": {},
   "outputs": [
    {
     "data": {
      "text/plain": [
       "testData_v = [features: vector, label: double]\n"
      ]
     },
     "metadata": {},
     "output_type": "display_data"
    },
    {
     "data": {
      "text/plain": [
       "[features: vector, label: double]"
      ]
     },
     "execution_count": 17,
     "metadata": {},
     "output_type": "execute_result"
    }
   ],
   "source": [
    "val testData_v = T.transform(testData).select(\"features\",\"label\")"
   ]
  },
  {
   "cell_type": "markdown",
   "metadata": {},
   "source": [
    "## Hyperparameter optimization with cross-validation"
   ]
  },
  {
   "cell_type": "code",
   "execution_count": 18,
   "metadata": {},
   "outputs": [
    {
     "data": {
      "text/plain": [
       "lr = logreg_17a7a3a16604\n"
      ]
     },
     "metadata": {},
     "output_type": "display_data"
    },
    {
     "data": {
      "text/plain": [
       "logreg_17a7a3a16604"
      ]
     },
     "execution_count": 18,
     "metadata": {},
     "output_type": "execute_result"
    }
   ],
   "source": [
    "val lr = new LogisticRegression().setMaxIter(100)"
   ]
  },
  {
   "cell_type": "code",
   "execution_count": 19,
   "metadata": {},
   "outputs": [
    {
     "data": {
      "text/plain": [
       "evaluator = mcEval_6fafbce3a836\n"
      ]
     },
     "metadata": {},
     "output_type": "display_data"
    },
    {
     "data": {
      "text/plain": [
       "mcEval_6fafbce3a836"
      ]
     },
     "execution_count": 19,
     "metadata": {},
     "output_type": "execute_result"
    }
   ],
   "source": [
    "val evaluator = new MulticlassClassificationEvaluator().setMetricName(\"f1\")"
   ]
  },
  {
   "cell_type": "code",
   "execution_count": 20,
   "metadata": {},
   "outputs": [
    {
     "data": {
      "text/plain": [
       "paramGrid = \n"
      ]
     },
     "metadata": {},
     "output_type": "display_data"
    },
    {
     "data": {
      "text/plain": [
       "Array({\n",
       "\tlogreg_17a7a3a16604-elasticNetParam: 0.2,\n",
       "\tlogreg_17a7a3a16604-regParam: 0.01\n",
       "}, {\n",
       "\tlogreg_17a7a3a16604-elasticNetParam: 0.4,\n",
       "\tlogreg_17a7a3a16604-regParam: 0.01\n",
       "}, {\n",
       "\tlogreg_17a7a3a16604-elasticNetParam: 0.6,\n",
       "\tlogreg_17a7a3a16604-regParam: 0.01\n",
       "}, {\n",
       "\tlogreg_17a7a3a16604-elasticNetParam: 0.8,\n",
       "\tlogreg_17a7a3a16604-regParam: 0.01\n",
       "}, {\n",
       "\tlogreg_17a7a3a16604-elasticNetParam: 1.0,\n",
       "\tlogreg_17a7a3a16604-regParam: 0.01\n",
       "}, {\n",
       "\tlogreg_17a7a3a16604-elasticNetParam: 0.2,\n",
       "\tlogreg_17a7a3a16604-regParam: 0.1\n",
       "}, {\n",
       "\tlogreg_17a7a3a16604-elasticNetParam: 0.4,\n",
       "\tlogreg_17a7a3a16604-regParam: 0.1\n",
       "}, {\n",
       "\tlogreg_17a7a3a16604-elasticNetParam: 0.6,\n",
       "\tlogreg_17a7a3a16604-regParam: 0.1\n",
       "}, {\n",
       "\tlogreg_17a7a3a16604-elasticNetParam: 0.8,\n",
       "\tlogreg_17a7a3a16604-r...\n"
      ]
     },
     "metadata": {},
     "output_type": "display_data"
    },
    {
     "data": {
      "text/plain": [
       "[{\n",
       "\tlogreg_17a7a3a16604-elasticNetParam: 0.2,\n",
       "\tlogreg_17a7a3a16604-regParam: 0.01\n",
       "}, {\n",
       "\tlogreg_17a7a3a16604-elasticNetParam: 0.4,\n",
       "\tlogreg_17a7a3a16604-regParam: 0.01\n",
       "}, {\n",
       "\tlogreg_17a7a3a16604-elasticNetParam: 0.6,\n",
       "\tlogreg_17a7a3a16604-regParam: 0.01\n",
       "}, {\n",
       "\tlogreg_17a7a3a16604-elasticNetParam: 0.8,\n",
       "\tlogreg_17a7a3a16604-regParam: 0.01\n",
       "}, {\n",
       "\tlogreg_17a7a3a16604-elasticNetParam: 1.0,\n",
       "\tlogreg_17a7a3a16604-regParam: 0.01\n",
       "}, {\n",
       "\tlogreg_17a7a3a16604-elasticNetParam: 0.2,\n",
       "\tlogreg_17a7a3a16604-regParam: 0.1\n",
       "}, {\n",
       "\tlogreg_17a7a3a16604-elasticNetParam: 0.4,\n",
       "\tlogreg_17a7a3a16604-regParam: 0.1\n",
       "}, {\n",
       "\tlogreg_17a7a3a16604-elasticNetParam: 0.6,\n",
       "\tlogreg_17a7a3a16604-regParam: 0.1\n",
       "}, {\n",
       "\tlogreg_17a7a3a16604-elasticNetParam: 0.8,\n",
       "\tlogreg_17a7a3a16604-regParam: 0.1\n",
       "}, {\n",
       "\tlogreg_17a7a3a16604-elasticNetParam: 1.0,\n",
       "\tlogreg_17a7a3a16604-regParam: 0.1\n",
       "}, {\n",
       "\tlogreg_17a7a3a16604-elasticNetParam: 0.2,\n",
       "\tlogreg_17a7a3a16604-regParam: 1.0\n",
       "}, {\n",
       "\tlogreg_17a7a3a16604-elasticNetParam: 0.4,\n",
       "\tlogreg_17a7a3a16604-regParam: 1.0\n",
       "}, {\n",
       "\tlogreg_17a7a3a16604-elasticNetParam: 0.6,\n",
       "\tlogreg_17a7a3a16604-regParam: 1.0\n",
       "}, {\n",
       "\tlogreg_17a7a3a16604-elasticNetParam: 0.8,\n",
       "\tlogreg_17a7a3a16604-regParam: 1.0\n",
       "}, {\n",
       "\tlogreg_17a7a3a16604-elasticNetParam: 1.0,\n",
       "\tlogreg_17a7a3a16604-regParam: 1.0\n",
       "}, {\n",
       "\tlogreg_17a7a3a16604-elasticNetParam: 0.2,\n",
       "\tlogreg_17a7a3a16604-regParam: 10.0\n",
       "}, {\n",
       "\tlogreg_17a7a3a16604-elasticNetParam: 0.4,\n",
       "\tlogreg_17a7a3a16604-regParam: 10.0\n",
       "}, {\n",
       "\tlogreg_17a7a3a16604-elasticNetParam: 0.6,\n",
       "\tlogreg_17a7a3a16604-regParam: 10.0\n",
       "}, {\n",
       "\tlogreg_17a7a3a16604-elasticNetParam: 0.8,\n",
       "\tlogreg_17a7a3a16604-regParam: 10.0\n",
       "}, {\n",
       "\tlogreg_17a7a3a16604-elasticNetParam: 1.0,\n",
       "\tlogreg_17a7a3a16604-regParam: 10.0\n",
       "}, {\n",
       "\tlogreg_17a7a3a16604-elasticNetParam: 0.2,\n",
       "\tlogreg_17a7a3a16604-regParam: 100.0\n",
       "}, {\n",
       "\tlogreg_17a7a3a16604-elasticNetParam: 0.4,\n",
       "\tlogreg_17a7a3a16604-regParam: 100.0\n",
       "}, {\n",
       "\tlogreg_17a7a3a16604-elasticNetParam: 0.6,\n",
       "\tlogreg_17a7a3a16604-regParam: 100.0\n",
       "}, {\n",
       "\tlogreg_17a7a3a16604-elasticNetParam: 0.8,\n",
       "\tlogreg_17a7a3a16604-regParam: 100.0\n",
       "}, {\n",
       "\tlogreg_17a7a3a16604-elasticNetParam: 1.0,\n",
       "\tlogreg_17a7a3a16604-regParam: 100.0\n",
       "}]"
      ]
     },
     "execution_count": 20,
     "metadata": {},
     "output_type": "execute_result"
    }
   ],
   "source": [
    "val paramGrid = new ParamGridBuilder().\n",
    "  addGrid(lr.regParam, Array(0.01, 0.1, 1, 10, 100)).\n",
    "  addGrid(lr.elasticNetParam, Array(0.2,0.4,0.6,0.8,1.0)).\n",
    "  build()"
   ]
  },
  {
   "cell_type": "code",
   "execution_count": 21,
   "metadata": {},
   "outputs": [
    {
     "data": {
      "text/plain": [
       "CV = cv_6c35447a1d4e\n"
      ]
     },
     "metadata": {},
     "output_type": "display_data"
    },
    {
     "data": {
      "text/plain": [
       "cv_6c35447a1d4e"
      ]
     },
     "execution_count": 21,
     "metadata": {},
     "output_type": "execute_result"
    }
   ],
   "source": [
    "val CV = new CrossValidator().\n",
    "  setEstimator(lr).\n",
    "  setEvaluator(evaluator).\n",
    "  setEstimatorParamMaps(paramGrid).\n",
    "  setNumFolds(5)"
   ]
  },
  {
   "cell_type": "code",
   "execution_count": 22,
   "metadata": {},
   "outputs": [
    {
     "data": {
      "text/plain": [
       "model = cv_6c35447a1d4e\n"
      ]
     },
     "metadata": {},
     "output_type": "display_data"
    },
    {
     "data": {
      "text/plain": [
       "cv_6c35447a1d4e"
      ]
     },
     "execution_count": 22,
     "metadata": {},
     "output_type": "execute_result"
    }
   ],
   "source": [
    "val model = CV.fit(trainingData_v)"
   ]
  },
  {
   "cell_type": "code",
   "execution_count": 23,
   "metadata": {},
   "outputs": [
    {
     "name": "stdout",
     "output_type": "stream",
     "text": [
      "SLF4J: Failed to load class \"org.slf4j.impl.StaticLoggerBinder\".\n",
      "SLF4J: Defaulting to no-operation (NOP) logger implementation\n",
      "SLF4J: See http://www.slf4j.org/codes.html#StaticLoggerBinder for further details.\n"
     ]
    }
   ],
   "source": [
    "model.write.overwrite.save(\"Model_Parameters\")"
   ]
  },
  {
   "cell_type": "markdown",
   "metadata": {},
   "source": [
    "Best Model : \"regParam\"=0.01,\"elasticNetParam\"=0.4"
   ]
  },
  {
   "cell_type": "markdown",
   "metadata": {},
   "source": [
    "## Make predictions using the best model"
   ]
  },
  {
   "cell_type": "code",
   "execution_count": 24,
   "metadata": {},
   "outputs": [
    {
     "name": "stdout",
     "output_type": "stream",
     "text": [
      "+--------------------+-----+--------------------+--------------------+----------+\n",
      "|            features|label|       rawPrediction|         probability|prediction|\n",
      "+--------------------+-----+--------------------+--------------------+----------+\n",
      "|(10826,[3,2100,31...|  0.0|[5.05390135226295...|[0.99365612460064...|       0.0|\n",
      "|(10826,[3,12,169,...|  0.0|[5.03891607876171...|[0.99356096077091...|       0.0|\n",
      "|(10826,[3,92,138,...|  0.0|[5.03891607876171...|[0.99356096077091...|       0.0|\n",
      "|(10826,[0,3,15,19...|  0.0|[4.98622297270566...|[0.99321493334980...|       0.0|\n",
      "|(10826,[14,180,20...|  0.0|[5.02393080526047...|[0.99346437878770...|       0.0|\n",
      "+--------------------+-----+--------------------+--------------------+----------+\n",
      "only showing top 5 rows\n",
      "\n"
     ]
    },
    {
     "data": {
      "text/plain": [
       "predictions = [features: vector, label: double ... 3 more fields]\n"
      ]
     },
     "metadata": {},
     "output_type": "display_data"
    },
    {
     "data": {
      "text/plain": [
       "[features: vector, label: double ... 3 more fields]"
      ]
     },
     "execution_count": 24,
     "metadata": {},
     "output_type": "execute_result"
    }
   ],
   "source": [
    "val predictions = model.transform(testData_v)\n",
    "predictions.show(5)"
   ]
  },
  {
   "cell_type": "code",
   "execution_count": 25,
   "metadata": {},
   "outputs": [
    {
     "name": "stdout",
     "output_type": "stream",
     "text": [
      "[Stage 3677:===============================================>    (183 + 4) / 199]+----------------+----+---+\n",
      "|label_prediction| 0.0|1.0|\n",
      "+----------------+----+---+\n",
      "|             0.0|1419|  2|\n",
      "|             1.0|  53|178|\n",
      "+----------------+----+---+\n",
      "\n"
     ]
    }
   ],
   "source": [
    "predictions.stat.crosstab(\"label\", \"prediction\").sort(\"label_prediction\").show()"
   ]
  },
  {
   "cell_type": "markdown",
   "metadata": {},
   "source": [
    "## Evaluate the model"
   ]
  },
  {
   "cell_type": "code",
   "execution_count": 26,
   "metadata": {},
   "outputs": [
    {
     "data": {
      "text/plain": [
       "f1 = 0.9649348560020584\n"
      ]
     },
     "metadata": {},
     "output_type": "display_data"
    },
    {
     "data": {
      "text/plain": [
       "0.9649348560020584"
      ]
     },
     "execution_count": 26,
     "metadata": {},
     "output_type": "execute_result"
    }
   ],
   "source": [
    "val f1 = evaluator.evaluate(predictions)"
   ]
  }
 ],
 "metadata": {
  "kernelspec": {
   "display_name": "Apache Toree - Scala",
   "language": "scala",
   "name": "apache_toree_scala"
  },
  "language_info": {
   "codemirror_mode": "text/x-scala",
   "file_extension": ".scala",
   "mimetype": "text/x-scala",
   "name": "scala",
   "pygments_lexer": "scala",
   "version": "2.11.8"
  }
 },
 "nbformat": 4,
 "nbformat_minor": 2
}
