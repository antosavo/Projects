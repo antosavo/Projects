{
 "cells": [
  {
   "cell_type": "code",
   "execution_count": 1,
   "metadata": {
    "collapsed": true
   },
   "outputs": [],
   "source": [
    "import org.apache.spark.sql.functions._\n",
    "import org.apache.spark.ml.classification.LogisticRegression\n",
    "import org.apache.spark.ml.linalg.Vectors\n",
    "import org.apache.spark.ml.linalg.DenseVector\n",
    "import org.apache.spark.ml.feature.VectorAssembler\n",
    "import org.apache.spark.ml.feature.{MinMaxScaler,StandardScaler}\n",
    "import org.apache.spark.ml.tuning.{CrossValidator, ParamGridBuilder}\n",
    "import org.apache.spark.ml.evaluation.MulticlassClassificationEvaluator"
   ]
  },
  {
   "cell_type": "markdown",
   "metadata": {},
   "source": [
    "## Load the dataset"
   ]
  },
  {
   "cell_type": "code",
   "execution_count": 2,
   "metadata": {},
   "outputs": [
    {
     "data": {
      "text/plain": [
       "df = [clump_thickness: int, size_uniformity: int ... 8 more fields]\n"
      ]
     },
     "metadata": {},
     "output_type": "display_data"
    },
    {
     "data": {
      "text/plain": [
       "[clump_thickness: int, size_uniformity: int ... 8 more fields]"
      ]
     },
     "execution_count": 2,
     "metadata": {},
     "output_type": "execute_result"
    }
   ],
   "source": [
    "val df = spark.read.\n",
    "  format(\"csv\").\n",
    "  option(\"header\", \"true\").\n",
    "  option(\"inferschema\", \"true\").\n",
    "  option(\"delimiter\",\",\").\n",
    "  load(\"../Datasets/Breast_cancer_wisconsin.csv\")"
   ]
  },
  {
   "cell_type": "code",
   "execution_count": 3,
   "metadata": {},
   "outputs": [
    {
     "name": "stdout",
     "output_type": "stream",
     "text": [
      "root\n",
      " |-- clump_thickness: integer (nullable = true)\n",
      " |-- size_uniformity: integer (nullable = true)\n",
      " |-- shape_uniformity: integer (nullable = true)\n",
      " |-- marginal_adhesion: integer (nullable = true)\n",
      " |-- epithelial_size: integer (nullable = true)\n",
      " |-- bare_nucleoli: string (nullable = true)\n",
      " |-- bland_chromatin: integer (nullable = true)\n",
      " |-- normal_nucleoli: integer (nullable = true)\n",
      " |-- mitoses: integer (nullable = true)\n",
      " |-- class: integer (nullable = true)\n",
      "\n"
     ]
    }
   ],
   "source": [
    "df.printSchema"
   ]
  },
  {
   "cell_type": "markdown",
   "metadata": {},
   "source": [
    "## Cast columns to double"
   ]
  },
  {
   "cell_type": "code",
   "execution_count": 4,
   "metadata": {},
   "outputs": [
    {
     "data": {
      "text/plain": [
       "Columns_cast = Array(CAST(clump_thickness AS DOUBLE), CAST(size_uniformity AS DOUBLE), CAST(shape_uniformity AS DOUBLE), CAST(marginal_adhesion AS DOUBLE), CAST(epithelial_size AS DOUBLE), CAST(bare_nucleoli AS DOUBLE), CAST(bland_chromatin AS DOUBLE), CAST(normal_nucleoli AS DOUBLE), CAST(mitoses AS DOUBLE), CAST(class AS DOUBLE))\n",
       "df_d = [clump_thickness: double, size_uniformity: double ... 8 more fields]\n"
      ]
     },
     "metadata": {},
     "output_type": "display_data"
    },
    {
     "data": {
      "text/plain": [
       "[clump_thickness: double, size_uniformity: double ... 8 more fields]"
      ]
     },
     "execution_count": 4,
     "metadata": {},
     "output_type": "execute_result"
    }
   ],
   "source": [
    "val Columns_cast = df.columns.map(name => df(name).cast(\"double\"))\n",
    "val df_d = df.select(Columns_cast : _*)"
   ]
  },
  {
   "cell_type": "code",
   "execution_count": 5,
   "metadata": {},
   "outputs": [
    {
     "name": "stdout",
     "output_type": "stream",
     "text": [
      "root\n",
      " |-- clump_thickness: double (nullable = true)\n",
      " |-- size_uniformity: double (nullable = true)\n",
      " |-- shape_uniformity: double (nullable = true)\n",
      " |-- marginal_adhesion: double (nullable = true)\n",
      " |-- epithelial_size: double (nullable = true)\n",
      " |-- bare_nucleoli: double (nullable = true)\n",
      " |-- bland_chromatin: double (nullable = true)\n",
      " |-- normal_nucleoli: double (nullable = true)\n",
      " |-- mitoses: double (nullable = true)\n",
      " |-- class: double (nullable = true)\n",
      "\n"
     ]
    }
   ],
   "source": [
    "df_d.printSchema"
   ]
  },
  {
   "cell_type": "markdown",
   "metadata": {},
   "source": [
    "## Replace NaNs with the mean"
   ]
  },
  {
   "cell_type": "code",
   "execution_count": 6,
   "metadata": {},
   "outputs": [
    {
     "data": {
      "text/plain": [
       "M = Array(3.5446559297218156)\n"
      ]
     },
     "metadata": {},
     "output_type": "display_data"
    },
    {
     "data": {
      "text/plain": [
       "[3.5446559297218156]"
      ]
     },
     "execution_count": 6,
     "metadata": {},
     "output_type": "execute_result"
    }
   ],
   "source": [
    "val M = df_d.select(mean(\"bare_nucleoli\")).as[Double].collect\n",
    "M"
   ]
  },
  {
   "cell_type": "code",
   "execution_count": 7,
   "metadata": {},
   "outputs": [
    {
     "data": {
      "text/plain": [
       "df_m = [clump_thickness: double, size_uniformity: double ... 8 more fields]\n"
      ]
     },
     "metadata": {},
     "output_type": "display_data"
    },
    {
     "data": {
      "text/plain": [
       "[clump_thickness: double, size_uniformity: double ... 8 more fields]"
      ]
     },
     "execution_count": 7,
     "metadata": {},
     "output_type": "execute_result"
    }
   ],
   "source": [
    "val df_m = df_d.na.fill(M(0))"
   ]
  },
  {
   "cell_type": "code",
   "execution_count": 8,
   "metadata": {},
   "outputs": [
    {
     "name": "stdout",
     "output_type": "stream",
     "text": [
      "+---------------+---------------+----------------+-----------------+---------------+-------------+---------------+---------------+-------+-----+\n",
      "|clump_thickness|size_uniformity|shape_uniformity|marginal_adhesion|epithelial_size|bare_nucleoli|bland_chromatin|normal_nucleoli|mitoses|class|\n",
      "+---------------+---------------+----------------+-----------------+---------------+-------------+---------------+---------------+-------+-----+\n",
      "|            5.0|            1.0|             1.0|              1.0|            2.0|          1.0|            3.0|            1.0|    1.0|  0.0|\n",
      "|            5.0|            4.0|             4.0|              5.0|            7.0|         10.0|            3.0|            2.0|    1.0|  0.0|\n",
      "|            3.0|            1.0|             1.0|              1.0|            2.0|          2.0|            3.0|            1.0|    1.0|  0.0|\n",
      "|            6.0|            8.0|             8.0|              1.0|            3.0|          4.0|            3.0|            7.0|    1.0|  0.0|\n",
      "|            4.0|            1.0|             1.0|              3.0|            2.0|          1.0|            3.0|            1.0|    1.0|  0.0|\n",
      "+---------------+---------------+----------------+-----------------+---------------+-------------+---------------+---------------+-------+-----+\n",
      "only showing top 5 rows\n",
      "\n"
     ]
    }
   ],
   "source": [
    "df_m.show(5)"
   ]
  },
  {
   "cell_type": "markdown",
   "metadata": {
    "collapsed": true
   },
   "source": [
    "## Correlation"
   ]
  },
  {
   "cell_type": "code",
   "execution_count": 9,
   "metadata": {},
   "outputs": [
    {
     "name": "stdout",
     "output_type": "stream",
     "text": [
      "+-----------------+-------------------+\n",
      "|          colname|        correlation|\n",
      "+-----------------+-------------------+\n",
      "|  clump_thickness| 0.7160013621134151|\n",
      "|  size_uniformity| 0.8179037353075587|\n",
      "| shape_uniformity| 0.8189337394205247|\n",
      "|marginal_adhesion| 0.6968002062857461|\n",
      "|  epithelial_size| 0.6827845300938645|\n",
      "|    bare_nucleoli| 0.8160499264435984|\n",
      "|  bland_chromatin| 0.7566161463789044|\n",
      "|  normal_nucleoli| 0.7122436220251227|\n",
      "|          mitoses|0.42317025679524317|\n",
      "|            class|                1.0|\n",
      "+-----------------+-------------------+\n",
      "\n"
     ]
    },
    {
     "data": {
      "text/plain": [
       "L = List((clump_thickness,0.7160013621134151), (size_uniformity,0.8179037353075587), (shape_uniformity,0.8189337394205247), (marginal_adhesion,0.6968002062857461), (epithelial_size,0.6827845300938645), (bare_nucleoli,0.8160499264435984), (bland_chromatin,0.7566161463789044), (normal_nucleoli,0.7122436220251227), (mitoses,0.42317025679524317), (class,1.0))\n",
       "df_corr = [colname: string, correlation: double]\n"
      ]
     },
     "metadata": {},
     "output_type": "display_data"
    },
    {
     "data": {
      "text/plain": [
       "[colname: string, correlation: double]"
      ]
     },
     "execution_count": 9,
     "metadata": {},
     "output_type": "execute_result"
    }
   ],
   "source": [
    "var L = List.empty[(String,Double)]\n",
    "\n",
    "for(cn <- df_m.columns) L = L :+ (cn,df_m.stat.corr(\"class\", cn))\n",
    "\n",
    "val df_corr = L.toDF(\"colname\",\"correlation\")\n",
    "df_corr.show()"
   ]
  },
  {
   "cell_type": "code",
   "execution_count": 10,
   "metadata": {},
   "outputs": [
    {
     "name": "stdout",
     "output_type": "stream",
     "text": [
      "+-----------------+-------------------+\n",
      "|          colname|   abs(correlation)|\n",
      "+-----------------+-------------------+\n",
      "|            class|                1.0|\n",
      "| shape_uniformity| 0.8189337394205247|\n",
      "|  size_uniformity| 0.8179037353075587|\n",
      "|    bare_nucleoli| 0.8160499264435984|\n",
      "|  bland_chromatin| 0.7566161463789044|\n",
      "|  clump_thickness| 0.7160013621134151|\n",
      "|  normal_nucleoli| 0.7122436220251227|\n",
      "|marginal_adhesion| 0.6968002062857461|\n",
      "|  epithelial_size| 0.6827845300938645|\n",
      "|          mitoses|0.42317025679524317|\n",
      "+-----------------+-------------------+\n",
      "\n"
     ]
    }
   ],
   "source": [
    "df_corr.select(col(\"colname\"),abs(col(\"correlation\"))).sort(col(\"abs(correlation)\").desc).show()"
   ]
  },
  {
   "cell_type": "markdown",
   "metadata": {},
   "source": [
    "## Apply Vector Assembler"
   ]
  },
  {
   "cell_type": "code",
   "execution_count": 11,
   "metadata": {},
   "outputs": [
    {
     "data": {
      "text/plain": [
       "features = Array(clump_thickness, size_uniformity, shape_uniformity, marginal_adhesion, epithelial_size, bare_nucleoli, bland_chromatin, normal_nucleoli, mitoses)\n"
      ]
     },
     "metadata": {},
     "output_type": "display_data"
    },
    {
     "data": {
      "text/plain": [
       "[clump_thickness, size_uniformity, shape_uniformity, marginal_adhesion, epithelial_size, bare_nucleoli, bland_chromatin, normal_nucleoli, mitoses]"
      ]
     },
     "execution_count": 11,
     "metadata": {},
     "output_type": "execute_result"
    }
   ],
   "source": [
    "val features = df_m.columns.slice(0,df_m.columns.length -1)"
   ]
  },
  {
   "cell_type": "code",
   "execution_count": 12,
   "metadata": {},
   "outputs": [
    {
     "data": {
      "text/plain": [
       "assembler = vecAssembler_3afeaebfde2d\n"
      ]
     },
     "metadata": {},
     "output_type": "display_data"
    },
    {
     "data": {
      "text/plain": [
       "vecAssembler_3afeaebfde2d"
      ]
     },
     "execution_count": 12,
     "metadata": {},
     "output_type": "execute_result"
    }
   ],
   "source": [
    "val assembler = new VectorAssembler().\n",
    "  setInputCols(features).//setInputCols(Array(\"_c1\", \"_c2\")).\n",
    "  setOutputCol(\"features\")"
   ]
  },
  {
   "cell_type": "code",
   "execution_count": 13,
   "metadata": {},
   "outputs": [
    {
     "name": "stdout",
     "output_type": "stream",
     "text": [
      "+--------------------+-----+\n",
      "|            features|label|\n",
      "+--------------------+-----+\n",
      "|[5.0,1.0,1.0,1.0,...|  0.0|\n",
      "|[5.0,4.0,4.0,5.0,...|  0.0|\n",
      "|[3.0,1.0,1.0,1.0,...|  0.0|\n",
      "|[6.0,8.0,8.0,1.0,...|  0.0|\n",
      "|[4.0,1.0,1.0,3.0,...|  0.0|\n",
      "|[8.0,10.0,10.0,8....|  1.0|\n",
      "|[1.0,1.0,1.0,1.0,...|  0.0|\n",
      "|[2.0,1.0,2.0,1.0,...|  0.0|\n",
      "|[2.0,1.0,1.0,1.0,...|  0.0|\n",
      "|[4.0,2.0,1.0,1.0,...|  0.0|\n",
      "+--------------------+-----+\n",
      "only showing top 10 rows\n",
      "\n"
     ]
    },
    {
     "data": {
      "text/plain": [
       "df_v = [features: vector, label: double]\n"
      ]
     },
     "metadata": {},
     "output_type": "display_data"
    },
    {
     "data": {
      "text/plain": [
       "[features: vector, label: double]"
      ]
     },
     "execution_count": 13,
     "metadata": {},
     "output_type": "execute_result"
    }
   ],
   "source": [
    "val df_v = assembler.transform(df_m).\n",
    "    select(col(\"features\"), col(\"class\").as(\"label\"))\n",
    "\n",
    "df_v.show(10)"
   ]
  },
  {
   "cell_type": "markdown",
   "metadata": {},
   "source": [
    "## Split into train and test sets"
   ]
  },
  {
   "cell_type": "code",
   "execution_count": 14,
   "metadata": {},
   "outputs": [
    {
     "data": {
      "text/plain": [
       "trainingData = [features: vector, label: double]\n",
       "testData = [features: vector, label: double]\n"
      ]
     },
     "metadata": {},
     "output_type": "display_data"
    },
    {
     "data": {
      "text/plain": [
       "[features: vector, label: double]"
      ]
     },
     "execution_count": 14,
     "metadata": {},
     "output_type": "execute_result"
    }
   ],
   "source": [
    "val Array(trainingData, testData) = df_v.randomSplit(Array(0.7, 0.3))"
   ]
  },
  {
   "cell_type": "markdown",
   "metadata": {},
   "source": [
    "## Scale the features"
   ]
  },
  {
   "cell_type": "code",
   "execution_count": 15,
   "metadata": {},
   "outputs": [
    {
     "data": {
      "text/plain": [
       "scaler = minMaxScal_d1f76c25bfaf\n"
      ]
     },
     "metadata": {},
     "output_type": "display_data"
    },
    {
     "data": {
      "text/plain": [
       "minMaxScal_d1f76c25bfaf"
      ]
     },
     "execution_count": 15,
     "metadata": {},
     "output_type": "execute_result"
    }
   ],
   "source": [
    "val scaler = new MinMaxScaler().//StandardScaler().\n",
    "  setInputCol(\"features\").\n",
    "  setOutputCol(\"scaledFeatures\")"
   ]
  },
  {
   "cell_type": "code",
   "execution_count": 16,
   "metadata": {},
   "outputs": [
    {
     "data": {
      "text/plain": [
       "s = minMaxScal_d1f76c25bfaf\n"
      ]
     },
     "metadata": {},
     "output_type": "display_data"
    },
    {
     "data": {
      "text/plain": [
       "minMaxScal_d1f76c25bfaf"
      ]
     },
     "execution_count": 16,
     "metadata": {},
     "output_type": "execute_result"
    }
   ],
   "source": [
    "val s = scaler.fit(trainingData)"
   ]
  },
  {
   "cell_type": "code",
   "execution_count": 17,
   "metadata": {},
   "outputs": [
    {
     "data": {
      "text/plain": [
       "trainingData_s = [features: vector, label: double ... 1 more field]\n",
       "testData_s = [features: vector, label: double ... 1 more field]\n"
      ]
     },
     "metadata": {},
     "output_type": "display_data"
    },
    {
     "data": {
      "text/plain": [
       "[features: vector, label: double ... 1 more field]"
      ]
     },
     "execution_count": 17,
     "metadata": {},
     "output_type": "execute_result"
    }
   ],
   "source": [
    "val trainingData_s = s.transform(trainingData)\n",
    "val testData_s = s.transform(testData)"
   ]
  },
  {
   "cell_type": "markdown",
   "metadata": {},
   "source": [
    "## Hyperparameter optimization with cross-validation"
   ]
  },
  {
   "cell_type": "code",
   "execution_count": 18,
   "metadata": {},
   "outputs": [
    {
     "data": {
      "text/plain": [
       "lr = logreg_637799da399a\n"
      ]
     },
     "metadata": {},
     "output_type": "display_data"
    },
    {
     "data": {
      "text/plain": [
       "logreg_637799da399a"
      ]
     },
     "execution_count": 18,
     "metadata": {},
     "output_type": "execute_result"
    }
   ],
   "source": [
    "val lr = new LogisticRegression().\n",
    "  setMaxIter(100).\n",
    "  setFeaturesCol(\"scaledFeatures\")"
   ]
  },
  {
   "cell_type": "code",
   "execution_count": 19,
   "metadata": {},
   "outputs": [
    {
     "data": {
      "text/plain": [
       "evaluator = mcEval_5e4ac3fd7134\n"
      ]
     },
     "metadata": {},
     "output_type": "display_data"
    },
    {
     "data": {
      "text/plain": [
       "mcEval_5e4ac3fd7134"
      ]
     },
     "execution_count": 19,
     "metadata": {},
     "output_type": "execute_result"
    }
   ],
   "source": [
    "val evaluator = new MulticlassClassificationEvaluator().setMetricName(\"f1\")"
   ]
  },
  {
   "cell_type": "code",
   "execution_count": 20,
   "metadata": {},
   "outputs": [
    {
     "data": {
      "text/plain": [
       "paramGrid = \n"
      ]
     },
     "metadata": {},
     "output_type": "display_data"
    },
    {
     "data": {
      "text/plain": [
       "Array({\n",
       "\tlogreg_637799da399a-elasticNetParam: 0.2,\n",
       "\tlogreg_637799da399a-regParam: 0.01\n",
       "}, {\n",
       "\tlogreg_637799da399a-elasticNetParam: 0.4,\n",
       "\tlogreg_637799da399a-regParam: 0.01\n",
       "}, {\n",
       "\tlogreg_637799da399a-elasticNetParam: 0.6,\n",
       "\tlogreg_637799da399a-regParam: 0.01\n",
       "}, {\n",
       "\tlogreg_637799da399a-elasticNetParam: 0.8,\n",
       "\tlogreg_637799da399a-regParam: 0.01\n",
       "}, {\n",
       "\tlogreg_637799da399a-elasticNetParam: 1.0,\n",
       "\tlogreg_637799da399a-regParam: 0.01\n",
       "}, {\n",
       "\tlogreg_637799da399a-elasticNetParam: 0.2,\n",
       "\tlogreg_637799da399a-regParam: 0.1\n",
       "}, {\n",
       "\tlogreg_637799da399a-elasticNetParam: 0.4,\n",
       "\tlogreg_637799da399a-regParam: 0.1\n",
       "}, {\n",
       "\tlogreg_637799da399a-elasticNetParam: 0.6,\n",
       "\tlogreg_637799da399a-regParam: 0.1\n",
       "}, {\n",
       "\tlogreg_637799da399a-elasticNetParam: 0.8,\n",
       "\tlogreg_637799da399a-r...\n"
      ]
     },
     "metadata": {},
     "output_type": "display_data"
    },
    {
     "data": {
      "text/plain": [
       "[{\n",
       "\tlogreg_637799da399a-elasticNetParam: 0.2,\n",
       "\tlogreg_637799da399a-regParam: 0.01\n",
       "}, {\n",
       "\tlogreg_637799da399a-elasticNetParam: 0.4,\n",
       "\tlogreg_637799da399a-regParam: 0.01\n",
       "}, {\n",
       "\tlogreg_637799da399a-elasticNetParam: 0.6,\n",
       "\tlogreg_637799da399a-regParam: 0.01\n",
       "}, {\n",
       "\tlogreg_637799da399a-elasticNetParam: 0.8,\n",
       "\tlogreg_637799da399a-regParam: 0.01\n",
       "}, {\n",
       "\tlogreg_637799da399a-elasticNetParam: 1.0,\n",
       "\tlogreg_637799da399a-regParam: 0.01\n",
       "}, {\n",
       "\tlogreg_637799da399a-elasticNetParam: 0.2,\n",
       "\tlogreg_637799da399a-regParam: 0.1\n",
       "}, {\n",
       "\tlogreg_637799da399a-elasticNetParam: 0.4,\n",
       "\tlogreg_637799da399a-regParam: 0.1\n",
       "}, {\n",
       "\tlogreg_637799da399a-elasticNetParam: 0.6,\n",
       "\tlogreg_637799da399a-regParam: 0.1\n",
       "}, {\n",
       "\tlogreg_637799da399a-elasticNetParam: 0.8,\n",
       "\tlogreg_637799da399a-regParam: 0.1\n",
       "}, {\n",
       "\tlogreg_637799da399a-elasticNetParam: 1.0,\n",
       "\tlogreg_637799da399a-regParam: 0.1\n",
       "}, {\n",
       "\tlogreg_637799da399a-elasticNetParam: 0.2,\n",
       "\tlogreg_637799da399a-regParam: 1.0\n",
       "}, {\n",
       "\tlogreg_637799da399a-elasticNetParam: 0.4,\n",
       "\tlogreg_637799da399a-regParam: 1.0\n",
       "}, {\n",
       "\tlogreg_637799da399a-elasticNetParam: 0.6,\n",
       "\tlogreg_637799da399a-regParam: 1.0\n",
       "}, {\n",
       "\tlogreg_637799da399a-elasticNetParam: 0.8,\n",
       "\tlogreg_637799da399a-regParam: 1.0\n",
       "}, {\n",
       "\tlogreg_637799da399a-elasticNetParam: 1.0,\n",
       "\tlogreg_637799da399a-regParam: 1.0\n",
       "}, {\n",
       "\tlogreg_637799da399a-elasticNetParam: 0.2,\n",
       "\tlogreg_637799da399a-regParam: 10.0\n",
       "}, {\n",
       "\tlogreg_637799da399a-elasticNetParam: 0.4,\n",
       "\tlogreg_637799da399a-regParam: 10.0\n",
       "}, {\n",
       "\tlogreg_637799da399a-elasticNetParam: 0.6,\n",
       "\tlogreg_637799da399a-regParam: 10.0\n",
       "}, {\n",
       "\tlogreg_637799da399a-elasticNetParam: 0.8,\n",
       "\tlogreg_637799da399a-regParam: 10.0\n",
       "}, {\n",
       "\tlogreg_637799da399a-elasticNetParam: 1.0,\n",
       "\tlogreg_637799da399a-regParam: 10.0\n",
       "}, {\n",
       "\tlogreg_637799da399a-elasticNetParam: 0.2,\n",
       "\tlogreg_637799da399a-regParam: 100.0\n",
       "}, {\n",
       "\tlogreg_637799da399a-elasticNetParam: 0.4,\n",
       "\tlogreg_637799da399a-regParam: 100.0\n",
       "}, {\n",
       "\tlogreg_637799da399a-elasticNetParam: 0.6,\n",
       "\tlogreg_637799da399a-regParam: 100.0\n",
       "}, {\n",
       "\tlogreg_637799da399a-elasticNetParam: 0.8,\n",
       "\tlogreg_637799da399a-regParam: 100.0\n",
       "}, {\n",
       "\tlogreg_637799da399a-elasticNetParam: 1.0,\n",
       "\tlogreg_637799da399a-regParam: 100.0\n",
       "}]"
      ]
     },
     "execution_count": 20,
     "metadata": {},
     "output_type": "execute_result"
    }
   ],
   "source": [
    "val paramGrid = new ParamGridBuilder().\n",
    "  addGrid(lr.regParam, Array(0.01, 0.1, 1, 10, 100)).\n",
    "  addGrid(lr.elasticNetParam, Array(0.2,0.4,0.6,0.8,1.0)).\n",
    "  build()"
   ]
  },
  {
   "cell_type": "code",
   "execution_count": 21,
   "metadata": {},
   "outputs": [
    {
     "data": {
      "text/plain": [
       "cv = cv_9dcb2015a84a\n"
      ]
     },
     "metadata": {},
     "output_type": "display_data"
    },
    {
     "data": {
      "text/plain": [
       "cv_9dcb2015a84a"
      ]
     },
     "execution_count": 21,
     "metadata": {},
     "output_type": "execute_result"
    }
   ],
   "source": [
    "val cv = new CrossValidator().\n",
    "  setEstimator(lr).\n",
    "  setEvaluator(evaluator).\n",
    "  setEstimatorParamMaps(paramGrid).\n",
    "  setNumFolds(5) "
   ]
  },
  {
   "cell_type": "code",
   "execution_count": 22,
   "metadata": {},
   "outputs": [
    {
     "data": {
      "text/plain": [
       "model = cv_9dcb2015a84a\n"
      ]
     },
     "metadata": {},
     "output_type": "display_data"
    },
    {
     "data": {
      "text/plain": [
       "cv_9dcb2015a84a"
      ]
     },
     "execution_count": 22,
     "metadata": {},
     "output_type": "execute_result"
    }
   ],
   "source": [
    "val model = cv.fit(trainingData_s)"
   ]
  },
  {
   "cell_type": "code",
   "execution_count": 23,
   "metadata": {},
   "outputs": [
    {
     "name": "stdout",
     "output_type": "stream",
     "text": [
      "SLF4J: Failed to load class \"org.slf4j.impl.StaticLoggerBinder\".\n",
      "SLF4J: Defaulting to no-operation (NOP) logger implementation\n",
      "SLF4J: See http://www.slf4j.org/codes.html#StaticLoggerBinder for further details.\n"
     ]
    }
   ],
   "source": [
    "model.write.overwrite.save(\"Model_Parameters\")"
   ]
  },
  {
   "cell_type": "markdown",
   "metadata": {},
   "source": [
    "## Make predictions using the best model"
   ]
  },
  {
   "cell_type": "code",
   "execution_count": 24,
   "metadata": {},
   "outputs": [
    {
     "name": "stdout",
     "output_type": "stream",
     "text": [
      "+--------------------+-----+--------------------+--------------------+--------------------+----------+\n",
      "|            features|label|      scaledFeatures|       rawPrediction|         probability|prediction|\n",
      "+--------------------+-----+--------------------+--------------------+--------------------+----------+\n",
      "|[1.0,1.0,1.0,1.0,...|  0.0|[0.0,0.0,0.0,0.0,...|[5.81394196347643...|[0.99702324992632...|       0.0|\n",
      "|[1.0,1.0,1.0,1.0,...|  0.0|[0.0,0.0,0.0,0.0,...|[5.44108071430091...|[0.99568391329332...|       0.0|\n",
      "|[1.0,1.0,1.0,1.0,...|  0.0|[0.0,0.0,0.0,0.0,...|[5.40976479505232...|[0.99554722380988...|       0.0|\n",
      "|[1.0,1.0,1.0,1.0,...|  0.0|[0.0,0.0,0.0,0.0,...|[5.40976479505232...|[0.99554722380988...|       0.0|\n",
      "|[1.0,1.0,1.0,1.0,...|  0.0|[0.0,0.0,0.0,0.0,...|[5.00558762662821...|[0.99334419372733...|       0.0|\n",
      "|[1.0,1.0,1.0,1.0,...|  0.0|[0.0,0.0,0.0,0.0,...|[5.01862782955623...|[0.99342985680308...|       0.0|\n",
      "|[1.0,1.0,1.0,1.0,...|  0.0|[0.0,0.0,0.0,0.0,...|[4.61445066113212...|[0.99018957346724...|       0.0|\n",
      "|[1.0,1.0,1.0,1.0,...|  0.0|[0.0,0.0,0.0,0.0,...|[4.61445066113212...|[0.99018957346724...|       0.0|\n",
      "|[1.0,1.0,1.0,1.0,...|  0.0|[0.0,0.0,0.0,0.0,...|[5.75426958321852...|[0.99684079161057...|       0.0|\n",
      "|[1.0,1.0,1.0,1.0,...|  0.0|[0.0,0.0,0.0,0.0,...|[5.75426958321852...|[0.99684079161057...|       0.0|\n",
      "+--------------------+-----+--------------------+--------------------+--------------------+----------+\n",
      "only showing top 10 rows\n",
      "\n"
     ]
    },
    {
     "data": {
      "text/plain": [
       "predictions = [features: vector, label: double ... 4 more fields]\n"
      ]
     },
     "metadata": {},
     "output_type": "display_data"
    },
    {
     "data": {
      "text/plain": [
       "[features: vector, label: double ... 4 more fields]"
      ]
     },
     "execution_count": 24,
     "metadata": {},
     "output_type": "execute_result"
    }
   ],
   "source": [
    "val predictions = model.transform(testData_s)\n",
    "predictions.show(10)"
   ]
  },
  {
   "cell_type": "code",
   "execution_count": 25,
   "metadata": {},
   "outputs": [
    {
     "name": "stdout",
     "output_type": "stream",
     "text": [
      "+----------------+---+---+                                                      \n",
      "|label_prediction|0.0|1.0|\n",
      "+----------------+---+---+\n",
      "|             0.0|144|  4|\n",
      "|             1.0|  6| 77|\n",
      "+----------------+---+---+\n",
      "\n"
     ]
    }
   ],
   "source": [
    "predictions.stat.crosstab(\"label\", \"prediction\").sort(\"label_prediction\").show()"
   ]
  },
  {
   "cell_type": "markdown",
   "metadata": {},
   "source": [
    "## Evaluate the model"
   ]
  },
  {
   "cell_type": "code",
   "execution_count": 26,
   "metadata": {},
   "outputs": [
    {
     "data": {
      "text/plain": [
       "f1 = 0.9565912616330033\n"
      ]
     },
     "metadata": {},
     "output_type": "display_data"
    },
    {
     "data": {
      "text/plain": [
       "0.9565912616330033"
      ]
     },
     "execution_count": 26,
     "metadata": {},
     "output_type": "execute_result"
    }
   ],
   "source": [
    "val f1= evaluator.evaluate(predictions)"
   ]
  }
 ],
 "metadata": {
  "kernelspec": {
   "display_name": "Apache Toree - Scala",
   "language": "scala",
   "name": "apache_toree_scala"
  },
  "language_info": {
   "codemirror_mode": "text/x-scala",
   "file_extension": ".scala",
   "mimetype": "text/x-scala",
   "name": "scala",
   "pygments_lexer": "scala",
   "version": "2.11.8"
  }
 },
 "nbformat": 4,
 "nbformat_minor": 2
}
