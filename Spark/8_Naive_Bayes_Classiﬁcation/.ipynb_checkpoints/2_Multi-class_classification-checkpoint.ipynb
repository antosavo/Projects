{
 "cells": [
  {
   "cell_type": "code",
   "execution_count": 24,
   "metadata": {},
   "outputs": [
    {
     "data": {
      "text/plain": [
       "lastException: Throwable = null\n"
      ]
     },
     "metadata": {},
     "output_type": "display_data"
    }
   ],
   "source": [
    "import org.apache.spark.sql.functions._\n",
    "import org.apache.spark.ml.classification.NaiveBayes\n",
    "import org.apache.spark.ml.linalg.Vectors\n",
    "import org.apache.spark.ml.linalg.DenseVector\n",
    "import org.apache.spark.ml.feature.VectorAssembler\n",
    "import org.apache.spark.ml.feature.{MinMaxScaler,StandardScaler}\n",
    "import org.apache.spark.ml.evaluation.MulticlassClassificationEvaluator"
   ]
  },
  {
   "cell_type": "markdown",
   "metadata": {},
   "source": [
    "## Load the dataset"
   ]
  },
  {
   "cell_type": "code",
   "execution_count": 2,
   "metadata": {},
   "outputs": [
    {
     "data": {
      "text/plain": [
       "df = [fixed acidity: double, volatile acidity: double ... 10 more fields]\n"
      ]
     },
     "metadata": {},
     "output_type": "display_data"
    },
    {
     "data": {
      "text/plain": [
       "[fixed acidity: double, volatile acidity: double ... 10 more fields]"
      ]
     },
     "execution_count": 2,
     "metadata": {},
     "output_type": "execute_result"
    }
   ],
   "source": [
    "val df = spark.read.\n",
    "  format(\"csv\").\n",
    "  option(\"header\", \"true\").\n",
    "  option(\"inferschema\", \"true\").\n",
    "  option(\"delimiter\",\";\").\n",
    "  load(\"../Datasets/Winequality_red.csv\")"
   ]
  },
  {
   "cell_type": "markdown",
   "metadata": {},
   "source": [
    "## Explore the dataset"
   ]
  },
  {
   "cell_type": "code",
   "execution_count": 3,
   "metadata": {},
   "outputs": [
    {
     "name": "stdout",
     "output_type": "stream",
     "text": [
      "+-------------+----------------+-----------+--------------+---------+-------------------+--------------------+-------+----+---------+-------+-------+\n",
      "|fixed acidity|volatile acidity|citric acid|residual sugar|chlorides|free sulfur dioxide|total sulfur dioxide|density|  pH|sulphates|alcohol|quality|\n",
      "+-------------+----------------+-----------+--------------+---------+-------------------+--------------------+-------+----+---------+-------+-------+\n",
      "|          7.4|             0.7|        0.0|           1.9|    0.076|               11.0|                34.0| 0.9978|3.51|     0.56|    9.4|      5|\n",
      "|          7.8|            0.88|        0.0|           2.6|    0.098|               25.0|                67.0| 0.9968| 3.2|     0.68|    9.8|      5|\n",
      "|          7.8|            0.76|       0.04|           2.3|    0.092|               15.0|                54.0|  0.997|3.26|     0.65|    9.8|      5|\n",
      "|         11.2|            0.28|       0.56|           1.9|    0.075|               17.0|                60.0|  0.998|3.16|     0.58|    9.8|      6|\n",
      "|          7.4|             0.7|        0.0|           1.9|    0.076|               11.0|                34.0| 0.9978|3.51|     0.56|    9.4|      5|\n",
      "|          7.4|            0.66|        0.0|           1.8|    0.075|               13.0|                40.0| 0.9978|3.51|     0.56|    9.4|      5|\n",
      "|          7.9|             0.6|       0.06|           1.6|    0.069|               15.0|                59.0| 0.9964| 3.3|     0.46|    9.4|      5|\n",
      "|          7.3|            0.65|        0.0|           1.2|    0.065|               15.0|                21.0| 0.9946|3.39|     0.47|   10.0|      7|\n",
      "|          7.8|            0.58|       0.02|           2.0|    0.073|                9.0|                18.0| 0.9968|3.36|     0.57|    9.5|      7|\n",
      "|          7.5|             0.5|       0.36|           6.1|    0.071|               17.0|               102.0| 0.9978|3.35|      0.8|   10.5|      5|\n",
      "+-------------+----------------+-----------+--------------+---------+-------------------+--------------------+-------+----+---------+-------+-------+\n",
      "only showing top 10 rows\n",
      "\n"
     ]
    }
   ],
   "source": [
    "df.show(10)"
   ]
  },
  {
   "cell_type": "code",
   "execution_count": 4,
   "metadata": {},
   "outputs": [
    {
     "data": {
      "text/plain": [
       "[fixed acidity, volatile acidity, citric acid, residual sugar, chlorides, free sulfur dioxide, total sulfur dioxide, density, pH, sulphates, alcohol, quality]"
      ]
     },
     "execution_count": 4,
     "metadata": {},
     "output_type": "execute_result"
    }
   ],
   "source": [
    "df.columns"
   ]
  },
  {
   "cell_type": "code",
   "execution_count": 5,
   "metadata": {},
   "outputs": [
    {
     "data": {
      "text/plain": [
       "12"
      ]
     },
     "execution_count": 5,
     "metadata": {},
     "output_type": "execute_result"
    }
   ],
   "source": [
    "df.columns.length"
   ]
  },
  {
   "cell_type": "code",
   "execution_count": 6,
   "metadata": {},
   "outputs": [
    {
     "data": {
      "text/plain": [
       "1599"
      ]
     },
     "execution_count": 6,
     "metadata": {},
     "output_type": "execute_result"
    }
   ],
   "source": [
    "df.count"
   ]
  },
  {
   "cell_type": "code",
   "execution_count": 7,
   "metadata": {},
   "outputs": [
    {
     "name": "stdout",
     "output_type": "stream",
     "text": [
      "root\n",
      " |-- fixed acidity: double (nullable = true)\n",
      " |-- volatile acidity: double (nullable = true)\n",
      " |-- citric acid: double (nullable = true)\n",
      " |-- residual sugar: double (nullable = true)\n",
      " |-- chlorides: double (nullable = true)\n",
      " |-- free sulfur dioxide: double (nullable = true)\n",
      " |-- total sulfur dioxide: double (nullable = true)\n",
      " |-- density: double (nullable = true)\n",
      " |-- pH: double (nullable = true)\n",
      " |-- sulphates: double (nullable = true)\n",
      " |-- alcohol: double (nullable = true)\n",
      " |-- quality: integer (nullable = true)\n",
      "\n"
     ]
    }
   ],
   "source": [
    "df.printSchema"
   ]
  },
  {
   "cell_type": "code",
   "execution_count": 8,
   "metadata": {},
   "outputs": [
    {
     "name": "stdout",
     "output_type": "stream",
     "text": [
      "+-------+------------------+\n",
      "|summary|           quality|\n",
      "+-------+------------------+\n",
      "|  count|              1599|\n",
      "|   mean|5.6360225140712945|\n",
      "| stddev|0.8075694397347051|\n",
      "|    min|                 3|\n",
      "|    max|                 8|\n",
      "+-------+------------------+\n",
      "\n"
     ]
    }
   ],
   "source": [
    "df.select(\"quality\").describe().show()"
   ]
  },
  {
   "cell_type": "code",
   "execution_count": 9,
   "metadata": {},
   "outputs": [
    {
     "name": "stdout",
     "output_type": "stream",
     "text": [
      "+-------+                                                                       \n",
      "|quality|\n",
      "+-------+\n",
      "|      3|\n",
      "|      4|\n",
      "|      5|\n",
      "|      6|\n",
      "|      7|\n",
      "|      8|\n",
      "+-------+\n",
      "\n"
     ]
    }
   ],
   "source": [
    "df.select(\"quality\").distinct.sort(\"quality\").show()"
   ]
  },
  {
   "cell_type": "code",
   "execution_count": 10,
   "metadata": {},
   "outputs": [
    {
     "name": "stdout",
     "output_type": "stream",
     "text": [
      "+-------+-----+\n",
      "|quality|count|\n",
      "+-------+-----+\n",
      "|      3|   10|\n",
      "|      4|   53|\n",
      "|      5|  681|\n",
      "|      6|  638|\n",
      "|      7|  199|\n",
      "|      8|   18|\n",
      "+-------+-----+\n",
      "\n"
     ]
    }
   ],
   "source": [
    "df.groupBy(\"quality\").count.sort(\"quality\").show()"
   ]
  },
  {
   "cell_type": "markdown",
   "metadata": {},
   "source": [
    "## Correlation"
   ]
  },
  {
   "cell_type": "code",
   "execution_count": 11,
   "metadata": {},
   "outputs": [
    {
     "name": "stdout",
     "output_type": "stream",
     "text": [
      "+--------------------+--------------------+\n",
      "|             colname|         correlation|\n",
      "+--------------------+--------------------+\n",
      "|       fixed acidity| 0.12405164911322263|\n",
      "|    volatile acidity| -0.3905577802640061|\n",
      "|         citric acid| 0.22637251431804048|\n",
      "|      residual sugar|0.013731637340065798|\n",
      "|           chlorides|-0.12890655993005293|\n",
      "| free sulfur dioxide|-0.05065605724427597|\n",
      "|total sulfur dioxide|-0.18510028892653774|\n",
      "|             density|-0.17491922778336474|\n",
      "|                  pH| -0.0577313912053826|\n",
      "|           sulphates| 0.25139707906925995|\n",
      "|             alcohol|  0.4761663240011364|\n",
      "|             quality|                 1.0|\n",
      "+--------------------+--------------------+\n",
      "\n"
     ]
    },
    {
     "data": {
      "text/plain": [
       "L = List((fixed acidity,0.12405164911322263), (volatile acidity,-0.3905577802640061), (citric acid,0.22637251431804048), (residual sugar,0.013731637340065798), (chlorides,-0.12890655993005293), (free sulfur dioxide,-0.05065605724427597), (total sulfur dioxide,-0.18510028892653774), (density,-0.17491922778336474), (pH,-0.0577313912053826), (sulphates,0.25139707906925995), (alcohol,0.4761663240011364), (quality,1.0))\n",
       "df_corr = [colname: string, correlation: double]\n"
      ]
     },
     "metadata": {},
     "output_type": "display_data"
    },
    {
     "data": {
      "text/plain": [
       "[colname: string, correlation: double]"
      ]
     },
     "execution_count": 11,
     "metadata": {},
     "output_type": "execute_result"
    }
   ],
   "source": [
    "var L = List.empty[(String,Double)]\n",
    "\n",
    "for(cn <- df.columns) L = L :+ (cn,df.stat.corr(\"quality\", cn))\n",
    "\n",
    "val df_corr = L.toDF(\"colname\",\"correlation\")\n",
    "df_corr.show()"
   ]
  },
  {
   "cell_type": "code",
   "execution_count": 12,
   "metadata": {},
   "outputs": [
    {
     "name": "stdout",
     "output_type": "stream",
     "text": [
      "+--------------------+--------------------+\n",
      "|             colname|    abs(correlation)|\n",
      "+--------------------+--------------------+\n",
      "|             quality|                 1.0|\n",
      "|             alcohol|  0.4761663240011364|\n",
      "|    volatile acidity|  0.3905577802640061|\n",
      "|           sulphates| 0.25139707906925995|\n",
      "|         citric acid| 0.22637251431804048|\n",
      "|total sulfur dioxide| 0.18510028892653774|\n",
      "|             density| 0.17491922778336474|\n",
      "|           chlorides| 0.12890655993005293|\n",
      "|       fixed acidity| 0.12405164911322263|\n",
      "|                  pH|  0.0577313912053826|\n",
      "| free sulfur dioxide| 0.05065605724427597|\n",
      "|      residual sugar|0.013731637340065798|\n",
      "+--------------------+--------------------+\n",
      "\n"
     ]
    }
   ],
   "source": [
    "df_corr.\n",
    "    select(col(\"colname\"),abs(col(\"correlation\"))).\n",
    "    sort(col(\"abs(correlation)\").desc).\n",
    "    show()"
   ]
  },
  {
   "cell_type": "markdown",
   "metadata": {},
   "source": [
    "## Apply Vector Assembler"
   ]
  },
  {
   "cell_type": "code",
   "execution_count": 13,
   "metadata": {},
   "outputs": [
    {
     "data": {
      "text/plain": [
       "features = Array(fixed acidity, volatile acidity, citric acid, residual sugar, chlorides, free sulfur dioxide, total sulfur dioxide, density, pH, sulphates, alcohol)\n"
      ]
     },
     "metadata": {},
     "output_type": "display_data"
    },
    {
     "data": {
      "text/plain": [
       "[fixed acidity, volatile acidity, citric acid, residual sugar, chlorides, free sulfur dioxide, total sulfur dioxide, density, pH, sulphates, alcohol]"
      ]
     },
     "execution_count": 13,
     "metadata": {},
     "output_type": "execute_result"
    }
   ],
   "source": [
    "val features = df.columns.slice(0,df.columns.length -1)"
   ]
  },
  {
   "cell_type": "code",
   "execution_count": 14,
   "metadata": {},
   "outputs": [
    {
     "data": {
      "text/plain": [
       "assembler = vecAssembler_2e2f9c69b92d\n"
      ]
     },
     "metadata": {},
     "output_type": "display_data"
    },
    {
     "data": {
      "text/plain": [
       "vecAssembler_2e2f9c69b92d"
      ]
     },
     "execution_count": 14,
     "metadata": {},
     "output_type": "execute_result"
    }
   ],
   "source": [
    "val assembler = new VectorAssembler().\n",
    "  setInputCols(features).//setInputCols(Array(\"_c1\", \"_c2\")).\n",
    "  setOutputCol(\"features\")"
   ]
  },
  {
   "cell_type": "code",
   "execution_count": 15,
   "metadata": {},
   "outputs": [
    {
     "name": "stdout",
     "output_type": "stream",
     "text": [
      "+--------------------+-----+\n",
      "|            features|label|\n",
      "+--------------------+-----+\n",
      "|[7.4,0.7,0.0,1.9,...|  5.0|\n",
      "|[7.8,0.88,0.0,2.6...|  5.0|\n",
      "|[7.8,0.76,0.04,2....|  5.0|\n",
      "|[11.2,0.28,0.56,1...|  6.0|\n",
      "|[7.4,0.7,0.0,1.9,...|  5.0|\n",
      "|[7.4,0.66,0.0,1.8...|  5.0|\n",
      "|[7.9,0.6,0.06,1.6...|  5.0|\n",
      "|[7.3,0.65,0.0,1.2...|  7.0|\n",
      "|[7.8,0.58,0.02,2....|  7.0|\n",
      "|[7.5,0.5,0.36,6.1...|  5.0|\n",
      "+--------------------+-----+\n",
      "only showing top 10 rows\n",
      "\n"
     ]
    },
    {
     "data": {
      "text/plain": [
       "df_v = [features: vector, label: double]\n"
      ]
     },
     "metadata": {},
     "output_type": "display_data"
    },
    {
     "data": {
      "text/plain": [
       "[features: vector, label: double]"
      ]
     },
     "execution_count": 15,
     "metadata": {},
     "output_type": "execute_result"
    }
   ],
   "source": [
    "val df_v = assembler.transform(df).\n",
    "    select(col(\"features\"), col(\"quality\").cast(\"double\").as(\"label\"))\n",
    "\n",
    "df_v.show(10)"
   ]
  },
  {
   "cell_type": "markdown",
   "metadata": {},
   "source": [
    "## Split into train and test sets"
   ]
  },
  {
   "cell_type": "code",
   "execution_count": 16,
   "metadata": {},
   "outputs": [
    {
     "data": {
      "text/plain": [
       "trainingData = [features: vector, label: double]\n",
       "testData = [features: vector, label: double]\n"
      ]
     },
     "metadata": {},
     "output_type": "display_data"
    },
    {
     "data": {
      "text/plain": [
       "[features: vector, label: double]"
      ]
     },
     "execution_count": 16,
     "metadata": {},
     "output_type": "execute_result"
    }
   ],
   "source": [
    "val Array(trainingData, testData) = df_v.randomSplit(Array(0.7, 0.3))"
   ]
  },
  {
   "cell_type": "markdown",
   "metadata": {},
   "source": [
    "## Scale the features"
   ]
  },
  {
   "cell_type": "code",
   "execution_count": 17,
   "metadata": {},
   "outputs": [
    {
     "data": {
      "text/plain": [
       "scaler = stdScal_d4c7de9d4b91\n"
      ]
     },
     "metadata": {},
     "output_type": "display_data"
    },
    {
     "data": {
      "text/plain": [
       "stdScal_d4c7de9d4b91"
      ]
     },
     "execution_count": 17,
     "metadata": {},
     "output_type": "execute_result"
    }
   ],
   "source": [
    "val scaler = new StandardScaler().//MinMaxScaler().\n",
    "  setInputCol(\"features\").\n",
    "  setOutputCol(\"scaledFeatures\")"
   ]
  },
  {
   "cell_type": "code",
   "execution_count": 18,
   "metadata": {},
   "outputs": [
    {
     "data": {
      "text/plain": [
       "s = stdScal_d4c7de9d4b91\n"
      ]
     },
     "metadata": {},
     "output_type": "display_data"
    },
    {
     "data": {
      "text/plain": [
       "stdScal_d4c7de9d4b91"
      ]
     },
     "execution_count": 18,
     "metadata": {},
     "output_type": "execute_result"
    }
   ],
   "source": [
    "val s = scaler.fit(trainingData)"
   ]
  },
  {
   "cell_type": "code",
   "execution_count": 19,
   "metadata": {},
   "outputs": [
    {
     "data": {
      "text/plain": [
       "trainingData_s = [features: vector, label: double ... 1 more field]\n",
       "testData_s = [features: vector, label: double ... 1 more field]\n"
      ]
     },
     "metadata": {},
     "output_type": "display_data"
    },
    {
     "data": {
      "text/plain": [
       "[features: vector, label: double ... 1 more field]"
      ]
     },
     "execution_count": 19,
     "metadata": {},
     "output_type": "execute_result"
    }
   ],
   "source": [
    "val trainingData_s = s.transform(trainingData)\n",
    "val testData_s = s.transform(testData)"
   ]
  },
  {
   "cell_type": "markdown",
   "metadata": {},
   "source": [
    "## Train the model"
   ]
  },
  {
   "cell_type": "code",
   "execution_count": 20,
   "metadata": {},
   "outputs": [
    {
     "data": {
      "text/plain": [
       "nb = nb_662fda7e1c46\n"
      ]
     },
     "metadata": {},
     "output_type": "display_data"
    },
    {
     "data": {
      "text/plain": [
       "nb_662fda7e1c46"
      ]
     },
     "execution_count": 20,
     "metadata": {},
     "output_type": "execute_result"
    }
   ],
   "source": [
    "val nb = new NaiveBayes().\n",
    "    setFeaturesCol(\"scaledFeatures\")\n",
    "    //setModelType(\"bernoulli\")//Supported options: \"multinomial\" and \"bernoulli\". Default is \"multinomial\""
   ]
  },
  {
   "cell_type": "code",
   "execution_count": 26,
   "metadata": {},
   "outputs": [
    {
     "data": {
      "text/plain": [
       "model = NaiveBayesModel (uid=nb_662fda7e1c46) with 6 classes\n"
      ]
     },
     "metadata": {},
     "output_type": "display_data"
    },
    {
     "data": {
      "text/plain": [
       "lastException: Throwable = null\n"
      ]
     },
     "metadata": {},
     "output_type": "display_data"
    },
    {
     "data": {
      "text/plain": [
       "NaiveBayesModel (uid=nb_662fda7e1c46) with 6 classes"
      ]
     },
     "execution_count": 26,
     "metadata": {},
     "output_type": "execute_result"
    }
   ],
   "source": [
    "val model = nb.fit(trainingData_s)"
   ]
  },
  {
   "cell_type": "markdown",
   "metadata": {},
   "source": [
    "## Make predictions"
   ]
  },
  {
   "cell_type": "code",
   "execution_count": 27,
   "metadata": {},
   "outputs": [
    {
     "name": "stdout",
     "output_type": "stream",
     "text": [
      "+--------------------+-----+--------------------+--------------------+--------------------+----------+\n",
      "|            features|label|      scaledFeatures|       rawPrediction|         probability|prediction|\n",
      "+--------------------+-----+--------------------+--------------------+--------------------+----------+\n",
      "|[4.7,0.6,0.17,2.3...|  6.0|[2.71381398986969...|[-285.72606892756...|[0.00196126086374...|       2.0|\n",
      "|[5.1,0.42,0.0,1.8...|  7.0|[2.94477688262456...|[-272.76430929131...|[0.00147485915066...|       2.0|\n",
      "|[5.2,0.34,0.0,1.8...|  6.0|[3.00251760581327...|[-275.24939464936...|[0.00131457389691...|       3.0|\n",
      "|[5.2,0.48,0.04,1....|  7.0|[3.00251760581327...|[-268.86130393288...|[0.00142202304493...|       2.0|\n",
      "|[5.2,0.645,0.0,2....|  6.0|[3.00251760581327...|[-265.33217028752...|[0.00970683400433...|       2.0|\n",
      "|[5.3,0.47,0.11,2....|  7.0|[3.06025832900199...|[-280.67213946002...|[0.00131376999555...|       2.0|\n",
      "|[5.3,0.47,0.11,2....|  7.0|[3.06025832900199...|[-280.80061449914...|[0.00131327377839...|       2.0|\n",
      "|[5.3,0.715,0.19,1...|  5.0|[3.06025832900199...|[-273.07962654174...|[0.00969222369739...|       2.0|\n",
      "|[5.4,0.74,0.0,1.2...|  6.0|[3.11799905219071...|[-268.68850128707...|[0.00780755484519...|       2.0|\n",
      "|[5.4,0.74,0.09,1....|  6.0|[3.11799905219071...|[-263.53236868505...|[0.01150527765801...|       2.0|\n",
      "+--------------------+-----+--------------------+--------------------+--------------------+----------+\n",
      "only showing top 10 rows\n",
      "\n"
     ]
    },
    {
     "data": {
      "text/plain": [
       "predictions = [features: vector, label: double ... 4 more fields]\n"
      ]
     },
     "metadata": {},
     "output_type": "display_data"
    },
    {
     "data": {
      "text/plain": [
       "[features: vector, label: double ... 4 more fields]"
      ]
     },
     "execution_count": 27,
     "metadata": {},
     "output_type": "execute_result"
    }
   ],
   "source": [
    "val predictions = model.transform(testData_s)\n",
    "predictions.show(10)"
   ]
  },
  {
   "cell_type": "code",
   "execution_count": 28,
   "metadata": {},
   "outputs": [
    {
     "name": "stdout",
     "output_type": "stream",
     "text": [
      "+----------------+---+---+\n",
      "|label_prediction|2.0|3.0|\n",
      "+----------------+---+---+\n",
      "|             3.0|  1|  1|\n",
      "|             4.0| 10|  7|\n",
      "|             5.0|141| 57|\n",
      "|             6.0| 80|108|\n",
      "|             7.0| 12| 52|\n",
      "|             8.0|  0|  5|\n",
      "+----------------+---+---+\n",
      "\n"
     ]
    }
   ],
   "source": [
    "predictions.stat.crosstab(\"label\", \"prediction\").sort(\"label_prediction\").show()"
   ]
  },
  {
   "cell_type": "markdown",
   "metadata": {},
   "source": [
    "## Evaluate the model"
   ]
  },
  {
   "cell_type": "code",
   "execution_count": 29,
   "metadata": {},
   "outputs": [
    {
     "data": {
      "text/plain": [
       "evaluator = mcEval_6a344a4fac5c\n"
      ]
     },
     "metadata": {},
     "output_type": "display_data"
    },
    {
     "data": {
      "text/plain": [
       "mcEval_6a344a4fac5c"
      ]
     },
     "execution_count": 29,
     "metadata": {},
     "output_type": "execute_result"
    }
   ],
   "source": [
    "val evaluator = new MulticlassClassificationEvaluator().\n",
    "    setLabelCol(\"label\").\n",
    "    setPredictionCol(\"prediction\").\n",
    "    setMetricName(\"accuracy\")"
   ]
  },
  {
   "cell_type": "code",
   "execution_count": 30,
   "metadata": {},
   "outputs": [
    {
     "data": {
      "text/plain": [
       "accuracy = 0.002109704641350211\n"
      ]
     },
     "metadata": {},
     "output_type": "display_data"
    },
    {
     "data": {
      "text/plain": [
       "0.002109704641350211"
      ]
     },
     "execution_count": 30,
     "metadata": {},
     "output_type": "execute_result"
    }
   ],
   "source": [
    "val accuracy = evaluator.evaluate(predictions)"
   ]
  }
 ],
 "metadata": {
  "kernelspec": {
   "display_name": "Apache Toree - Scala",
   "language": "scala",
   "name": "apache_toree_scala"
  },
  "language_info": {
   "codemirror_mode": "text/x-scala",
   "file_extension": ".scala",
   "mimetype": "text/x-scala",
   "name": "scala",
   "pygments_lexer": "scala",
   "version": "2.11.8"
  }
 },
 "nbformat": 4,
 "nbformat_minor": 2
}
