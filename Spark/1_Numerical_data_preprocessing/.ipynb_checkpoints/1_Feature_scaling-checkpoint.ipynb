{
 "cells": [
  {
   "cell_type": "markdown",
   "metadata": {},
   "source": [
    "# Feature scaling\n",
    "\n",
    "The majority of machine learning and optimization algorithms behave much better if features are on the same scale. Using standardization, we center the feature columns at mean 0 with standard deviation 1. Normalization refers to the rescaling of the features to a range of [0, 1]."
   ]
  },
  {
   "cell_type": "code",
   "execution_count": 1,
   "metadata": {
    "collapsed": true
   },
   "outputs": [],
   "source": [
    "import org.apache.spark.sql.functions._\n",
    "import org.apache.spark.ml.feature.VectorAssembler\n",
    "import org.apache.spark.ml.feature.StandardScaler\n",
    "//import org.apache.spark.ml.feature.MinMaxScaler"
   ]
  },
  {
   "cell_type": "markdown",
   "metadata": {},
   "source": [
    "## Load the dataset"
   ]
  },
  {
   "cell_type": "code",
   "execution_count": 2,
   "metadata": {},
   "outputs": [
    {
     "data": {
      "text/plain": [
       "df = [fixed acidity: double, volatile acidity: double ... 10 more fields]\n"
      ]
     },
     "metadata": {},
     "output_type": "display_data"
    },
    {
     "data": {
      "text/plain": [
       "[fixed acidity: double, volatile acidity: double ... 10 more fields]"
      ]
     },
     "execution_count": 2,
     "metadata": {},
     "output_type": "execute_result"
    }
   ],
   "source": [
    "val df = spark.read.\n",
    "    format(\"csv\").\n",
    "    option(\"header\", \"true\").\n",
    "    option(\"inferschema\", \"true\").\n",
    "    option(\"delimiter\",\";\").\n",
    "    load(\"../Datasets/Winequality_red.csv\")"
   ]
  },
  {
   "cell_type": "markdown",
   "metadata": {},
   "source": [
    "## Explore the dataset"
   ]
  },
  {
   "cell_type": "code",
   "execution_count": 3,
   "metadata": {},
   "outputs": [
    {
     "name": "stdout",
     "output_type": "stream",
     "text": [
      "+-------------+----------------+-----------+--------------+---------+-------------------+--------------------+-------+----+---------+-------+-------+\n",
      "|fixed acidity|volatile acidity|citric acid|residual sugar|chlorides|free sulfur dioxide|total sulfur dioxide|density|  pH|sulphates|alcohol|quality|\n",
      "+-------------+----------------+-----------+--------------+---------+-------------------+--------------------+-------+----+---------+-------+-------+\n",
      "|          7.4|             0.7|        0.0|           1.9|    0.076|               11.0|                34.0| 0.9978|3.51|     0.56|    9.4|      5|\n",
      "|          7.8|            0.88|        0.0|           2.6|    0.098|               25.0|                67.0| 0.9968| 3.2|     0.68|    9.8|      5|\n",
      "|          7.8|            0.76|       0.04|           2.3|    0.092|               15.0|                54.0|  0.997|3.26|     0.65|    9.8|      5|\n",
      "|         11.2|            0.28|       0.56|           1.9|    0.075|               17.0|                60.0|  0.998|3.16|     0.58|    9.8|      6|\n",
      "|          7.4|             0.7|        0.0|           1.9|    0.076|               11.0|                34.0| 0.9978|3.51|     0.56|    9.4|      5|\n",
      "|          7.4|            0.66|        0.0|           1.8|    0.075|               13.0|                40.0| 0.9978|3.51|     0.56|    9.4|      5|\n",
      "|          7.9|             0.6|       0.06|           1.6|    0.069|               15.0|                59.0| 0.9964| 3.3|     0.46|    9.4|      5|\n",
      "|          7.3|            0.65|        0.0|           1.2|    0.065|               15.0|                21.0| 0.9946|3.39|     0.47|   10.0|      7|\n",
      "|          7.8|            0.58|       0.02|           2.0|    0.073|                9.0|                18.0| 0.9968|3.36|     0.57|    9.5|      7|\n",
      "|          7.5|             0.5|       0.36|           6.1|    0.071|               17.0|               102.0| 0.9978|3.35|      0.8|   10.5|      5|\n",
      "+-------------+----------------+-----------+--------------+---------+-------------------+--------------------+-------+----+---------+-------+-------+\n",
      "only showing top 10 rows\n",
      "\n"
     ]
    }
   ],
   "source": [
    "df.show(10)"
   ]
  },
  {
   "cell_type": "code",
   "execution_count": 4,
   "metadata": {},
   "outputs": [
    {
     "name": "stdout",
     "output_type": "stream",
     "text": [
      "root\n",
      " |-- fixed acidity: double (nullable = true)\n",
      " |-- volatile acidity: double (nullable = true)\n",
      " |-- citric acid: double (nullable = true)\n",
      " |-- residual sugar: double (nullable = true)\n",
      " |-- chlorides: double (nullable = true)\n",
      " |-- free sulfur dioxide: double (nullable = true)\n",
      " |-- total sulfur dioxide: double (nullable = true)\n",
      " |-- density: double (nullable = true)\n",
      " |-- pH: double (nullable = true)\n",
      " |-- sulphates: double (nullable = true)\n",
      " |-- alcohol: double (nullable = true)\n",
      " |-- quality: integer (nullable = true)\n",
      "\n"
     ]
    }
   ],
   "source": [
    "df.printSchema"
   ]
  },
  {
   "cell_type": "code",
   "execution_count": 5,
   "metadata": {},
   "outputs": [
    {
     "name": "stdout",
     "output_type": "stream",
     "text": [
      "+-------+------------------+-------------------+-------------------+------------------+--------------------+-------------------+--------------------+--------------------+-------------------+------------------+------------------+------------------+\n",
      "|summary|     fixed acidity|   volatile acidity|        citric acid|    residual sugar|           chlorides|free sulfur dioxide|total sulfur dioxide|             density|                 pH|         sulphates|           alcohol|           quality|\n",
      "+-------+------------------+-------------------+-------------------+------------------+--------------------+-------------------+--------------------+--------------------+-------------------+------------------+------------------+------------------+\n",
      "|  count|              1599|               1599|               1599|              1599|                1599|               1599|                1599|                1599|               1599|              1599|              1599|              1599|\n",
      "|   mean| 8.319637273295838| 0.5278205128205131| 0.2709756097560964|2.5388055034396517| 0.08746654158849257| 15.874921826141339|   46.46779237023139|  0.9967466791744831|  3.311113195747343|0.6581488430268921|10.422983114446502|5.6360225140712945|\n",
      "| stddev|1.7410963181276948|0.17905970415353525|0.19480113740531824|  1.40992805950728|0.047065302010090085|  10.46015696980971|   32.89532447829907|0.001887333953842...|0.15438646490354271|0.1695069795901101|1.0656675818473935|0.8075694397347051|\n",
      "|    min|               4.6|               0.12|                0.0|               0.9|               0.012|                1.0|                 6.0|             0.99007|               2.74|              0.33|               8.4|                 3|\n",
      "|    max|              15.9|               1.58|                1.0|              15.5|               0.611|               72.0|               289.0|             1.00369|               4.01|               2.0|              14.9|                 8|\n",
      "+-------+------------------+-------------------+-------------------+------------------+--------------------+-------------------+--------------------+--------------------+-------------------+------------------+------------------+------------------+\n",
      "\n"
     ]
    }
   ],
   "source": [
    "df.describe().show()"
   ]
  },
  {
   "cell_type": "code",
   "execution_count": 6,
   "metadata": {},
   "outputs": [
    {
     "name": "stdout",
     "output_type": "stream",
     "text": [
      "+------------------+\n",
      "|avg(fixed acidity)|\n",
      "+------------------+\n",
      "| 8.319637273295838|\n",
      "+------------------+\n",
      "\n",
      "+---------------------+\n",
      "|avg(volatile acidity)|\n",
      "+---------------------+\n",
      "|   0.5278205128205131|\n",
      "+---------------------+\n",
      "\n",
      "+------------------+\n",
      "|  avg(citric acid)|\n",
      "+------------------+\n",
      "|0.2709756097560964|\n",
      "+------------------+\n",
      "\n",
      "+-------------------+\n",
      "|avg(residual sugar)|\n",
      "+-------------------+\n",
      "| 2.5388055034396517|\n",
      "+-------------------+\n",
      "\n",
      "+-------------------+\n",
      "|     avg(chlorides)|\n",
      "+-------------------+\n",
      "|0.08746654158849257|\n",
      "+-------------------+\n",
      "\n",
      "+------------------------+\n",
      "|avg(free sulfur dioxide)|\n",
      "+------------------------+\n",
      "|      15.874921826141339|\n",
      "+------------------------+\n",
      "\n",
      "+-------------------------+\n",
      "|avg(total sulfur dioxide)|\n",
      "+-------------------------+\n",
      "|        46.46779237023139|\n",
      "+-------------------------+\n",
      "\n",
      "+------------------+\n",
      "|      avg(density)|\n",
      "+------------------+\n",
      "|0.9967466791744831|\n",
      "+------------------+\n",
      "\n",
      "+-----------------+\n",
      "|          avg(pH)|\n",
      "+-----------------+\n",
      "|3.311113195747343|\n",
      "+-----------------+\n",
      "\n",
      "+------------------+\n",
      "|    avg(sulphates)|\n",
      "+------------------+\n",
      "|0.6581488430268921|\n",
      "+------------------+\n",
      "\n",
      "+------------------+\n",
      "|      avg(alcohol)|\n",
      "+------------------+\n",
      "|10.422983114446502|\n",
      "+------------------+\n",
      "\n",
      "+------------------+\n",
      "|      avg(quality)|\n",
      "+------------------+\n",
      "|5.6360225140712945|\n",
      "+------------------+\n",
      "\n"
     ]
    }
   ],
   "source": [
    "// df.select(df.columns.map(name => mean(name)): _*).show()\n",
    "for( name <- df.columns) df.select(mean(name)).show()"
   ]
  },
  {
   "cell_type": "markdown",
   "metadata": {},
   "source": [
    "## Vector Assembler"
   ]
  },
  {
   "cell_type": "code",
   "execution_count": 7,
   "metadata": {},
   "outputs": [
    {
     "data": {
      "text/plain": [
       "[fixed acidity, volatile acidity, citric acid, residual sugar, chlorides, free sulfur dioxide, total sulfur dioxide, density, pH, sulphates, alcohol, quality]"
      ]
     },
     "execution_count": 7,
     "metadata": {},
     "output_type": "execute_result"
    }
   ],
   "source": [
    "df.columns"
   ]
  },
  {
   "cell_type": "code",
   "execution_count": 8,
   "metadata": {},
   "outputs": [
    {
     "data": {
      "text/plain": [
       "12"
      ]
     },
     "execution_count": 8,
     "metadata": {},
     "output_type": "execute_result"
    }
   ],
   "source": [
    "df.columns.length"
   ]
  },
  {
   "cell_type": "code",
   "execution_count": 9,
   "metadata": {},
   "outputs": [
    {
     "data": {
      "text/plain": [
       "[volatile acidity, citric acid, residual sugar, chlorides, free sulfur dioxide, total sulfur dioxide, density, pH, sulphates, alcohol]"
      ]
     },
     "execution_count": 9,
     "metadata": {},
     "output_type": "execute_result"
    }
   ],
   "source": [
    "df.columns.slice(1, 11)"
   ]
  },
  {
   "cell_type": "code",
   "execution_count": 10,
   "metadata": {},
   "outputs": [
    {
     "data": {
      "text/plain": [
       "assembler = vecAssembler_cba479c8d01b\n"
      ]
     },
     "metadata": {},
     "output_type": "display_data"
    },
    {
     "data": {
      "text/plain": [
       "vecAssembler_cba479c8d01b"
      ]
     },
     "execution_count": 10,
     "metadata": {},
     "output_type": "execute_result"
    }
   ],
   "source": [
    "val assembler = new VectorAssembler().\n",
    "    setInputCols(df.columns.slice(1, 11)).//setInputCols(Array(\"_c1\", \"_c2\")).\n",
    "    setOutputCol(\"features\")"
   ]
  },
  {
   "cell_type": "code",
   "execution_count": 11,
   "metadata": {},
   "outputs": [
    {
     "name": "stdout",
     "output_type": "stream",
     "text": [
      "+-----+--------------------+\n",
      "|label|            features|\n",
      "+-----+--------------------+\n",
      "|  5.0|[0.7,0.0,1.9,0.07...|\n",
      "|  5.0|[0.88,0.0,2.6,0.0...|\n",
      "|  5.0|[0.76,0.04,2.3,0....|\n",
      "|  6.0|[0.28,0.56,1.9,0....|\n",
      "|  5.0|[0.7,0.0,1.9,0.07...|\n",
      "|  5.0|[0.66,0.0,1.8,0.0...|\n",
      "|  5.0|[0.6,0.06,1.6,0.0...|\n",
      "|  7.0|[0.65,0.0,1.2,0.0...|\n",
      "|  7.0|[0.58,0.02,2.0,0....|\n",
      "|  5.0|[0.5,0.36,6.1,0.0...|\n",
      "|  5.0|[0.58,0.08,1.8,0....|\n",
      "|  5.0|[0.5,0.36,6.1,0.0...|\n",
      "|  5.0|[0.615,0.0,1.6,0....|\n",
      "|  5.0|[0.61,0.29,1.6,0....|\n",
      "|  5.0|[0.62,0.18,3.8,0....|\n",
      "|  5.0|[0.62,0.19,3.9,0....|\n",
      "|  7.0|[0.28,0.56,1.8,0....|\n",
      "|  5.0|[0.56,0.28,1.7,0....|\n",
      "|  4.0|[0.59,0.08,4.4,0....|\n",
      "|  6.0|[0.32,0.51,1.8,0....|\n",
      "+-----+--------------------+\n",
      "only showing top 20 rows\n",
      "\n"
     ]
    },
    {
     "data": {
      "text/plain": [
       "df_v = [label: double, features: vector]\n"
      ]
     },
     "metadata": {},
     "output_type": "display_data"
    },
    {
     "data": {
      "text/plain": [
       "[label: double, features: vector]"
      ]
     },
     "execution_count": 11,
     "metadata": {},
     "output_type": "execute_result"
    }
   ],
   "source": [
    "val df_v = assembler.transform(df).select(col(\"quality\").cast(\"Double\").as(\"label\"), col(\"features\"))\n",
    "df_v.show()"
   ]
  },
  {
   "cell_type": "markdown",
   "metadata": {},
   "source": [
    "## StandardScaler"
   ]
  },
  {
   "cell_type": "code",
   "execution_count": 12,
   "metadata": {},
   "outputs": [
    {
     "data": {
      "text/plain": [
       "s_scaler = stdScal_440f23282df2\n"
      ]
     },
     "metadata": {},
     "output_type": "display_data"
    },
    {
     "data": {
      "text/plain": [
       "stdScal_440f23282df2"
      ]
     },
     "execution_count": 12,
     "metadata": {},
     "output_type": "execute_result"
    }
   ],
   "source": [
    "val s_scaler = new StandardScaler().\n",
    "  setInputCol(\"features\").\n",
    "  setOutputCol(\"scaledFeatures\")\n",
    "  //setWithMean(true)"
   ]
  },
  {
   "cell_type": "code",
   "execution_count": 13,
   "metadata": {},
   "outputs": [
    {
     "name": "stdout",
     "output_type": "stream",
     "text": [
      "+-----+--------------------+--------------------+\n",
      "|label|            features|      scaledFeatures|\n",
      "+-----+--------------------+--------------------+\n",
      "|  5.0|[0.7,0.0,1.9,0.07...|[3.90931060290249...|\n",
      "|  5.0|[0.88,0.0,2.6,0.0...|[4.91456190079171...|\n",
      "|  5.0|[0.76,0.04,2.3,0....|[4.24439436886557...|\n",
      "|  6.0|[0.28,0.56,1.9,0....|[1.56372424116099...|\n",
      "|  5.0|[0.7,0.0,1.9,0.07...|[3.90931060290249...|\n",
      "|  5.0|[0.66,0.0,1.8,0.0...|[3.68592142559378...|\n",
      "|  5.0|[0.6,0.06,1.6,0.0...|[3.35083765963071...|\n",
      "|  7.0|[0.65,0.0,1.2,0.0...|[3.63007413126660...|\n",
      "|  7.0|[0.58,0.02,2.0,0....|[3.23914307097635...|\n",
      "|  5.0|[0.5,0.36,6.1,0.0...|[2.79236471635892...|\n",
      "|  5.0|[0.58,0.08,1.8,0....|[3.23914307097635...|\n",
      "|  5.0|[0.5,0.36,6.1,0.0...|[2.79236471635892...|\n",
      "|  5.0|[0.615,0.0,1.6,0....|[3.43460860112148...|\n",
      "|  5.0|[0.61,0.29,1.6,0....|[3.40668495395789...|\n",
      "|  5.0|[0.62,0.18,3.8,0....|[3.46253224828507...|\n",
      "|  5.0|[0.62,0.19,3.9,0....|[3.46253224828507...|\n",
      "|  7.0|[0.28,0.56,1.8,0....|[1.56372424116099...|\n",
      "|  5.0|[0.56,0.28,1.7,0....|[3.12744848232199...|\n",
      "|  4.0|[0.59,0.08,4.4,0....|[3.29499036530353...|\n",
      "|  6.0|[0.32,0.51,1.8,0....|[1.78711341846971...|\n",
      "+-----+--------------------+--------------------+\n",
      "only showing top 20 rows\n",
      "\n"
     ]
    },
    {
     "data": {
      "text/plain": [
       "df_s = [label: double, features: vector ... 1 more field]\n"
      ]
     },
     "metadata": {},
     "output_type": "display_data"
    },
    {
     "data": {
      "text/plain": [
       "[label: double, features: vector ... 1 more field]"
      ]
     },
     "execution_count": 13,
     "metadata": {},
     "output_type": "execute_result"
    }
   ],
   "source": [
    "val df_s = s_scaler.fit(df_v).transform(df_v)\n",
    "df_s.show()"
   ]
  }
 ],
 "metadata": {
  "kernelspec": {
   "display_name": "Apache Toree - Scala",
   "language": "scala",
   "name": "apache_toree_scala"
  },
  "language_info": {
   "codemirror_mode": "text/x-scala",
   "file_extension": ".scala",
   "mimetype": "text/x-scala",
   "name": "scala",
   "pygments_lexer": "scala",
   "version": "2.11.8"
  }
 },
 "nbformat": 4,
 "nbformat_minor": 2
}
