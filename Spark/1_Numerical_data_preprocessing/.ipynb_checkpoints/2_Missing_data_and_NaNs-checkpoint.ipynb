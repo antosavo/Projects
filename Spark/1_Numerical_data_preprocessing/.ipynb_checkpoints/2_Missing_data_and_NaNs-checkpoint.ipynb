{
 "cells": [
  {
   "cell_type": "markdown",
   "metadata": {},
   "source": [
    "# Missing data\n",
    "\n",
    "We typically see missing values as NaN (Not A Number)."
   ]
  },
  {
   "cell_type": "code",
   "execution_count": 1,
   "metadata": {
    "collapsed": true
   },
   "outputs": [],
   "source": [
    "import org.apache.spark.sql.functions._"
   ]
  },
  {
   "cell_type": "markdown",
   "metadata": {},
   "source": [
    "## Dataframe with missing values '?' and 'NaN'"
   ]
  },
  {
   "cell_type": "code",
   "execution_count": 2,
   "metadata": {},
   "outputs": [
    {
     "name": "stdout",
     "output_type": "stream",
     "text": [
      "+-----+----+---+---+\n",
      "|index|ball|mug|pen|\n",
      "+-----+----+---+---+\n",
      "| blue| 6.0|NaN|6.0|\n",
      "|green| NaN|4.0|NaN|\n",
      "|  red| 2.0|3.0|5.0|\n",
      "+-----+----+---+---+\n",
      "\n"
     ]
    },
    {
     "data": {
      "text/plain": [
       "df = [index: string, ball: double ... 2 more fields]\n"
      ]
     },
     "metadata": {},
     "output_type": "display_data"
    },
    {
     "data": {
      "text/plain": [
       "[index: string, ball: double ... 2 more fields]"
      ]
     },
     "execution_count": 2,
     "metadata": {},
     "output_type": "execute_result"
    }
   ],
   "source": [
    " val df = List(\n",
    "    (\"blue\", 6.0, Double.NaN , 6.0),\n",
    "    (\"green\", Double.NaN, 4.0, Double.NaN),\n",
    "    (\"red\", 2.0, 3.0, 5.0)\n",
    "    ).toDF(\"index\",\"ball\",\"mug\",\"pen\")\n",
    "\n",
    "df.show()"
   ]
  },
  {
   "cell_type": "markdown",
   "metadata": {},
   "source": [
    "## Drop NaNs"
   ]
  },
  {
   "cell_type": "code",
   "execution_count": 3,
   "metadata": {},
   "outputs": [
    {
     "name": "stdout",
     "output_type": "stream",
     "text": [
      "+-----+----+---+---+\n",
      "|index|ball|mug|pen|\n",
      "+-----+----+---+---+\n",
      "|  red| 2.0|3.0|5.0|\n",
      "+-----+----+---+---+\n",
      "\n"
     ]
    }
   ],
   "source": [
    "df.na.drop().show()"
   ]
  },
  {
   "cell_type": "markdown",
   "metadata": {},
   "source": [
    "## Replace 'NaN' with '0'"
   ]
  },
  {
   "cell_type": "code",
   "execution_count": 4,
   "metadata": {},
   "outputs": [
    {
     "name": "stdout",
     "output_type": "stream",
     "text": [
      "+-----+----+---+---+\n",
      "|index|ball|mug|pen|\n",
      "+-----+----+---+---+\n",
      "| blue| 6.0|0.0|6.0|\n",
      "|green| 0.0|4.0|0.0|\n",
      "|  red| 2.0|3.0|5.0|\n",
      "+-----+----+---+---+\n",
      "\n"
     ]
    }
   ],
   "source": [
    "df.na.fill(0).show()"
   ]
  },
  {
   "cell_type": "code",
   "execution_count": 5,
   "metadata": {},
   "outputs": [
    {
     "name": "stdout",
     "output_type": "stream",
     "text": [
      "+-----+----+---+---+\n",
      "|index|ball|mug|pen|\n",
      "+-----+----+---+---+\n",
      "| blue| 6.0|0.0|6.0|\n",
      "|green| NaN|4.0|0.0|\n",
      "|  red| 2.0|3.0|5.0|\n",
      "+-----+----+---+---+\n",
      "\n"
     ]
    }
   ],
   "source": [
    "df.na.fill(0,Seq(\"pen\",\"mug\")).show()"
   ]
  },
  {
   "cell_type": "markdown",
   "metadata": {},
   "source": [
    "## Replace 'NaN' with the mean"
   ]
  },
  {
   "cell_type": "code",
   "execution_count": 6,
   "metadata": {},
   "outputs": [
    {
     "data": {
      "text/plain": [
       "M = Array(5.5)\n"
      ]
     },
     "metadata": {},
     "output_type": "display_data"
    },
    {
     "data": {
      "text/plain": [
       "[5.5]"
      ]
     },
     "execution_count": 6,
     "metadata": {},
     "output_type": "execute_result"
    }
   ],
   "source": [
    "val M = df.select(\"pen\").na.drop().select(mean(\"pen\")).as[Double].collect"
   ]
  },
  {
   "cell_type": "code",
   "execution_count": 7,
   "metadata": {},
   "outputs": [
    {
     "name": "stdout",
     "output_type": "stream",
     "text": [
      "+-----+----+---+---+\n",
      "|index|ball|mug|pen|\n",
      "+-----+----+---+---+\n",
      "| blue| 6.0|NaN|6.0|\n",
      "|green| NaN|4.0|5.5|\n",
      "|  red| 2.0|3.0|5.0|\n",
      "+-----+----+---+---+\n",
      "\n"
     ]
    }
   ],
   "source": [
    "df.na.fill(M(0),Seq(\"pen\")).show()"
   ]
  },
  {
   "cell_type": "code",
   "execution_count": 8,
   "metadata": {},
   "outputs": [
    {
     "name": "stdout",
     "output_type": "stream",
     "text": [
      "+-----+----+---+---+\n",
      "|index|ball|mug|pen|\n",
      "+-----+----+---+---+\n",
      "| blue| 6.0|0.0|6.0|\n",
      "|green| 1.0|4.0|5.5|\n",
      "|  red| 2.0|3.0|5.0|\n",
      "+-----+----+---+---+\n",
      "\n"
     ]
    }
   ],
   "source": [
    "df.na.fill(Map(\"pen\" -> M(0), \"mug\" -> 0, \"ball\" -> 1)).show()"
   ]
  },
  {
   "cell_type": "markdown",
   "metadata": {},
   "source": [
    "## Replace values"
   ]
  },
  {
   "cell_type": "code",
   "execution_count": 9,
   "metadata": {},
   "outputs": [
    {
     "name": "stdout",
     "output_type": "stream",
     "text": [
      "+-----+----+---+---+\n",
      "|index|ball|mug|pen|\n",
      "+-----+----+---+---+\n",
      "| blue| 7.0|NaN|7.0|\n",
      "|green| NaN|4.0|NaN|\n",
      "|  red| 3.5|3.0|5.0|\n",
      "+-----+----+---+---+\n",
      "\n"
     ]
    }
   ],
   "source": [
    "df.na.replace(\"*\", Map(6.0 -> 7.0, 2.0 -> 3.5)).show()"
   ]
  },
  {
   "cell_type": "code",
   "execution_count": 10,
   "metadata": {},
   "outputs": [
    {
     "name": "stdout",
     "output_type": "stream",
     "text": [
      "+-----+----+---+---+\n",
      "|index|ball|mug|pen|\n",
      "+-----+----+---+---+\n",
      "| blue| 6.0|NaN|7.0|\n",
      "|green| NaN|4.0|NaN|\n",
      "|  red| 2.0|3.0|5.0|\n",
      "+-----+----+---+---+\n",
      "\n"
     ]
    }
   ],
   "source": [
    "df.na.replace(Seq(\"pen\",\"mug\"), Map(6.0 -> 7.0, 2.0 -> 3.5)).show()"
   ]
  }
 ],
 "metadata": {
  "kernelspec": {
   "display_name": "Apache Toree - Scala",
   "language": "scala",
   "name": "apache_toree_scala"
  },
  "language_info": {
   "codemirror_mode": "text/x-scala",
   "file_extension": ".scala",
   "mimetype": "text/x-scala",
   "name": "scala",
   "pygments_lexer": "scala",
   "version": "2.11.8"
  }
 },
 "nbformat": 4,
 "nbformat_minor": 2
}
