{
 "cells": [
  {
   "cell_type": "code",
   "execution_count": 1,
   "metadata": {
    "collapsed": true
   },
   "outputs": [],
   "source": [
    "import org.apache.spark.sql.functions._"
   ]
  },
  {
   "cell_type": "markdown",
   "metadata": {},
   "source": [
    "## Load dataset 1"
   ]
  },
  {
   "cell_type": "code",
   "execution_count": 2,
   "metadata": {},
   "outputs": [
    {
     "data": {
      "text/plain": [
       "df1 = [fixed acidity: double, volatile acidity: double ... 10 more fields]\n"
      ]
     },
     "metadata": {},
     "output_type": "display_data"
    },
    {
     "data": {
      "text/plain": [
       "[fixed acidity: double, volatile acidity: double ... 10 more fields]"
      ]
     },
     "execution_count": 2,
     "metadata": {},
     "output_type": "execute_result"
    }
   ],
   "source": [
    "val df1 = spark.read.\n",
    "  format(\"csv\").\n",
    "  option(\"header\", \"true\").\n",
    "  option(\"inferschema\", \"true\").\n",
    "  option(\"delimiter\",\";\").\n",
    "  load(\"../Datasets/Winequality_red.csv\")"
   ]
  },
  {
   "cell_type": "markdown",
   "metadata": {},
   "source": [
    "## Explore dataset 1"
   ]
  },
  {
   "cell_type": "code",
   "execution_count": 3,
   "metadata": {},
   "outputs": [
    {
     "name": "stdout",
     "output_type": "stream",
     "text": [
      "+-------------+----------------+-----------+--------------+---------+-------------------+--------------------+-------+----+---------+-------+-------+\n",
      "|fixed acidity|volatile acidity|citric acid|residual sugar|chlorides|free sulfur dioxide|total sulfur dioxide|density|  pH|sulphates|alcohol|quality|\n",
      "+-------------+----------------+-----------+--------------+---------+-------------------+--------------------+-------+----+---------+-------+-------+\n",
      "|          7.4|             0.7|        0.0|           1.9|    0.076|               11.0|                34.0| 0.9978|3.51|     0.56|    9.4|      5|\n",
      "+-------------+----------------+-----------+--------------+---------+-------------------+--------------------+-------+----+---------+-------+-------+\n",
      "only showing top 1 row\n",
      "\n"
     ]
    }
   ],
   "source": [
    "df1.show(1)"
   ]
  },
  {
   "cell_type": "code",
   "execution_count": 4,
   "metadata": {},
   "outputs": [
    {
     "name": "stdout",
     "output_type": "stream",
     "text": [
      "root\n",
      " |-- fixed acidity: double (nullable = true)\n",
      " |-- volatile acidity: double (nullable = true)\n",
      " |-- citric acid: double (nullable = true)\n",
      " |-- residual sugar: double (nullable = true)\n",
      " |-- chlorides: double (nullable = true)\n",
      " |-- free sulfur dioxide: double (nullable = true)\n",
      " |-- total sulfur dioxide: double (nullable = true)\n",
      " |-- density: double (nullable = true)\n",
      " |-- pH: double (nullable = true)\n",
      " |-- sulphates: double (nullable = true)\n",
      " |-- alcohol: double (nullable = true)\n",
      " |-- quality: integer (nullable = true)\n",
      "\n"
     ]
    }
   ],
   "source": [
    "df1.printSchema"
   ]
  },
  {
   "cell_type": "code",
   "execution_count": 5,
   "metadata": {},
   "outputs": [
    {
     "data": {
      "text/plain": [
       "[fixed acidity, volatile acidity, citric acid, residual sugar, chlorides, free sulfur dioxide, total sulfur dioxide, density, pH, sulphates, alcohol, quality]"
      ]
     },
     "execution_count": 5,
     "metadata": {},
     "output_type": "execute_result"
    }
   ],
   "source": [
    "df1.columns"
   ]
  },
  {
   "cell_type": "code",
   "execution_count": 6,
   "metadata": {},
   "outputs": [
    {
     "data": {
      "text/plain": [
       "12"
      ]
     },
     "execution_count": 6,
     "metadata": {},
     "output_type": "execute_result"
    }
   ],
   "source": [
    "df1.columns.length"
   ]
  },
  {
   "cell_type": "code",
   "execution_count": 7,
   "metadata": {},
   "outputs": [
    {
     "data": {
      "text/plain": [
       "1599"
      ]
     },
     "execution_count": 7,
     "metadata": {},
     "output_type": "execute_result"
    }
   ],
   "source": [
    "df1.count"
   ]
  },
  {
   "cell_type": "code",
   "execution_count": 8,
   "metadata": {},
   "outputs": [
    {
     "name": "stdout",
     "output_type": "stream",
     "text": [
      "+-------+------------------+\n",
      "|summary|           quality|\n",
      "+-------+------------------+\n",
      "|  count|              1599|\n",
      "|   mean|5.6360225140712945|\n",
      "| stddev|0.8075694397347051|\n",
      "|    min|                 3|\n",
      "|    max|                 8|\n",
      "+-------+------------------+\n",
      "\n"
     ]
    }
   ],
   "source": [
    "df1.describe(\"quality\").show()"
   ]
  },
  {
   "cell_type": "code",
   "execution_count": 9,
   "metadata": {},
   "outputs": [
    {
     "name": "stdout",
     "output_type": "stream",
     "text": [
      "+------------------+------------+------------+\n",
      "|      avg(quality)|max(quality)|min(quality)|\n",
      "+------------------+------------+------------+\n",
      "|5.6360225140712945|           8|           3|\n",
      "+------------------+------------+------------+\n",
      "\n"
     ]
    }
   ],
   "source": [
    "df1.select(mean(\"quality\"),max(\"quality\"),min(\"quality\")).show()"
   ]
  },
  {
   "cell_type": "code",
   "execution_count": 10,
   "metadata": {},
   "outputs": [
    {
     "name": "stdout",
     "output_type": "stream",
     "text": [
      "[Stage 11:================================================>     (178 + 5) / 200]+-------+\n",
      "|quality|\n",
      "+-------+\n",
      "|      3|\n",
      "|      4|\n",
      "|      5|\n",
      "|      6|\n",
      "|      7|\n",
      "|      8|\n",
      "+-------+\n",
      "\n"
     ]
    }
   ],
   "source": [
    "df1.select(\"quality\").distinct.sort(\"quality\").show()//collect"
   ]
  },
  {
   "cell_type": "code",
   "execution_count": 11,
   "metadata": {},
   "outputs": [
    {
     "name": "stdout",
     "output_type": "stream",
     "text": [
      "+-------+-----+\n",
      "|quality|count|\n",
      "+-------+-----+\n",
      "|      3|   10|\n",
      "|      4|   53|\n",
      "|      5|  681|\n",
      "|      6|  638|\n",
      "|      7|  199|\n",
      "|      8|   18|\n",
      "+-------+-----+\n",
      "\n"
     ]
    }
   ],
   "source": [
    "df1.groupBy(\"quality\").count.sort(\"quality\").show()"
   ]
  },
  {
   "cell_type": "code",
   "execution_count": 12,
   "metadata": {},
   "outputs": [
    {
     "data": {
      "text/plain": [
       "1536"
      ]
     },
     "execution_count": 12,
     "metadata": {},
     "output_type": "execute_result"
    }
   ],
   "source": [
    "df1.select(\"quality\").filter(col(\"quality\")>=5).count"
   ]
  },
  {
   "cell_type": "code",
   "execution_count": 13,
   "metadata": {},
   "outputs": [
    {
     "name": "stdout",
     "output_type": "stream",
     "text": [
      "+--------------------+--------------------+\n",
      "|             colname|         correlation|\n",
      "+--------------------+--------------------+\n",
      "|       fixed acidity| 0.12405164911322263|\n",
      "|    volatile acidity| -0.3905577802640061|\n",
      "|         citric acid| 0.22637251431804048|\n",
      "|      residual sugar|0.013731637340065798|\n",
      "|           chlorides|-0.12890655993005293|\n",
      "| free sulfur dioxide|-0.05065605724427597|\n",
      "|total sulfur dioxide|-0.18510028892653774|\n",
      "|             density|-0.17491922778336474|\n",
      "|                  pH| -0.0577313912053826|\n",
      "|           sulphates| 0.25139707906925995|\n",
      "|             alcohol|  0.4761663240011364|\n",
      "|             quality|                 1.0|\n",
      "+--------------------+--------------------+\n",
      "\n"
     ]
    },
    {
     "data": {
      "text/plain": [
       "L = List((fixed acidity,0.12405164911322263), (volatile acidity,-0.3905577802640061), (citric acid,0.22637251431804048), (residual sugar,0.013731637340065798), (chlorides,-0.12890655993005293), (free sulfur dioxide,-0.05065605724427597), (total sulfur dioxide,-0.18510028892653774), (density,-0.17491922778336474), (pH,-0.0577313912053826), (sulphates,0.25139707906925995), (alcohol,0.4761663240011364), (quality,1.0))\n",
       "df_corr = [colname: string, correlation: double]\n"
      ]
     },
     "metadata": {},
     "output_type": "display_data"
    },
    {
     "data": {
      "text/plain": [
       "[colname: string, correlation: double]"
      ]
     },
     "execution_count": 13,
     "metadata": {},
     "output_type": "execute_result"
    }
   ],
   "source": [
    "var L = List.empty[(String,Double)]\n",
    "\n",
    "for(cn <- df1.columns) L = L :+ (cn,df1.stat.corr(\"quality\", cn))\n",
    "\n",
    "val df_corr = L.toDF(\"colname\",\"correlation\")\n",
    "df_corr.show()"
   ]
  },
  {
   "cell_type": "code",
   "execution_count": 14,
   "metadata": {},
   "outputs": [
    {
     "name": "stdout",
     "output_type": "stream",
     "text": [
      "+--------------------+--------------------+\n",
      "|             colname|         correlation|\n",
      "+--------------------+--------------------+\n",
      "|    volatile acidity| -0.3905577802640061|\n",
      "|total sulfur dioxide|-0.18510028892653774|\n",
      "|             density|-0.17491922778336474|\n",
      "|           chlorides|-0.12890655993005293|\n",
      "|                  pH| -0.0577313912053826|\n",
      "| free sulfur dioxide|-0.05065605724427597|\n",
      "|      residual sugar|0.013731637340065798|\n",
      "|       fixed acidity| 0.12405164911322263|\n",
      "|         citric acid| 0.22637251431804048|\n",
      "|           sulphates| 0.25139707906925995|\n",
      "|             alcohol|  0.4761663240011364|\n",
      "|             quality|                 1.0|\n",
      "+--------------------+--------------------+\n",
      "\n"
     ]
    }
   ],
   "source": [
    "df_corr.sort(\"correlation\").show()"
   ]
  },
  {
   "cell_type": "code",
   "execution_count": 15,
   "metadata": {},
   "outputs": [
    {
     "name": "stdout",
     "output_type": "stream",
     "text": [
      "+--------------------+--------------------+\n",
      "|             colname|    abs(correlation)|\n",
      "+--------------------+--------------------+\n",
      "|             quality|                 1.0|\n",
      "|             alcohol|  0.4761663240011364|\n",
      "|    volatile acidity|  0.3905577802640061|\n",
      "|           sulphates| 0.25139707906925995|\n",
      "|         citric acid| 0.22637251431804048|\n",
      "|total sulfur dioxide| 0.18510028892653774|\n",
      "|             density| 0.17491922778336474|\n",
      "|           chlorides| 0.12890655993005293|\n",
      "|       fixed acidity| 0.12405164911322263|\n",
      "|                  pH|  0.0577313912053826|\n",
      "| free sulfur dioxide| 0.05065605724427597|\n",
      "|      residual sugar|0.013731637340065798|\n",
      "+--------------------+--------------------+\n",
      "\n"
     ]
    }
   ],
   "source": [
    "df_corr.select(col(\"colname\"),abs(col(\"correlation\"))).sort(col(\"abs(correlation)\").desc).show()"
   ]
  },
  {
   "cell_type": "markdown",
   "metadata": {},
   "source": [
    "## Load dataset 2"
   ]
  },
  {
   "cell_type": "code",
   "execution_count": 16,
   "metadata": {},
   "outputs": [
    {
     "data": {
      "text/plain": [
       "df2 = [fixed acidity: double, volatile acidity: double ... 10 more fields]\n"
      ]
     },
     "metadata": {},
     "output_type": "display_data"
    },
    {
     "data": {
      "text/plain": [
       "[fixed acidity: double, volatile acidity: double ... 10 more fields]"
      ]
     },
     "execution_count": 16,
     "metadata": {},
     "output_type": "execute_result"
    }
   ],
   "source": [
    "val df2 = spark.read.\n",
    "  format(\"csv\").\n",
    "  option(\"header\", \"true\").\n",
    "  option(\"inferschema\", \"true\").\n",
    "  option(\"delimiter\",\";\").\n",
    "  load(\"../Datasets/Winequality_white.csv\")"
   ]
  },
  {
   "cell_type": "markdown",
   "metadata": {},
   "source": [
    "## Explore dataset 2"
   ]
  },
  {
   "cell_type": "code",
   "execution_count": 17,
   "metadata": {},
   "outputs": [
    {
     "name": "stdout",
     "output_type": "stream",
     "text": [
      "+-------------+----------------+-----------+--------------+---------+-------------------+--------------------+-------+---+---------+-------+-------+\n",
      "|fixed acidity|volatile acidity|citric acid|residual sugar|chlorides|free sulfur dioxide|total sulfur dioxide|density| pH|sulphates|alcohol|quality|\n",
      "+-------------+----------------+-----------+--------------+---------+-------------------+--------------------+-------+---+---------+-------+-------+\n",
      "|          7.0|            0.27|       0.36|          20.7|    0.045|               45.0|               170.0|  1.001|3.0|     0.45|    8.8|      6|\n",
      "+-------------+----------------+-----------+--------------+---------+-------------------+--------------------+-------+---+---------+-------+-------+\n",
      "only showing top 1 row\n",
      "\n"
     ]
    }
   ],
   "source": [
    "df2.show(1)"
   ]
  },
  {
   "cell_type": "code",
   "execution_count": 18,
   "metadata": {},
   "outputs": [
    {
     "name": "stdout",
     "output_type": "stream",
     "text": [
      "root\n",
      " |-- fixed acidity: double (nullable = true)\n",
      " |-- volatile acidity: double (nullable = true)\n",
      " |-- citric acid: double (nullable = true)\n",
      " |-- residual sugar: double (nullable = true)\n",
      " |-- chlorides: double (nullable = true)\n",
      " |-- free sulfur dioxide: double (nullable = true)\n",
      " |-- total sulfur dioxide: double (nullable = true)\n",
      " |-- density: double (nullable = true)\n",
      " |-- pH: double (nullable = true)\n",
      " |-- sulphates: double (nullable = true)\n",
      " |-- alcohol: double (nullable = true)\n",
      " |-- quality: integer (nullable = true)\n",
      "\n"
     ]
    }
   ],
   "source": [
    "df2.printSchema"
   ]
  },
  {
   "cell_type": "code",
   "execution_count": 19,
   "metadata": {},
   "outputs": [
    {
     "data": {
      "text/plain": [
       "12"
      ]
     },
     "execution_count": 19,
     "metadata": {},
     "output_type": "execute_result"
    }
   ],
   "source": [
    "df2.columns.length"
   ]
  },
  {
   "cell_type": "code",
   "execution_count": 20,
   "metadata": {},
   "outputs": [
    {
     "data": {
      "text/plain": [
       "4898"
      ]
     },
     "execution_count": 20,
     "metadata": {},
     "output_type": "execute_result"
    }
   ],
   "source": [
    "df2.count"
   ]
  },
  {
   "cell_type": "code",
   "execution_count": 21,
   "metadata": {},
   "outputs": [
    {
     "name": "stdout",
     "output_type": "stream",
     "text": [
      "+-------+-----+\n",
      "|quality|count|\n",
      "+-------+-----+\n",
      "|      3|   20|\n",
      "|      4|  163|\n",
      "|      5| 1457|\n",
      "|      6| 2198|\n",
      "|      7|  880|\n",
      "|      8|  175|\n",
      "|      9|    5|\n",
      "+-------+-----+\n",
      "\n"
     ]
    }
   ],
   "source": [
    "df2.groupBy(\"quality\").count.sort(\"quality\").show()"
   ]
  },
  {
   "cell_type": "markdown",
   "metadata": {},
   "source": [
    "## Concatenate the two datasets"
   ]
  },
  {
   "cell_type": "code",
   "execution_count": 22,
   "metadata": {},
   "outputs": [
    {
     "name": "stdout",
     "output_type": "stream",
     "text": [
      "+-------------+----------------+-----------+--------------+---------+-------------------+--------------------+-------+----+---------+-------+-------+\n",
      "|fixed acidity|volatile acidity|citric acid|residual sugar|chlorides|free sulfur dioxide|total sulfur dioxide|density|  pH|sulphates|alcohol|quality|\n",
      "+-------------+----------------+-----------+--------------+---------+-------------------+--------------------+-------+----+---------+-------+-------+\n",
      "|          7.4|             0.7|        0.0|           1.9|    0.076|               11.0|                34.0| 0.9978|3.51|     0.56|    9.4|      5|\n",
      "|          7.8|            0.88|        0.0|           2.6|    0.098|               25.0|                67.0| 0.9968| 3.2|     0.68|    9.8|      5|\n",
      "|          7.8|            0.76|       0.04|           2.3|    0.092|               15.0|                54.0|  0.997|3.26|     0.65|    9.8|      5|\n",
      "|         11.2|            0.28|       0.56|           1.9|    0.075|               17.0|                60.0|  0.998|3.16|     0.58|    9.8|      6|\n",
      "|          7.4|             0.7|        0.0|           1.9|    0.076|               11.0|                34.0| 0.9978|3.51|     0.56|    9.4|      5|\n",
      "|          7.4|            0.66|        0.0|           1.8|    0.075|               13.0|                40.0| 0.9978|3.51|     0.56|    9.4|      5|\n",
      "|          7.9|             0.6|       0.06|           1.6|    0.069|               15.0|                59.0| 0.9964| 3.3|     0.46|    9.4|      5|\n",
      "|          7.3|            0.65|        0.0|           1.2|    0.065|               15.0|                21.0| 0.9946|3.39|     0.47|   10.0|      7|\n",
      "|          7.8|            0.58|       0.02|           2.0|    0.073|                9.0|                18.0| 0.9968|3.36|     0.57|    9.5|      7|\n",
      "|          7.5|             0.5|       0.36|           6.1|    0.071|               17.0|               102.0| 0.9978|3.35|      0.8|   10.5|      5|\n",
      "+-------------+----------------+-----------+--------------+---------+-------------------+--------------------+-------+----+---------+-------+-------+\n",
      "only showing top 10 rows\n",
      "\n"
     ]
    },
    {
     "data": {
      "text/plain": [
       "df = [fixed acidity: double, volatile acidity: double ... 10 more fields]\n"
      ]
     },
     "metadata": {},
     "output_type": "display_data"
    },
    {
     "data": {
      "text/plain": [
       "warning: there was one deprecation warning; re-run with -deprecation for details\n"
      ]
     },
     "metadata": {},
     "output_type": "display_data"
    },
    {
     "data": {
      "text/plain": [
       "[fixed acidity: double, volatile acidity: double ... 10 more fields]"
      ]
     },
     "execution_count": 22,
     "metadata": {},
     "output_type": "execute_result"
    }
   ],
   "source": [
    "val df = df1.unionAll(df2)\n",
    "df.show(10)"
   ]
  },
  {
   "cell_type": "markdown",
   "metadata": {},
   "source": [
    "## Repartition and save the new dataset"
   ]
  },
  {
   "cell_type": "code",
   "execution_count": 23,
   "metadata": {
    "collapsed": true
   },
   "outputs": [],
   "source": [
    "df.repartition(1).write.\n",
    "    format(\"csv\").\n",
    "    option(\"header\", \"true\").\n",
    "    mode(\"overwrite\").\n",
    "    save(\"wine-data\")"
   ]
  },
  {
   "cell_type": "code",
   "execution_count": 24,
   "metadata": {},
   "outputs": [
    {
     "data": {
      "text/plain": [
       "6497"
      ]
     },
     "execution_count": 24,
     "metadata": {},
     "output_type": "execute_result"
    }
   ],
   "source": [
    "df.count"
   ]
  },
  {
   "cell_type": "markdown",
   "metadata": {},
   "source": [
    "## Merge the two dataset"
   ]
  },
  {
   "cell_type": "code",
   "execution_count": 25,
   "metadata": {},
   "outputs": [
    {
     "data": {
      "text/plain": [
       "Columns_1 = Array(fixed acidity AS `fixed acidity_1`, volatile acidity AS `volatile acidity_1`, citric acid AS `citric acid_1`, residual sugar AS `residual sugar_1`, chlorides AS `chlorides_1`, free sulfur dioxide AS `free sulfur dioxide_1`, total sulfur dioxide AS `total sulfur dioxide_1`, density AS `density_1`, pH AS `pH_1`, sulphates AS `sulphates_1`, alcohol AS `alcohol_1`, quality AS `quality_1`)\n",
       "F1 = [fixed acidity_1: double, volatile acidity_1: double ... 10 more fields]\n"
      ]
     },
     "metadata": {},
     "output_type": "display_data"
    },
    {
     "data": {
      "text/plain": [
       "[fixed acidity_1: double, volatile acidity_1: double ... 10 more fields]"
      ]
     },
     "execution_count": 25,
     "metadata": {},
     "output_type": "execute_result"
    }
   ],
   "source": [
    "val Columns_1 = df1.columns.map(name => df1(name).as(name+\"_1\"))\n",
    "val F1 = df1.select(Columns_1 : _*)"
   ]
  },
  {
   "cell_type": "code",
   "execution_count": 26,
   "metadata": {},
   "outputs": [
    {
     "data": {
      "text/plain": [
       "Columns_2 = Array(fixed acidity AS `fixed acidity_2`, volatile acidity AS `volatile acidity_2`, citric acid AS `citric acid_2`, residual sugar AS `residual sugar_2`, chlorides AS `chlorides_2`, free sulfur dioxide AS `free sulfur dioxide_2`, total sulfur dioxide AS `total sulfur dioxide_2`, density AS `density_2`, pH AS `pH_2`, sulphates AS `sulphates_2`, alcohol AS `alcohol_2`, quality AS `quality_2`)\n",
       "F2 = [fixed acidity_2: double, volatile acidity_2: double ... 10 more fields]\n"
      ]
     },
     "metadata": {},
     "output_type": "display_data"
    },
    {
     "data": {
      "text/plain": [
       "[fixed acidity_2: double, volatile acidity_2: double ... 10 more fields]"
      ]
     },
     "execution_count": 26,
     "metadata": {},
     "output_type": "execute_result"
    }
   ],
   "source": [
    "val Columns_2 = df2.columns.map(name => df2(name).as(name+\"_2\"))\n",
    "val F2 = df2.select(Columns_2 : _*)"
   ]
  },
  {
   "cell_type": "code",
   "execution_count": 27,
   "metadata": {},
   "outputs": [
    {
     "name": "stdout",
     "output_type": "stream",
     "text": [
      "+---------------+------------------+-------------+----------------+-----------+---------------------+----------------------+---------+----+-----------+---------+---------+---------------+------------------+-------------+----------------+-----------+---------------------+----------------------+---------+----+-----------+----------------+---------+\n",
      "|fixed acidity_1|volatile acidity_1|citric acid_1|residual sugar_1|chlorides_1|free sulfur dioxide_1|total sulfur dioxide_1|density_1|pH_1|sulphates_1|alcohol_1|quality_1|fixed acidity_2|volatile acidity_2|citric acid_2|residual sugar_2|chlorides_2|free sulfur dioxide_2|total sulfur dioxide_2|density_2|pH_2|sulphates_2|       alcohol_2|quality_2|\n",
      "+---------------+------------------+-------------+----------------+-----------+---------------------+----------------------+---------+----+-----------+---------+---------+---------------+------------------+-------------+----------------+-----------+---------------------+----------------------+---------+----+-----------+----------------+---------+\n",
      "|            7.4|               0.7|          0.0|             1.9|      0.076|                 11.0|                  34.0|   0.9978|3.51|       0.56|      9.4|        5|            6.6|              0.32|         0.36|             8.0|      0.047|                 57.0|                 168.0|   0.9949|3.15|       0.46|             9.6|        5|\n",
      "|            7.4|               0.7|          0.0|             1.9|      0.076|                 11.0|                  34.0|   0.9978|3.51|       0.56|      9.4|        5|            6.5|              0.23|         0.38|             1.3|      0.032|                 29.0|                 112.0|  0.99298|3.29|       0.54|             9.7|        5|\n",
      "|            7.4|               0.7|          0.0|             1.9|      0.076|                 11.0|                  34.0|   0.9978|3.51|       0.56|      9.4|        5|            6.8|              0.22|         0.36|             1.2|      0.052|                 38.0|                 127.0|   0.9933|3.04|       0.54|             9.2|        5|\n",
      "|            7.4|               0.7|          0.0|             1.9|      0.076|                 11.0|                  34.0|   0.9978|3.51|       0.56|      9.4|        5|            6.5|              0.33|         0.38|             8.3|      0.048|                 68.0|                 174.0|  0.99492|3.14|        0.5|             9.6|        5|\n",
      "|            7.4|               0.7|          0.0|             1.9|      0.076|                 11.0|                  34.0|   0.9978|3.51|       0.56|      9.4|        5|            5.5|              0.32|         0.13|             1.3|      0.037|                 45.0|                 156.0|  0.99184|3.26|       0.38|            10.7|        5|\n",
      "|            7.4|               0.7|          0.0|             1.9|      0.076|                 11.0|                  34.0|   0.9978|3.51|       0.56|      9.4|        5|            5.9|              0.54|          0.0|             0.8|      0.032|                 12.0|                  82.0|  0.99286|3.25|       0.36|             8.8|        5|\n",
      "|            7.4|               0.7|          0.0|             1.9|      0.076|                 11.0|                  34.0|   0.9978|3.51|       0.56|      9.4|        5|            6.0|              0.42|         0.41|            12.4|      0.032|                 50.0|                 179.0|  0.99622|3.14|        0.6|             9.7|        5|\n",
      "|            7.4|               0.7|          0.0|             1.9|      0.076|                 11.0|                  34.0|   0.9978|3.51|       0.56|      9.4|        5|            6.0|              0.41|         0.23|             1.1|      0.066|                 22.0|                 148.0|  0.99266| 3.3|       0.47|9.63333333333333|        5|\n",
      "|            7.4|               0.7|          0.0|             1.9|      0.076|                 11.0|                  34.0|   0.9978|3.51|       0.56|      9.4|        5|            6.4|              0.35|         0.51|             7.8|      0.055|                 53.0|                 177.0|  0.99502|3.12|       0.45|             9.6|        5|\n",
      "|            7.4|               0.7|          0.0|             1.9|      0.076|                 11.0|                  34.0|   0.9978|3.51|       0.56|      9.4|        5|            5.2|              0.25|         0.23|             1.4|      0.047|                 20.0|                  77.0|  0.99001|3.32|       0.62|            11.4|        5|\n",
      "+---------------+------------------+-------------+----------------+-----------+---------------------+----------------------+---------+----+-----------+---------+---------+---------------+------------------+-------------+----------------+-----------+---------------------+----------------------+---------+----+-----------+----------------+---------+\n",
      "only showing top 10 rows\n",
      "\n"
     ]
    },
    {
     "data": {
      "text/plain": [
       "dfm = [fixed acidity_1: double, volatile acidity_1: double ... 22 more fields]\n"
      ]
     },
     "metadata": {},
     "output_type": "display_data"
    },
    {
     "data": {
      "text/plain": [
       "[fixed acidity_1: double, volatile acidity_1: double ... 22 more fields]"
      ]
     },
     "execution_count": 27,
     "metadata": {},
     "output_type": "execute_result"
    }
   ],
   "source": [
    "val dfm = F1.join(F2, F1(\"quality_1\")=== F2(\"quality_2\"))\n",
    "dfm.show(10)"
   ]
  },
  {
   "cell_type": "code",
   "execution_count": 28,
   "metadata": {},
   "outputs": [
    {
     "data": {
      "text/plain": [
       "2581650"
      ]
     },
     "execution_count": 28,
     "metadata": {},
     "output_type": "execute_result"
    }
   ],
   "source": [
    "dfm.count"
   ]
  },
  {
   "cell_type": "markdown",
   "metadata": {},
   "source": [
    "## Load dataset 3"
   ]
  },
  {
   "cell_type": "code",
   "execution_count": 29,
   "metadata": {},
   "outputs": [
    {
     "data": {
      "text/plain": [
       "df3 = [clump_thickness: int, size_uniformity: int ... 8 more fields]\n"
      ]
     },
     "metadata": {},
     "output_type": "display_data"
    },
    {
     "data": {
      "text/plain": [
       "[clump_thickness: int, size_uniformity: int ... 8 more fields]"
      ]
     },
     "execution_count": 29,
     "metadata": {},
     "output_type": "execute_result"
    }
   ],
   "source": [
    "val df3 = spark.read.\n",
    "  format(\"csv\").\n",
    "  option(\"header\", \"true\").\n",
    "  option(\"inferschema\", \"true\").\n",
    "  option(\"delimiter\",\",\").\n",
    "  load(\"../Datasets/Breast_cancer_wisconsin.csv\")"
   ]
  },
  {
   "cell_type": "code",
   "execution_count": 30,
   "metadata": {},
   "outputs": [
    {
     "name": "stdout",
     "output_type": "stream",
     "text": [
      "+---------------+---------------+----------------+-----------------+---------------+-------------+---------------+---------------+-------+-----+\n",
      "|clump_thickness|size_uniformity|shape_uniformity|marginal_adhesion|epithelial_size|bare_nucleoli|bland_chromatin|normal_nucleoli|mitoses|class|\n",
      "+---------------+---------------+----------------+-----------------+---------------+-------------+---------------+---------------+-------+-----+\n",
      "|              5|              1|               1|                1|              2|            1|              3|              1|      1|    0|\n",
      "|              5|              4|               4|                5|              7|           10|              3|              2|      1|    0|\n",
      "|              3|              1|               1|                1|              2|            2|              3|              1|      1|    0|\n",
      "|              6|              8|               8|                1|              3|            4|              3|              7|      1|    0|\n",
      "|              4|              1|               1|                3|              2|            1|              3|              1|      1|    0|\n",
      "|              8|             10|              10|                8|              7|           10|              9|              7|      1|    1|\n",
      "|              1|              1|               1|                1|              2|           10|              3|              1|      1|    0|\n",
      "|              2|              1|               2|                1|              2|            1|              3|              1|      1|    0|\n",
      "|              2|              1|               1|                1|              2|            1|              1|              1|      5|    0|\n",
      "|              4|              2|               1|                1|              2|            1|              2|              1|      1|    0|\n",
      "|              1|              1|               1|                1|              1|            1|              3|              1|      1|    0|\n",
      "|              2|              1|               1|                1|              2|            1|              2|              1|      1|    0|\n",
      "|              5|              3|               3|                3|              2|            3|              4|              4|      1|    1|\n",
      "|              1|              1|               1|                1|              2|            3|              3|              1|      1|    0|\n",
      "|              8|              7|               5|               10|              7|            9|              5|              5|      4|    1|\n",
      "|              7|              4|               6|                4|              6|            1|              4|              3|      1|    1|\n",
      "|              4|              1|               1|                1|              2|            1|              2|              1|      1|    0|\n",
      "|              4|              1|               1|                1|              2|            1|              3|              1|      1|    0|\n",
      "|             10|              7|               7|                6|              4|           10|              4|              1|      2|    1|\n",
      "|              6|              1|               1|                1|              2|            1|              3|              1|      1|    0|\n",
      "+---------------+---------------+----------------+-----------------+---------------+-------------+---------------+---------------+-------+-----+\n",
      "only showing top 20 rows\n",
      "\n"
     ]
    }
   ],
   "source": [
    "df3.show()"
   ]
  },
  {
   "cell_type": "code",
   "execution_count": 31,
   "metadata": {},
   "outputs": [
    {
     "name": "stdout",
     "output_type": "stream",
     "text": [
      "root\n",
      " |-- clump_thickness: integer (nullable = true)\n",
      " |-- size_uniformity: integer (nullable = true)\n",
      " |-- shape_uniformity: integer (nullable = true)\n",
      " |-- marginal_adhesion: integer (nullable = true)\n",
      " |-- epithelial_size: integer (nullable = true)\n",
      " |-- bare_nucleoli: string (nullable = true)\n",
      " |-- bland_chromatin: integer (nullable = true)\n",
      " |-- normal_nucleoli: integer (nullable = true)\n",
      " |-- mitoses: integer (nullable = true)\n",
      " |-- class: integer (nullable = true)\n",
      "\n"
     ]
    }
   ],
   "source": [
    "//df.select(df(\"color\"), df(\"color\").isin(\"green\")).show()\n",
    "df3.printSchema"
   ]
  },
  {
   "cell_type": "code",
   "execution_count": 32,
   "metadata": {},
   "outputs": [
    {
     "name": "stdout",
     "output_type": "stream",
     "text": [
      "+---------------+---------------+----------------+-----------------+---------------+-------------+---------------+---------------+-------+-----+\n",
      "|clump_thickness|size_uniformity|shape_uniformity|marginal_adhesion|epithelial_size|bare_nucleoli|bland_chromatin|normal_nucleoli|mitoses|class|\n",
      "+---------------+---------------+----------------+-----------------+---------------+-------------+---------------+---------------+-------+-----+\n",
      "|              8|              4|               5|                1|              2|            ?|              7|              3|      1|    1|\n",
      "|              6|              6|               6|                9|              6|            ?|              7|              8|      1|    0|\n",
      "|              1|              1|               1|                1|              1|            ?|              2|              1|      1|    0|\n",
      "|              1|              1|               3|                1|              2|            ?|              2|              1|      1|    0|\n",
      "|              1|              1|               2|                1|              3|            ?|              1|              1|      1|    0|\n",
      "|              5|              1|               1|                1|              2|            ?|              3|              1|      1|    0|\n",
      "|              3|              1|               4|                1|              2|            ?|              3|              1|      1|    0|\n",
      "|              3|              1|               1|                1|              2|            ?|              3|              1|      1|    0|\n",
      "|              3|              1|               3|                1|              2|            ?|              2|              1|      1|    0|\n",
      "|              8|              8|               8|                1|              2|            ?|              6|             10|      1|    1|\n",
      "|              1|              1|               1|                1|              2|            ?|              2|              1|      1|    0|\n",
      "|              5|              4|               3|                1|              2|            ?|              2|              3|      1|    0|\n",
      "|              4|              6|               5|                6|              7|            ?|              4|              9|      1|    0|\n",
      "|              3|              1|               1|                1|              2|            ?|              3|              1|      1|    0|\n",
      "|              1|              1|               1|                1|              1|            ?|              2|              1|      1|    0|\n",
      "|              1|              1|               1|                1|              1|            ?|              1|              1|      1|    0|\n",
      "+---------------+---------------+----------------+-----------------+---------------+-------------+---------------+---------------+-------+-----+\n",
      "\n"
     ]
    }
   ],
   "source": [
    "df3.filter(df3(\"bare_nucleoli\") === \"?\").show()"
   ]
  },
  {
   "cell_type": "code",
   "execution_count": 33,
   "metadata": {},
   "outputs": [
    {
     "data": {
      "text/plain": [
       "16"
      ]
     },
     "execution_count": 33,
     "metadata": {},
     "output_type": "execute_result"
    }
   ],
   "source": [
    "df3.filter(df3(\"bare_nucleoli\") === \"?\").count"
   ]
  },
  {
   "cell_type": "markdown",
   "metadata": {},
   "source": [
    "## Cast columns to double"
   ]
  },
  {
   "cell_type": "code",
   "execution_count": 34,
   "metadata": {},
   "outputs": [
    {
     "data": {
      "text/plain": [
       "Columns_cast = Array(CAST(clump_thickness AS DOUBLE), CAST(size_uniformity AS DOUBLE), CAST(shape_uniformity AS DOUBLE), CAST(marginal_adhesion AS DOUBLE), CAST(epithelial_size AS DOUBLE), CAST(bare_nucleoli AS DOUBLE), CAST(bland_chromatin AS DOUBLE), CAST(normal_nucleoli AS DOUBLE), CAST(mitoses AS DOUBLE), CAST(class AS DOUBLE))\n",
       "df4 = [clump_thickness: double, size_uniformity: double ... 8 more fields]\n"
      ]
     },
     "metadata": {},
     "output_type": "display_data"
    },
    {
     "data": {
      "text/plain": [
       "[clump_thickness: double, size_uniformity: double ... 8 more fields]"
      ]
     },
     "execution_count": 34,
     "metadata": {},
     "output_type": "execute_result"
    }
   ],
   "source": [
    "val Columns_cast = df3.columns.map(name => df3(name).cast(\"double\"))\n",
    "val df4 = df3.select(Columns_cast : _*)"
   ]
  },
  {
   "cell_type": "code",
   "execution_count": 35,
   "metadata": {},
   "outputs": [
    {
     "name": "stdout",
     "output_type": "stream",
     "text": [
      "+---------------+---------------+----------------+-----------------+---------------+-------------+---------------+---------------+-------+-----+\n",
      "|clump_thickness|size_uniformity|shape_uniformity|marginal_adhesion|epithelial_size|bare_nucleoli|bland_chromatin|normal_nucleoli|mitoses|class|\n",
      "+---------------+---------------+----------------+-----------------+---------------+-------------+---------------+---------------+-------+-----+\n",
      "|            5.0|            1.0|             1.0|              1.0|            2.0|          1.0|            3.0|            1.0|    1.0|  0.0|\n",
      "|            5.0|            4.0|             4.0|              5.0|            7.0|         10.0|            3.0|            2.0|    1.0|  0.0|\n",
      "|            3.0|            1.0|             1.0|              1.0|            2.0|          2.0|            3.0|            1.0|    1.0|  0.0|\n",
      "|            6.0|            8.0|             8.0|              1.0|            3.0|          4.0|            3.0|            7.0|    1.0|  0.0|\n",
      "|            4.0|            1.0|             1.0|              3.0|            2.0|          1.0|            3.0|            1.0|    1.0|  0.0|\n",
      "|            8.0|           10.0|            10.0|              8.0|            7.0|         10.0|            9.0|            7.0|    1.0|  1.0|\n",
      "|            1.0|            1.0|             1.0|              1.0|            2.0|         10.0|            3.0|            1.0|    1.0|  0.0|\n",
      "|            2.0|            1.0|             2.0|              1.0|            2.0|          1.0|            3.0|            1.0|    1.0|  0.0|\n",
      "|            2.0|            1.0|             1.0|              1.0|            2.0|          1.0|            1.0|            1.0|    5.0|  0.0|\n",
      "|            4.0|            2.0|             1.0|              1.0|            2.0|          1.0|            2.0|            1.0|    1.0|  0.0|\n",
      "|            1.0|            1.0|             1.0|              1.0|            1.0|          1.0|            3.0|            1.0|    1.0|  0.0|\n",
      "|            2.0|            1.0|             1.0|              1.0|            2.0|          1.0|            2.0|            1.0|    1.0|  0.0|\n",
      "|            5.0|            3.0|             3.0|              3.0|            2.0|          3.0|            4.0|            4.0|    1.0|  1.0|\n",
      "|            1.0|            1.0|             1.0|              1.0|            2.0|          3.0|            3.0|            1.0|    1.0|  0.0|\n",
      "|            8.0|            7.0|             5.0|             10.0|            7.0|          9.0|            5.0|            5.0|    4.0|  1.0|\n",
      "|            7.0|            4.0|             6.0|              4.0|            6.0|          1.0|            4.0|            3.0|    1.0|  1.0|\n",
      "|            4.0|            1.0|             1.0|              1.0|            2.0|          1.0|            2.0|            1.0|    1.0|  0.0|\n",
      "|            4.0|            1.0|             1.0|              1.0|            2.0|          1.0|            3.0|            1.0|    1.0|  0.0|\n",
      "|           10.0|            7.0|             7.0|              6.0|            4.0|         10.0|            4.0|            1.0|    2.0|  1.0|\n",
      "|            6.0|            1.0|             1.0|              1.0|            2.0|          1.0|            3.0|            1.0|    1.0|  0.0|\n",
      "+---------------+---------------+----------------+-----------------+---------------+-------------+---------------+---------------+-------+-----+\n",
      "only showing top 20 rows\n",
      "\n"
     ]
    }
   ],
   "source": [
    "df4.show()"
   ]
  },
  {
   "cell_type": "code",
   "execution_count": 36,
   "metadata": {},
   "outputs": [
    {
     "name": "stdout",
     "output_type": "stream",
     "text": [
      "root\n",
      " |-- clump_thickness: double (nullable = true)\n",
      " |-- size_uniformity: double (nullable = true)\n",
      " |-- shape_uniformity: double (nullable = true)\n",
      " |-- marginal_adhesion: double (nullable = true)\n",
      " |-- epithelial_size: double (nullable = true)\n",
      " |-- bare_nucleoli: double (nullable = true)\n",
      " |-- bland_chromatin: double (nullable = true)\n",
      " |-- normal_nucleoli: double (nullable = true)\n",
      " |-- mitoses: double (nullable = true)\n",
      " |-- class: double (nullable = true)\n",
      "\n"
     ]
    }
   ],
   "source": [
    "df4.printSchema"
   ]
  },
  {
   "cell_type": "markdown",
   "metadata": {},
   "source": [
    "## Replace NaNs with the mean"
   ]
  },
  {
   "cell_type": "code",
   "execution_count": 37,
   "metadata": {},
   "outputs": [
    {
     "data": {
      "text/plain": [
       "M = Array(3.5446559297218156)\n"
      ]
     },
     "metadata": {},
     "output_type": "display_data"
    },
    {
     "data": {
      "text/plain": [
       "[3.5446559297218156]"
      ]
     },
     "execution_count": 37,
     "metadata": {},
     "output_type": "execute_result"
    }
   ],
   "source": [
    "val M = df4.select(mean(\"bare_nucleoli\")).as[Double].collect\n",
    "M"
   ]
  },
  {
   "cell_type": "code",
   "execution_count": 38,
   "metadata": {},
   "outputs": [
    {
     "name": "stdout",
     "output_type": "stream",
     "text": [
      "+---------------+---------------+----------------+-----------------+---------------+-------------+---------------+---------------+-------+-----+\n",
      "|clump_thickness|size_uniformity|shape_uniformity|marginal_adhesion|epithelial_size|bare_nucleoli|bland_chromatin|normal_nucleoli|mitoses|class|\n",
      "+---------------+---------------+----------------+-----------------+---------------+-------------+---------------+---------------+-------+-----+\n",
      "|            5.0|            1.0|             1.0|              1.0|            2.0|          1.0|            3.0|            1.0|    1.0|  0.0|\n",
      "|            5.0|            4.0|             4.0|              5.0|            7.0|         10.0|            3.0|            2.0|    1.0|  0.0|\n",
      "|            3.0|            1.0|             1.0|              1.0|            2.0|          2.0|            3.0|            1.0|    1.0|  0.0|\n",
      "|            6.0|            8.0|             8.0|              1.0|            3.0|          4.0|            3.0|            7.0|    1.0|  0.0|\n",
      "|            4.0|            1.0|             1.0|              3.0|            2.0|          1.0|            3.0|            1.0|    1.0|  0.0|\n",
      "|            8.0|           10.0|            10.0|              8.0|            7.0|         10.0|            9.0|            7.0|    1.0|  1.0|\n",
      "|            1.0|            1.0|             1.0|              1.0|            2.0|         10.0|            3.0|            1.0|    1.0|  0.0|\n",
      "|            2.0|            1.0|             2.0|              1.0|            2.0|          1.0|            3.0|            1.0|    1.0|  0.0|\n",
      "|            2.0|            1.0|             1.0|              1.0|            2.0|          1.0|            1.0|            1.0|    5.0|  0.0|\n",
      "|            4.0|            2.0|             1.0|              1.0|            2.0|          1.0|            2.0|            1.0|    1.0|  0.0|\n",
      "|            1.0|            1.0|             1.0|              1.0|            1.0|          1.0|            3.0|            1.0|    1.0|  0.0|\n",
      "|            2.0|            1.0|             1.0|              1.0|            2.0|          1.0|            2.0|            1.0|    1.0|  0.0|\n",
      "|            5.0|            3.0|             3.0|              3.0|            2.0|          3.0|            4.0|            4.0|    1.0|  1.0|\n",
      "|            1.0|            1.0|             1.0|              1.0|            2.0|          3.0|            3.0|            1.0|    1.0|  0.0|\n",
      "|            8.0|            7.0|             5.0|             10.0|            7.0|          9.0|            5.0|            5.0|    4.0|  1.0|\n",
      "|            7.0|            4.0|             6.0|              4.0|            6.0|          1.0|            4.0|            3.0|    1.0|  1.0|\n",
      "|            4.0|            1.0|             1.0|              1.0|            2.0|          1.0|            2.0|            1.0|    1.0|  0.0|\n",
      "|            4.0|            1.0|             1.0|              1.0|            2.0|          1.0|            3.0|            1.0|    1.0|  0.0|\n",
      "|           10.0|            7.0|             7.0|              6.0|            4.0|         10.0|            4.0|            1.0|    2.0|  1.0|\n",
      "|            6.0|            1.0|             1.0|              1.0|            2.0|          1.0|            3.0|            1.0|    1.0|  0.0|\n",
      "+---------------+---------------+----------------+-----------------+---------------+-------------+---------------+---------------+-------+-----+\n",
      "only showing top 20 rows\n",
      "\n"
     ]
    }
   ],
   "source": [
    "df4.na.fill(M(0)).show()"
   ]
  }
 ],
 "metadata": {
  "kernelspec": {
   "display_name": "Apache Toree - Scala",
   "language": "scala",
   "name": "apache_toree_scala"
  },
  "language_info": {
   "codemirror_mode": "text/x-scala",
   "file_extension": ".scala",
   "mimetype": "text/x-scala",
   "name": "scala",
   "pygments_lexer": "scala",
   "version": "2.11.8"
  }
 },
 "nbformat": 4,
 "nbformat_minor": 2
}
