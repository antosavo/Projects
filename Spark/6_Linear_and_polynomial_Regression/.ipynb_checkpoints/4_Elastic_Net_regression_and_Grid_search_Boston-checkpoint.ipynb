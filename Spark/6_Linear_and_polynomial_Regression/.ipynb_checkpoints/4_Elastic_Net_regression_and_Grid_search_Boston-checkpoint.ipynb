{
 "cells": [
  {
   "cell_type": "code",
   "execution_count": 1,
   "metadata": {
    "collapsed": true
   },
   "outputs": [],
   "source": [
    "import org.apache.spark.sql.functions._\n",
    "import org.apache.spark.ml.linalg.Vectors\n",
    "import org.apache.spark.ml.linalg.DenseVector\n",
    "import org.apache.spark.ml.regression.LinearRegression\n",
    "import org.apache.spark.ml.feature.VectorAssembler\n",
    "import org.apache.spark.ml.feature.{MinMaxScaler,StandardScaler}\n",
    "import org.apache.spark.ml.tuning.{CrossValidator, ParamGridBuilder}\n",
    "import org.apache.spark.ml.evaluation.RegressionEvaluator\n",
    "import breeze.plot._\n",
    "import convert.jfc.tohtml"
   ]
  },
  {
   "cell_type": "markdown",
   "metadata": {},
   "source": [
    "## Load the dataset"
   ]
  },
  {
   "cell_type": "code",
   "execution_count": 2,
   "metadata": {},
   "outputs": [
    {
     "data": {
      "text/plain": [
       "df = [CRIM: double, ZN: double ... 12 more fields]\n"
      ]
     },
     "metadata": {},
     "output_type": "display_data"
    },
    {
     "data": {
      "text/plain": [
       "[CRIM: double, ZN: double ... 12 more fields]"
      ]
     },
     "execution_count": 2,
     "metadata": {},
     "output_type": "execute_result"
    }
   ],
   "source": [
    "val df = spark.read.\n",
    "  format(\"csv\").\n",
    "  option(\"header\", \"true\").\n",
    "  option(\"inferschema\", \"true\").\n",
    "  option(\"delimiter\",\",\").\n",
    "  load(\"../Datasets/Boston.csv\")"
   ]
  },
  {
   "cell_type": "markdown",
   "metadata": {},
   "source": [
    "## Explore the dataset"
   ]
  },
  {
   "cell_type": "code",
   "execution_count": 3,
   "metadata": {},
   "outputs": [
    {
     "name": "stdout",
     "output_type": "stream",
     "text": [
      "+-----------+----+-----------+----+-----------+-----------+-----------+-----------+---+---+-----------+-----------+-----------+-----------+\n",
      "|       CRIM|  ZN|      INDUS|CHAS|        NOX|         RM|        AGE|        DIS|RAD|TAX|    PTRATIO|          B|      LSTAT|       MEDV|\n",
      "+-----------+----+-----------+----+-----------+-----------+-----------+-----------+---+---+-----------+-----------+-----------+-----------+\n",
      "|    0.00632|18.0|2.309999943|   0|0.537999988|6.574999809|65.19999695|4.090000153|  1|296|15.30000019|396.8999939|4.980000019|       24.0|\n",
      "|0.027310001| 0.0|7.070000172|   0|0.469000012|6.421000004|78.90000153|4.967100143|  2|242|17.79999924|396.8999939|9.140000343|21.60000038|\n",
      "|    0.02729| 0.0|7.070000172|   0|0.469000012|7.184999943|61.09999847|4.967100143|  2|242|17.79999924|392.8299866| 4.03000021|34.70000076|\n",
      "|0.032370001| 0.0|2.180000067|   0|0.458000004|6.998000145|45.79999924|6.062200069|  3|222|18.70000076|394.6300049|2.940000057|33.40000153|\n",
      "|0.069049999| 0.0|2.180000067|   0|0.458000004|7.146999836|54.20000076|6.062200069|  3|222|18.70000076|396.8999939|5.329999924|36.20000076|\n",
      "|0.029850001| 0.0|2.180000067|   0|0.458000004|6.429999828|58.70000076|6.062200069|  3|222|18.70000076|394.1199951|5.210000038|28.70000076|\n",
      "|0.088289998|12.5|7.869999886|   0|0.523999989|6.012000084|66.59999847|5.560500145|  5|311|15.19999981|395.6000061|12.43000031|22.89999962|\n",
      "|0.144549996|12.5|7.869999886|   0|0.523999989|6.171999931|96.09999847|5.950500011|  5|311|15.19999981|396.8999939|19.14999962|27.10000038|\n",
      "|0.211239994|12.5|7.869999886|   0|0.523999989|5.631000042|      100.0|6.082099915|  5|311|15.19999981|386.6300049|29.93000031|       16.5|\n",
      "|0.170039997|12.5|7.869999886|   0|0.523999989|6.004000187|85.90000153|6.592100143|  5|311|15.19999981|386.7099915|17.10000038|18.89999962|\n",
      "+-----------+----+-----------+----+-----------+-----------+-----------+-----------+---+---+-----------+-----------+-----------+-----------+\n",
      "only showing top 10 rows\n",
      "\n"
     ]
    }
   ],
   "source": [
    "df.show(10)"
   ]
  },
  {
   "cell_type": "code",
   "execution_count": 4,
   "metadata": {},
   "outputs": [
    {
     "name": "stdout",
     "output_type": "stream",
     "text": [
      "root\n",
      " |-- CRIM: double (nullable = true)\n",
      " |-- ZN: double (nullable = true)\n",
      " |-- INDUS: double (nullable = true)\n",
      " |-- CHAS: integer (nullable = true)\n",
      " |-- NOX: double (nullable = true)\n",
      " |-- RM: double (nullable = true)\n",
      " |-- AGE: double (nullable = true)\n",
      " |-- DIS: double (nullable = true)\n",
      " |-- RAD: integer (nullable = true)\n",
      " |-- TAX: integer (nullable = true)\n",
      " |-- PTRATIO: double (nullable = true)\n",
      " |-- B: double (nullable = true)\n",
      " |-- LSTAT: double (nullable = true)\n",
      " |-- MEDV: double (nullable = true)\n",
      "\n"
     ]
    }
   ],
   "source": [
    "df.printSchema"
   ]
  },
  {
   "cell_type": "code",
   "execution_count": 5,
   "metadata": {},
   "outputs": [
    {
     "name": "stdout",
     "output_type": "stream",
     "text": [
      "+-------+------------------+------------------+------------------+------------------+------------------+------------------+------------------+------------------+-----------------+------------------+-----------------+------------------+------------------+-----------------+\n",
      "|summary|              CRIM|                ZN|             INDUS|              CHAS|               NOX|                RM|               AGE|               DIS|              RAD|               TAX|          PTRATIO|                 B|             LSTAT|             MEDV|\n",
      "+-------+------------------+------------------+------------------+------------------+------------------+------------------+------------------+------------------+-----------------+------------------+-----------------+------------------+------------------+-----------------+\n",
      "|  count|               506|               506|               506|               506|               506|               506|               506|               506|              506|               506|              506|               506|               506|              506|\n",
      "|   mean|3.6135235608162057|11.363636363636363|11.136778749531626|0.0691699604743083|0.5546950602312246|  6.28463438896641| 68.57490120115612|3.7950426960059325|9.549407114624506| 408.2371541501976|18.45553382776679|356.67402960597883|12.653063233922925|22.53280636250988|\n",
      "| stddev| 8.601545086715594| 23.32245299451514|  6.86035298095724|0.2539940413404101|0.1158776754570543|0.7026171549511354|28.148861532793276| 2.105710142043288|8.707259384239366|168.53711605495903|2.164945780039869| 91.29486340272308| 7.141061500195388|9.197104107945272|\n",
      "|    min|           0.00632|               0.0|       0.460000008|                 0|        0.38499999|       3.561000109|       2.900000095|       1.129600048|                1|               187|      12.60000038|       0.319999993|       1.730000019|              5.0|\n",
      "|    max|       88.97619629|             100.0|       27.73999977|                 1|       0.870999992|       8.779999733|             100.0|       12.12650013|               24|               711|             22.0|       396.8999939|       37.97000122|             50.0|\n",
      "+-------+------------------+------------------+------------------+------------------+------------------+------------------+------------------+------------------+-----------------+------------------+-----------------+------------------+------------------+-----------------+\n",
      "\n"
     ]
    }
   ],
   "source": [
    "df.describe().show()"
   ]
  },
  {
   "cell_type": "code",
   "execution_count": 6,
   "metadata": {},
   "outputs": [
    {
     "data": {
      "text/plain": [
       "[CRIM, ZN, INDUS, CHAS, NOX, RM, AGE, DIS, RAD, TAX, PTRATIO, B, LSTAT, MEDV]"
      ]
     },
     "execution_count": 6,
     "metadata": {},
     "output_type": "execute_result"
    }
   ],
   "source": [
    "df.columns"
   ]
  },
  {
   "cell_type": "code",
   "execution_count": 7,
   "metadata": {},
   "outputs": [
    {
     "data": {
      "text/plain": [
       "14"
      ]
     },
     "execution_count": 7,
     "metadata": {},
     "output_type": "execute_result"
    }
   ],
   "source": [
    "df.columns.length"
   ]
  },
  {
   "cell_type": "code",
   "execution_count": 8,
   "metadata": {},
   "outputs": [
    {
     "data": {
      "text/plain": [
       "506"
      ]
     },
     "execution_count": 8,
     "metadata": {},
     "output_type": "execute_result"
    }
   ],
   "source": [
    "df.count"
   ]
  },
  {
   "cell_type": "code",
   "execution_count": 9,
   "metadata": {},
   "outputs": [
    {
     "name": "stdout",
     "output_type": "stream",
     "text": [
      "+-------+--------------------+\n",
      "|colname|         correlation|\n",
      "+-------+--------------------+\n",
      "|   CRIM| -0.3883046116575088|\n",
      "|     ZN| 0.36044534463752903|\n",
      "|  INDUS|-0.48372517128143383|\n",
      "|   CHAS| 0.17526017775291847|\n",
      "|    NOX| -0.4273207763683772|\n",
      "|     RM|   0.695359937127267|\n",
      "|    AGE|-0.37695456714288667|\n",
      "|    DIS| 0.24992873873512172|\n",
      "|    RAD| -0.3816262315669168|\n",
      "|    TAX|-0.46853593528654536|\n",
      "|PTRATIO| -0.5077867038116085|\n",
      "|      B|  0.3334608226834164|\n",
      "|  LSTAT| -0.7376627294671615|\n",
      "|   MEDV|                 1.0|\n",
      "+-------+--------------------+\n",
      "\n"
     ]
    },
    {
     "data": {
      "text/plain": [
       "L = List((CRIM,-0.3883046116575088), (ZN,0.36044534463752903), (INDUS,-0.48372517128143383), (CHAS,0.17526017775291847), (NOX,-0.4273207763683772), (RM,0.695359937127267), (AGE,-0.37695456714288667), (DIS,0.24992873873512172), (RAD,-0.3816262315669168), (TAX,-0.46853593528654536), (PTRATIO,-0.5077867038116085), (B,0.3334608226834164), (LSTAT,-0.7376627294671615), (MEDV,1.0))\n",
       "df_corr = [colname: string, correlation: double]\n"
      ]
     },
     "metadata": {},
     "output_type": "display_data"
    },
    {
     "data": {
      "text/plain": [
       "[colname: string, correlation: double]"
      ]
     },
     "execution_count": 9,
     "metadata": {},
     "output_type": "execute_result"
    }
   ],
   "source": [
    "var L = List.empty[(String,Double)]\n",
    "\n",
    "for(cn <- df.columns) L = L :+ (cn,df.stat.corr(\"MEDV\", cn))\n",
    "\n",
    "val df_corr = L.toDF(\"colname\",\"correlation\")\n",
    "df_corr.show()"
   ]
  },
  {
   "cell_type": "code",
   "execution_count": 10,
   "metadata": {},
   "outputs": [
    {
     "name": "stdout",
     "output_type": "stream",
     "text": [
      "+-------+-------------------+                                                   \n",
      "|colname|   abs(correlation)|\n",
      "+-------+-------------------+\n",
      "|   MEDV|                1.0|\n",
      "|  LSTAT| 0.7376627294671615|\n",
      "|     RM|  0.695359937127267|\n",
      "|PTRATIO| 0.5077867038116085|\n",
      "|  INDUS|0.48372517128143383|\n",
      "|    TAX|0.46853593528654536|\n",
      "|    NOX| 0.4273207763683772|\n",
      "|   CRIM| 0.3883046116575088|\n",
      "|    RAD| 0.3816262315669168|\n",
      "|    AGE|0.37695456714288667|\n",
      "|     ZN|0.36044534463752903|\n",
      "|      B| 0.3334608226834164|\n",
      "|    DIS|0.24992873873512172|\n",
      "|   CHAS|0.17526017775291847|\n",
      "+-------+-------------------+\n",
      "\n"
     ]
    }
   ],
   "source": [
    "df_corr.select(col(\"colname\"),abs(col(\"correlation\"))).sort(col(\"abs(correlation)\").desc).show()"
   ]
  },
  {
   "cell_type": "markdown",
   "metadata": {},
   "source": [
    "## Apply Vector Assembler"
   ]
  },
  {
   "cell_type": "code",
   "execution_count": 11,
   "metadata": {},
   "outputs": [
    {
     "data": {
      "text/plain": [
       "features = Array(CRIM, ZN, INDUS, CHAS, NOX, RM, AGE, DIS, RAD, TAX, PTRATIO, B, LSTAT)\n"
      ]
     },
     "metadata": {},
     "output_type": "display_data"
    },
    {
     "data": {
      "text/plain": [
       "[CRIM, ZN, INDUS, CHAS, NOX, RM, AGE, DIS, RAD, TAX, PTRATIO, B, LSTAT]"
      ]
     },
     "execution_count": 11,
     "metadata": {},
     "output_type": "execute_result"
    }
   ],
   "source": [
    "val features = df.columns.slice(0,df.columns.length -1)"
   ]
  },
  {
   "cell_type": "code",
   "execution_count": 12,
   "metadata": {},
   "outputs": [
    {
     "data": {
      "text/plain": [
       "assembler = vecAssembler_8cddf5b9128f\n"
      ]
     },
     "metadata": {},
     "output_type": "display_data"
    },
    {
     "data": {
      "text/plain": [
       "vecAssembler_8cddf5b9128f"
      ]
     },
     "execution_count": 12,
     "metadata": {},
     "output_type": "execute_result"
    }
   ],
   "source": [
    "val assembler = new VectorAssembler().\n",
    "  setInputCols(features).//setInputCols(Array(\"_c1\", \"_c2\")).\n",
    "  setOutputCol(\"features\")"
   ]
  },
  {
   "cell_type": "code",
   "execution_count": 13,
   "metadata": {},
   "outputs": [
    {
     "name": "stdout",
     "output_type": "stream",
     "text": [
      "+--------------------+-----------+\n",
      "|            features|      label|\n",
      "+--------------------+-----------+\n",
      "|[0.00632,18.0,2.3...|       24.0|\n",
      "|[0.027310001,0.0,...|21.60000038|\n",
      "|[0.02729,0.0,7.07...|34.70000076|\n",
      "|[0.032370001,0.0,...|33.40000153|\n",
      "|[0.069049999,0.0,...|36.20000076|\n",
      "|[0.029850001,0.0,...|28.70000076|\n",
      "|[0.088289998,12.5...|22.89999962|\n",
      "|[0.144549996,12.5...|27.10000038|\n",
      "|[0.211239994,12.5...|       16.5|\n",
      "|[0.170039997,12.5...|18.89999962|\n",
      "+--------------------+-----------+\n",
      "only showing top 10 rows\n",
      "\n"
     ]
    },
    {
     "data": {
      "text/plain": [
       "df_v = [features: vector, label: double]\n"
      ]
     },
     "metadata": {},
     "output_type": "display_data"
    },
    {
     "data": {
      "text/plain": [
       "[features: vector, label: double]"
      ]
     },
     "execution_count": 13,
     "metadata": {},
     "output_type": "execute_result"
    }
   ],
   "source": [
    "val df_v = assembler.transform(df).\n",
    "    select(col(\"features\"), col(\"MEDV\").as(\"label\"))\n",
    "\n",
    "df_v.show(10)"
   ]
  },
  {
   "cell_type": "markdown",
   "metadata": {},
   "source": [
    "## Split into train and test sets"
   ]
  },
  {
   "cell_type": "code",
   "execution_count": 14,
   "metadata": {},
   "outputs": [
    {
     "data": {
      "text/plain": [
       "trainingData = [features: vector, label: double]\n",
       "testData = [features: vector, label: double]\n"
      ]
     },
     "metadata": {},
     "output_type": "display_data"
    },
    {
     "data": {
      "text/plain": [
       "[features: vector, label: double]"
      ]
     },
     "execution_count": 14,
     "metadata": {},
     "output_type": "execute_result"
    }
   ],
   "source": [
    "val Array(trainingData, testData) = df_v.randomSplit(Array(0.7, 0.3))"
   ]
  },
  {
   "cell_type": "markdown",
   "metadata": {},
   "source": [
    "## Scale the features"
   ]
  },
  {
   "cell_type": "code",
   "execution_count": 15,
   "metadata": {},
   "outputs": [
    {
     "data": {
      "text/plain": [
       "scaler = minMaxScal_51017282211c\n"
      ]
     },
     "metadata": {},
     "output_type": "display_data"
    },
    {
     "data": {
      "text/plain": [
       "minMaxScal_51017282211c"
      ]
     },
     "execution_count": 15,
     "metadata": {},
     "output_type": "execute_result"
    }
   ],
   "source": [
    "val scaler = new MinMaxScaler().//StandardScaler().\n",
    "  setInputCol(\"features\").\n",
    "  setOutputCol(\"scaledFeatures\")"
   ]
  },
  {
   "cell_type": "code",
   "execution_count": 16,
   "metadata": {},
   "outputs": [
    {
     "data": {
      "text/plain": [
       "s = minMaxScal_51017282211c\n"
      ]
     },
     "metadata": {},
     "output_type": "display_data"
    },
    {
     "data": {
      "text/plain": [
       "minMaxScal_51017282211c"
      ]
     },
     "execution_count": 16,
     "metadata": {},
     "output_type": "execute_result"
    }
   ],
   "source": [
    "val s = scaler.fit(trainingData)"
   ]
  },
  {
   "cell_type": "code",
   "execution_count": 17,
   "metadata": {},
   "outputs": [
    {
     "data": {
      "text/plain": [
       "trainingData_s = [features: vector, label: double ... 1 more field]\n",
       "testData_s = [features: vector, label: double ... 1 more field]\n"
      ]
     },
     "metadata": {},
     "output_type": "display_data"
    },
    {
     "data": {
      "text/plain": [
       "[features: vector, label: double ... 1 more field]"
      ]
     },
     "execution_count": 17,
     "metadata": {},
     "output_type": "execute_result"
    }
   ],
   "source": [
    "val trainingData_s = s.transform(trainingData)\n",
    "val testData_s = s.transform(testData)"
   ]
  },
  {
   "cell_type": "markdown",
   "metadata": {},
   "source": [
    "## Hyperparameter optimization with cross-validation"
   ]
  },
  {
   "cell_type": "code",
   "execution_count": 18,
   "metadata": {},
   "outputs": [
    {
     "data": {
      "text/plain": [
       "lr = linReg_f33951b07d6d\n"
      ]
     },
     "metadata": {},
     "output_type": "display_data"
    },
    {
     "data": {
      "text/plain": [
       "linReg_f33951b07d6d"
      ]
     },
     "execution_count": 18,
     "metadata": {},
     "output_type": "execute_result"
    }
   ],
   "source": [
    "val lr = new LinearRegression().\n",
    "  setMaxIter(100).//setElasticNetParam(1.0).\n",
    "  setFeaturesCol(\"scaledFeatures\")\n",
    "  //setLabelCol(\"y\"). //by default input columns: label and features\n",
    "  //setFeaturesCol(\"x\")"
   ]
  },
  {
   "cell_type": "code",
   "execution_count": 19,
   "metadata": {},
   "outputs": [
    {
     "data": {
      "text/plain": [
       "evaluator = regEval_89c487447288\n"
      ]
     },
     "metadata": {},
     "output_type": "display_data"
    },
    {
     "data": {
      "text/plain": [
       "regEval_89c487447288"
      ]
     },
     "execution_count": 19,
     "metadata": {},
     "output_type": "execute_result"
    }
   ],
   "source": [
    "val evaluator = new RegressionEvaluator().setMetricName(\"r2\")\n",
    "  //setLabelCol(\"label\").\n",
    "  //setPredictionCol(\"prediction\")"
   ]
  },
  {
   "cell_type": "code",
   "execution_count": 20,
   "metadata": {},
   "outputs": [
    {
     "data": {
      "text/plain": [
       "paramGrid = \n"
      ]
     },
     "metadata": {},
     "output_type": "display_data"
    },
    {
     "data": {
      "text/plain": [
       "Array({\n",
       "\tlinReg_f33951b07d6d-elasticNetParam: 0.1,\n",
       "\tlinReg_f33951b07d6d-regParam: 1.0E-4\n",
       "}, {\n",
       "\tlinReg_f33951b07d6d-elasticNetParam: 0.2,\n",
       "\tlinReg_f33951b07d6d-regParam: 1.0E-4\n",
       "}, {\n",
       "\tlinReg_f33951b07d6d-elasticNetParam: 0.4,\n",
       "\tlinReg_f33951b07d6d-regParam: 1.0E-4\n",
       "}, {\n",
       "\tlinReg_f33951b07d6d-elasticNetParam: 0.5,\n",
       "\tlinReg_f33951b07d6d-regParam: 1.0E-4\n",
       "}, {\n",
       "\tlinReg_f33951b07d6d-elasticNetParam: 0.6,\n",
       "\tlinReg_f33951b07d6d-regParam: 1.0E-4\n",
       "}, {\n",
       "\tlinReg_f33951b07d6d-elasticNetParam: 0.7,\n",
       "\tlinReg_f33951b07d6d-regParam: 1.0E-4\n",
       "}, {\n",
       "\tlinReg_f33951b07d6d-elasticNetParam: 0.8,\n",
       "\tlinReg_f33951b07d6d-regParam: 1.0E-4\n",
       "}, {\n",
       "\tlinReg_f33951b07d6d-elasticNetParam: 0.9,\n",
       "\tlinReg_f33951b07d6d-regParam: 1.0E-4\n",
       "}, {\n",
       "\tlinReg_f33951b07d6d-elasticNetParam: 1.0,\n",
       "\tli...\n"
      ]
     },
     "metadata": {},
     "output_type": "display_data"
    },
    {
     "data": {
      "text/plain": [
       "[{\n",
       "\tlinReg_f33951b07d6d-elasticNetParam: 0.1,\n",
       "\tlinReg_f33951b07d6d-regParam: 1.0E-4\n",
       "}, {\n",
       "\tlinReg_f33951b07d6d-elasticNetParam: 0.2,\n",
       "\tlinReg_f33951b07d6d-regParam: 1.0E-4\n",
       "}, {\n",
       "\tlinReg_f33951b07d6d-elasticNetParam: 0.4,\n",
       "\tlinReg_f33951b07d6d-regParam: 1.0E-4\n",
       "}, {\n",
       "\tlinReg_f33951b07d6d-elasticNetParam: 0.5,\n",
       "\tlinReg_f33951b07d6d-regParam: 1.0E-4\n",
       "}, {\n",
       "\tlinReg_f33951b07d6d-elasticNetParam: 0.6,\n",
       "\tlinReg_f33951b07d6d-regParam: 1.0E-4\n",
       "}, {\n",
       "\tlinReg_f33951b07d6d-elasticNetParam: 0.7,\n",
       "\tlinReg_f33951b07d6d-regParam: 1.0E-4\n",
       "}, {\n",
       "\tlinReg_f33951b07d6d-elasticNetParam: 0.8,\n",
       "\tlinReg_f33951b07d6d-regParam: 1.0E-4\n",
       "}, {\n",
       "\tlinReg_f33951b07d6d-elasticNetParam: 0.9,\n",
       "\tlinReg_f33951b07d6d-regParam: 1.0E-4\n",
       "}, {\n",
       "\tlinReg_f33951b07d6d-elasticNetParam: 1.0,\n",
       "\tlinReg_f33951b07d6d-regParam: 1.0E-4\n",
       "}, {\n",
       "\tlinReg_f33951b07d6d-elasticNetParam: 0.1,\n",
       "\tlinReg_f33951b07d6d-regParam: 0.001\n",
       "}, {\n",
       "\tlinReg_f33951b07d6d-elasticNetParam: 0.2,\n",
       "\tlinReg_f33951b07d6d-regParam: 0.001\n",
       "}, {\n",
       "\tlinReg_f33951b07d6d-elasticNetParam: 0.4,\n",
       "\tlinReg_f33951b07d6d-regParam: 0.001\n",
       "}, {\n",
       "\tlinReg_f33951b07d6d-elasticNetParam: 0.5,\n",
       "\tlinReg_f33951b07d6d-regParam: 0.001\n",
       "}, {\n",
       "\tlinReg_f33951b07d6d-elasticNetParam: 0.6,\n",
       "\tlinReg_f33951b07d6d-regParam: 0.001\n",
       "}, {\n",
       "\tlinReg_f33951b07d6d-elasticNetParam: 0.7,\n",
       "\tlinReg_f33951b07d6d-regParam: 0.001\n",
       "}, {\n",
       "\tlinReg_f33951b07d6d-elasticNetParam: 0.8,\n",
       "\tlinReg_f33951b07d6d-regParam: 0.001\n",
       "}, {\n",
       "\tlinReg_f33951b07d6d-elasticNetParam: 0.9,\n",
       "\tlinReg_f33951b07d6d-regParam: 0.001\n",
       "}, {\n",
       "\tlinReg_f33951b07d6d-elasticNetParam: 1.0,\n",
       "\tlinReg_f33951b07d6d-regParam: 0.001\n",
       "}, {\n",
       "\tlinReg_f33951b07d6d-elasticNetParam: 0.1,\n",
       "\tlinReg_f33951b07d6d-regParam: 0.01\n",
       "}, {\n",
       "\tlinReg_f33951b07d6d-elasticNetParam: 0.2,\n",
       "\tlinReg_f33951b07d6d-regParam: 0.01\n",
       "}, {\n",
       "\tlinReg_f33951b07d6d-elasticNetParam: 0.4,\n",
       "\tlinReg_f33951b07d6d-regParam: 0.01\n",
       "}, {\n",
       "\tlinReg_f33951b07d6d-elasticNetParam: 0.5,\n",
       "\tlinReg_f33951b07d6d-regParam: 0.01\n",
       "}, {\n",
       "\tlinReg_f33951b07d6d-elasticNetParam: 0.6,\n",
       "\tlinReg_f33951b07d6d-regParam: 0.01\n",
       "}, {\n",
       "\tlinReg_f33951b07d6d-elasticNetParam: 0.7,\n",
       "\tlinReg_f33951b07d6d-regParam: 0.01\n",
       "}, {\n",
       "\tlinReg_f33951b07d6d-elasticNetParam: 0.8,\n",
       "\tlinReg_f33951b07d6d-regParam: 0.01\n",
       "}, {\n",
       "\tlinReg_f33951b07d6d-elasticNetParam: 0.9,\n",
       "\tlinReg_f33951b07d6d-regParam: 0.01\n",
       "}, {\n",
       "\tlinReg_f33951b07d6d-elasticNetParam: 1.0,\n",
       "\tlinReg_f33951b07d6d-regParam: 0.01\n",
       "}, {\n",
       "\tlinReg_f33951b07d6d-elasticNetParam: 0.1,\n",
       "\tlinReg_f33951b07d6d-regParam: 0.1\n",
       "}, {\n",
       "\tlinReg_f33951b07d6d-elasticNetParam: 0.2,\n",
       "\tlinReg_f33951b07d6d-regParam: 0.1\n",
       "}, {\n",
       "\tlinReg_f33951b07d6d-elasticNetParam: 0.4,\n",
       "\tlinReg_f33951b07d6d-regParam: 0.1\n",
       "}, {\n",
       "\tlinReg_f33951b07d6d-elasticNetParam: 0.5,\n",
       "\tlinReg_f33951b07d6d-regParam: 0.1\n",
       "}, {\n",
       "\tlinReg_f33951b07d6d-elasticNetParam: 0.6,\n",
       "\tlinReg_f33951b07d6d-regParam: 0.1\n",
       "}, {\n",
       "\tlinReg_f33951b07d6d-elasticNetParam: 0.7,\n",
       "\tlinReg_f33951b07d6d-regParam: 0.1\n",
       "}, {\n",
       "\tlinReg_f33951b07d6d-elasticNetParam: 0.8,\n",
       "\tlinReg_f33951b07d6d-regParam: 0.1\n",
       "}, {\n",
       "\tlinReg_f33951b07d6d-elasticNetParam: 0.9,\n",
       "\tlinReg_f33951b07d6d-regParam: 0.1\n",
       "}, {\n",
       "\tlinReg_f33951b07d6d-elasticNetParam: 1.0,\n",
       "\tlinReg_f33951b07d6d-regParam: 0.1\n",
       "}, {\n",
       "\tlinReg_f33951b07d6d-elasticNetParam: 0.1,\n",
       "\tlinReg_f33951b07d6d-regParam: 1.0\n",
       "}, {\n",
       "\tlinReg_f33951b07d6d-elasticNetParam: 0.2,\n",
       "\tlinReg_f33951b07d6d-regParam: 1.0\n",
       "}, {\n",
       "\tlinReg_f33951b07d6d-elasticNetParam: 0.4,\n",
       "\tlinReg_f33951b07d6d-regParam: 1.0\n",
       "}, {\n",
       "\tlinReg_f33951b07d6d-elasticNetParam: 0.5,\n",
       "\tlinReg_f33951b07d6d-regParam: 1.0\n",
       "}, {\n",
       "\tlinReg_f33951b07d6d-elasticNetParam: 0.6,\n",
       "\tlinReg_f33951b07d6d-regParam: 1.0\n",
       "}, {\n",
       "\tlinReg_f33951b07d6d-elasticNetParam: 0.7,\n",
       "\tlinReg_f33951b07d6d-regParam: 1.0\n",
       "}, {\n",
       "\tlinReg_f33951b07d6d-elasticNetParam: 0.8,\n",
       "\tlinReg_f33951b07d6d-regParam: 1.0\n",
       "}, {\n",
       "\tlinReg_f33951b07d6d-elasticNetParam: 0.9,\n",
       "\tlinReg_f33951b07d6d-regParam: 1.0\n",
       "}, {\n",
       "\tlinReg_f33951b07d6d-elasticNetParam: 1.0,\n",
       "\tlinReg_f33951b07d6d-regParam: 1.0\n",
       "}, {\n",
       "\tlinReg_f33951b07d6d-elasticNetParam: 0.1,\n",
       "\tlinReg_f33951b07d6d-regParam: 10.0\n",
       "}, {\n",
       "\tlinReg_f33951b07d6d-elasticNetParam: 0.2,\n",
       "\tlinReg_f33951b07d6d-regParam: 10.0\n",
       "}, {\n",
       "\tlinReg_f33951b07d6d-elasticNetParam: 0.4,\n",
       "\tlinReg_f33951b07d6d-regParam: 10.0\n",
       "}, {\n",
       "\tlinReg_f33951b07d6d-elasticNetParam: 0.5,\n",
       "\tlinReg_f33951b07d6d-regParam: 10.0\n",
       "}, {\n",
       "\tlinReg_f33951b07d6d-elasticNetParam: 0.6,\n",
       "\tlinReg_f33951b07d6d-regParam: 10.0\n",
       "}, {\n",
       "\tlinReg_f33951b07d6d-elasticNetParam: 0.7,\n",
       "\tlinReg_f33951b07d6d-regParam: 10.0\n",
       "}, {\n",
       "\tlinReg_f33951b07d6d-elasticNetParam: 0.8,\n",
       "\tlinReg_f33951b07d6d-regParam: 10.0\n",
       "}, {\n",
       "\tlinReg_f33951b07d6d-elasticNetParam: 0.9,\n",
       "\tlinReg_f33951b07d6d-regParam: 10.0\n",
       "}, {\n",
       "\tlinReg_f33951b07d6d-elasticNetParam: 1.0,\n",
       "\tlinReg_f33951b07d6d-regParam: 10.0\n",
       "}, {\n",
       "\tlinReg_f33951b07d6d-elasticNetParam: 0.1,\n",
       "\tlinReg_f33951b07d6d-regParam: 100.0\n",
       "}, {\n",
       "\tlinReg_f33951b07d6d-elasticNetParam: 0.2,\n",
       "\tlinReg_f33951b07d6d-regParam: 100.0\n",
       "}, {\n",
       "\tlinReg_f33951b07d6d-elasticNetParam: 0.4,\n",
       "\tlinReg_f33951b07d6d-regParam: 100.0\n",
       "}, {\n",
       "\tlinReg_f33951b07d6d-elasticNetParam: 0.5,\n",
       "\tlinReg_f33951b07d6d-regParam: 100.0\n",
       "}, {\n",
       "\tlinReg_f33951b07d6d-elasticNetParam: 0.6,\n",
       "\tlinReg_f33951b07d6d-regParam: 100.0\n",
       "}, {\n",
       "\tlinReg_f33951b07d6d-elasticNetParam: 0.7,\n",
       "\tlinReg_f33951b07d6d-regParam: 100.0\n",
       "}, {\n",
       "\tlinReg_f33951b07d6d-elasticNetParam: 0.8,\n",
       "\tlinReg_f33951b07d6d-regParam: 100.0\n",
       "}, {\n",
       "\tlinReg_f33951b07d6d-elasticNetParam: 0.9,\n",
       "\tlinReg_f33951b07d6d-regParam: 100.0\n",
       "}, {\n",
       "\tlinReg_f33951b07d6d-elasticNetParam: 1.0,\n",
       "\tlinReg_f33951b07d6d-regParam: 100.0\n",
       "}, {\n",
       "\tlinReg_f33951b07d6d-elasticNetParam: 0.1,\n",
       "\tlinReg_f33951b07d6d-regParam: 1000.0\n",
       "}, {\n",
       "\tlinReg_f33951b07d6d-elasticNetParam: 0.2,\n",
       "\tlinReg_f33951b07d6d-regParam: 1000.0\n",
       "}, {\n",
       "\tlinReg_f33951b07d6d-elasticNetParam: 0.4,\n",
       "\tlinReg_f33951b07d6d-regParam: 1000.0\n",
       "}, {\n",
       "\tlinReg_f33951b07d6d-elasticNetParam: 0.5,\n",
       "\tlinReg_f33951b07d6d-regParam: 1000.0\n",
       "}, {\n",
       "\tlinReg_f33951b07d6d-elasticNetParam: 0.6,\n",
       "\tlinReg_f33951b07d6d-regParam: 1000.0\n",
       "}, {\n",
       "\tlinReg_f33951b07d6d-elasticNetParam: 0.7,\n",
       "\tlinReg_f33951b07d6d-regParam: 1000.0\n",
       "}, {\n",
       "\tlinReg_f33951b07d6d-elasticNetParam: 0.8,\n",
       "\tlinReg_f33951b07d6d-regParam: 1000.0\n",
       "}, {\n",
       "\tlinReg_f33951b07d6d-elasticNetParam: 0.9,\n",
       "\tlinReg_f33951b07d6d-regParam: 1000.0\n",
       "}, {\n",
       "\tlinReg_f33951b07d6d-elasticNetParam: 1.0,\n",
       "\tlinReg_f33951b07d6d-regParam: 1000.0\n",
       "}]"
      ]
     },
     "execution_count": 20,
     "metadata": {},
     "output_type": "execute_result"
    }
   ],
   "source": [
    "val paramGrid = new ParamGridBuilder().\n",
    "  addGrid(lr.regParam, Array(0.0001, 0.001, 0.01, 0.1, 1, 10, 100, 1000)).\n",
    "  addGrid(lr.elasticNetParam, Array(0.1,0.2,0.4,0.5,0.6,0.7,0.8,0.9,1.0)).\n",
    "  build()"
   ]
  },
  {
   "cell_type": "code",
   "execution_count": 21,
   "metadata": {},
   "outputs": [
    {
     "data": {
      "text/plain": [
       "cv = cv_53a90bb8a865\n"
      ]
     },
     "metadata": {},
     "output_type": "display_data"
    },
    {
     "data": {
      "text/plain": [
       "cv_53a90bb8a865"
      ]
     },
     "execution_count": 21,
     "metadata": {},
     "output_type": "execute_result"
    }
   ],
   "source": [
    "val cv = new CrossValidator().\n",
    "  setEstimator(lr).\n",
    "  setEvaluator(evaluator).\n",
    "  setEstimatorParamMaps(paramGrid).\n",
    "  setNumFolds(5) "
   ]
  },
  {
   "cell_type": "code",
   "execution_count": 22,
   "metadata": {},
   "outputs": [
    {
     "data": {
      "text/plain": [
       "model = cv_53a90bb8a865\n"
      ]
     },
     "metadata": {},
     "output_type": "display_data"
    },
    {
     "data": {
      "text/plain": [
       "cv_53a90bb8a865"
      ]
     },
     "execution_count": 22,
     "metadata": {},
     "output_type": "execute_result"
    }
   ],
   "source": [
    "val model = cv.fit(trainingData_s)"
   ]
  },
  {
   "cell_type": "code",
   "execution_count": 23,
   "metadata": {},
   "outputs": [
    {
     "name": "stdout",
     "output_type": "stream",
     "text": [
      "SLF4J: Failed to load class \"org.slf4j.impl.StaticLoggerBinder\".\n",
      "SLF4J: Defaulting to no-operation (NOP) logger implementation\n",
      "SLF4J: See http://www.slf4j.org/codes.html#StaticLoggerBinder for further details.\n"
     ]
    }
   ],
   "source": [
    "model.write.overwrite.save(\"Model_Parameters\")"
   ]
  },
  {
   "cell_type": "markdown",
   "metadata": {},
   "source": [
    "## Make predictions"
   ]
  },
  {
   "cell_type": "code",
   "execution_count": 24,
   "metadata": {},
   "outputs": [
    {
     "name": "stdout",
     "output_type": "stream",
     "text": [
      "+--------------------+-----------+--------------------+------------------+\n",
      "|            features|      label|      scaledFeatures|        prediction|\n",
      "+--------------------+-----------+--------------------+------------------+\n",
      "|[0.01381,80.0,0.4...|       50.0|[8.41857976241994...| 39.64421970338811|\n",
      "|[0.01439,60.0,2.9...|29.10000038|[9.07048580543777...|31.482708332313393|\n",
      "|[0.01501,80.0,2.0...|       24.5|[9.76735088590511...|27.359296491325253|\n",
      "|[0.020090001,95.0...|       50.0|[1.54771497659682...|41.736599319570125|\n",
      "|[0.02055,85.0,0.7...|24.70000076|[1.59941775726616...|25.029032856037944|\n",
      "|[0.028750001,28.0...|       25.0|[2.52107813737862...| 28.69728902630573|\n",
      "|[0.029850001,0.0,...|28.70000076|[2.64471549036476...|25.279214966624657|\n",
      "|[0.031129999,0.0,...|       17.5|[2.78858418540799...|16.704947274506523|\n",
      "|[0.032370001,0.0,...|33.40000153|[2.92795742629665...|28.201738089235008|\n",
      "|[0.03466,35.0,6.0...|19.39999962|[3.18534780329747...|23.629315746257216|\n",
      "+--------------------+-----------+--------------------+------------------+\n",
      "only showing top 10 rows\n",
      "\n"
     ]
    },
    {
     "data": {
      "text/plain": [
       "predictions = [features: vector, label: double ... 2 more fields]\n"
      ]
     },
     "metadata": {},
     "output_type": "display_data"
    },
    {
     "data": {
      "text/plain": [
       "[features: vector, label: double ... 2 more fields]"
      ]
     },
     "execution_count": 24,
     "metadata": {},
     "output_type": "execute_result"
    }
   ],
   "source": [
    "val predictions = model.transform(testData_s)\n",
    "predictions.show(10)"
   ]
  },
  {
   "cell_type": "markdown",
   "metadata": {},
   "source": [
    "## Evaluate the model"
   ]
  },
  {
   "cell_type": "code",
   "execution_count": 25,
   "metadata": {},
   "outputs": [
    {
     "data": {
      "text/plain": [
       "r2 = 0.7301019836506952\n"
      ]
     },
     "metadata": {},
     "output_type": "display_data"
    },
    {
     "data": {
      "text/plain": [
       "0.7301019836506952"
      ]
     },
     "execution_count": 25,
     "metadata": {},
     "output_type": "execute_result"
    }
   ],
   "source": [
    "val r2 = evaluator.evaluate(predictions)"
   ]
  },
  {
   "cell_type": "markdown",
   "metadata": {},
   "source": [
    "## Compare data with prediction"
   ]
  },
  {
   "cell_type": "code",
   "execution_count": 26,
   "metadata": {},
   "outputs": [
    {
     "data": {
      "text/plain": [
       "y = Array(50.0, 29.10000038, 24.5, 50.0, 24.70000076, 25.0, 28.70000076, 17.5, 33.40000153, 19.39999962, 45.40000153, 33.29999924, 18.20000076, 11.89999962, 25.0, 27.10000038, 24.60000038, 23.89999962, 33.09999847, 22.39999962, 18.89999962, 33.20000076, 36.20000076, 28.70000076, 22.20000076, 32.0, 37.29999924, 21.0, 43.79999924, 26.39999962, 37.90000153, 23.60000038, 23.29999924, 32.0, 20.0, 21.70000076, 22.0, 21.5, 20.10000038, 21.39999962, 21.20000076, 18.79999924, 29.79999924, 22.60000038, 20.29999924, 25.29999924, 18.5, 17.29999924, 15.19999981, 24.5, 23.79999924, 23.10000038, 20.5, 8.100000381, 19.29999924, 22.39999962, 18.70000076, 24.39999962, 21.20000076, 22.20000076, 13.30000019, 14.39999962, 19.39999962, 44.79999924, 17.79999924, 17.39999962, 48.29999924, 17.100...\n"
      ]
     },
     "metadata": {},
     "output_type": "display_data"
    },
    {
     "data": {
      "text/plain": [
       "[50.0, 29.10000038, 24.5, 50.0, 24.70000076, 25.0, 28.70000076, 17.5, 33.40000153, 19.39999962, 45.40000153, 33.29999924, 18.20000076, 11.89999962, 25.0, 27.10000038, 24.60000038, 23.89999962, 33.09999847, 22.39999962, 18.89999962, 33.20000076, 36.20000076, 28.70000076, 22.20000076, 32.0, 37.29999924, 21.0, 43.79999924, 26.39999962, 37.90000153, 23.60000038, 23.29999924, 32.0, 20.0, 21.70000076, 22.0, 21.5, 20.10000038, 21.39999962, 21.20000076, 18.79999924, 29.79999924, 22.60000038, 20.29999924, 25.29999924, 18.5, 17.29999924, 15.19999981, 24.5, 23.79999924, 23.10000038, 20.5, 8.100000381, 19.29999924, 22.39999962, 18.70000076, 24.39999962, 21.20000076, 22.20000076, 13.30000019, 14.39999962, 19.39999962, 44.79999924, 17.79999924, 17.39999962, 48.29999924, 17.10000038, 42.79999924, 21.70000076, 31.60000038, 31.5, 48.79999924, 24.29999924, 17.79999924, 18.10000038, 41.70000076, 50.0, 20.39999962, 18.20000076, 30.10000038, 16.60000038, 18.20000076, 15.60000038, 22.79999924, 13.89999962, 14.80000019, 12.69999981, 17.39999962, 41.29999924, 27.0, 13.5, 14.39999962, 50.0, 15.60000038, 22.70000076, 16.10000038, 11.80000019, 25.0, 19.89999962, 19.10000038, 27.5, 29.79999924, 14.10000038, 22.70000076, 23.20000076, 15.19999981, 14.30000019, 20.20000076, 13.30000019, 16.10000038, 13.39999962, 14.19999981, 13.39999962, 17.20000076, 8.5, 21.39999962, 13.80000019, 11.69999981, 50.0, 12.80000019, 12.10000038, 17.10000038, 13.80000019, 13.39999962, 10.19999981, 11.69999981, 7.199999809, 21.39999962, 10.19999981, 8.699999809, 10.89999962, 11.89999962, 8.300000191, 10.39999962]"
      ]
     },
     "execution_count": 26,
     "metadata": {},
     "output_type": "execute_result"
    }
   ],
   "source": [
    "val y = predictions.select(\"label\").as[Double].collect\n",
    "val yp = predictions.select(\"prediction\").as[Double].collect\n",
    "val d = predictions.select(col(\"prediction\")-col(\"label\")).as[Double].collect"
   ]
  },
  {
   "cell_type": "code",
   "execution_count": 27,
   "metadata": {},
   "outputs": [
    {
     "data": {
      "text/plain": [
       "fig = breeze.plot.Figure@2a88547e\n",
       "plt = breeze.plot.Plot@321d63b0\n"
      ]
     },
     "metadata": {},
     "output_type": "display_data"
    },
    {
     "data": {
      "text/plain": [
       "breeze.plot.Plot@321d63b0"
      ]
     },
     "execution_count": 27,
     "metadata": {},
     "output_type": "execute_result"
    }
   ],
   "source": [
    "val fig = Figure()\n",
    "val plt = fig.subplot(0)"
   ]
  },
  {
   "cell_type": "code",
   "execution_count": 28,
   "metadata": {},
   "outputs": [
    {
     "data": {
      "text/plain": [
       "plt.legend: Boolean = true\n",
       "plt.xlabel: String = y\n",
       "plt.ylabel: String = y_pred -y\n"
      ]
     },
     "metadata": {},
     "output_type": "display_data"
    }
   ],
   "source": [
    "plt += plot(y, d, '+', name = \"y_pred-y\", colorcode=\"blue\")\n",
    "plt += plot(Array(0,50), Array(0,0), '-', name =\"y\", colorcode=\"red\")\n",
    "\n",
    "plt.legend = true\n",
    "//plt.title = \"xxx\"\n",
    "plt.xlabel = \"y\"\n",
    "plt.xlim(0,50)\n",
    "plt.ylabel = \"y_pred -y\"\n",
    "//plt.ylim(0,6)"
   ]
  },
  {
   "cell_type": "code",
   "execution_count": 29,
   "metadata": {},
   "outputs": [
    {
     "data": {
      "text/html": [
       "<img width=\"600\" height=\"400\" src=\"data:image/png;base64,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\" />"
      ]
     },
     "execution_count": 29,
     "metadata": {},
     "output_type": "execute_result"
    }
   ],
   "source": [
    "kernel.magics.html(tohtml(plt.chart))"
   ]
  }
 ],
 "metadata": {
  "kernelspec": {
   "display_name": "Apache Toree - Scala",
   "language": "scala",
   "name": "apache_toree_scala"
  },
  "language_info": {
   "codemirror_mode": "text/x-scala",
   "file_extension": ".scala",
   "mimetype": "text/x-scala",
   "name": "scala",
   "pygments_lexer": "scala",
   "version": "2.11.8"
  }
 },
 "nbformat": 4,
 "nbformat_minor": 2
}
