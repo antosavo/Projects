{
 "cells": [
  {
   "cell_type": "code",
   "execution_count": 1,
   "metadata": {
    "collapsed": true
   },
   "outputs": [],
   "source": [
    "import org.apache.spark.sql.functions._\n",
    "import org.apache.spark.ml.linalg.Vectors\n",
    "import org.apache.spark.ml.linalg.DenseVector\n",
    "import org.apache.spark.ml.regression.LinearRegression\n",
    "import org.apache.spark.ml.feature.VectorAssembler\n",
    "import org.apache.spark.ml.feature.{MinMaxScaler,StandardScaler}\n",
    "import org.apache.spark.ml.evaluation.RegressionEvaluator\n",
    "import breeze.plot._\n",
    "import convert.jfc.tohtml"
   ]
  },
  {
   "cell_type": "markdown",
   "metadata": {},
   "source": [
    "## Load the dataset"
   ]
  },
  {
   "cell_type": "code",
   "execution_count": 2,
   "metadata": {},
   "outputs": [
    {
     "data": {
      "text/plain": [
       "df = [CRIM: double, ZN: double ... 12 more fields]\n"
      ]
     },
     "metadata": {},
     "output_type": "display_data"
    },
    {
     "data": {
      "text/plain": [
       "[CRIM: double, ZN: double ... 12 more fields]"
      ]
     },
     "execution_count": 2,
     "metadata": {},
     "output_type": "execute_result"
    }
   ],
   "source": [
    "val df = spark.read.\n",
    "  format(\"csv\").\n",
    "  option(\"header\", \"true\").\n",
    "  option(\"inferschema\", \"true\").\n",
    "  option(\"delimiter\",\",\").\n",
    "  load(\"../Datasets/Boston.csv\")"
   ]
  },
  {
   "cell_type": "markdown",
   "metadata": {},
   "source": [
    "## Explore the dataset"
   ]
  },
  {
   "cell_type": "code",
   "execution_count": 3,
   "metadata": {},
   "outputs": [
    {
     "name": "stdout",
     "output_type": "stream",
     "text": [
      "+-----------+----+-----------+----+-----------+-----------+-----------+-----------+---+---+-----------+-----------+-----------+-----------+\n",
      "|       CRIM|  ZN|      INDUS|CHAS|        NOX|         RM|        AGE|        DIS|RAD|TAX|    PTRATIO|          B|      LSTAT|       MEDV|\n",
      "+-----------+----+-----------+----+-----------+-----------+-----------+-----------+---+---+-----------+-----------+-----------+-----------+\n",
      "|    0.00632|18.0|2.309999943|   0|0.537999988|6.574999809|65.19999695|4.090000153|  1|296|15.30000019|396.8999939|4.980000019|       24.0|\n",
      "|0.027310001| 0.0|7.070000172|   0|0.469000012|6.421000004|78.90000153|4.967100143|  2|242|17.79999924|396.8999939|9.140000343|21.60000038|\n",
      "|    0.02729| 0.0|7.070000172|   0|0.469000012|7.184999943|61.09999847|4.967100143|  2|242|17.79999924|392.8299866| 4.03000021|34.70000076|\n",
      "|0.032370001| 0.0|2.180000067|   0|0.458000004|6.998000145|45.79999924|6.062200069|  3|222|18.70000076|394.6300049|2.940000057|33.40000153|\n",
      "|0.069049999| 0.0|2.180000067|   0|0.458000004|7.146999836|54.20000076|6.062200069|  3|222|18.70000076|396.8999939|5.329999924|36.20000076|\n",
      "|0.029850001| 0.0|2.180000067|   0|0.458000004|6.429999828|58.70000076|6.062200069|  3|222|18.70000076|394.1199951|5.210000038|28.70000076|\n",
      "|0.088289998|12.5|7.869999886|   0|0.523999989|6.012000084|66.59999847|5.560500145|  5|311|15.19999981|395.6000061|12.43000031|22.89999962|\n",
      "|0.144549996|12.5|7.869999886|   0|0.523999989|6.171999931|96.09999847|5.950500011|  5|311|15.19999981|396.8999939|19.14999962|27.10000038|\n",
      "|0.211239994|12.5|7.869999886|   0|0.523999989|5.631000042|      100.0|6.082099915|  5|311|15.19999981|386.6300049|29.93000031|       16.5|\n",
      "|0.170039997|12.5|7.869999886|   0|0.523999989|6.004000187|85.90000153|6.592100143|  5|311|15.19999981|386.7099915|17.10000038|18.89999962|\n",
      "+-----------+----+-----------+----+-----------+-----------+-----------+-----------+---+---+-----------+-----------+-----------+-----------+\n",
      "only showing top 10 rows\n",
      "\n"
     ]
    }
   ],
   "source": [
    "df.show(10)"
   ]
  },
  {
   "cell_type": "code",
   "execution_count": 4,
   "metadata": {},
   "outputs": [
    {
     "name": "stdout",
     "output_type": "stream",
     "text": [
      "root\n",
      " |-- CRIM: double (nullable = true)\n",
      " |-- ZN: double (nullable = true)\n",
      " |-- INDUS: double (nullable = true)\n",
      " |-- CHAS: integer (nullable = true)\n",
      " |-- NOX: double (nullable = true)\n",
      " |-- RM: double (nullable = true)\n",
      " |-- AGE: double (nullable = true)\n",
      " |-- DIS: double (nullable = true)\n",
      " |-- RAD: integer (nullable = true)\n",
      " |-- TAX: integer (nullable = true)\n",
      " |-- PTRATIO: double (nullable = true)\n",
      " |-- B: double (nullable = true)\n",
      " |-- LSTAT: double (nullable = true)\n",
      " |-- MEDV: double (nullable = true)\n",
      "\n"
     ]
    }
   ],
   "source": [
    "df.printSchema"
   ]
  },
  {
   "cell_type": "code",
   "execution_count": 5,
   "metadata": {},
   "outputs": [
    {
     "name": "stdout",
     "output_type": "stream",
     "text": [
      "+-------+------------------+------------------+------------------+------------------+------------------+------------------+------------------+------------------+-----------------+------------------+-----------------+------------------+------------------+-----------------+\n",
      "|summary|              CRIM|                ZN|             INDUS|              CHAS|               NOX|                RM|               AGE|               DIS|              RAD|               TAX|          PTRATIO|                 B|             LSTAT|             MEDV|\n",
      "+-------+------------------+------------------+------------------+------------------+------------------+------------------+------------------+------------------+-----------------+------------------+-----------------+------------------+------------------+-----------------+\n",
      "|  count|               506|               506|               506|               506|               506|               506|               506|               506|              506|               506|              506|               506|               506|              506|\n",
      "|   mean|3.6135235608162057|11.363636363636363|11.136778749531626|0.0691699604743083|0.5546950602312246|  6.28463438896641| 68.57490120115612|3.7950426960059325|9.549407114624506| 408.2371541501976|18.45553382776679|356.67402960597883|12.653063233922925|22.53280636250988|\n",
      "| stddev| 8.601545086715594| 23.32245299451514|  6.86035298095724|0.2539940413404101|0.1158776754570543|0.7026171549511354|28.148861532793276| 2.105710142043288|8.707259384239366|168.53711605495903|2.164945780039869| 91.29486340272308| 7.141061500195388|9.197104107945272|\n",
      "|    min|           0.00632|               0.0|       0.460000008|                 0|        0.38499999|       3.561000109|       2.900000095|       1.129600048|                1|               187|      12.60000038|       0.319999993|       1.730000019|              5.0|\n",
      "|    max|       88.97619629|             100.0|       27.73999977|                 1|       0.870999992|       8.779999733|             100.0|       12.12650013|               24|               711|             22.0|       396.8999939|       37.97000122|             50.0|\n",
      "+-------+------------------+------------------+------------------+------------------+------------------+------------------+------------------+------------------+-----------------+------------------+-----------------+------------------+------------------+-----------------+\n",
      "\n"
     ]
    }
   ],
   "source": [
    "df.describe().show()"
   ]
  },
  {
   "cell_type": "code",
   "execution_count": 6,
   "metadata": {},
   "outputs": [
    {
     "data": {
      "text/plain": [
       "[CRIM, ZN, INDUS, CHAS, NOX, RM, AGE, DIS, RAD, TAX, PTRATIO, B, LSTAT, MEDV]"
      ]
     },
     "execution_count": 6,
     "metadata": {},
     "output_type": "execute_result"
    }
   ],
   "source": [
    "df.columns"
   ]
  },
  {
   "cell_type": "code",
   "execution_count": 7,
   "metadata": {},
   "outputs": [
    {
     "data": {
      "text/plain": [
       "14"
      ]
     },
     "execution_count": 7,
     "metadata": {},
     "output_type": "execute_result"
    }
   ],
   "source": [
    "df.columns.length"
   ]
  },
  {
   "cell_type": "code",
   "execution_count": 8,
   "metadata": {},
   "outputs": [
    {
     "data": {
      "text/plain": [
       "506"
      ]
     },
     "execution_count": 8,
     "metadata": {},
     "output_type": "execute_result"
    }
   ],
   "source": [
    "df.count"
   ]
  },
  {
   "cell_type": "code",
   "execution_count": 9,
   "metadata": {},
   "outputs": [
    {
     "name": "stdout",
     "output_type": "stream",
     "text": [
      "+-------+--------------------+\n",
      "|colname|         correlation|\n",
      "+-------+--------------------+\n",
      "|   CRIM| -0.3883046116575088|\n",
      "|     ZN| 0.36044534463752903|\n",
      "|  INDUS|-0.48372517128143383|\n",
      "|   CHAS| 0.17526017775291847|\n",
      "|    NOX| -0.4273207763683772|\n",
      "|     RM|   0.695359937127267|\n",
      "|    AGE|-0.37695456714288667|\n",
      "|    DIS| 0.24992873873512172|\n",
      "|    RAD| -0.3816262315669168|\n",
      "|    TAX|-0.46853593528654536|\n",
      "|PTRATIO| -0.5077867038116085|\n",
      "|      B|  0.3334608226834164|\n",
      "|  LSTAT| -0.7376627294671615|\n",
      "|   MEDV|                 1.0|\n",
      "+-------+--------------------+\n",
      "\n"
     ]
    },
    {
     "data": {
      "text/plain": [
       "L = List((CRIM,-0.3883046116575088), (ZN,0.36044534463752903), (INDUS,-0.48372517128143383), (CHAS,0.17526017775291847), (NOX,-0.4273207763683772), (RM,0.695359937127267), (AGE,-0.37695456714288667), (DIS,0.24992873873512172), (RAD,-0.3816262315669168), (TAX,-0.46853593528654536), (PTRATIO,-0.5077867038116085), (B,0.3334608226834164), (LSTAT,-0.7376627294671615), (MEDV,1.0))\n",
       "df_corr = [colname: string, correlation: double]\n"
      ]
     },
     "metadata": {},
     "output_type": "display_data"
    },
    {
     "data": {
      "text/plain": [
       "[colname: string, correlation: double]"
      ]
     },
     "execution_count": 9,
     "metadata": {},
     "output_type": "execute_result"
    }
   ],
   "source": [
    "var L = List.empty[(String,Double)]\n",
    "\n",
    "for(cn <- df.columns) L = L :+ (cn,df.stat.corr(\"MEDV\", cn))\n",
    "\n",
    "val df_corr = L.toDF(\"colname\",\"correlation\")\n",
    "df_corr.show()"
   ]
  },
  {
   "cell_type": "code",
   "execution_count": 10,
   "metadata": {},
   "outputs": [
    {
     "name": "stdout",
     "output_type": "stream",
     "text": [
      "+-------+-------------------+\n",
      "|colname|   abs(correlation)|\n",
      "+-------+-------------------+\n",
      "|   MEDV|                1.0|\n",
      "|  LSTAT| 0.7376627294671615|\n",
      "|     RM|  0.695359937127267|\n",
      "|PTRATIO| 0.5077867038116085|\n",
      "|  INDUS|0.48372517128143383|\n",
      "|    TAX|0.46853593528654536|\n",
      "|    NOX| 0.4273207763683772|\n",
      "|   CRIM| 0.3883046116575088|\n",
      "|    RAD| 0.3816262315669168|\n",
      "|    AGE|0.37695456714288667|\n",
      "|     ZN|0.36044534463752903|\n",
      "|      B| 0.3334608226834164|\n",
      "|    DIS|0.24992873873512172|\n",
      "|   CHAS|0.17526017775291847|\n",
      "+-------+-------------------+\n",
      "\n"
     ]
    }
   ],
   "source": [
    "df_corr.select(col(\"colname\"),abs(col(\"correlation\"))).sort(col(\"abs(correlation)\").desc).show()"
   ]
  },
  {
   "cell_type": "markdown",
   "metadata": {},
   "source": [
    "## Apply Vector Assembler"
   ]
  },
  {
   "cell_type": "code",
   "execution_count": 11,
   "metadata": {},
   "outputs": [
    {
     "data": {
      "text/plain": [
       "features = Array(CRIM, ZN, INDUS, CHAS, NOX, RM, AGE, DIS, RAD, TAX, PTRATIO, B, LSTAT)\n"
      ]
     },
     "metadata": {},
     "output_type": "display_data"
    },
    {
     "data": {
      "text/plain": [
       "[CRIM, ZN, INDUS, CHAS, NOX, RM, AGE, DIS, RAD, TAX, PTRATIO, B, LSTAT]"
      ]
     },
     "execution_count": 11,
     "metadata": {},
     "output_type": "execute_result"
    }
   ],
   "source": [
    "val features = df.columns.slice(0,df.columns.length -1)"
   ]
  },
  {
   "cell_type": "code",
   "execution_count": 12,
   "metadata": {},
   "outputs": [
    {
     "data": {
      "text/plain": [
       "assembler = vecAssembler_387f9e3b7c82\n"
      ]
     },
     "metadata": {},
     "output_type": "display_data"
    },
    {
     "data": {
      "text/plain": [
       "vecAssembler_387f9e3b7c82"
      ]
     },
     "execution_count": 12,
     "metadata": {},
     "output_type": "execute_result"
    }
   ],
   "source": [
    "val assembler = new VectorAssembler().\n",
    "  setInputCols(features).//setInputCols(Array(\"_c1\", \"_c2\")).\n",
    "  setOutputCol(\"features\")"
   ]
  },
  {
   "cell_type": "code",
   "execution_count": 13,
   "metadata": {},
   "outputs": [
    {
     "name": "stdout",
     "output_type": "stream",
     "text": [
      "+--------------------+-----------+\n",
      "|            features|      label|\n",
      "+--------------------+-----------+\n",
      "|[0.00632,18.0,2.3...|       24.0|\n",
      "|[0.027310001,0.0,...|21.60000038|\n",
      "|[0.02729,0.0,7.07...|34.70000076|\n",
      "|[0.032370001,0.0,...|33.40000153|\n",
      "|[0.069049999,0.0,...|36.20000076|\n",
      "|[0.029850001,0.0,...|28.70000076|\n",
      "|[0.088289998,12.5...|22.89999962|\n",
      "|[0.144549996,12.5...|27.10000038|\n",
      "|[0.211239994,12.5...|       16.5|\n",
      "|[0.170039997,12.5...|18.89999962|\n",
      "+--------------------+-----------+\n",
      "only showing top 10 rows\n",
      "\n"
     ]
    },
    {
     "data": {
      "text/plain": [
       "df_v = [features: vector, label: double]\n"
      ]
     },
     "metadata": {},
     "output_type": "display_data"
    },
    {
     "data": {
      "text/plain": [
       "[features: vector, label: double]"
      ]
     },
     "execution_count": 13,
     "metadata": {},
     "output_type": "execute_result"
    }
   ],
   "source": [
    "val df_v = assembler.transform(df).\n",
    "    select(col(\"features\"), col(\"MEDV\").as(\"label\"))\n",
    "\n",
    "df_v.show(10)"
   ]
  },
  {
   "cell_type": "markdown",
   "metadata": {},
   "source": [
    "## Split into train and test sets"
   ]
  },
  {
   "cell_type": "code",
   "execution_count": 14,
   "metadata": {},
   "outputs": [
    {
     "data": {
      "text/plain": [
       "trainingData = [features: vector, label: double]\n",
       "testData = [features: vector, label: double]\n"
      ]
     },
     "metadata": {},
     "output_type": "display_data"
    },
    {
     "data": {
      "text/plain": [
       "[features: vector, label: double]"
      ]
     },
     "execution_count": 14,
     "metadata": {},
     "output_type": "execute_result"
    }
   ],
   "source": [
    "val Array(trainingData, testData) = df_v.randomSplit(Array(0.7, 0.3))"
   ]
  },
  {
   "cell_type": "markdown",
   "metadata": {},
   "source": [
    "## Scale the features"
   ]
  },
  {
   "cell_type": "code",
   "execution_count": 15,
   "metadata": {},
   "outputs": [
    {
     "data": {
      "text/plain": [
       "scaler = minMaxScal_2df6595ca308\n"
      ]
     },
     "metadata": {},
     "output_type": "display_data"
    },
    {
     "data": {
      "text/plain": [
       "minMaxScal_2df6595ca308"
      ]
     },
     "execution_count": 15,
     "metadata": {},
     "output_type": "execute_result"
    }
   ],
   "source": [
    "val scaler = new MinMaxScaler().//StandardScaler().\n",
    "  setInputCol(\"features\").\n",
    "  setOutputCol(\"scaledFeatures\")"
   ]
  },
  {
   "cell_type": "code",
   "execution_count": 16,
   "metadata": {},
   "outputs": [
    {
     "data": {
      "text/plain": [
       "s = minMaxScal_2df6595ca308\n"
      ]
     },
     "metadata": {},
     "output_type": "display_data"
    },
    {
     "data": {
      "text/plain": [
       "minMaxScal_2df6595ca308"
      ]
     },
     "execution_count": 16,
     "metadata": {},
     "output_type": "execute_result"
    }
   ],
   "source": [
    "val s = scaler.fit(trainingData)"
   ]
  },
  {
   "cell_type": "code",
   "execution_count": 17,
   "metadata": {},
   "outputs": [
    {
     "data": {
      "text/plain": [
       "trainingData_s = [features: vector, label: double ... 1 more field]\n",
       "testData_s = [features: vector, label: double ... 1 more field]\n"
      ]
     },
     "metadata": {},
     "output_type": "display_data"
    },
    {
     "data": {
      "text/plain": [
       "[features: vector, label: double ... 1 more field]"
      ]
     },
     "execution_count": 17,
     "metadata": {},
     "output_type": "execute_result"
    }
   ],
   "source": [
    "val trainingData_s = s.transform(trainingData)\n",
    "val testData_s = s.transform(testData)"
   ]
  },
  {
   "cell_type": "markdown",
   "metadata": {},
   "source": [
    "## Train the model"
   ]
  },
  {
   "cell_type": "code",
   "execution_count": 18,
   "metadata": {},
   "outputs": [
    {
     "data": {
      "text/plain": [
       "lr = linReg_63689319774f\n"
      ]
     },
     "metadata": {},
     "output_type": "display_data"
    },
    {
     "data": {
      "text/plain": [
       "linReg_63689319774f"
      ]
     },
     "execution_count": 18,
     "metadata": {},
     "output_type": "execute_result"
    }
   ],
   "source": [
    "val lr = new LinearRegression().\n",
    "  setMaxIter(100).\n",
    "  setElasticNetParam(1.0).\n",
    "  setFeaturesCol(\"scaledFeatures\")\n",
    "  //setLabelCol(\"y\"). //by default input columns: label and features\n",
    "  //setFeaturesCol(\"x\")"
   ]
  },
  {
   "cell_type": "code",
   "execution_count": 19,
   "metadata": {},
   "outputs": [
    {
     "data": {
      "text/plain": [
       "model = linReg_63689319774f\n"
      ]
     },
     "metadata": {},
     "output_type": "display_data"
    },
    {
     "data": {
      "text/plain": [
       "linReg_63689319774f"
      ]
     },
     "execution_count": 19,
     "metadata": {},
     "output_type": "execute_result"
    }
   ],
   "source": [
    "val model = lr.fit(trainingData_s)"
   ]
  },
  {
   "cell_type": "code",
   "execution_count": 20,
   "metadata": {},
   "outputs": [
    {
     "data": {
      "text/plain": [
       "24"
      ]
     },
     "execution_count": 20,
     "metadata": {},
     "output_type": "execute_result"
    }
   ],
   "source": [
    "model.summary.totalIterations"
   ]
  },
  {
   "cell_type": "code",
   "execution_count": 21,
   "metadata": {},
   "outputs": [
    {
     "data": {
      "text/plain": [
       "[-6.805481948655786,3.924882568841738,0.5117191964512379,4.0993418284898295,-7.23981666511485,19.576016793199187,-1.0872222153354834,-13.94842721331006,5.947537195405698,-5.85449545417968,-9.20608641752296,2.2001311214286288,-16.749445074992824]"
      ]
     },
     "execution_count": 21,
     "metadata": {},
     "output_type": "execute_result"
    }
   ],
   "source": [
    "model.coefficients"
   ]
  },
  {
   "cell_type": "code",
   "execution_count": 22,
   "metadata": {},
   "outputs": [
    {
     "data": {
      "text/plain": [
       "27.314598301900453"
      ]
     },
     "execution_count": 22,
     "metadata": {},
     "output_type": "execute_result"
    }
   ],
   "source": [
    "model.intercept"
   ]
  },
  {
   "cell_type": "markdown",
   "metadata": {},
   "source": [
    "## Make predictions"
   ]
  },
  {
   "cell_type": "code",
   "execution_count": 23,
   "metadata": {},
   "outputs": [
    {
     "name": "stdout",
     "output_type": "stream",
     "text": [
      "+--------------------+-----------+--------------------+------------------+\n",
      "|            features|      label|      scaledFeatures|        prediction|\n",
      "+--------------------+-----------+--------------------+------------------+\n",
      "|[0.01311,90.0,1.2...|35.40000153|[9.99786801575190...|31.043582356437287|\n",
      "|[0.01381,80.0,0.4...|       50.0|[1.10285760586129...|40.124494413770854|\n",
      "|[0.01432,100.0,1....|31.60000038|[1.17795204898402...|32.768275659976844|\n",
      "|[0.01501,80.0,2.0...|       24.5|[1.27955041320889...|27.669154484393538|\n",
      "|[0.01501,90.0,1.2...|       50.0|[1.27955041320889...|45.488305664767125|\n",
      "|[0.01538,90.0,3.7...|       44.0|[1.33403069547440...| 36.82859819933283|\n",
      "|[0.01778,95.0,1.4...|32.90000153|[1.68741631016961...|30.739932791080328|\n",
      "|[0.0187,85.0,4.15...|23.10000038|[1.82288079580277...|25.501380316418565|\n",
      "|[0.02055,85.0,0.7...|24.70000076|[2.09528220713033...| 25.09628869750609|\n",
      "|[0.025429999,55.0...|23.89999962|[2.81383280976658...|27.328221927808183|\n",
      "+--------------------+-----------+--------------------+------------------+\n",
      "only showing top 10 rows\n",
      "\n"
     ]
    },
    {
     "data": {
      "text/plain": [
       "predictions = [features: vector, label: double ... 2 more fields]\n"
      ]
     },
     "metadata": {},
     "output_type": "display_data"
    },
    {
     "data": {
      "text/plain": [
       "[features: vector, label: double ... 2 more fields]"
      ]
     },
     "execution_count": 23,
     "metadata": {},
     "output_type": "execute_result"
    }
   ],
   "source": [
    "val predictions = model.transform(testData_s)\n",
    "predictions.show(10)"
   ]
  },
  {
   "cell_type": "markdown",
   "metadata": {},
   "source": [
    "## Evaluate the model"
   ]
  },
  {
   "cell_type": "code",
   "execution_count": 24,
   "metadata": {},
   "outputs": [
    {
     "data": {
      "text/plain": [
       "evaluator = regEval_83cb76be229b\n"
      ]
     },
     "metadata": {},
     "output_type": "display_data"
    },
    {
     "data": {
      "text/plain": [
       "regEval_83cb76be229b"
      ]
     },
     "execution_count": 24,
     "metadata": {},
     "output_type": "execute_result"
    }
   ],
   "source": [
    "val evaluator = new RegressionEvaluator().setMetricName(\"r2\")\n",
    "  //setLabelCol(\"label\").\n",
    "  //setPredictionCol(\"prediction\")"
   ]
  },
  {
   "cell_type": "code",
   "execution_count": 25,
   "metadata": {},
   "outputs": [
    {
     "data": {
      "text/plain": [
       "r2 = 0.7346612755354833\n"
      ]
     },
     "metadata": {},
     "output_type": "display_data"
    },
    {
     "data": {
      "text/plain": [
       "0.7346612755354833"
      ]
     },
     "execution_count": 25,
     "metadata": {},
     "output_type": "execute_result"
    }
   ],
   "source": [
    "val r2 = evaluator.evaluate(predictions)"
   ]
  },
  {
   "cell_type": "markdown",
   "metadata": {},
   "source": [
    "## Compare data with prediction"
   ]
  },
  {
   "cell_type": "code",
   "execution_count": 26,
   "metadata": {},
   "outputs": [
    {
     "data": {
      "text/plain": [
       "y = Array(35.40000153, 50.0, 31.60000038, 24.5, 50.0, 44.0, 32.90000153, 23.10000038, 24.70000076, 23.89999962, 34.70000076, 21.60000038, 26.60000038, 17.5, 34.90000153, 22.0, 23.5, 24.79999924, 20.70000076, 23.20000076, 22.0, 33.29999924, 24.79999924, 18.20000076, 22.60000038, 21.89999962, 28.20000076, 23.39999962, 17.10000038, 27.10000038, 19.0, 50.0, 37.20000076, 29.60000038, 23.89999962, 18.70000076, 22.89999962, 22.60000038, 33.20000076, 36.20000076, 22.0, 20.29999924, 32.0, 24.10000038, 29.10000038, 21.0, 21.70000076, 23.70000076, 20.29999924, 20.79999924, 24.20000076, 37.0, 26.39999962, 32.5, 19.60000038, 21.70000076, 22.20000076, 22.0, 26.5, 21.39999962, 18.89999962, 29.79999924, 25.0, 20.39999962, 20.39999962, 19.5, 24.39999962, 18.5, 27.10000038, 19.29999924, 27...\n"
      ]
     },
     "metadata": {},
     "output_type": "display_data"
    },
    {
     "data": {
      "text/plain": [
       "[35.40000153, 50.0, 31.60000038, 24.5, 50.0, 44.0, 32.90000153, 23.10000038, 24.70000076, 23.89999962, 34.70000076, 21.60000038, 26.60000038, 17.5, 34.90000153, 22.0, 23.5, 24.79999924, 20.70000076, 23.20000076, 22.0, 33.29999924, 24.79999924, 18.20000076, 22.60000038, 21.89999962, 28.20000076, 23.39999962, 17.10000038, 27.10000038, 19.0, 50.0, 37.20000076, 29.60000038, 23.89999962, 18.70000076, 22.89999962, 22.60000038, 33.20000076, 36.20000076, 22.0, 20.29999924, 32.0, 24.10000038, 29.10000038, 21.0, 21.70000076, 23.70000076, 20.29999924, 20.79999924, 24.20000076, 37.0, 26.39999962, 32.5, 19.60000038, 21.70000076, 22.20000076, 22.0, 26.5, 21.39999962, 18.89999962, 29.79999924, 25.0, 20.39999962, 20.39999962, 19.5, 24.39999962, 18.5, 27.10000038, 19.29999924, 27.5, 18.70000076, 24.70000076, 19.5, 17.5, 7.0, 20.0, 23.39999962, 20.5, 8.100000381, 35.09999847, 19.29999924, 24.79999924, 19.39999962, 35.20000076, 24.39999962, 14.39999962, 19.39999962, 18.5, 19.70000076, 46.70000076, 23.0, 44.79999924, 48.29999924, 20.39999962, 26.70000076, 23.79999924, 19.29999924, 37.59999847, 15.69999981, 21.70000076, 31.5, 21.0, 25.10000038, 24.29999924, 50.0, 50.0, 27.5, 30.10000038, 16.60000038, 15.60000038, 22.79999924, 20.20000076, 31.0, 13.89999962, 19.60000038, 15.30000019, 19.60000038, 17.39999962, 41.29999924, 27.0, 24.29999924, 23.29999924, 50.0, 50.0, 13.5, 23.79999924, 23.79999924, 22.29999924, 19.89999962, 15.60000038, 21.89999962, 19.0, 19.89999962, 19.89999962, 19.10000038, 29.79999924, 50.0, 18.39999962, 23.70000076, 25.0, 12.5, 14.89999962, 16.10000038, 13.39999962, 20.0, 13.39999962, 12.30000019, 13.80000019, 13.5, 14.5, 13.10000038, 17.79999924, 50.0, 9.5, 14.89999962, 12.60000038, 15.39999962, 7.5, 16.70000076, 13.39999962, 8.399999619, 20.10000038, 21.39999962, 9.600000381, 8.699999809, 13.89999962, 8.800000191, 11.89999962, 10.5, 10.5, 10.39999962, 16.29999924, 10.89999962, 5.0, 8.800000191, 10.39999962]"
      ]
     },
     "execution_count": 26,
     "metadata": {},
     "output_type": "execute_result"
    }
   ],
   "source": [
    "val y = predictions.select(\"label\").as[Double].collect\n",
    "val yp = predictions.select(\"prediction\").as[Double].collect\n",
    "val d = predictions.select(col(\"prediction\")-col(\"label\")).as[Double].collect"
   ]
  },
  {
   "cell_type": "code",
   "execution_count": 27,
   "metadata": {},
   "outputs": [
    {
     "data": {
      "text/plain": [
       "fig = breeze.plot.Figure@5c2fc769\n",
       "plt = breeze.plot.Plot@2dd4ea5f\n"
      ]
     },
     "metadata": {},
     "output_type": "display_data"
    },
    {
     "data": {
      "text/plain": [
       "breeze.plot.Plot@2dd4ea5f"
      ]
     },
     "execution_count": 27,
     "metadata": {},
     "output_type": "execute_result"
    }
   ],
   "source": [
    "val fig = Figure()\n",
    "val plt = fig.subplot(0)"
   ]
  },
  {
   "cell_type": "code",
   "execution_count": 28,
   "metadata": {},
   "outputs": [
    {
     "data": {
      "text/plain": [
       "plt.legend: Boolean = true\n",
       "plt.xlabel: String = y\n",
       "plt.ylabel: String = y_pred -y\n"
      ]
     },
     "metadata": {},
     "output_type": "display_data"
    }
   ],
   "source": [
    "plt += plot(y, d, '+', name = \"y_pred-y\", colorcode=\"blue\")\n",
    "plt += plot(Array(0,50), Array(0,0), '-', name =\"y\", colorcode=\"red\")\n",
    "\n",
    "plt.legend = true\n",
    "//plt.title = \"xxx\"\n",
    "plt.xlabel = \"y\"\n",
    "plt.xlim(0,50)\n",
    "plt.ylabel = \"y_pred -y\"\n",
    "//plt.ylim(0,6)"
   ]
  },
  {
   "cell_type": "code",
   "execution_count": 29,
   "metadata": {},
   "outputs": [
    {
     "data": {
      "text/html": [
       "<img width=\"600\" height=\"400\" src=\"data:image/png;base64,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\" />"
      ]
     },
     "execution_count": 29,
     "metadata": {},
     "output_type": "execute_result"
    }
   ],
   "source": [
    "kernel.magics.html(tohtml(plt.chart))"
   ]
  }
 ],
 "metadata": {
  "kernelspec": {
   "display_name": "Apache Toree - Scala",
   "language": "scala",
   "name": "apache_toree_scala"
  },
  "language_info": {
   "codemirror_mode": "text/x-scala",
   "file_extension": ".scala",
   "mimetype": "text/x-scala",
   "name": "scala",
   "pygments_lexer": "scala",
   "version": "2.11.8"
  }
 },
 "nbformat": 4,
 "nbformat_minor": 2
}
