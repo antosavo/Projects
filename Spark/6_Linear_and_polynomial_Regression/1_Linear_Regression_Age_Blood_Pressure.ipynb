{
 "cells": [
  {
   "cell_type": "markdown",
   "metadata": {},
   "source": [
    "# Linear regression\n",
    "Linear regression algorithms fit continuous data with a linear model. A linear model is a linear combination of a set of coefficients and features.  When our dataset has just one feature, the fitted linear model is:\n",
    "$$h(x)=w_0+w_1x$$\n",
    "The algorithm estimates the unknown coefficients, also known as model parameters, from training data. The fitted coefficients minimize the sum of the squares of the difference between predicted and actual observed labels in the training dataset.\n",
    "$$J(w)=\\frac{1}{2}\\sum_{i=1}^n(y^{(i)}- h^{(i)})^2$$\n",
    "Here, $h^{(i)}$ is the predicted value for the $i_{th}$ instance and $y^{(i)}$ is the observed one.\n",
    "The performance of linear regression is evaluated using the $R^2$ metric:\n",
    "$$R^2=1-\\frac{\\sum(y^{(i)}- h^{(i)})^2}{\\sum(y^{(i)} - \\bar{y})^2}=1-\\frac{MSE}{VAR}$$"
   ]
  },
  {
   "cell_type": "code",
   "execution_count": 1,
   "metadata": {
    "collapsed": true
   },
   "outputs": [],
   "source": [
    "import org.apache.spark.sql.functions._\n",
    "import org.apache.spark.ml.linalg.Vectors\n",
    "import org.apache.spark.ml.linalg.DenseVector\n",
    "import org.apache.spark.ml.regression.LinearRegression\n",
    "import org.apache.spark.ml.feature.VectorAssembler\n",
    "import org.apache.spark.ml.evaluation.RegressionEvaluator\n",
    "import breeze.plot._\n",
    "import convert.jfc.tohtml"
   ]
  },
  {
   "cell_type": "markdown",
   "metadata": {},
   "source": [
    "## Load the dataset"
   ]
  },
  {
   "cell_type": "code",
   "execution_count": 2,
   "metadata": {},
   "outputs": [
    {
     "data": {
      "text/plain": [
       "df = [Age: int, Systolic Blood Pressure: double]\n"
      ]
     },
     "metadata": {},
     "output_type": "display_data"
    },
    {
     "data": {
      "text/plain": [
       "[Age: int, Systolic Blood Pressure: double]"
      ]
     },
     "execution_count": 2,
     "metadata": {},
     "output_type": "execute_result"
    }
   ],
   "source": [
    "val df = spark.read.\n",
    "  format(\"csv\").\n",
    "  option(\"header\", \"true\").\n",
    "  option(\"inferschema\", \"true\").\n",
    "  option(\"delimiter\",\",\").\n",
    "  load(\"../Datasets/Age_blood_pressure.csv\")"
   ]
  },
  {
   "cell_type": "markdown",
   "metadata": {},
   "source": [
    "## Explore the dataset"
   ]
  },
  {
   "cell_type": "code",
   "execution_count": 3,
   "metadata": {},
   "outputs": [
    {
     "name": "stdout",
     "output_type": "stream",
     "text": [
      "+---+-----------------------+\n",
      "|Age|Systolic Blood Pressure|\n",
      "+---+-----------------------+\n",
      "| 38|            127.6940083|\n",
      "| 58|          158.773654276|\n",
      "| 28|          116.338801548|\n",
      "| 53|          160.259089497|\n",
      "| 38|           138.17068045|\n",
      "| 40|          116.669958755|\n",
      "| 43|          156.425071568|\n",
      "| 34|            134.0272229|\n",
      "| 39|            127.2820664|\n",
      "| 55|          150.250726648|\n",
      "+---+-----------------------+\n",
      "only showing top 10 rows\n",
      "\n"
     ]
    }
   ],
   "source": [
    "df.show(10)"
   ]
  },
  {
   "cell_type": "code",
   "execution_count": 4,
   "metadata": {},
   "outputs": [
    {
     "name": "stdout",
     "output_type": "stream",
     "text": [
      "root\n",
      " |-- Age: integer (nullable = true)\n",
      " |-- Systolic Blood Pressure: double (nullable = true)\n",
      "\n"
     ]
    }
   ],
   "source": [
    "df.printSchema"
   ]
  },
  {
   "cell_type": "code",
   "execution_count": 5,
   "metadata": {},
   "outputs": [
    {
     "name": "stdout",
     "output_type": "stream",
     "text": [
      "+-------+-----------------+-----------------------+\n",
      "|summary|              Age|Systolic Blood Pressure|\n",
      "+-------+-----------------+-----------------------+\n",
      "|  count|              199|                    199|\n",
      "|   mean|45.18090452261306|     140.93991071230258|\n",
      "| stddev|17.48267359259972|     23.148276080351778|\n",
      "|    min|               15|           85.346019671|\n",
      "|    max|               79|          201.294613148|\n",
      "+-------+-----------------+-----------------------+\n",
      "\n"
     ]
    }
   ],
   "source": [
    "df.describe().show()"
   ]
  },
  {
   "cell_type": "markdown",
   "metadata": {},
   "source": [
    "## Apply Vector Assembler"
   ]
  },
  {
   "cell_type": "code",
   "execution_count": 6,
   "metadata": {},
   "outputs": [
    {
     "data": {
      "text/plain": [
       "features = Array(Age)\n"
      ]
     },
     "metadata": {},
     "output_type": "display_data"
    },
    {
     "data": {
      "text/plain": [
       "[Age]"
      ]
     },
     "execution_count": 6,
     "metadata": {},
     "output_type": "execute_result"
    }
   ],
   "source": [
    "val features = df.columns.slice(0,1)"
   ]
  },
  {
   "cell_type": "code",
   "execution_count": 7,
   "metadata": {},
   "outputs": [
    {
     "data": {
      "text/plain": [
       "assembler = vecAssembler_be75795946b3\n"
      ]
     },
     "metadata": {},
     "output_type": "display_data"
    },
    {
     "data": {
      "text/plain": [
       "vecAssembler_be75795946b3"
      ]
     },
     "execution_count": 7,
     "metadata": {},
     "output_type": "execute_result"
    }
   ],
   "source": [
    "val assembler = new VectorAssembler().\n",
    "  setInputCols(features).//setInputCols(Array(\"_c1\", \"_c2\")).\n",
    "  setOutputCol(\"features\")"
   ]
  },
  {
   "cell_type": "code",
   "execution_count": 8,
   "metadata": {},
   "outputs": [
    {
     "name": "stdout",
     "output_type": "stream",
     "text": [
      "+--------+-------------+\n",
      "|features|        label|\n",
      "+--------+-------------+\n",
      "|  [38.0]|  127.6940083|\n",
      "|  [58.0]|158.773654276|\n",
      "|  [28.0]|116.338801548|\n",
      "|  [53.0]|160.259089497|\n",
      "|  [38.0]| 138.17068045|\n",
      "|  [40.0]|116.669958755|\n",
      "|  [43.0]|156.425071568|\n",
      "|  [34.0]|  134.0272229|\n",
      "|  [39.0]|  127.2820664|\n",
      "|  [55.0]|150.250726648|\n",
      "+--------+-------------+\n",
      "only showing top 10 rows\n",
      "\n"
     ]
    },
    {
     "data": {
      "text/plain": [
       "df_v = [features: vector, label: double]\n"
      ]
     },
     "metadata": {},
     "output_type": "display_data"
    },
    {
     "data": {
      "text/plain": [
       "[features: vector, label: double]"
      ]
     },
     "execution_count": 8,
     "metadata": {},
     "output_type": "execute_result"
    }
   ],
   "source": [
    "val df_v = assembler.transform(df).\n",
    "    select(col(\"features\"), col(\"Systolic Blood Pressure\").as(\"label\"))\n",
    "\n",
    "df_v.show(10)"
   ]
  },
  {
   "cell_type": "markdown",
   "metadata": {},
   "source": [
    "## Split into train and test sets"
   ]
  },
  {
   "cell_type": "code",
   "execution_count": 9,
   "metadata": {},
   "outputs": [
    {
     "data": {
      "text/plain": [
       "trainingData = [features: vector, label: double]\n",
       "testData = [features: vector, label: double]\n"
      ]
     },
     "metadata": {},
     "output_type": "display_data"
    },
    {
     "data": {
      "text/plain": [
       "[features: vector, label: double]"
      ]
     },
     "execution_count": 9,
     "metadata": {},
     "output_type": "execute_result"
    }
   ],
   "source": [
    "val Array(trainingData, testData) = df_v.randomSplit(Array(0.7, 0.3))"
   ]
  },
  {
   "cell_type": "markdown",
   "metadata": {},
   "source": [
    "## Train the model"
   ]
  },
  {
   "cell_type": "code",
   "execution_count": 10,
   "metadata": {},
   "outputs": [
    {
     "data": {
      "text/plain": [
       "lr = linReg_64a2632e3756\n"
      ]
     },
     "metadata": {},
     "output_type": "display_data"
    },
    {
     "data": {
      "text/plain": [
       "linReg_64a2632e3756"
      ]
     },
     "execution_count": 10,
     "metadata": {},
     "output_type": "execute_result"
    }
   ],
   "source": [
    "val lr = new LinearRegression().\n",
    "  setMaxIter(100).\n",
    "  setElasticNetParam(1.0)\n",
    "  //setLabelCol(\"y\"). //by default input columns: label and features\n",
    "  //setFeaturesCol(\"x\")"
   ]
  },
  {
   "cell_type": "code",
   "execution_count": 11,
   "metadata": {},
   "outputs": [
    {
     "data": {
      "text/plain": [
       "model = linReg_64a2632e3756\n"
      ]
     },
     "metadata": {},
     "output_type": "display_data"
    },
    {
     "data": {
      "text/plain": [
       "linReg_64a2632e3756"
      ]
     },
     "execution_count": 11,
     "metadata": {},
     "output_type": "execute_result"
    }
   ],
   "source": [
    "val model = lr.fit(trainingData)"
   ]
  },
  {
   "cell_type": "code",
   "execution_count": 12,
   "metadata": {},
   "outputs": [
    {
     "data": {
      "text/plain": [
       "3"
      ]
     },
     "execution_count": 12,
     "metadata": {},
     "output_type": "execute_result"
    }
   ],
   "source": [
    "model.summary.totalIterations"
   ]
  },
  {
   "cell_type": "code",
   "execution_count": 13,
   "metadata": {},
   "outputs": [
    {
     "data": {
      "text/plain": [
       "[1.0157377688083284]"
      ]
     },
     "execution_count": 13,
     "metadata": {},
     "output_type": "execute_result"
    }
   ],
   "source": [
    "model.coefficients"
   ]
  },
  {
   "cell_type": "code",
   "execution_count": 14,
   "metadata": {},
   "outputs": [
    {
     "data": {
      "text/plain": [
       "95.5942555559709"
      ]
     },
     "execution_count": 14,
     "metadata": {},
     "output_type": "execute_result"
    }
   ],
   "source": [
    "model.intercept"
   ]
  },
  {
   "cell_type": "markdown",
   "metadata": {},
   "source": [
    "## Make predictions"
   ]
  },
  {
   "cell_type": "code",
   "execution_count": 15,
   "metadata": {},
   "outputs": [
    {
     "name": "stdout",
     "output_type": "stream",
     "text": [
      "+--------+-------------+------------------+\n",
      "|features|        label|        prediction|\n",
      "+--------+-------------+------------------+\n",
      "|  [20.0]| 93.055037209|115.90901093213748|\n",
      "|  [20.0]|116.052957535|115.90901093213748|\n",
      "|  [20.0]|126.245581176|115.90901093213748|\n",
      "|  [22.0]|113.268988171|117.94048646975413|\n",
      "|  [22.0]|127.583169459|117.94048646975413|\n",
      "|  [23.0]|124.755884462|118.95622423856246|\n",
      "|  [24.0]|134.515674853|119.97196200737079|\n",
      "|  [24.0]|140.227596469|119.97196200737079|\n",
      "|  [26.0]| 97.513663344|122.00343754498743|\n",
      "|  [26.0]|109.213183583|122.00343754498743|\n",
      "+--------+-------------+------------------+\n",
      "only showing top 10 rows\n",
      "\n"
     ]
    },
    {
     "data": {
      "text/plain": [
       "predictions = [features: vector, label: double ... 1 more field]\n"
      ]
     },
     "metadata": {},
     "output_type": "display_data"
    },
    {
     "data": {
      "text/plain": [
       "[features: vector, label: double ... 1 more field]"
      ]
     },
     "execution_count": 15,
     "metadata": {},
     "output_type": "execute_result"
    }
   ],
   "source": [
    "val predictions = model.transform(testData)\n",
    "predictions.show(10)"
   ]
  },
  {
   "cell_type": "markdown",
   "metadata": {},
   "source": [
    "## Evaluate the model"
   ]
  },
  {
   "cell_type": "code",
   "execution_count": 16,
   "metadata": {},
   "outputs": [
    {
     "data": {
      "text/plain": [
       "evaluator = regEval_74d8c165dd0f\n"
      ]
     },
     "metadata": {},
     "output_type": "display_data"
    },
    {
     "data": {
      "text/plain": [
       "regEval_74d8c165dd0f"
      ]
     },
     "execution_count": 16,
     "metadata": {},
     "output_type": "execute_result"
    }
   ],
   "source": [
    "val evaluator = new RegressionEvaluator().setMetricName(\"r2\")\n",
    "  //setLabelCol(\"label\").\n",
    "  //setPredictionCol(\"prediction\")"
   ]
  },
  {
   "cell_type": "code",
   "execution_count": 17,
   "metadata": {},
   "outputs": [
    {
     "data": {
      "text/plain": [
       "r2 = 0.5321610829672769\n"
      ]
     },
     "metadata": {},
     "output_type": "display_data"
    },
    {
     "data": {
      "text/plain": [
       "0.5321610829672769"
      ]
     },
     "execution_count": 17,
     "metadata": {},
     "output_type": "execute_result"
    }
   ],
   "source": [
    "val r2 = evaluator.evaluate(predictions)"
   ]
  },
  {
   "cell_type": "markdown",
   "metadata": {},
   "source": [
    "## Compare data with prediction"
   ]
  },
  {
   "cell_type": "code",
   "execution_count": 18,
   "metadata": {},
   "outputs": [
    {
     "data": {
      "text/plain": [
       "x = Array(20.0, 20.0, 20.0, 22.0, 22.0, 23.0, 24.0, 24.0, 26.0, 26.0, 28.0, 28.0, 30.0, 31.0, 32.0, 32.0, 35.0, 36.0, 37.0, 37.0, 39.0, 40.0, 41.0, 41.0, 42.0, 45.0, 45.0, 47.0, 48.0, 48.0, 49.0, 49.0, 52.0, 55.0, 55.0, 58.0, 58.0, 59.0, 59.0, 64.0, 67.0, 69.0, 70.0, 72.0, 73.0, 73.0, 75.0, 77.0)\n",
       "y = Array(93.055037209, 116.052957535, 126.245581176, 113.268988171, 127.583169459, 124.755884462, 134.515674853, 140.227596469, 97.513663344, 109.213183583, 104.735530425, 116.338801548, 116.200326534, 150.77480389, 133.907747685, 138.592291886, 120.765202892, 118.693921241, 146.674674341, 148.084745324, 127.2820664, 149.636593431, 117.346709581, 125.438574874, 131.581449229, 150.728251583, 152.605789255, 155.735417675, 124.774831374, 139.098802313, 129.436803594,...\n"
      ]
     },
     "metadata": {},
     "output_type": "display_data"
    },
    {
     "data": {
      "text/plain": [
       "[93.055037209, 116.052957535, 126.245581176, 113.268988171, 127.583169459, 124.755884462, 134.515674853, 140.227596469, 97.513663344, 109.213183583, 104.735530425, 116.338801548, 116.200326534, 150.77480389, 133.907747685, 138.592291886, 120.765202892, 118.693921241, 146.674674341, 148.084745324, 127.2820664, 149.636593431, 117.346709581, 125.438574874, 131.581449229, 150.728251583, 152.605789255, 155.735417675, 124.774831374, 139.098802313, 129.436803594, 134.114602528, 143.165926462, 136.771774869, 150.250726648, 157.624363795, 158.773654276, 156.031261959, 173.563942733, 159.706511678, 154.867998703, 177.962721271, 122.601165854, 171.716593368, 152.315027195, 183.735881788, 156.085539297, 166.069882861]"
      ]
     },
     "execution_count": 18,
     "metadata": {},
     "output_type": "execute_result"
    }
   ],
   "source": [
    "val x = predictions.select(\"features\").collect.map(row=>row(0).asInstanceOf[DenseVector](0))\n",
    "val y = predictions.select(\"label\").as[Double].collect\n",
    "val yp = predictions.select(\"prediction\").as[Double].collect"
   ]
  },
  {
   "cell_type": "code",
   "execution_count": 19,
   "metadata": {},
   "outputs": [
    {
     "data": {
      "text/plain": [
       "fig = breeze.plot.Figure@75b4ecda\n",
       "plt = breeze.plot.Plot@5eb5c01c\n"
      ]
     },
     "metadata": {},
     "output_type": "display_data"
    },
    {
     "data": {
      "text/plain": [
       "breeze.plot.Plot@5eb5c01c"
      ]
     },
     "execution_count": 19,
     "metadata": {},
     "output_type": "execute_result"
    }
   ],
   "source": [
    "val fig = Figure()\n",
    "val plt = fig.subplot(0)"
   ]
  },
  {
   "cell_type": "code",
   "execution_count": 20,
   "metadata": {},
   "outputs": [
    {
     "data": {
      "text/plain": [
       "plt.legend: Boolean = true\n",
       "plt.title: String = Linear Regression\n",
       "plt.xlabel: String = Age\n",
       "plt.ylabel: String = Systolic Blood Pressure\n"
      ]
     },
     "metadata": {},
     "output_type": "display_data"
    }
   ],
   "source": [
    "plt += plot(x, y, '+', name = \"Data\", colorcode=\"red\")\n",
    "plt += plot(x, yp, '-', name = \"Fit\", colorcode=\"blue\")\n",
    "\n",
    "plt.legend = true\n",
    "plt.title = \"Linear Regression\"\n",
    "plt.xlabel = \"Age\"\n",
    "//plt.xlim(0,11)\n",
    "plt.ylabel = \"Systolic Blood Pressure\"\n",
    "//plt.ylim(0,6)"
   ]
  },
  {
   "cell_type": "code",
   "execution_count": 21,
   "metadata": {},
   "outputs": [
    {
     "data": {
      "text/html": [
       "<img width=\"600\" height=\"400\" src=\"data:image/png;base64,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\" />"
      ]
     },
     "execution_count": 21,
     "metadata": {},
     "output_type": "execute_result"
    }
   ],
   "source": [
    "kernel.magics.html(tohtml(plt.chart))"
   ]
  }
 ],
 "metadata": {
  "kernelspec": {
   "display_name": "Apache Toree - Scala",
   "language": "scala",
   "name": "apache_toree_scala"
  },
  "language_info": {
   "codemirror_mode": "text/x-scala",
   "file_extension": ".scala",
   "mimetype": "text/x-scala",
   "name": "scala",
   "pygments_lexer": "scala",
   "version": "2.11.8"
  }
 },
 "nbformat": 4,
 "nbformat_minor": 2
}
