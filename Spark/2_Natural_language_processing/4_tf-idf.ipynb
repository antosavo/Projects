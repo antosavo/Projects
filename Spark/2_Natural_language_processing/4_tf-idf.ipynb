{
 "cells": [
  {
   "cell_type": "markdown",
   "metadata": {},
   "source": [
    "# Term frequency-inverse document frequency (tf-idf)\n",
    "Frequent words occur across multiple documents. Those frequently occurring words typically\n",
    "don't contain useful information.\n",
    "The tf-idf can be defined as the product of the term frequency and the inverse document frequency:\n",
    "\n",
    "$$tf-idf(t,d) = tf(t,d)\\cdot idf(t)$$ \n",
    "\n",
    "$tf(t, d)$ is the term t frequency  for document d, the inverse document frequency idf can be calculated as:\n",
    "\n",
    "$$idf(t)= 1 + log[(1+n)/(1+df(t))]$$\n",
    "\n",
    "where $n$ is the total number of documents, and $df(t)$ is the number of documents \n",
    "that contain the term t. Note that if $df(t)=n$ then $idf(t)$ has the minimum value of 1.\n",
    "\n",
    "The log is used to ensure that low document frequencies are not given too much weight."
   ]
  },
  {
   "cell_type": "code",
   "execution_count": 1,
   "metadata": {
    "collapsed": true
   },
   "outputs": [],
   "source": [
    "import org.apache.spark.sql.functions._\n",
    "import org.apache.spark.ml.feature.{Tokenizer,StopWordsRemover,CountVectorizer,IDF}\n",
    "import org.apache.spark.ml.Pipeline\n",
    "import org.apache.spark.ml.linalg.Vector"
   ]
  },
  {
   "cell_type": "markdown",
   "metadata": {},
   "source": [
    "## Create a set of documents"
   ]
  },
  {
   "cell_type": "code",
   "execution_count": 2,
   "metadata": {},
   "outputs": [
    {
     "data": {
      "text/plain": [
       "df = [id: int, doc: string]\n"
      ]
     },
     "metadata": {},
     "output_type": "display_data"
    },
    {
     "data": {
      "text/plain": [
       "[id: int, doc: string]"
      ]
     },
     "execution_count": 2,
     "metadata": {},
     "output_type": "execute_result"
    }
   ],
   "source": [
    "val df = List( (0,\"The sun is shining\"),\n",
    "                (1,\"The weather is sweet, sweet\"),\n",
    "                (2,\"The sun is shining and the weather is sweet\")).toDF(\"id\",\"doc\")"
   ]
  },
  {
   "cell_type": "code",
   "execution_count": 3,
   "metadata": {},
   "outputs": [
    {
     "name": "stdout",
     "output_type": "stream",
     "text": [
      "+---+--------------------+\n",
      "| id|                 doc|\n",
      "+---+--------------------+\n",
      "|  0|  The sun is shining|\n",
      "|  1|The weather is sw...|\n",
      "|  2|The sun is shinin...|\n",
      "+---+--------------------+\n",
      "\n"
     ]
    }
   ],
   "source": [
    "df.show()"
   ]
  },
  {
   "cell_type": "markdown",
   "metadata": {},
   "source": [
    "## Vectorize the documents"
   ]
  },
  {
   "cell_type": "code",
   "execution_count": 4,
   "metadata": {},
   "outputs": [
    {
     "data": {
      "text/plain": [
       "tokenizer = tok_852b51e088ea\n"
      ]
     },
     "metadata": {},
     "output_type": "display_data"
    },
    {
     "data": {
      "text/plain": [
       "tok_852b51e088ea"
      ]
     },
     "execution_count": 4,
     "metadata": {},
     "output_type": "execute_result"
    }
   ],
   "source": [
    "val tokenizer = new Tokenizer().\n",
    "  setInputCol(\"doc\").\n",
    "  setOutputCol(\"raw_words\")"
   ]
  },
  {
   "cell_type": "code",
   "execution_count": 5,
   "metadata": {},
   "outputs": [
    {
     "data": {
      "text/plain": [
       "remover = stopWords_55c145ba7646\n"
      ]
     },
     "metadata": {},
     "output_type": "display_data"
    },
    {
     "data": {
      "text/plain": [
       "stopWords_55c145ba7646"
      ]
     },
     "execution_count": 5,
     "metadata": {},
     "output_type": "execute_result"
    }
   ],
   "source": [
    "val remover = new StopWordsRemover().\n",
    "  setInputCol(\"raw_words\").\n",
    "  setOutputCol(\"filtered_words\")"
   ]
  },
  {
   "cell_type": "code",
   "execution_count": 6,
   "metadata": {},
   "outputs": [
    {
     "data": {
      "text/plain": [
       "cv = cntVec_48fed1ba3ba1\n"
      ]
     },
     "metadata": {},
     "output_type": "display_data"
    },
    {
     "data": {
      "text/plain": [
       "cntVec_48fed1ba3ba1"
      ]
     },
     "execution_count": 6,
     "metadata": {},
     "output_type": "execute_result"
    }
   ],
   "source": [
    "val cv = new CountVectorizer().\n",
    "  setInputCol(\"filtered_words\").\n",
    "  setOutputCol(\"rawFeatures\")"
   ]
  },
  {
   "cell_type": "code",
   "execution_count": 7,
   "metadata": {},
   "outputs": [
    {
     "data": {
      "text/plain": [
       "idf = idf_3bd9d5e92022\n"
      ]
     },
     "metadata": {},
     "output_type": "display_data"
    },
    {
     "data": {
      "text/plain": [
       "idf_3bd9d5e92022"
      ]
     },
     "execution_count": 7,
     "metadata": {},
     "output_type": "execute_result"
    }
   ],
   "source": [
    "val idf = new IDF().\n",
    "  setInputCol(\"rawFeatures\").\n",
    "  setOutputCol(\"features\")"
   ]
  },
  {
   "cell_type": "code",
   "execution_count": 8,
   "metadata": {},
   "outputs": [
    {
     "data": {
      "text/plain": [
       "pipeline = pipeline_cd8cd5fcbc6f\n"
      ]
     },
     "metadata": {},
     "output_type": "display_data"
    },
    {
     "data": {
      "text/plain": [
       "pipeline_cd8cd5fcbc6f"
      ]
     },
     "execution_count": 8,
     "metadata": {},
     "output_type": "execute_result"
    }
   ],
   "source": [
    "val pipeline = new Pipeline().\n",
    "  setStages(Array(tokenizer, remover, cv, idf))"
   ]
  },
  {
   "cell_type": "code",
   "execution_count": 9,
   "metadata": {},
   "outputs": [
    {
     "name": "stdout",
     "output_type": "stream",
     "text": [
      "[Stage 0:===========================================================(4 + 0) / 4]+---+--------------------+--------------------+\n",
      "| id|                 doc|            features|\n",
      "+---+--------------------+--------------------+\n",
      "|  0|  The sun is shining|(5,[1,2],[0.28768...|\n",
      "|  1|The weather is sw...|(5,[0,3,4],[0.287...|\n",
      "|  2|The sun is shinin...|(5,[0,1,2,3],[0.2...|\n",
      "+---+--------------------+--------------------+\n",
      "\n"
     ]
    },
    {
     "data": {
      "text/plain": [
       "df_v = [id: int, doc: string ... 1 more field]\n"
      ]
     },
     "metadata": {},
     "output_type": "display_data"
    },
    {
     "data": {
      "text/plain": [
       "[id: int, doc: string ... 1 more field]"
      ]
     },
     "execution_count": 9,
     "metadata": {},
     "output_type": "execute_result"
    }
   ],
   "source": [
    "val df_v = pipeline.fit(df).transform(df).select(\"id\",\"doc\",\"features\")\n",
    "df_v.show()"
   ]
  },
  {
   "cell_type": "code",
   "execution_count": 10,
   "metadata": {},
   "outputs": [
    {
     "data": {
      "text/plain": [
       "[[0.0,0.28768207245178085,0.28768207245178085,0.0,0.0], [0.28768207245178085,0.0,0.0,0.28768207245178085,0.6931471805599453], [0.28768207245178085,0.28768207245178085,0.28768207245178085,0.28768207245178085,0.0]]"
      ]
     },
     "execution_count": 10,
     "metadata": {},
     "output_type": "execute_result"
    }
   ],
   "source": [
    "df_v.select(\"features\").collect.map(row => row(0).asInstanceOf[Vector].toDense)"
   ]
  }
 ],
 "metadata": {
  "kernelspec": {
   "display_name": "Apache Toree - Scala",
   "language": "scala",
   "name": "apache_toree_scala"
  },
  "language_info": {
   "codemirror_mode": "text/x-scala",
   "file_extension": ".scala",
   "mimetype": "text/x-scala",
   "name": "scala",
   "pygments_lexer": "scala",
   "version": "2.11.8"
  }
 },
 "nbformat": 4,
 "nbformat_minor": 2
}
