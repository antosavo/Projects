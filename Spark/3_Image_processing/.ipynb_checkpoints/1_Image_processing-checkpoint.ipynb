{
 "cells": [
  {
   "cell_type": "code",
   "execution_count": 1,
   "metadata": {
    "collapsed": true
   },
   "outputs": [],
   "source": [
    "import org.apache.spark.sql.functions._\n",
    "import Image.Processing._\n",
    "import breeze.plot._\n",
    "import convert.jfc.tohtml"
   ]
  },
  {
   "cell_type": "markdown",
   "metadata": {},
   "source": [
    "## Read image"
   ]
  },
  {
   "cell_type": "code",
   "execution_count": 2,
   "metadata": {},
   "outputs": [
    {
     "data": {
      "text/plain": [
       "I = BufferedImage@61648ca6: type = 5 ColorModel: #pixelBits = 24 numComponents = 3 color space = java.awt.color.ICC_ColorSpace@6a2712ed transparency = 1 has alpha = false isAlphaPre = false ByteInterleavedRaster: width = 1200 height = 900 #numDataElements 3 dataOff[0] = 2\n"
      ]
     },
     "metadata": {},
     "output_type": "display_data"
    },
    {
     "data": {
      "text/plain": [
       "BufferedImage@61648ca6: type = 5 ColorModel: #pixelBits = 24 numComponents = 3 color space = java.awt.color.ICC_ColorSpace@6a2712ed transparency = 1 has alpha = false isAlphaPre = false ByteInterleavedRaster: width = 1200 height = 900 #numDataElements 3 dataOff[0] = 2"
      ]
     },
     "execution_count": 2,
     "metadata": {},
     "output_type": "execute_result"
    }
   ],
   "source": [
    "val I = readImage(\"o.png\")"
   ]
  },
  {
   "cell_type": "markdown",
   "metadata": {},
   "source": [
    "## Properties"
   ]
  },
  {
   "cell_type": "code",
   "execution_count": 3,
   "metadata": {},
   "outputs": [
    {
     "data": {
      "text/plain": [
       "1200"
      ]
     },
     "execution_count": 3,
     "metadata": {},
     "output_type": "execute_result"
    }
   ],
   "source": [
    "widthImage(I)"
   ]
  },
  {
   "cell_type": "code",
   "execution_count": 4,
   "metadata": {},
   "outputs": [
    {
     "data": {
      "text/plain": [
       "900"
      ]
     },
     "execution_count": 4,
     "metadata": {},
     "output_type": "execute_result"
    }
   ],
   "source": [
    "heightImage(I)"
   ]
  },
  {
   "cell_type": "markdown",
   "metadata": {},
   "source": [
    "## Resize image"
   ]
  },
  {
   "cell_type": "code",
   "execution_count": 5,
   "metadata": {},
   "outputs": [
    {
     "data": {
      "text/plain": [
       "rimage = BufferedImage@52f48e04: type = 1 DirectColorModel: rmask=ff0000 gmask=ff00 bmask=ff amask=0 IntegerInterleavedRaster: width = 60 height = 45 #Bands = 3 xOff = 0 yOff = 0 dataOffset[0] 0\n"
      ]
     },
     "metadata": {},
     "output_type": "display_data"
    },
    {
     "data": {
      "text/plain": [
       "BufferedImage@52f48e04: type = 1 DirectColorModel: rmask=ff0000 gmask=ff00 bmask=ff amask=0 IntegerInterleavedRaster: width = 60 height = 45 #Bands = 3 xOff = 0 yOff = 0 dataOffset[0] 0"
      ]
     },
     "execution_count": 5,
     "metadata": {},
     "output_type": "execute_result"
    }
   ],
   "source": [
    "val rimage = resizeImage(I, 60, 45)"
   ]
  },
  {
   "cell_type": "code",
   "execution_count": 6,
   "metadata": {},
   "outputs": [
    {
     "data": {
      "text/plain": [
       "60"
      ]
     },
     "execution_count": 6,
     "metadata": {},
     "output_type": "execute_result"
    }
   ],
   "source": [
    "widthImage(rimage)"
   ]
  },
  {
   "cell_type": "code",
   "execution_count": 7,
   "metadata": {},
   "outputs": [
    {
     "data": {
      "text/plain": [
       "45"
      ]
     },
     "execution_count": 7,
     "metadata": {},
     "output_type": "execute_result"
    }
   ],
   "source": [
    "heightImage(rimage)"
   ]
  },
  {
   "cell_type": "markdown",
   "metadata": {},
   "source": [
    "## Save image"
   ]
  },
  {
   "cell_type": "code",
   "execution_count": 8,
   "metadata": {},
   "outputs": [
    {
     "data": {
      "text/plain": [
       "true"
      ]
     },
     "execution_count": 8,
     "metadata": {},
     "output_type": "execute_result"
    }
   ],
   "source": [
    "writeImage(I,\"My_image.png\")"
   ]
  },
  {
   "cell_type": "markdown",
   "metadata": {},
   "source": [
    "## Convert image to 1D array"
   ]
  },
  {
   "cell_type": "code",
   "execution_count": 9,
   "metadata": {},
   "outputs": [
    {
     "data": {
      "text/plain": [
       "A = Array(-1.0, -1.0, -1.0, -1.0, -1.0, -1.0, -1.0, -1.0, -1.0, -1.0, -1.0, -1.0, -1.0, -1.0, -1.0, -1.0, -1.0, -1.0, -1.0, -1.0, -1.0, -1.0, -1.0, -1.0, -1.0, -1.0, -1.0, -1.0, -1.0, -1.0, -1.0, -1.0, -1.0, -1.0, -1.0, -1.0, -1.0, -1.0, -1.0, -1.0, -1.0, -1.0, -1.0, -1.0, -1.0, -1.0, -1.0, -1.0, -1.0, -1.0, -1.0, -1.0, -1.0, -1.0, -1.0, -1.0, -1.0, -1.0, -1.0, -1.0, -1.0, -1.0, -1.0, -1.0, -1.0, -1.0, -1.0, -1.0, -1.0, -1.0, -1.0, -1.0, -1.0, -1.0, -1.0, -1.0, -1.0, -1.0, -1.0, -1.0, -1.0, -1.0, -1.0, -1.0, -1.0, -1.0, -1.0, -1.0, -1.0, -1.0, -1.0, -1.0, -1.0, -1.0, -1.0, -1.0, -1.0, -1.0, -1.0, -1.0, -1.0, -1.0, -1.0, -1.0, -1.0, -1.0, -1.0, -1.0, -1.0, -1.0, -1.0, -1.0, -1.0, -1.0, -1.0, -1.0, -1.0, -1.0, -1.0, -1.0, -1.0, -1.0, -1.0, -1.0, -1.0, -1.0, -1.0, -1.0, -1.0...\n"
      ]
     },
     "metadata": {},
     "output_type": "display_data"
    },
    {
     "data": {
      "text/plain": [
       "[-1.0, -1.0, -1.0, -1.0, -1.0, -1.0, -1.0, -1.0, -1.0, -1.0, -1.0, -1.0, -1.0, -1.0, -1.0, -1.0, -1.0, -1.0, -1.0, -1.0, -1.0, -1.0, -1.0, -1.0, -1.0, -1.0, -1.0, -1.0, -1.0, -1.0, -1.0, -1.0, -1.0, -1.0, -1.0, -1.0, -1.0, -1.0, -1.0, -1.0, -1.0, -1.0, -1.0, -1.0, -1.0, -1.0, -1.0, -1.0, -1.0, -1.0, -1.0, -1.0, -1.0, -1.0, -1.0, -1.0, -1.0, -1.0, -1.0, -1.0, -1.0, -1.0, -1.0, -1.0, -1.0, -1.0, -1.0, -1.0, -1.0, -1.0, -1.0, -1.0, -1.0, -1.0, -1.0, -1.0, -1.0, -1.0, -1.0, -1.0, -1.0, -1.0, -1.0, -1.0, -1.0, -1.0, -1.0, -1.0, -1.0, -1.0, -1.0, -1.0, -1.0, -1.0, -1.0, -1.0, -1.0, -1.0, -1.0, -1.0, -1.0, -1.0, -1.0, -1.0, -1.0, -1.0, -1.0, -1.0, -1.0, -1.0, -1.0, -1.0, -1.0, -1.0, -1.0, -1.0, -1.0, -1.0, -1.0, -1.0, -1.0, -1.0, -1.0, -1.0, -1.0, -1.0, -1.0, -1.0, -1.0, -1.0, -1.0, -1.0, -1.0, -1.0, -1.0, -1.0, -1.0, -1.0, -1.0, -1.0, -1.0, -1.0, -1.0, -1.0, -1.0, -1.0, -1.0, -1.0, -1.0, -1.0, -1.0, -1.0, -1.0, -1.0, -1.0, -1.0, -1.0, -1.0, -1.0, -1.0, -1.0, -1.0, -1.0, -1.0, -1.0, -1.0, -1.0, -1.0, -1.0, -1.0, -1.0, -1.0, -1.0, -1.0, -1.0, -1.0, -1.0, -1.0, -1.0, -1.0, -1.0, -1.0, -1.0, -1.0, -1.0, -1.0, -1.0, -1.0, -1.0, -1.0, -1.0, -1.0, -1.0, -1.0, -1.0, -1.0, -1.0, -1.0, -1.0, -1.0, -1.0, -1.0, -1.0, -1.0, -1.0, -1.0, -1.0, -1.0, -1.0, -1.0, -1.0, -1.0, -1.0, -1.0, -1.0, -1.0, -1.0, -1.0, -1.0, -1.0, -1.0, -1.0, -1.0, -1.0, -1.0, -1.0, -1.0, -1.0, -1.0, -1.0, -1.0, -1.0, -1.0, -1.0, -1.0, -1.0, -1.0, -1.0, -1.0, -1.0, -1.0, -1.0, -1.0, -1.0, -1.0, -1.0, -1.0, -1.0, -1.0, -1.0, -1.0, -1.0, -1.0, -1.0, -1.0, -1.0, -1.0, -1.0, -1.0, -1.0, -1.0, -1.0, -1.0, -1.0, -1.0, -1.0, -1.0, -1.0, -1.0, -1.0, -1.0, -1.0, -1.0, -1.0, -1.0, -1.0, -1.0, -1.0, -1.0, -1.0, -1.0, -1.0, -1.0, -1.0, -1.0, -1.0, -1.0, -1.0, -1.0, -1.0, -1.0, -1.0, -1.0, -1.0, -1.0, -1.0, -1.0, -1.0, -1.0, -1.0, -1.0, -1.0, -1.0, -1.0, -1.0, -1.0, -1.0, -1.0, -1.0, -1.0, -1.0, -1.0, -1.0, -1.0, -1.0, -1.0, -1.0, -1.0, -1.0, -1.0, -1.0, -1.0, -1.0, -1.0, -1.0, -1.0, -1.0, -1.0, -1.0, -1.0, -1.0, -1.0, -1.0, -1.0, -1.0, -1.0, -1.0, -1.0, -1.0, -1.0, -1.0, -1.0, -1.0, -1.0, -1.0, -1.0, -1.0, -1.0, -1.0, -1.0, -1.0, -1.0, -1.0, -1.0, -1.0, -1.0, -1.0, -1.0, -1.0, -1.0, -1.0, -1.0, -1.0, -1.0, -1.0, -1.0, -1.0, -1.0, -1.0, -1.0, -1.0, -1.0, -1.0, -1.0, -1.0, -1.0, -1.0, -1.0, -1.0, -1.0, -1.0, -1.0, -1.0, -1.0, -1.0, -1.0, -1.0, -1.0, -1.0, -1.0, -1.0, -1.0, -1.0, -1.0, -1.0, -1.0, -1.0, -1.0, -1.0, -1.0, -1.0, -1.0, -1.0, -1.0, -1.0, -1.0, -1.0, -1.0, -1.0, -1.0, -1.0, -1.0, -1.0, -1.0, -1.0, -1.0, -1.0, -1.0, -1.0, -1.0, -1.0, -1.0, -1.0, -1.0, -1.0, -1.0, -1.0, -1.0, -1.0, -1.0, -1.0, -1.0, -1.0, -1.0, -1.0, -1.0, -1.0, -1.0, -1.0, -1.0, -1.0, -1.0, -1.0, -1.0, -1.0, -1.0, -1.0, -1.0, -1.0, -1.0, -1.0, -1.0, -1.0, -1.0, -1.0, -1.0, -1.0, -1.0, -1.0, -1.0, -1.0, -1.0, -1.0, -1.0, -1.0, -1.0, -1.0, -1.0, -1.0, -1.0, -1.0, -1.0, -1.0, -1.0, -1.0, -1.0, -1.0, -1.0, -1.0, -1.0, -1.0, -1.0, -1.0, -1.0, -1.0, -1.0, -1.0, -1.0, -1.0, -1.0, -1.0, -1.0, -1.0, -1.0, -1.0, -1.0, -1.0, -1.0, -1.0, -1.6777216E7, -1.6777216E7, -1.6777216E7, -1.6777216E7, -1.6777216E7, -1.6777216E7, -1.6777216E7, -1.6777216E7, -1.0, -1.0, -1.0, -1.0, -1.0, -1.0, -1.0, -1.0, -1.0, -1.0, -1.0, -1.0, -1.0, -1.0, -1.0, -1.0, -1.0, -1.0, -1.0, -1.0, -1.0, -1.0, -1.0, -1.0, -1.0, -1.0, -1.0, -1.0, -1.0, -1.0, -1.0, -1.0, -1.0, -1.0, -1.0, -1.0, -1.0, -1.0, -1.0, -1.0, -1.0, -1.0, -1.0, -1.0, -1.0, -1.0, -1.0, -1.0, -1.0, -1.0, -1.0, -1.6777216E7, -1.6777216E7, -1.6777216E7, -1.6777216E7, -1.6777216E7, -1.6777216E7, -1.6777216E7, -1.6777216E7, -1.6777216E7, -1.6777216E7, -1.6777216E7, -1.0, -1.0, -1.0, -1.0, -1.0, -1.0, -1.0, -1.0, -1.0, -1.0, -1.0, -1.0, -1.0, -1.0, -1.0, -1.0, -1.0, -1.0, -1.0, -1.0, -1.0, -1.0, -1.0, -1.0, -1.0, -1.0, -1.0, -1.0, -1.0, -1.0, -1.0, -1.0, -1.0, -1.0, -1.0, -1.0, -1.0, -1.0, -1.0, -1.0, -1.0, -1.0, -1.0, -1.0, -1.0, -1.0, -1.0, -1.0, -1.6777216E7, -1.6777216E7, -1.6777216E7, -1.6777216E7, -1.6777216E7, -1.6777216E7, -1.6777216E7, -1.6777216E7, -1.6777216E7, -1.6777216E7, -1.6777216E7, -1.6777216E7, -1.6777216E7, -1.0, -1.0, -1.0, -1.0, -1.0, -1.0, -1.0, -1.0, -1.0, -1.0, -1.0, -1.0, -1.0, -1.0, -1.0, -1.0, -1.0, -1.0, -1.0, -1.0, -1.0, -1.0, -1.0, -1.0, -1.0, -1.0, -1.0, -1.0, -1.0, -1.0, -1.0, -1.0, -1.0, -1.0, -1.0, -1.0, -1.0, -1.0, -1.0, -1.0, -1.0, -1.0, -1.0, -1.0, -1.0, -1.0, -1.6777216E7, -1.6777216E7, -1.6777216E7, -1.6777216E7, -1.6777216E7, -1.6777216E7, -1.6777216E7, -1.6777216E7, -1.6777216E7, -1.6777216E7, -1.6777216E7, -1.6777216E7, -1.6777216E7, -1.6777216E7, -1.0, -1.0, -1.0, -1.0, -1.0, -1.0, -1.0, -1.0, -1.0, -1.0, -1.0, -1.0, -1.0, -1.0, -1.0, -1.0, -1.0, -1.0, -1.0, -1.0, -1.0, -1.0, -1.0, -1.0, -1.0, -1.0, -1.0, -1.0, -1.0, -1.0, -1.0, -1.0, -1.0, -1.0, -1.0, -1.0, -1.0, -1.0, -1.0, -1.0, -1.0, -1.0, -1.0, -1.0, -1.0, -1.6777216E7, -1.6777216E7, -1.6777216E7, -1.6777216E7, -1.6777216E7, -1.6777216E7, -1.0, -1.0, -1.0, -1.0, -1.0, -1.6777216E7, -1.6777216E7, -1.6777216E7, -1.6777216E7, -1.6777216E7, -1.0, -1.0, -1.0, -1.0, -1.0, -1.0, -1.0, -1.0, -1.0, -1.0, -1.0, -1.0, -1.0, -1.0, -1.0, -1.0, -1.0, -1.0, -1.0, -1.0, -1.0, -1.0, -1.0, -1.0, -1.0, -1.0, -1.0, -1.0, -1.0, -1.0, -1.0, -1.0, -1.0, -1.0, -1.0, -1.0, -1.0, -1.0, -1.0, -1.0, -1.0, -1.0, -1.6777216E7, -1.6777216E7, -1.6777216E7, -1.6777216E7, -1.6777216E7, -1.6777216E7, -1.6777216E7, -1.0, -1.0, -1.0, -1.0, -1.0, -1.0, -1.6777216E7, -1.6777216E7, -1.6777216E7, -1.6777216E7, -1.6777216E7, -1.0, -1.0, -1.0, -1.0, -1.0, -1.0, -1.0, -1.0, -1.0, -1.0, -1.0, -1.0, -1.0, -1.0, -1.0, -1.0, -1.0, -1.0, -1.0, -1.0, -1.0, -1.0, -1.0, -1.0, -1.0, -1.0, -1.0, -1.0, -1.0, -1.0, -1.0, -1.0, -1.0, -1.0, -1.0, -1.0, -1.0, -1.0, -1.0, -1.0, -1.0, -1.0, -1.6777216E7, -1.6777216E7, -1.6777216E7, -1.6777216E7, -1.6777216E7, -1.6777216E7, -1.0, -1.0, -1.0, -1.0, -1.0, -1.0, -1.0, -1.0, -1.6777216E7, -1.6777216E7, -1.6777216E7, -1.6777216E7, -1.6777216E7, -1.0, -1.0, -1.0, -1.0, -1.0, -1.0, -1.0, -1.0, -1.0, -1.0, -1.0, -1.0, -1.0, -1.0, -1.0, -1.0, -1.0, -1.0, -1.0, -1.0, -1.0, -1.0, -1.0, -1.0, -1.0, -1.0, -1.0, -1.0, -1.0, -1.0, -1.0, -1.0, -1.0, -1.0, -1.0, -1.0, -1.0, -1.0, -1.0, -1.0, -1.6777216E7, -1.6777216E7, -1.6777216E7, -1.6777216E7, -1.6777216E7, -1.6777216E7, -1.0, -1.0, -1.0, -1.0, -1.0, -1.0, -1.0, -1.0, -1.0, -1.6777216E7, -1.6777216E7, -1.6777216E7, -1.6777216E7, -1.6777216E7, -1.0, -1.0, -1.0, -1.0, -1.0, -1.0, -1.0, -1.0, -1.0, -1.0, -1.0, -1.0, -1.0, -1.0, -1.0, -1.0, -1.0, -1.0, -1.0, -1.0, -1.0, -1.0, -1.0, -1.0, -1.0, -1.0, -1.0, -1.0, -1.0, -1.0, -1.0, -1.0, -1.0, -1.0, -1.0, -1.0, -1.0, -1.0, -1.0, -1.0, -1.6777216E7, -1.6777216E7, -1.6777216E7, -1.6777216E7, -1.6777216E7, -1.0, -1.0, -1.0, -1.0, -1.0, -1.0, -1.0, -1.0, -1.0, -1.0, -1.0, -1.6777216E7, -1.6777216E7, -1.6777216E7, -1.6777216E7, -1.0, -1.0, -1.0, -1.0, -1.0, -1.0, -1.0, -1.0, -1.0, -1.0, -1.0, -1.0, -1.0, -1.0, -1.0, -1.0, -1.0, -1.0, -1.0, -1.0, -1.0, -1.0, -1.0, -1.0, -1.0, -1.0, -1.0, -1.0, -1.0, -1.0, -1.0, -1.0, -1.0, -1.0, -1.0, -1.0, -1.0, -1.0, -1.0, -1.0, -1.6777216E7, -1.6777216E7, -1.6777216E7, -1.6777216E7, -1.0, -1.0, -1.0, -1.0, -1.0, -1.0, -1.0, -1.0, -1.0, -1.0, -1.0, -1.0, -1.6777216E7, -1.6777216E7, -1.6777216E7, -1.6777216E7, -1.0, -1.0, -1.0, -1.0, -1.0, -1.0, -1.0, -1.0, -1.0, -1.0, -1.0, -1.0, -1.0, -1.0, -1.0, -1.0, -1.0, -1.0, -1.0, -1.0, -1.0, -1.0, -1.0, -1.0, -1.0, -1.0, -1.0, -1.0, -1.0, -1.0, -1.0, -1.0, -1.0, -1.0, -1.0, -1.0, -1.0, -1.0, -1.0, -1.0, -1.6777216E7, -1.6777216E7, -1.6777216E7, -1.6777216E7, -1.0, -1.0, -1.0, -1.0, -1.0, -1.0, -1.0, -1.0, -1.0, -1.0, -1.0, -1.0, -1.6777216E7, -1.6777216E7, -1.6777216E7, -1.6777216E7, -1.0, -1.0, -1.0, -1.0, -1.0, -1.0, -1.0, -1.0, -1.0, -1.0, -1.0, -1.0, -1.0, -1.0, -1.0, -1.0, -1.0, -1.0, -1.0, -1.0, -1.0, -1.0, -1.0, -1.0, -1.0, -1.0, -1.0, -1.0, -1.0, -1.0, -1.0, -1.0, -1.0, -1.0, -1.0, -1.0, -1.0, -1.0, -1.0, -1.0, -1.6777216E7, -1.6777216E7, -1.6777216E7, -1.6777216E7, -1.0, -1.0, -1.0, -1.0, -1.0, -1.0, -1.0, -1.0, -1.0, -1.0, -1.0, -1.0, -1.6777216E7, -1.6777216E7, -1.6777216E7, -1.6777216E7, -1.0, -1.0, -1.0, -1.0, -1.0, -1.0, -1.0, -1.0, -1.0, -1.0, -1.0, -1.0, -1.0, -1.0, -1.0, -1.0, -1.0, -1.0, -1.0, -1.0, -1.0, -1.0, -1.0, -1.0, -1.0, -1.0, -1.0, -1.0, -1.0, -1.0, -1.0, -1.0, -1.0, -1.0, -1.0, -1.0, -1.0, -1.0, -1.0, -1.0, -1.6777216E7, -1.6777216E7, -1.6777216E7, -1.6777216E7, -1.0, -1.0, -1.0, -1.0, -1.0, -1.0, -1.0, -1.0, -1.0, -1.0, -1.0, -1.0, -1.6777216E7, -1.6777216E7, -1.6777216E7, -1.6777216E7, -1.0, -1.0, -1.0, -1.0, -1.0, -1.0, -1.0, -1.0, -1.0, -1.0, -1.0, -1.0, -1.0, -1.0, -1.0, -1.0, -1.0, -1.0, -1.0, -1.0, -1.0, -1.0, -1.0, -1.0, -1.0, -1.0, -1.0, -1.0, -1.0, -1.0, -1.0, -1.0, -1.0, -1.0, -1.0, -1.0, -1.0, -1.0, -1.0, -1.0, -1.6777216E7, -1.6777216E7, -1.6777216E7, -1.6777216E7, -1.0, -1.0, -1.0, -1.0, -1.0, -1.0, -1.0, -1.0, -1.0, -1.0, -1.0, -1.6777216E7, -1.6777216E7, -1.6777216E7, -1.6777216E7, -1.6777216E7, -1.0, -1.0, -1.0, -1.0, -1.0, -1.0, -1.0, -1.0, -1.0, -1.0, -1.0, -1.0, -1.0, -1.0, -1.0, -1.0, -1.0, -1.0, -1.0, -1.0, -1.0, -1.0, -1.0, -1.0, -1.0, -1.0, -1.0, -1.0, -1.0, -1.0, -1.0, -1.0, -1.0, -1.0, -1.0, -1.0, -1.0, -1.0, -1.0, -1.0, -1.6777216E7, -1.6777216E7, -1.6777216E7, -1.6777216E7, -1.0, -1.0, -1.0, -1.0, -1.0, -1.0, -1.0, -1.0, -1.0, -1.0, -1.0, -1.6777216E7, -1.6777216E7, -1.6777216E7, -1.6777216E7, -1.6777216E7, -1.0, -1.0, -1.0, -1.0, -1.0, -1.0, -1.0, -1.0, -1.0, -1.0, -1.0, -1.0, -1.0, -1.0, -1.0, -1.0, -1.0, -1.0, -1.0, -1.0, -1.0, -1.0, -1.0, -1.0, -1.0, -1.0, -1.0, -1.0, -1.0, -1.0, -1.0, -1.0, -1.0, -1.0, -1.0, -1.0, -1.0, -1.0, -1.0, -1.0, -1.6777216E7, -1.6777216E7, -1.6777216E7, -1.6777216E7, -1.0, -1.0, -1.0, -1.0, -1.0, -1.0, -1.0, -1.0, -1.0, -1.0, -1.0, -1.6777216E7, -1.6777216E7, -1.6777216E7, -1.6777216E7, -1.6777216E7, -1.0, -1.0, -1.0, -1.0, -1.0, -1.0, -1.0, -1.0, -1.0, -1.0, -1.0, -1.0, -1.0, -1.0, -1.0, -1.0, -1.0, -1.0, -1.0, -1.0, -1.0, -1.0, -1.0, -1.0, -1.0, -1.0, -1.0, -1.0, -1.0, -1.0, -1.0, -1.0, -1.0, -1.0, -1.0, -1.0, -1.0, -1.0, -1.0, -1.0, -1.6777216E7, -1.6777216E7, -1.6777216E7, -1.6777216E7, -1.0, -1.0, -1.0, -1.0, -1.0, -1.0, -1.0, -1.0, -1.0, -1.0, -1.0, -1.6777216E7, -1.6777216E7, -1.6777216E7, -1.6777216E7, -1.0, -1.0, -1.0, -1.0, -1.0, -1.0, -1.0, -1.0, -1.0, -1.0, -1.0, -1.0, -1.0, -1.0, -1.0, -1.0, -1.0, -1.0, -1.0, -1.0, -1.0, -1.0, -1.0, -1.0, -1.0, -1.0, -1.0, -1.0, -1.0, -1.0, -1.0, -1.0, -1.0, -1.0, -1.0, -1.0, -1.0, -1.0, -1.0, -1.0, -1.0, -1.6777216E7, -1.6777216E7, -1.6777216E7, -1.6777216E7, -1.0, -1.0, -1.0, -1.0, -1.0, -1.0, -1.0, -1.0, -1.0, -1.0, -1.6777216E7, -1.6777216E7, -1.6777216E7, -1.6777216E7, -1.6777216E7, -1.0, -1.0, -1.0, -1.0, -1.0, -1.0, -1.0, -1.0, -1.0, -1.0, -1.0, -1.0, -1.0, -1.0, -1.0, -1.0, -1.0, -1.0, -1.0, -1.0, -1.0, -1.0, -1.0, -1.0, -1.0, -1.0, -1.0, -1.0, -1.0, -1.0, -1.0, -1.0, -1.0, -1.0, -1.0, -1.0, -1.0, -1.0, -1.0, -1.0, -1.0, -1.6777216E7, -1.6777216E7, -1.6777216E7, -1.6777216E7, -1.0, -1.0, -1.0, -1.0, -1.0, -1.0, -1.0, -1.0, -1.0, -1.0, -1.6777216E7, -1.6777216E7, -1.6777216E7, -1.6777216E7, -1.6777216E7, -1.0, -1.0, -1.0, -1.0, -1.0, -1.0, -1.0, -1.0, -1.0, -1.0, -1.0, -1.0, -1.0, -1.0, -1.0, -1.0, -1.0, -1.0, -1.0, -1.0, -1.0, -1.0, -1.0, -1.0, -1.0, -1.0, -1.0, -1.0, -1.0, -1.0, -1.0, -1.0, -1.0, -1.0, -1.0, -1.0, -1.0, -1.0, -1.0, -1.0, -1.0, -1.6777216E7, -1.6777216E7, -1.6777216E7, -1.6777216E7, -1.6777216E7, -1.0, -1.0, -1.0, -1.0, -1.0, -1.0, -1.0, -1.0, -1.0, -1.6777216E7, -1.6777216E7, -1.6777216E7, -1.6777216E7, -1.0, -1.0, -1.0, -1.0, -1.0, -1.0, -1.0, -1.0, -1.0, -1.0, -1.0, -1.0, -1.0, -1.0, -1.0, -1.0, -1.0, -1.0, -1.0, -1.0, -1.0, -1.0, -1.0, -1.0, -1.0, -1.0, -1.0, -1.0, -1.0, -1.0, -1.0, -1.0, -1.0, -1.0, -1.0, -1.0, -1.0, -1.0, -1.0, -1.0, -1.0, -1.0, -1.6777216E7, -1.6777216E7, -1.6777216E7, -1.6777216E7, -1.6777216E7, -1.0, -1.0, -1.0, -1.0, -1.0, -1.0, -1.0, -1.0, -1.6777216E7, -1.6777216E7, -1.6777216E7, -1.6777216E7, -1.6777216E7, -1.0, -1.0, -1.0, -1.0, -1.0, -1.0, -1.0, -1.0, -1.0, -1.0, -1.0, -1.0, -1.0, -1.0, -1.0, -1.0, -1.0, -1.0, -1.0, -1.0, -1.0, -1.0, -1.0, -1.0, -1.0, -1.0, -1.0, -1.0, -1.0, -1.0, -1.0, -1.0, -1.0, -1.0, -1.0, -1.0, -1.0, -1.0, -1.0, -1.0, -1.0, -1.0, -1.0, -1.6777216E7, -1.6777216E7, -1.6777216E7, -1.6777216E7, -1.0, -1.0, -1.0, -1.0, -1.0, -1.0, -1.0, -1.6777216E7, -1.6777216E7, -1.6777216E7, -1.6777216E7, -1.6777216E7, -1.0, -1.0, -1.0, -1.0, -1.0, -1.0, -1.0, -1.0, -1.0, -1.0, -1.0, -1.0, -1.0, -1.0, -1.0, -1.0, -1.0, -1.0, -1.0, -1.0, -1.0, -1.0, -1.0, -1.0, -1.0, -1.0, -1.0, -1.0, -1.0, -1.0, -1.0, -1.0, -1.0, -1.0, -1.0, -1.0, -1.0, -1.0, -1.0, -1.0, -1.0, -1.0, -1.0, -1.0, -1.6777216E7, -1.6777216E7, -1.6777216E7, -1.6777216E7, -1.6777216E7, -1.0, -1.0, -1.0, -1.0, -1.0, -1.0, -1.6777216E7, -1.6777216E7, -1.6777216E7, -1.6777216E7, -1.6777216E7, -1.0, -1.0, -1.0, -1.0, -1.0, -1.0, -1.0, -1.0, -1.0, -1.0, -1.0, -1.0, -1.0, -1.0, -1.0, -1.0, -1.0, -1.0, -1.0, -1.0, -1.0, -1.0, -1.0, -1.0, -1.0, -1.0, -1.0, -1.0, -1.0, -1.0, -1.0, -1.0, -1.0, -1.0, -1.0, -1.0, -1.0, -1.0, -1.0, -1.0, -1.0, -1.0, -1.0, -1.0, -1.0, -1.6777216E7, -1.6777216E7, -1.6777216E7, -1.6777216E7, -1.6777216E7, -1.0, -1.0, -1.0, -1.0, -1.6777216E7, -1.6777216E7, -1.6777216E7, -1.6777216E7, -1.6777216E7, -1.0, -1.0, -1.0, -1.0, -1.0, -1.0, -1.0, -1.0, -1.0, -1.0, -1.0, -1.0, -1.0, -1.0, -1.0, -1.0, -1.0, -1.0, -1.0, -1.0, -1.0, -1.0, -1.0, -1.0, -1.0, -1.0, -1.0, -1.0, -1.0, -1.0, -1.0, -1.0, -1.0, -1.0, -1.0, -1.0, -1.0, -1.0, -1.0, -1.0, -1.0, -1.0, -1.0, -1.0, -1.0, -1.0, -1.6777216E7, -1.6777216E7, -1.6777216E7, -1.6777216E7, -1.6777216E7, -1.6777216E7, -1.6777216E7, -1.6777216E7, -1.6777216E7, -1.6777216E7, -1.6777216E7, -1.6777216E7, -1.6777216E7, -1.6777216E7, -1.0, -1.0, -1.0, -1.0, -1.0, -1.0, -1.0, -1.0, -1.0, -1.0, -1.0, -1.0, -1.0, -1.0, -1.0, -1.0, -1.0, -1.0, -1.0, -1.0, -1.0, -1.0, -1.0, -1.0, -1.0, -1.0, -1.0, -1.0, -1.0, -1.0, -1.0, -1.0, -1.0, -1.0, -1.0, -1.0, -1.0, -1.0, -1.0, -1.0, -1.0, -1.0, -1.0, -1.0, -1.0, -1.0, -1.0, -1.6777216E7, -1.6777216E7, -1.6777216E7, -1.6777216E7, -1.6777216E7, -1.6777216E7, -1.6777216E7, -1.6777216E7, -1.6777216E7, -1.6777216E7, -1.6777216E7, -1.6777216E7, -1.0, -1.0, -1.0, -1.0, -1.0, -1.0, -1.0, -1.0, -1.0, -1.0, -1.0, -1.0, -1.0, -1.0, -1.0, -1.0, -1.0, -1.0, -1.0, -1.0, -1.0, -1.0, -1.0, -1.0, -1.0, -1.0, -1.0, -1.0, -1.0, -1.0, -1.0, -1.0, -1.0, -1.0, -1.0, -1.0, -1.0, -1.0, -1.0, -1.0, -1.0, -1.0, -1.0, -1.0, -1.0, -1.0, -1.0, -1.0, -1.0, -1.6777216E7, -1.6777216E7, -1.6777216E7, -1.6777216E7, -1.6777216E7, -1.6777216E7, -1.6777216E7, -1.6777216E7, -1.6777216E7, -1.6777216E7, -1.0, -1.0, -1.0, -1.0, -1.0, -1.0, -1.0, -1.0, -1.0, -1.0, -1.0, -1.0, -1.0, -1.0, -1.0, -1.0, -1.0, -1.0, -1.0, -1.0, -1.0, -1.0, -1.0, -1.0, -1.0, -1.0, -1.0, -1.0, -1.0, -1.0, -1.0, -1.0, -1.0, -1.0, -1.0, -1.0, -1.0, -1.0, -1.0, -1.0, -1.0, -1.0, -1.0, -1.0, -1.0, -1.0, -1.0, -1.0, -1.0, -1.0, -1.0, -1.6777216E7, -1.6777216E7, -1.6777216E7, -1.6777216E7, -1.6777216E7, -1.6777216E7, -1.6777216E7, -1.6777216E7, -1.0, -1.0, -1.0, -1.0, -1.0, -1.0, -1.0, -1.0, -1.0, -1.0, -1.0, -1.0, -1.0, -1.0, -1.0, -1.0, -1.0, -1.0, -1.0, -1.0, -1.0, -1.0, -1.0, -1.0, -1.0, -1.0, -1.0, -1.0, -1.0, -1.0, -1.0, -1.0, -1.0, -1.0, -1.0, -1.0, -1.0, -1.0, -1.0, -1.0, -1.0, -1.0, -1.0, -1.0, -1.0, -1.0, -1.0, -1.0, -1.0, -1.0, -1.0, -1.0, -1.0, -1.0, -1.6777216E7, -1.6777216E7, -1.6777216E7, -1.6777216E7, -1.0, -1.0, -1.0, -1.0, -1.0, -1.0, -1.0, -1.0, -1.0, -1.0, -1.0, -1.0, -1.0, -1.0, -1.0, -1.0, -1.0, -1.0, -1.0, -1.0, -1.0, -1.0, -1.0, -1.0, -1.0, -1.0, -1.0, -1.0, -1.0, -1.0, -1.0, -1.0, -1.0, -1.0, -1.0, -1.0, -1.0, -1.0, -1.0, -1.0, -1.0, -1.0, -1.0, -1.0, -1.0, -1.0, -1.0, -1.0, -1.0, -1.0, -1.0, -1.0, -1.0, -1.0, -1.0, -1.0, -1.0, -1.0, -1.0, -1.0, -1.0, -1.0, -1.0, -1.0, -1.0, -1.0, -1.0, -1.0, -1.0, -1.0, -1.0, -1.0, -1.0, -1.0, -1.0, -1.0, -1.0, -1.0, -1.0, -1.0, -1.0, -1.0, -1.0, -1.0, -1.0, -1.0, -1.0, -1.0, -1.0, -1.0, -1.0, -1.0, -1.0, -1.0, -1.0, -1.0, -1.0, -1.0, -1.0, -1.0, -1.0, -1.0, -1.0, -1.0, -1.0, -1.0, -1.0, -1.0, -1.0, -1.0, -1.0, -1.0, -1.0, -1.0, -1.0, -1.0, -1.0, -1.0, -1.0, -1.0, -1.0, -1.0, -1.0, -1.0, -1.0, -1.0, -1.0, -1.0, -1.0, -1.0, -1.0, -1.0, -1.0, -1.0, -1.0, -1.0, -1.0, -1.0, -1.0, -1.0, -1.0, -1.0, -1.0, -1.0, -1.0, -1.0, -1.0, -1.0, -1.0, -1.0, -1.0, -1.0, -1.0, -1.0, -1.0, -1.0, -1.0, -1.0, -1.0, -1.0, -1.0, -1.0, -1.0, -1.0, -1.0, -1.0, -1.0, -1.0, -1.0, -1.0, -1.0, -1.0, -1.0, -1.0, -1.0, -1.0, -1.0, -1.0, -1.0, -1.0, -1.0, -1.0, -1.0, -1.0, -1.0, -1.0, -1.0, -1.0, -1.0, -1.0, -1.0, -1.0, -1.0, -1.0, -1.0, -1.0, -1.0, -1.0, -1.0, -1.0, -1.0, -1.0, -1.0, -1.0, -1.0, -1.0, -1.0, -1.0, -1.0, -1.0, -1.0, -1.0, -1.0, -1.0, -1.0, -1.0, -1.0, -1.0, -1.0, -1.0, -1.0, -1.0, -1.0, -1.0, -1.0, -1.0, -1.0, -1.0, -1.0, -1.0, -1.0, -1.0, -1.0, -1.0, -1.0, -1.0, -1.0, -1.0, -1.0, -1.0, -1.0, -1.0, -1.0, -1.0, -1.0, -1.0, -1.0, -1.0, -1.0, -1.0, -1.0, -1.0, -1.0, -1.0, -1.0, -1.0, -1.0, -1.0, -1.0, -1.0, -1.0, -1.0, -1.0, -1.0, -1.0, -1.0, -1.0, -1.0, -1.0, -1.0, -1.0, -1.0, -1.0, -1.0, -1.0, -1.0, -1.0, -1.0, -1.0, -1.0, -1.0, -1.0, -1.0, -1.0, -1.0, -1.0, -1.0, -1.0, -1.0, -1.0, -1.0, -1.0, -1.0, -1.0, -1.0, -1.0, -1.0, -1.0, -1.0, -1.0, -1.0, -1.0, -1.0, -1.0, -1.0, -1.0, -1.0, -1.0, -1.0, -1.0, -1.0, -1.0, -1.0, -1.0, -1.0, -1.0, -1.0, -1.0, -1.0, -1.0, -1.0, -1.0, -1.0, -1.0, -1.0, -1.0, -1.0, -1.0, -1.0, -1.0, -1.0, -1.0, -1.0, -1.0, -1.0, -1.0, -1.0, -1.0, -1.0, -1.0, -1.0, -1.0, -1.0, -1.0, -1.0, -1.0, -1.0, -1.0, -1.0, -1.0, -1.0, -1.0, -1.0, -1.0, -1.0, -1.0, -1.0, -1.0, -1.0, -1.0, -1.0, -1.0, -1.0, -1.0, -1.0, -1.0, -1.0, -1.0, -1.0, -1.0, -1.0, -1.0, -1.0, -1.0, -1.0, -1.0, -1.0, -1.0, -1.0, -1.0, -1.0, -1.0, -1.0, -1.0, -1.0, -1.0, -1.0, -1.0, -1.0, -1.0, -1.0, -1.0, -1.0, -1.0, -1.0, -1.0, -1.0, -1.0, -1.0, -1.0, -1.0, -1.0, -1.0, -1.0, -1.0, -1.0, -1.0, -1.0, -1.0, -1.0, -1.0, -1.0, -1.0, -1.0, -1.0, -1.0, -1.0, -1.0, -1.0, -1.0, -1.0, -1.0, -1.0, -1.0, -1.0, -1.0, -1.0, -1.0, -1.0, -1.0, -1.0, -1.0, -1.0, -1.0, -1.0, -1.0, -1.0, -1.0, -1.0, -1.0, -1.0, -1.0, -1.0, -1.0, -1.0, -1.0, -1.0, -1.0, -1.0, -1.0, -1.0, -1.0, -1.0, -1.0, -1.0, -1.0, -1.0, -1.0, -1.0, -1.0, -1.0, -1.0, -1.0, -1.0, -1.0, -1.0, -1.0, -1.0, -1.0, -1.0, -1.0, -1.0, -1.0, -1.0, -1.0, -1.0, -1.0, -1.0, -1.0, -1.0, -1.0, -1.0, -1.0, -1.0, -1.0, -1.0, -1.0, -1.0, -1.0, -1.0, -1.0, -1.0, -1.0, -1.0, -1.0, -1.0, -1.0, -1.0, -1.0, -1.0, -1.0, -1.0, -1.0, -1.0, -1.0, -1.0, -1.0, -1.0, -1.0, -1.0, -1.0, -1.0, -1.0, -1.0, -1.0, -1.0, -1.0]"
      ]
     },
     "execution_count": 9,
     "metadata": {},
     "output_type": "execute_result"
    }
   ],
   "source": [
    "val A = covertToArray(rimage)"
   ]
  },
  {
   "cell_type": "markdown",
   "metadata": {},
   "source": [
    "## Plot Image"
   ]
  },
  {
   "cell_type": "code",
   "execution_count": 10,
   "metadata": {},
   "outputs": [
    {
     "data": {
      "text/plain": [
       "M = \n"
      ]
     },
     "metadata": {},
     "output_type": "display_data"
    },
    {
     "data": {
      "text/plain": [
       "-1.0  -1.0  -1.0  -1.0  -1.0  -1.0  -1.0  -1.0  -1.0  -1.0  ... (60 total)\n",
       "-1.0  -1.0  -1.0  -1.0  -1.0  -1.0  -1.0  -1.0  -1.0  -1.0  ...\n",
       "-1.0  -1.0  -1.0  -1.0  -1.0  -1.0  -1.0  -1.0  -1.0  -1.0  ...\n",
       "-1.0  -1.0  -1.0  -1.0  -1.0  -1.0  -1.0  -1.0  -1.0  -1.0  ...\n",
       "-1.0  -1.0  -1.0  -1.0  -1.0  -1.0  -1.0  -1.0  -1.0  -1.0  ...\n",
       "-1.0  -1.0  -1.0  -1.0  -1.0  -1.0  -1.0  -1.0  -1.0  -1.0  ...\n",
       "-1.0  -1.0  -1.0  -1.0  -1.0  -1.0  -1.0  -1.0  -1.0  -1.0  ...\n",
       "-1.0  -1.0  -1.0  -1.0  -1.0  -1.0  -1.0  -1.0  -1.0  -1.0  ...\n",
       "-1.0  -1.0  -1.0  -1.0  -1.0  -1.0  -1.0  -1.0  -1.0  -1.0  ...\n",
       "-1.0  -1.0  -1.0  -1.0  -1.0  -1.0  -1.0  -1.0  -1.0  -1.0  ...\n",
       "-1.0  -1.0  -1.0  -1.0  -1.0  -1.0  -1.0  -1.0  -1.0  -1.0  ...\n",
       "-1.0  -1.0  -1.0  -1.0  -1.0  -1.0  -1.0  -1.0  -1.0  -1.0  ...\n",
       "-1.0  -1.0  -1.0  -1.0  -1.0  -1.0  -1.0  -1.0  -1.0  -1.0  ...\n",
       "-1.0  -1.0  -1.0  -1.0  -1.0  -1.0  -1.0  -1.0  -1.0  -1.0  ...\n",
       "-1.0  -1.0  -1.0  -1.0  -1.0  -1.0  -1.0  -1.0  -1.0  -1.0  ...\n",
       "-1.0  -1.0  -1.0  -1.0  -1.0  -1.0  -1.0  -1.0  -1.0  -1.0  ...\n",
       "-1.0  -1.0  -1.0  -1.0  -1.0  -1.0  -1.0  -1.0  -1.0  -1.0  ...\n",
       "-1.0  -1.0  -1.0  -1.0  -1.0  -1.0  -1.0  -1.0  -1.0  -1.0  ...\n",
       "-1.0  -1.0  -1.0  -1.0  -1.0  -1.0  -1.0  -1.0  -1.0  -1.0  ...\n",
       "-1.0  -1.0  -1.0  -1.0  -1.0  -1.0  -1.0  -1.0  -1.0  -1.0  ...\n",
       "-1.0  -1.0  -1.0  -1.0  -1.0  -1.0  -1.0  -1.0  -1.0  -1.0  ...\n",
       "-1.0  -1.0  -1.0  -1.0  -1.0  -1.0  -1.0  -1.0  -1.0  -1.0  ...\n",
       "-1.0  -1.0  -1.0  -1.0  -1.0  -1.0  -1.0  -1.0  -1.0  -1.0  ...\n",
       "-1.0  -1.0  -1.0  -1.0  -1.0  -1.0  -1.0  -1.0  -1.0  -1.0  ...\n",
       "-1.0  -1.0  -1.0  -1.0  -1.0  -1.0  -1.0  -1.0  -1.0  -1.0  ...\n",
       "-1.0  -1.0  -1.0  -1.0  -1.0  -1.0  -1.0  -1.0  -1.0  -1.0  ...\n",
       "-1.0  -1.0  -1.0  -1.0  -1.0  -1.0  -1.0  -1.0  -1.0  -1.0  ...\n",
       "-1.0  -1.0  -1.0  -1.0  -1.0  -1.0  -1.0  -1.0  -1.0  -1.0  ...\n",
       "-1.0  -1.0  -1.0  -1.0  -1.0  -1.0  -1.0  -1.0  -1.0  -1.0  ...\n",
       "-1.0  -1.0  -1.0  -1.0  -1.0  -1.0  -1.0  -1.0  -1.0  -1.0  ...\n",
       "-1.0  -1.0  -1.0  -1.0  -1.0  -1.0  -1.0  -1.0  -1.0  -1.0  ...\n",
       "-1.0  -1.0  -1.0  -1.0  -1.0  -1.0  -1.0  -1.0  -1.0  -1.0  ...\n",
       "-1.0  -1.0  -1.0  -1.0  -1.0  -1.0  -1.0  -1.0  -1.0  -1.0  ...\n",
       "-1.0  -1.0  -1.0  -1.0  -1.0  -1.0  -1.0  -1.0  -1.0  -1.0  ...\n",
       "-1.0  -1.0  -1.0  -1.0  -1.0  -1.0  -1.0  -1.0  -1.0  -1.0  ...\n",
       "-1.0  -1.0  -1.0  -1.0  -1.0  -1.0  -1.0  -1.0  -1.0  -1.0  ...\n",
       "-1.0  -1.0  -1.0  -1.0  -1.0  -1.0  -1.0  -1.0  -1.0  -1.0  ...\n",
       "-1.0  -1.0  -1.0  -1.0  -1.0  -1.0  -1.0  -1.0  -1.0  -1.0  ...\n",
       "-1.0  -1.0  -1.0  -1.0  -1.0  -1.0  -1.0  -1.0  -1.0  -1.0  ...\n",
       "-1.0  -1.0  -1.0  -1.0  -1.0  -1.0  -1.0  -1.0  -1.0  -1.0  ...\n",
       "-1.0  -1.0  -1.0  -1.0  -1.0  -1.0  -1.0  -1.0  -1.0  -1.0  ...\n",
       "-1.0  -1.0  -1.0  -1.0  -1.0  -1.0  -1.0  -1.0  -1.0  -1.0  ...\n",
       "-1.0  -1.0  -1.0  -1.0  -1.0  -1.0  -1.0  -1.0  -1.0  -1.0  ...\n",
       "-1.0  -1.0  -1.0  -1.0  -1.0  -1.0  -1.0  -1.0  -1.0  -1.0  ...\n",
       "-1.0  -1.0  -1.0  -1.0  -1.0  -1.0  -1.0  -1.0  -1.0  -1.0  ..."
      ]
     },
     "execution_count": 10,
     "metadata": {},
     "output_type": "execute_result"
    }
   ],
   "source": [
    "val M = covertToGrayMatrix(rimage)"
   ]
  },
  {
   "cell_type": "code",
   "execution_count": 11,
   "metadata": {},
   "outputs": [
    {
     "data": {
      "text/plain": [
       "fig = breeze.plot.Figure@5c3efff9\n",
       "plt = breeze.plot.Plot@4a5ef961\n"
      ]
     },
     "metadata": {},
     "output_type": "display_data"
    },
    {
     "data": {
      "text/html": [
       "<img width=\"600\" height=\"400\" src=\"data:image/png;base64,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\" />"
      ]
     },
     "execution_count": 11,
     "metadata": {},
     "output_type": "execute_result"
    }
   ],
   "source": [
    "val fig = Figure()\n",
    "val plt = fig.subplot(0)\n",
    "plt += image(M)\n",
    "\n",
    "kernel.magics.html(tohtml(plt.chart))"
   ]
  },
  {
   "cell_type": "markdown",
   "metadata": {},
   "source": [
    "## Crop Image"
   ]
  },
  {
   "cell_type": "code",
   "execution_count": 12,
   "metadata": {},
   "outputs": [
    {
     "data": {
      "text/plain": [
       "cimage = BufferedImage@3ee7a2c3: type = 1 DirectColorModel: rmask=ff0000 gmask=ff00 bmask=ff amask=0 IntegerInterleavedRaster: width = 25 height = 35 #Bands = 3 xOff = -10 yOff = -5 dataOffset[0] 310\n"
      ]
     },
     "metadata": {},
     "output_type": "display_data"
    },
    {
     "data": {
      "text/plain": [
       "BufferedImage@3ee7a2c3: type = 1 DirectColorModel: rmask=ff0000 gmask=ff00 bmask=ff amask=0 IntegerInterleavedRaster: width = 25 height = 35 #Bands = 3 xOff = -10 yOff = -5 dataOffset[0] 310"
      ]
     },
     "execution_count": 12,
     "metadata": {},
     "output_type": "execute_result"
    }
   ],
   "source": [
    "val cimage = cropImage(rimage, 10, 5, 35, 40)//x0,y0,x1,y1"
   ]
  },
  {
   "cell_type": "code",
   "execution_count": 13,
   "metadata": {},
   "outputs": [
    {
     "data": {
      "text/plain": [
       "Mc = \n"
      ]
     },
     "metadata": {},
     "output_type": "display_data"
    },
    {
     "data": {
      "text/plain": [
       "-1.0  -1.0  -1.6777216E7  -1.6777216E7  -1.6777216E7  ....\n"
      ]
     },
     "metadata": {},
     "output_type": "display_data"
    },
    {
     "data": {
      "text/plain": [
       "-1.0  -1.0  -1.0          -1.0          -1.0          ... (25 total)\n",
       "-1.0  -1.0  -1.0          -1.0          -1.0          ...\n",
       "-1.0  -1.0  -1.0          -1.0          -1.0          ...\n",
       "-1.0  -1.0  -1.0          -1.0          -1.0          ...\n",
       "-1.0  -1.0  -1.0          -1.0          -1.0          ...\n",
       "-1.0  -1.0  -1.0          -1.0          -1.0          ...\n",
       "-1.0  -1.0  -1.0          -1.0          -1.0          ...\n",
       "-1.0  -1.0  -1.0          -1.0          -1.0          ...\n",
       "-1.0  -1.0  -1.0          -1.6777216E7  -1.6777216E7  ...\n",
       "-1.0  -1.0  -1.0          -1.6777216E7  -1.6777216E7  ...\n",
       "-1.0  -1.0  -1.6777216E7  -1.6777216E7  -1.6777216E7  ...\n",
       "-1.0  -1.0  -1.6777216E7  -1.6777216E7  -1.6777216E7  ...\n",
       "-1.0  -1.0  -1.6777216E7  -1.6777216E7  -1.6777216E7  ...\n",
       "-1.0  -1.0  -1.6777216E7  -1.6777216E7  -1.6777216E7  ...\n",
       "-1.0  -1.0  -1.6777216E7  -1.6777216E7  -1.6777216E7  ...\n",
       "-1.0  -1.0  -1.6777216E7  -1.6777216E7  -1.6777216E7  ...\n",
       "-1.0  -1.0  -1.6777216E7  -1.6777216E7  -1.6777216E7  ...\n",
       "-1.0  -1.0  -1.6777216E7  -1.6777216E7  -1.6777216E7  ...\n",
       "-1.0  -1.0  -1.6777216E7  -1.6777216E7  -1.6777216E7  ...\n",
       "-1.0  -1.0  -1.6777216E7  -1.6777216E7  -1.6777216E7  ...\n",
       "-1.0  -1.0  -1.6777216E7  -1.6777216E7  -1.6777216E7  ...\n",
       "-1.0  -1.0  -1.6777216E7  -1.6777216E7  -1.6777216E7  ...\n",
       "-1.0  -1.0  -1.6777216E7  -1.6777216E7  -1.6777216E7  ...\n",
       "-1.0  -1.0  -1.6777216E7  -1.6777216E7  -1.6777216E7  ...\n",
       "-1.0  -1.0  -1.0          -1.6777216E7  -1.6777216E7  ...\n",
       "-1.0  -1.0  -1.0          -1.6777216E7  -1.6777216E7  ...\n",
       "-1.0  -1.0  -1.0          -1.0          -1.6777216E7  ...\n",
       "-1.0  -1.0  -1.0          -1.0          -1.6777216E7  ...\n",
       "-1.0  -1.0  -1.0          -1.0          -1.0          ...\n",
       "-1.0  -1.0  -1.0          -1.0          -1.0          ...\n",
       "-1.0  -1.0  -1.0          -1.0          -1.0          ...\n",
       "-1.0  -1.0  -1.0          -1.0          -1.0          ...\n",
       "-1.0  -1.0  -1.0          -1.0          -1.0          ...\n",
       "-1.0  -1.0  -1.0          -1.0          -1.0          ...\n",
       "-1.0  -1.0  -1.0          -1.0          -1.0          ..."
      ]
     },
     "execution_count": 13,
     "metadata": {},
     "output_type": "execute_result"
    }
   ],
   "source": [
    "val Mc= covertToGrayMatrix(cimage)"
   ]
  },
  {
   "cell_type": "code",
   "execution_count": 14,
   "metadata": {},
   "outputs": [
    {
     "data": {
      "text/plain": [
       "fig2 = breeze.plot.Figure@119f101f\n",
       "plt2 = breeze.plot.Plot@31b38068\n"
      ]
     },
     "metadata": {},
     "output_type": "display_data"
    },
    {
     "data": {
      "text/html": [
       "<img width=\"600\" height=\"400\" src=\"data:image/png;base64,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\" />"
      ]
     },
     "execution_count": 14,
     "metadata": {},
     "output_type": "execute_result"
    }
   ],
   "source": [
    "val fig2 = Figure()\n",
    "val plt2 = fig2.subplot(0)\n",
    "plt2 += image(Mc)\n",
    "\n",
    "kernel.magics.html(tohtml(plt2.chart))"
   ]
  },
  {
   "cell_type": "markdown",
   "metadata": {},
   "source": [
    "## Auto Crop Image"
   ]
  },
  {
   "cell_type": "code",
   "execution_count": 15,
   "metadata": {},
   "outputs": [
    {
     "data": {
      "text/plain": [
       "acimage = BufferedImage@133ce8a9: type = 1 DirectColorModel: rmask=ff0000 gmask=ff00 bmask=ff amask=0 IntegerInterleavedRaster: width = 19 height = 28 #Bands = 3 xOff = -12 yOff = -8 dataOffset[0] 492\n"
      ]
     },
     "metadata": {},
     "output_type": "display_data"
    },
    {
     "data": {
      "text/plain": [
       "BufferedImage@133ce8a9: type = 1 DirectColorModel: rmask=ff0000 gmask=ff00 bmask=ff amask=0 IntegerInterleavedRaster: width = 19 height = 28 #Bands = 3 xOff = -12 yOff = -8 dataOffset[0] 492"
      ]
     },
     "execution_count": 15,
     "metadata": {},
     "output_type": "execute_result"
    }
   ],
   "source": [
    "val acimage = autoCropImage(rimage)"
   ]
  },
  {
   "cell_type": "code",
   "execution_count": 16,
   "metadata": {},
   "outputs": [
    {
     "data": {
      "text/plain": [
       "Mac = \n"
      ]
     },
     "metadata": {},
     "output_type": "display_data"
    },
    {
     "data": {
      "text/plain": [
       "-1.6777216E7  -1.6777216E7  -1...\n"
      ]
     },
     "metadata": {},
     "output_type": "display_data"
    },
    {
     "data": {
      "text/plain": [
       "-1.0          -1.0          -1.0          -1.0          ... (19 total)\n",
       "-1.0          -1.0          -1.0          -1.0          ...\n",
       "-1.0          -1.0          -1.0          -1.0          ...\n",
       "-1.0          -1.0          -1.0          -1.0          ...\n",
       "-1.0          -1.0          -1.0          -1.6777216E7  ...\n",
       "-1.0          -1.6777216E7  -1.6777216E7  -1.6777216E7  ...\n",
       "-1.0          -1.6777216E7  -1.6777216E7  -1.6777216E7  ...\n",
       "-1.6777216E7  -1.6777216E7  -1.6777216E7  -1.6777216E7  ...\n",
       "-1.6777216E7  -1.6777216E7  -1.6777216E7  -1.6777216E7  ...\n",
       "-1.6777216E7  -1.6777216E7  -1.6777216E7  -1.6777216E7  ...\n",
       "-1.6777216E7  -1.6777216E7  -1.6777216E7  -1.6777216E7  ...\n",
       "-1.6777216E7  -1.6777216E7  -1.6777216E7  -1.6777216E7  ...\n",
       "-1.6777216E7  -1.6777216E7  -1.6777216E7  -1.6777216E7  ...\n",
       "-1.6777216E7  -1.6777216E7  -1.6777216E7  -1.6777216E7  ...\n",
       "-1.6777216E7  -1.6777216E7  -1.6777216E7  -1.6777216E7  ...\n",
       "-1.6777216E7  -1.6777216E7  -1.6777216E7  -1.6777216E7  ...\n",
       "-1.6777216E7  -1.6777216E7  -1.6777216E7  -1.6777216E7  ...\n",
       "-1.6777216E7  -1.6777216E7  -1.6777216E7  -1.6777216E7  ...\n",
       "-1.6777216E7  -1.6777216E7  -1.6777216E7  -1.6777216E7  ...\n",
       "-1.6777216E7  -1.6777216E7  -1.6777216E7  -1.6777216E7  ...\n",
       "-1.6777216E7  -1.6777216E7  -1.6777216E7  -1.6777216E7  ...\n",
       "-1.0          -1.6777216E7  -1.6777216E7  -1.6777216E7  ...\n",
       "-1.0          -1.6777216E7  -1.6777216E7  -1.6777216E7  ...\n",
       "-1.0          -1.0          -1.6777216E7  -1.6777216E7  ...\n",
       "-1.0          -1.0          -1.6777216E7  -1.6777216E7  ...\n",
       "-1.0          -1.0          -1.0          -1.6777216E7  ...\n",
       "-1.0          -1.0          -1.0          -1.0          ...\n",
       "-1.0          -1.0          -1.0          -1.0          ..."
      ]
     },
     "execution_count": 16,
     "metadata": {},
     "output_type": "execute_result"
    }
   ],
   "source": [
    "val Mac= covertToGrayMatrix(acimage)"
   ]
  },
  {
   "cell_type": "code",
   "execution_count": 17,
   "metadata": {},
   "outputs": [
    {
     "data": {
      "text/plain": [
       "fig3 = breeze.plot.Figure@1ec44e2f\n",
       "plt3 = breeze.plot.Plot@5d9912e0\n"
      ]
     },
     "metadata": {},
     "output_type": "display_data"
    },
    {
     "data": {
      "text/html": [
       "<img width=\"600\" height=\"400\" src=\"data:image/png;base64,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\" />"
      ]
     },
     "execution_count": 17,
     "metadata": {},
     "output_type": "execute_result"
    }
   ],
   "source": [
    "val fig3 = Figure()\n",
    "val plt3 = fig3.subplot(0)\n",
    "plt3 += image(Mac)\n",
    "\n",
    "kernel.magics.html(tohtml(plt3.chart))"
   ]
  }
 ],
 "metadata": {
  "kernelspec": {
   "display_name": "Apache Toree - Scala",
   "language": "scala",
   "name": "apache_toree_scala"
  },
  "language_info": {
   "codemirror_mode": "text/x-scala",
   "file_extension": ".scala",
   "mimetype": "text/x-scala",
   "name": "scala",
   "pygments_lexer": "scala",
   "version": "2.11.8"
  }
 },
 "nbformat": 4,
 "nbformat_minor": 2
}
