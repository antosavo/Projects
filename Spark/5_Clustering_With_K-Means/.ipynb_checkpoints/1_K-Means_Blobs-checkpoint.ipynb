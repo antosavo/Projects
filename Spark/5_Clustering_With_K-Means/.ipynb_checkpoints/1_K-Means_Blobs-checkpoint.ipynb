{
 "cells": [
  {
   "cell_type": "markdown",
   "metadata": {},
   "source": [
    "# K-Means Clustering\n",
    "\n",
    "K-means is an algorithm that identifies clusters of similar objects. It can be summarized by the following four steps: \n",
    "\n",
    "1. Randomly pick k cluster centers from the data points. \n",
    "2. Assign each data point to the closest cluster center.\n",
    "3. Set each cluster center as the mean of the data points that are assigned to it.\n",
    "4. Repeat the steps 2 and 3 until the clusters do not change or a maximum number of iterations is reached.\n",
    "\n",
    "The optimal values of K-Means' parameters are found by minimizing\n",
    "a cost function given by sum of distances from the centers.\n",
    "In k-means++ algorithm the initial centroids are placed far away from each other."
   ]
  },
  {
   "cell_type": "code",
   "execution_count": 1,
   "metadata": {
    "collapsed": true
   },
   "outputs": [],
   "source": [
    "import org.apache.spark.sql.functions._\n",
    "import org.apache.spark.ml.linalg.Vectors\n",
    "import org.apache.spark.ml.linalg.DenseVector\n",
    "import org.apache.spark.ml.feature.VectorAssembler\n",
    "import org.apache.spark.ml.feature.StandardScaler\n",
    "import org.apache.spark.ml.clustering.KMeans\n",
    "import breeze.plot._\n",
    "import convert.jfc.tohtml"
   ]
  },
  {
   "cell_type": "markdown",
   "metadata": {},
   "source": [
    "# Load the dataset"
   ]
  },
  {
   "cell_type": "code",
   "execution_count": 2,
   "metadata": {},
   "outputs": [
    {
     "data": {
      "text/plain": [
       "df = [x1: double, x2: double]\n"
      ]
     },
     "metadata": {},
     "output_type": "display_data"
    },
    {
     "data": {
      "text/plain": [
       "[x1: double, x2: double]"
      ]
     },
     "execution_count": 2,
     "metadata": {},
     "output_type": "execute_result"
    }
   ],
   "source": [
    "val df = spark.read.\n",
    "    format(\"csv\").\n",
    "    option(\"header\", \"true\").\n",
    "    option(\"inferschema\", \"true\").\n",
    "    option(\"delimiter\",\",\").\n",
    "    load(\"../Datasets/Blobs.csv\")"
   ]
  },
  {
   "cell_type": "markdown",
   "metadata": {},
   "source": [
    "## Explore the dataset"
   ]
  },
  {
   "cell_type": "code",
   "execution_count": 3,
   "metadata": {},
   "outputs": [
    {
     "name": "stdout",
     "output_type": "stream",
     "text": [
      "+---------------+-------------+\n",
      "|             x1|           x2|\n",
      "+---------------+-------------+\n",
      "| 0.519858965824| 4.8622954715|\n",
      "|   1.6924688322|0.20598168224|\n",
      "|  1.35678894112|4.36462483569|\n",
      "| -1.56986939671|3.01502873036|\n",
      "| -1.63667452739|  2.375863951|\n",
      "| -1.52259006376|3.18138436556|\n",
      "|  1.03992528754|1.92991009062|\n",
      "| 0.363552319131|4.72596881565|\n",
      "| -2.00715620404|2.52132357998|\n",
      "|-0.657467674495|3.41507945699|\n",
      "+---------------+-------------+\n",
      "only showing top 10 rows\n",
      "\n"
     ]
    }
   ],
   "source": [
    "df.show(10)"
   ]
  },
  {
   "cell_type": "code",
   "execution_count": 4,
   "metadata": {},
   "outputs": [
    {
     "name": "stdout",
     "output_type": "stream",
     "text": [
      "root\n",
      " |-- x1: double (nullable = true)\n",
      " |-- x2: double (nullable = true)\n",
      "\n"
     ]
    }
   ],
   "source": [
    "df.printSchema"
   ]
  },
  {
   "cell_type": "code",
   "execution_count": 5,
   "metadata": {},
   "outputs": [
    {
     "data": {
      "text/plain": [
       "[x1, x2]"
      ]
     },
     "execution_count": 5,
     "metadata": {},
     "output_type": "execute_result"
    }
   ],
   "source": [
    "df.columns"
   ]
  },
  {
   "cell_type": "code",
   "execution_count": 6,
   "metadata": {},
   "outputs": [
    {
     "data": {
      "text/plain": [
       "2"
      ]
     },
     "execution_count": 6,
     "metadata": {},
     "output_type": "execute_result"
    }
   ],
   "source": [
    "df.columns.length"
   ]
  },
  {
   "cell_type": "code",
   "execution_count": 7,
   "metadata": {},
   "outputs": [
    {
     "data": {
      "text/plain": [
       "300"
      ]
     },
     "execution_count": 7,
     "metadata": {},
     "output_type": "execute_result"
    }
   ],
   "source": [
    "df.count"
   ]
  },
  {
   "cell_type": "code",
   "execution_count": 8,
   "metadata": {},
   "outputs": [
    {
     "name": "stdout",
     "output_type": "stream",
     "text": [
      "+-------+-----------------+-----------------+\n",
      "|summary|               x1|               x2|\n",
      "+-------+-----------------+-----------------+\n",
      "|  count|              300|              300|\n",
      "|   mean| 0.44462709074599|2.691562129525892|\n",
      "| stddev|1.583853197615698|1.524377851134544|\n",
      "|    min|   -2.71169746584|  -0.488632718275|\n",
      "|    max|    3.20722587027|    5.27917502506|\n",
      "+-------+-----------------+-----------------+\n",
      "\n"
     ]
    }
   ],
   "source": [
    "df.describe().show()"
   ]
  },
  {
   "cell_type": "markdown",
   "metadata": {},
   "source": [
    "## Apply Vector Assembler"
   ]
  },
  {
   "cell_type": "code",
   "execution_count": 9,
   "metadata": {},
   "outputs": [
    {
     "data": {
      "text/plain": [
       "assembler = vecAssembler_240b550b6095\n"
      ]
     },
     "metadata": {},
     "output_type": "display_data"
    },
    {
     "data": {
      "text/plain": [
       "vecAssembler_240b550b6095"
      ]
     },
     "execution_count": 9,
     "metadata": {},
     "output_type": "execute_result"
    }
   ],
   "source": [
    "val assembler = new VectorAssembler().\n",
    "  setInputCols(Array(\"x1\", \"x2\")).\n",
    "  setOutputCol(\"features\")"
   ]
  },
  {
   "cell_type": "code",
   "execution_count": 10,
   "metadata": {},
   "outputs": [
    {
     "name": "stdout",
     "output_type": "stream",
     "text": [
      "+--------------------+\n",
      "|            features|\n",
      "+--------------------+\n",
      "|[0.519858965824,4...|\n",
      "|[1.6924688322,0.2...|\n",
      "|[1.35678894112,4....|\n",
      "|[-1.56986939671,3...|\n",
      "|[-1.63667452739,2...|\n",
      "|[-1.52259006376,3...|\n",
      "|[1.03992528754,1....|\n",
      "|[0.363552319131,4...|\n",
      "|[-2.00715620404,2...|\n",
      "|[-0.657467674495,...|\n",
      "+--------------------+\n",
      "only showing top 10 rows\n",
      "\n"
     ]
    },
    {
     "data": {
      "text/plain": [
       "df_v = [features: vector]\n"
      ]
     },
     "metadata": {},
     "output_type": "display_data"
    },
    {
     "data": {
      "text/plain": [
       "[features: vector]"
      ]
     },
     "execution_count": 10,
     "metadata": {},
     "output_type": "execute_result"
    }
   ],
   "source": [
    "val df_v = assembler.transform(df).select(\"features\")\n",
    "df_v.show(10)"
   ]
  },
  {
   "cell_type": "markdown",
   "metadata": {},
   "source": [
    "## Scale the features"
   ]
  },
  {
   "cell_type": "code",
   "execution_count": 11,
   "metadata": {},
   "outputs": [
    {
     "data": {
      "text/plain": [
       "scaler = stdScal_6913541fbf6b\n"
      ]
     },
     "metadata": {},
     "output_type": "display_data"
    },
    {
     "data": {
      "text/plain": [
       "stdScal_6913541fbf6b"
      ]
     },
     "execution_count": 11,
     "metadata": {},
     "output_type": "execute_result"
    }
   ],
   "source": [
    "val scaler = new StandardScaler().\n",
    "  setInputCol(\"features\").\n",
    "  setOutputCol(\"scaledFeatures\")"
   ]
  },
  {
   "cell_type": "code",
   "execution_count": 12,
   "metadata": {},
   "outputs": [
    {
     "data": {
      "text/plain": [
       "df_s = [features: vector]\n"
      ]
     },
     "metadata": {},
     "output_type": "display_data"
    },
    {
     "data": {
      "text/plain": [
       "[features: vector]"
      ]
     },
     "execution_count": 12,
     "metadata": {},
     "output_type": "execute_result"
    }
   ],
   "source": [
    "val df_s = scaler.fit(df_v).transform(df_v).select(col(\"scaledFeatures\").as(\"features\"))"
   ]
  },
  {
   "cell_type": "markdown",
   "metadata": {},
   "source": [
    "## Train the model"
   ]
  },
  {
   "cell_type": "code",
   "execution_count": 13,
   "metadata": {},
   "outputs": [
    {
     "data": {
      "text/plain": [
       "kmeans = kmeans_0bdac8feab32\n",
       "model = kmeans_0bdac8feab32\n"
      ]
     },
     "metadata": {},
     "output_type": "display_data"
    },
    {
     "data": {
      "text/plain": [
       "kmeans_0bdac8feab32"
      ]
     },
     "execution_count": 13,
     "metadata": {},
     "output_type": "execute_result"
    }
   ],
   "source": [
    "val kmeans = new KMeans().setK(3)\n",
    "val model = kmeans.fit(df_s)"
   ]
  },
  {
   "cell_type": "code",
   "execution_count": 14,
   "metadata": {},
   "outputs": [
    {
     "data": {
      "text/plain": [
       "[[1.2430903729422478,0.5544380536664439], [-1.006775081639963,1.8818568219221703], [0.6058595227814751,2.860742458408303]]"
      ]
     },
     "execution_count": 14,
     "metadata": {},
     "output_type": "execute_result"
    }
   ],
   "source": [
    "model.clusterCenters"
   ]
  },
  {
   "cell_type": "code",
   "execution_count": 15,
   "metadata": {},
   "outputs": [
    {
     "data": {
      "text/plain": [
       "61.071807651178574"
      ]
     },
     "execution_count": 15,
     "metadata": {},
     "output_type": "execute_result"
    }
   ],
   "source": [
    "model.computeCost(df_s)"
   ]
  },
  {
   "cell_type": "markdown",
   "metadata": {},
   "source": [
    "## Plot predictions"
   ]
  },
  {
   "cell_type": "code",
   "execution_count": 16,
   "metadata": {},
   "outputs": [
    {
     "name": "stdout",
     "output_type": "stream",
     "text": [
      "+--------------------+----------+\n",
      "|            features|prediction|\n",
      "+--------------------+----------+\n",
      "|[0.32822421080854...|       2.0|\n",
      "|[1.06857683196132...|       0.0|\n",
      "|[0.85663806668603...|       2.0|\n",
      "|[-0.9911710246083...|       1.0|\n",
      "|[-1.0333498899101...|       1.0|\n",
      "|[-0.9613201943539...|       1.0|\n",
      "|[0.65657934024787...|       0.0|\n",
      "|[0.22953662604481...|       2.0|\n",
      "|[-1.2672615158156...|       1.0|\n",
      "|[-0.4151064476712...|       1.0|\n",
      "+--------------------+----------+\n",
      "only showing top 10 rows\n",
      "\n"
     ]
    },
    {
     "data": {
      "text/plain": [
       "predictions = [features: vector, prediction: double]\n"
      ]
     },
     "metadata": {},
     "output_type": "display_data"
    },
    {
     "data": {
      "text/plain": [
       "[features: vector, prediction: double]"
      ]
     },
     "execution_count": 16,
     "metadata": {},
     "output_type": "execute_result"
    }
   ],
   "source": [
    "val predictions = model.transform(df_s).select(col(\"features\"),col(\"prediction\").cast(\"double\"))\n",
    "predictions.show(10)"
   ]
  },
  {
   "cell_type": "code",
   "execution_count": 17,
   "metadata": {},
   "outputs": [
    {
     "data": {
      "text/plain": [
       "x1 = Array(0.32822421080854314, 1.068576831961327, 0.8566380666860312, -0.9911710246083734, -1.033349889910137, -0.9613201943539197, 0.6565793402478737, 0.22953662604481567, -1.267261515815692, -0.41510644767124827, 0.686381553635489, 1.4767231356295862, 1.8179304697395537, 0.7565105760582798, 1.2131179555544918, -1.032531803232691, 0.7434027982596473, 0.7352214497359919, -0.8570566720788783, 0.9223316243823084, -1.1026898053109628, 0.715220281194811, 0.9322769901041522, 0.33370314795945044, -1.494780655514039, -1.2576811206232317, 0.2853759405817549, -1.2891798671453858, 1.4802686725192762, 1.5154034523611022, -0.7778272031174195, 0.2783678237697237, 0.8137659512890865, 1.3470445326825498, 1.5417426399151006, -1.5802007835875673, 1.4535049167281378, -0.6236722966825606, ...\n"
      ]
     },
     "metadata": {},
     "output_type": "display_data"
    },
    {
     "data": {
      "text/plain": [
       "[0.32822421080854314, 1.068576831961327, 0.8566380666860312, -0.9911710246083734, -1.033349889910137, -0.9613201943539197, 0.6565793402478737, 0.22953662604481567, -1.267261515815692, -0.41510644767124827, 0.686381553635489, 1.4767231356295862, 1.8179304697395537, 0.7565105760582798, 1.2131179555544918, -1.032531803232691, 0.7434027982596473, 0.7352214497359919, -0.8570566720788783, 0.9223316243823084, -1.1026898053109628, 0.715220281194811, 0.9322769901041522, 0.33370314795945044, -1.494780655514039, -1.2576811206232317, 0.2853759405817549, -1.2891798671453858, 1.4802686725192762, 1.5154034523611022, -0.7778272031174195, 0.2783678237697237, 0.8137659512890865, 1.3470445326825498, 1.5417426399151006, -1.5802007835875673, 1.4535049167281378, -0.6236722966825606, 0.3733376566806505, 0.7979264269393764, -1.0054157931980152, 1.3880322805102696, 0.2541496604274749, 1.040870071993887, 1.0993592993537562, -0.912293973440963, 1.3861691079672318, -1.0879155434947627, -0.607762753779258, 1.108651076762265, -1.1437676437987356, 1.2478643957187987, -1.178087026505307, -0.7069115393178425, 0.941914704781863, 0.329968015433339, 0.5317843814937738, -0.806614449933373, -1.7103800566037701, 1.1002659137560011, 0.995859353357009, 1.9150914239565613, 0.40351198531536536, -1.3362873413559493, 1.5633286956123507, -1.6865288003024486, 0.6039882173885119, 1.1715372419573347, 0.41566165371138114, 1.1262639656916142, -0.5910994238527659, -0.4842030713411359, -1.7120888917749049, -0.6875559136852715, 1.255429950574538, 0.6821387040203124, 1.386005864845717, -1.1274173245147363, 0.4998437738843338, 0.6373877902697832, -1.4078864598795053, 0.9070913217227325, 1.7284009967596934, 0.20097593247290046, 0.38291969310286844, 1.3687142654656557, 0.8480817975820506, -1.4206943966696943, 0.5948463388540638, 0.3627642052463823, -0.617942743596668, 1.7606157460917715, -1.453492463332817, 1.0880488278359617, 1.4621304317509731, 1.2603349236375057, 0.21531514399022356, 0.7393351213690753, -1.4794434735917696, 0.5046383870192075, 1.5166519860528465, -0.6814229237941484, 0.619703953866786, 1.5335144015849205, 0.9635361905935229, 0.9154232630982754, -1.2706078451396334, 0.7288890655193876, 1.075173750991278, 0.8764311539855313, 0.2898934436254531, -0.852991906013632, 1.2992921669053072, 0.6564535946040856, -1.046641657557348, -1.085471006642592, 0.2677510829099562, 1.2059511333723048, 0.5855879876545494, 1.5080053290579833, 0.7615697045255282, -1.671055149892869, 1.0791673117894138, 0.9994893439954438, 1.4322014756385257, -1.0224627201358434, 1.1512869607202332, 1.1584446134604405, 0.9865258692801679, -1.6252803938491014, -0.817840220615129, -1.0737291448665158, 0.413208041070481, -1.3680236293879897, -1.088812086338593, 1.176136538186913, -0.9784719921536749, 0.40410301637961377, -1.0404461288715001, -0.8876106919797441, 1.1825090558010418, 0.24856795992688027, 1.2374510324507706, 0.7633922766517489, -0.6897244463151707, -1.0616269475865814, 0.2208995120562254, -0.8743008379214672, -0.8196442776794463, 1.0917177956094573, 0.4551353060038519, -0.8966512748200953, 0.45549927780999394, 1.6614123757058477, -1.034317357294303, -1.1390315903177108, 1.2055087194534801, 1.4630226064121898, 0.48911199991652676, 1.1860642450183738, 0.07774393701345872, 1.0047745721040853, 1.2627415191198004, 0.3445125071189816, -0.6706123137415401, 1.210873223577215, 0.8868785229682815, 0.7984107925871239, 0.359690493021456, -0.852051925457201, 2.0108694426822638, 0.6308345613729228, -0.6683275843010544, 1.3132625014687058, 0.9676659684541522, 1.7694252206573464, 0.41614275407481577, 1.5181306573170303, 0.4591674621706064, 1.0862093646241022, 1.384298559734315, -0.7046809381577611, 0.7414029511369667, 0.6618617594787689, 0.583804518020967, 0.3361278719091077, 1.3424502386274224, -0.8207913832273183, 0.49411566111121974, -0.7113169409930128, 0.6074925162416855, 0.7105388096220906, 1.3098327550009288, 1.0704687339156942, -1.172414322290342, 0.5853091799982182, 1.634950906427576, -1.112426617076861, 0.81024539752287, -1.2854252868478229, 1.2556891229780274, -1.005116820622329, 0.9760818888690403, -1.323863375782863, 1.2843247081561713, -0.720521978045656, 0.14562036591598448, -1.194192962748894, 0.4790174391339565, 1.2926870171504254, 0.6724001638997888, 0.506558313037337, -1.0510691792686762, 1.056408234045173, 1.0817050943478295, 0.8851856331638247, 0.9326472350743823, 0.10175873957613216, -0.6917345680832694, 1.5849682150208384, 0.818469693751592, 0.4581746613432525, 1.5159466171388072, 1.539662334824351, 0.665303951765407, -1.6005948852685978, -1.1120576767224901, 0.4858155978883214, 1.332918602379362, -0.32911867922779603, 0.24605081870949874, 1.1093897495393639, 1.1462170971166568, 0.341490931590262, 1.0964078055176876, -1.2969751542013996, -1.384604232148102, -0.6663376196409807, 0.30063544119417485, 0.5180365287124814, 1.2922645341002241, -0.9523617179551224, -0.7925280382169422, -1.1227760036201822, -1.3895648459422516, 1.5007228937241006, -0.4170483860223721, -1.250927572822146, 0.6690057057214088, 1.5918089582325894, 1.5458702272254914, 0.8286231697645261, 0.7158067099000711, 0.7433278737463282, -0.8469797040530368, 0.20825264878180452, 0.8112298640708729, -0.5773696277544053, 0.9163186900748002, 0.9885132450955139, -1.2111088287902245, 0.9720522343343853, -0.5476110894473492, -1.111420420086888, -0.189553444614029, -0.8432206976192572, 0.3971240198446823, 1.254720244326704, 1.1090734227101136, 1.2323210801911602, 1.2781830560039114, 0.8892794989461845, 0.860032581428997, 0.4725840929669386, 0.9161079348731802, 1.2234347821547085, -0.9024631618648399, -1.1719397349541347, 1.200086624045315, 0.9914334087804834, 0.8465528002585325, 1.0916814972769562, 1.289958224856729, 1.4236109114432565, -0.9011276530669386, 1.5684720574606985, -1.2183687666855483, -1.2621676438443845, 1.1994952805221841, 1.3284880243052302, -1.0280955558641989, -0.6665200759762238, -0.48630767870059194, 2.024951475994174, 0.7815802693542074, 0.10690457614562561, -0.6166997330197005, 1.080497055217132, 0.38128070734780745, -0.11288419104065327]"
      ]
     },
     "execution_count": 17,
     "metadata": {},
     "output_type": "execute_result"
    }
   ],
   "source": [
    "val x1 = predictions.select(\"features\").collect.map(row=>row(0).asInstanceOf[DenseVector](0))"
   ]
  },
  {
   "cell_type": "code",
   "execution_count": 18,
   "metadata": {},
   "outputs": [
    {
     "data": {
      "text/plain": [
       "x2 = Array(3.189691760399926, 0.13512508206983895, 2.8632171691825317, 1.977874926558408, 1.5585794225701475, 2.0870051104404337, 1.26603131184544, 3.100260747118975, 1.6540017149314141, 2.2403103367372266, 0.6507920313829328, 0.5158341215039063, 0.6427392899685495, 2.932753508464231, 0.21888142362778978, 2.060236498741156, 2.5986879034169084, 2.4627010484086718, 2.5770540021663386, 0.4226350325869022, 1.9736258131150584, 2.543161759346392, 0.48643945713532444, 2.9502124903171834, 1.6225613488474215, 1.8555686263643725, 2.357537769382617, 1.7993639680598497, 0.7035597425085784, 1.0158811829806094, 1.794799664868996, 3.169170417501433, 2.2978282563230716, 0.6650281472441338, 0.2005561413880818, 1.6977000778015008, 0.5507897466472008, 1.0747269300329148, 3.00018261199883, 0...\n"
      ]
     },
     "metadata": {},
     "output_type": "display_data"
    },
    {
     "data": {
      "text/plain": [
       "[3.189691760399926, 0.13512508206983895, 2.8632171691825317, 1.977874926558408, 1.5585794225701475, 2.0870051104404337, 1.26603131184544, 3.100260747118975, 1.6540017149314141, 2.2403103367372266, 0.6507920313829328, 0.5158341215039063, 0.6427392899685495, 2.932753508464231, 0.21888142362778978, 2.060236498741156, 2.5986879034169084, 2.4627010484086718, 2.5770540021663386, 0.4226350325869022, 1.9736258131150584, 2.543161759346392, 0.48643945713532444, 2.9502124903171834, 1.6225613488474215, 1.8555686263643725, 2.357537769382617, 1.7993639680598497, 0.7035597425085784, 1.0158811829806094, 1.794799664868996, 3.169170417501433, 2.2978282563230716, 0.6650281472441338, 0.2005561413880818, 1.6977000778015008, 0.5507897466472008, 1.0747269300329148, 3.00018261199883, 0.7890782121996563, 2.285799546691563, 0.7885745494696919, 2.6797012971815097, 0.10788105843613785, 0.43109397071002103, 1.9457399863704867, 0.2631249556495938, 0.9150032801197475, 2.0768359577999234, 0.2228549612585628, 2.002675672916578, 1.329083473026124, 2.339843204888699, 1.9334740751621315, 0.3492078969199193, 2.8403456676620578, 3.086515276936235, 2.2578839864134284, 1.9208159906093818, 3.305261033968734, 0.4753892032402924, 0.7168237982903857, 2.8337479473183027, 2.341018202615586, 0.5070490687605639, 1.9966338835051498, 2.440169657287739, 0.7102514662320687, 3.0451793638074114, 0.7253376728394947, 1.706880207156952, 2.478176202985631, 2.1975577833847257, 1.8763907681820173, 0.9423749904663297, 3.1436476475457797, 0.5566785587211357, 1.5930875208155064, 2.744790430762238, 2.9225190283395115, 1.7206058435235705, 2.927850959391875, 0.3627309772648991, 2.6719064581059113, 3.329420341139584, 3.1330992295547726, 0.427061911042908, 2.1766461862001596, 3.3852884207345584, 2.597133273501342, 1.83732291739576, 0.868511457762677, 2.05102801088524, 2.756014981746933, 0.40001215878147833, 0.36577188360813273, 3.1412721445447978, 0.7054711241767334, 1.3999143306836526, 2.3723197487083, 0.5365316350249258, 2.365138204971062, 3.409077723434679, 0.19889503256055893, 3.0382356902935763, 2.7724637154459555, 2.017407207341121, 3.055065322599573, 0.8982641812860767, 0.1471452152575277, 3.046872258825585, 2.0385365910342967, 3.261692170657994, 2.955161022457286, 1.8543695497386923, 1.7685669027226307, 2.8404177244227347, 3.1204925032528275, 0.25348717697020307, 0.43775482945212557, 0.7159011768819512, 2.0458390854727426, 1.0928079188635293, 0.45437475545941036, 0.8108997887433214, 1.6492354672097012, 0.7467993555355866, 0.4969147982452174, 0.1061063410791607, 1.9547274425643717, 2.0056904797287993, 1.723488714392318, 2.0940252765836473, 1.7221233286984425, 1.5338533037525937, 0.6198197211359292, 1.986473423866831, 2.70537304357357, 2.4121400371786565, 1.622643710559714, 0.6402714306348546, 3.1187809291453594, 0.4593604547585333, 2.3194154137561895, 2.0049610481976523, 1.8375686372477777, 3.078326349249632, 2.485746331750892, 1.597751012098005, 0.41792066403539685, 2.4360569347200802, 1.5177309436423962, 2.6796179002468814, 0.942989925293218, 1.6146539064957575, 1.7597759179349506, 0.339100672216718, 0.6178748285794062, 3.2242726821187544, 0.058664303962329786, 3.463166970794599, 3.217691235929063, 0.9234915180329196, 3.44981383722286, 2.105117543292597, 2.3812388734055534, 2.6097693087308382, 2.7549848920556985, 2.2570821425404737, 2.1164867595844115, 0.5750116898219322, 2.7619106373833042, 2.377393578404949, 0.7508519277081632, 0.9861310328414905, -0.0900884596734272, 2.7043273696097203, 0.5901090099226352, 3.4561990981689936, 3.4451641445402195, 0.2966496253559693, 1.9158823268826342, 2.4647803497561958, 3.300313027498825, 2.9579848428419737, 2.1736009158582, 0.4841315759184846, 1.3139865908831097, 2.724151331029462, 1.9398158709201878, 2.9638014350231057, 3.258365550308436, 0.04546517697394891, 0.3222082801160096, 1.9718154102953467, 2.605684792201445, 0.4401603956083583, 1.8430578245144205, 3.1257936867054643, 1.8886097572313119, 0.49119594572941117, 1.944963234557202, 2.4182812775233864, 2.17161448487736, 0.49477238414456026, 2.2518050056718075, 2.9674290889974038, 1.978617676355748, 3.42987087341807, 0.6416570165717193, 2.69152222087611, 2.874590318101677, 1.681353659463387, 0.1172727108990392, 1.1332092346686382, 1.132743432650148, 0.8451072087089094, 2.975101253166737, 1.0430961809544539, 0.6929205687053581, 2.2929415450956316, 0.7877465690191358, 0.8167517199514275, 0.7057371424475304, 2.9473457541423254, 1.7372037665589706, 1.1920677128886035, 2.578140268047706, 2.34627161991894, 1.8995189059949356, 3.460820370975311, 0.5716299348973488, 0.792351324319651, 2.633443205752591, 0.4585659338029195, 2.183189802661509, 1.268432177101568, 1.0155249084653402, 2.3166184003734336, 2.841729821340511, 0.71323492853875, 2.1660203621710683, 2.0581535856316293, 2.7054375645976236, 1.6643482226612802, 0.07370348207131201, 2.1386645130887927, 1.7749690136380682, 3.031599443963658, 0.7003815694680857, 0.4358854407884953, 2.9569560081283015, 0.43209540038105954, 0.7367798541576097, 1.9607429757034651, 2.910900836572412, 0.6096222510359598, 1.9354193006046245, 2.773661871400951, 2.7642916133974196, 1.8779383403461263, 2.469087024892622, 1.624710599289208, 1.449397341430535, 3.037696081534903, 1.902914765463864, 2.774226911085409, 0.9617755467575333, 0.510833186463866, 0.8775731784507067, 0.5536757314886401, 2.579875333614312, 3.0934189977375883, 2.829040650092317, 2.8520244799570214, 3.3089202387819294, 1.32978895748931, 1.7454762127248702, 0.03913843062498955, 2.9272654611774165, 2.865614177993228, 0.4606383986892655, 0.3467960420321934, -0.3205456691143385, 1.897548228411445, 0.9631566033167277, 1.5473370315728991, 1.9922447921883086, 0.6208196625053642, 0.7800825096776117, 1.8781044801649458, 1.826374534468536, 2.095575116800915, 0.24118413181047335, 2.7670397852479103, 2.753528060130237, 2.339900992949536, 0.19065152263574114, 2.552233394905586, 1.8898988371195675]"
      ]
     },
     "execution_count": 18,
     "metadata": {},
     "output_type": "execute_result"
    }
   ],
   "source": [
    "val x2 = predictions.select(\"features\").collect.map(row=>row(0).asInstanceOf[DenseVector](1))"
   ]
  },
  {
   "cell_type": "code",
   "execution_count": 19,
   "metadata": {},
   "outputs": [
    {
     "data": {
      "text/plain": [
       "fig = breeze.plot.Figure@5a090b89\n",
       "plt = breeze.plot.Plot@13f36ed1\n"
      ]
     },
     "metadata": {},
     "output_type": "display_data"
    },
    {
     "data": {
      "text/plain": [
       "breeze.plot.Plot@13f36ed1"
      ]
     },
     "execution_count": 19,
     "metadata": {},
     "output_type": "execute_result"
    }
   ],
   "source": [
    "val fig = Figure()\n",
    "val plt = fig.subplot(0)"
   ]
  },
  {
   "cell_type": "code",
   "execution_count": 20,
   "metadata": {},
   "outputs": [
    {
     "data": {
      "text/plain": [
       "c = Array(java.awt.Color[r=0,g=255,b=0], java.awt.Color[r=255,g=0,b=0], java.awt.Color[r=0,g=255,b=0], java.awt.Color[r=0,g=0,b=255], java.awt.Color[r=0,g=0,b=255], java.awt.Color[r=0,g=0,b=255], java.awt.Color[r=255,g=0,b=0], java.awt.Color[r=0,g=255,b=0], java.awt.Color[r=0,g=0,b=255], java.awt.Color[r=0,g=0,b=255], java.awt.Color[r=255,g=0,b=0], java.awt.Color[r=255,g=0,b=0], java.awt.Color[r=255,g=0,b=0], java.awt.Color[r=0,g=255,b=0], java.awt.Color[r=255,g=0,b=0], java.awt.Color[r=0,g=0,b=255], java.awt.Color[r=0,g=255,b=0], java.awt.Color[r=0,g=255,b=0], java.awt.Color[r=0,g=0,b=255], java.awt.Color[r=255,g=0,b=0], java.awt.Color[r=0,g=0,b=255], java.awt.Color[r=0,g=255,b=0], java.awt.Color[r=255,g=0,b=0], java.awt.Color[r=0,g=255,b=0], java.awt.Color[r=0,g...\n"
      ]
     },
     "metadata": {},
     "output_type": "display_data"
    },
    {
     "data": {
      "text/plain": [
       "[java.awt.Color[r=0,g=255,b=0], java.awt.Color[r=255,g=0,b=0], java.awt.Color[r=0,g=255,b=0], java.awt.Color[r=0,g=0,b=255], java.awt.Color[r=0,g=0,b=255], java.awt.Color[r=0,g=0,b=255], java.awt.Color[r=255,g=0,b=0], java.awt.Color[r=0,g=255,b=0], java.awt.Color[r=0,g=0,b=255], java.awt.Color[r=0,g=0,b=255], java.awt.Color[r=255,g=0,b=0], java.awt.Color[r=255,g=0,b=0], java.awt.Color[r=255,g=0,b=0], java.awt.Color[r=0,g=255,b=0], java.awt.Color[r=255,g=0,b=0], java.awt.Color[r=0,g=0,b=255], java.awt.Color[r=0,g=255,b=0], java.awt.Color[r=0,g=255,b=0], java.awt.Color[r=0,g=0,b=255], java.awt.Color[r=255,g=0,b=0], java.awt.Color[r=0,g=0,b=255], java.awt.Color[r=0,g=255,b=0], java.awt.Color[r=255,g=0,b=0], java.awt.Color[r=0,g=255,b=0], java.awt.Color[r=0,g=0,b=255], java.awt.Color[r=0,g=0,b=255], java.awt.Color[r=0,g=255,b=0], java.awt.Color[r=0,g=0,b=255], java.awt.Color[r=255,g=0,b=0], java.awt.Color[r=255,g=0,b=0], java.awt.Color[r=0,g=0,b=255], java.awt.Color[r=0,g=255,b=0], java.awt.Color[r=0,g=255,b=0], java.awt.Color[r=255,g=0,b=0], java.awt.Color[r=255,g=0,b=0], java.awt.Color[r=0,g=0,b=255], java.awt.Color[r=255,g=0,b=0], java.awt.Color[r=0,g=0,b=255], java.awt.Color[r=0,g=255,b=0], java.awt.Color[r=255,g=0,b=0], java.awt.Color[r=0,g=0,b=255], java.awt.Color[r=255,g=0,b=0], java.awt.Color[r=0,g=255,b=0], java.awt.Color[r=255,g=0,b=0], java.awt.Color[r=255,g=0,b=0], java.awt.Color[r=0,g=0,b=255], java.awt.Color[r=255,g=0,b=0], java.awt.Color[r=0,g=0,b=255], java.awt.Color[r=0,g=0,b=255], java.awt.Color[r=255,g=0,b=0], java.awt.Color[r=0,g=0,b=255], java.awt.Color[r=255,g=0,b=0], java.awt.Color[r=0,g=0,b=255], java.awt.Color[r=0,g=0,b=255], java.awt.Color[r=255,g=0,b=0], java.awt.Color[r=0,g=255,b=0], java.awt.Color[r=0,g=255,b=0], java.awt.Color[r=0,g=0,b=255], java.awt.Color[r=0,g=0,b=255], java.awt.Color[r=0,g=255,b=0], java.awt.Color[r=255,g=0,b=0], java.awt.Color[r=255,g=0,b=0], java.awt.Color[r=0,g=255,b=0], java.awt.Color[r=0,g=0,b=255], java.awt.Color[r=255,g=0,b=0], java.awt.Color[r=0,g=0,b=255], java.awt.Color[r=0,g=255,b=0], java.awt.Color[r=255,g=0,b=0], java.awt.Color[r=0,g=255,b=0], java.awt.Color[r=255,g=0,b=0], java.awt.Color[r=0,g=0,b=255], java.awt.Color[r=0,g=0,b=255], java.awt.Color[r=0,g=0,b=255], java.awt.Color[r=0,g=0,b=255], java.awt.Color[r=255,g=0,b=0], java.awt.Color[r=0,g=255,b=0], java.awt.Color[r=255,g=0,b=0], java.awt.Color[r=0,g=0,b=255], java.awt.Color[r=0,g=255,b=0], java.awt.Color[r=0,g=255,b=0], java.awt.Color[r=0,g=0,b=255], java.awt.Color[r=0,g=255,b=0], java.awt.Color[r=255,g=0,b=0], java.awt.Color[r=0,g=255,b=0], java.awt.Color[r=0,g=255,b=0], java.awt.Color[r=0,g=255,b=0], java.awt.Color[r=255,g=0,b=0], java.awt.Color[r=0,g=0,b=255], java.awt.Color[r=0,g=255,b=0], java.awt.Color[r=0,g=255,b=0], java.awt.Color[r=0,g=0,b=255], java.awt.Color[r=255,g=0,b=0], java.awt.Color[r=0,g=0,b=255], java.awt.Color[r=0,g=255,b=0], java.awt.Color[r=255,g=0,b=0], java.awt.Color[r=255,g=0,b=0], java.awt.Color[r=0,g=255,b=0], java.awt.Color[r=255,g=0,b=0], java.awt.Color[r=0,g=0,b=255], java.awt.Color[r=0,g=255,b=0], java.awt.Color[r=255,g=0,b=0], java.awt.Color[r=0,g=0,b=255], java.awt.Color[r=0,g=255,b=0], java.awt.Color[r=255,g=0,b=0], java.awt.Color[r=0,g=255,b=0], java.awt.Color[r=0,g=255,b=0], java.awt.Color[r=0,g=0,b=255], java.awt.Color[r=0,g=255,b=0], java.awt.Color[r=255,g=0,b=0], java.awt.Color[r=255,g=0,b=0], java.awt.Color[r=0,g=255,b=0], java.awt.Color[r=0,g=0,b=255], java.awt.Color[r=0,g=255,b=0], java.awt.Color[r=0,g=255,b=0], java.awt.Color[r=0,g=0,b=255], java.awt.Color[r=0,g=0,b=255], java.awt.Color[r=0,g=255,b=0], java.awt.Color[r=0,g=255,b=0], java.awt.Color[r=255,g=0,b=0], java.awt.Color[r=255,g=0,b=0], java.awt.Color[r=255,g=0,b=0], java.awt.Color[r=0,g=0,b=255], java.awt.Color[r=255,g=0,b=0], java.awt.Color[r=255,g=0,b=0], java.awt.Color[r=255,g=0,b=0], java.awt.Color[r=0,g=0,b=255], java.awt.Color[r=255,g=0,b=0], java.awt.Color[r=255,g=0,b=0], java.awt.Color[r=255,g=0,b=0], java.awt.Color[r=0,g=0,b=255], java.awt.Color[r=0,g=0,b=255], java.awt.Color[r=0,g=0,b=255], java.awt.Color[r=0,g=255,b=0], java.awt.Color[r=0,g=0,b=255], java.awt.Color[r=0,g=0,b=255], java.awt.Color[r=255,g=0,b=0], java.awt.Color[r=0,g=0,b=255], java.awt.Color[r=0,g=255,b=0], java.awt.Color[r=0,g=0,b=255], java.awt.Color[r=0,g=0,b=255], java.awt.Color[r=255,g=0,b=0], java.awt.Color[r=0,g=255,b=0], java.awt.Color[r=255,g=0,b=0], java.awt.Color[r=0,g=255,b=0], java.awt.Color[r=0,g=0,b=255], java.awt.Color[r=0,g=0,b=255], java.awt.Color[r=0,g=255,b=0], java.awt.Color[r=0,g=0,b=255], java.awt.Color[r=0,g=0,b=255], java.awt.Color[r=255,g=0,b=0], java.awt.Color[r=0,g=255,b=0], java.awt.Color[r=0,g=0,b=255], java.awt.Color[r=0,g=255,b=0], java.awt.Color[r=255,g=0,b=0], java.awt.Color[r=0,g=0,b=255], java.awt.Color[r=0,g=0,b=255], java.awt.Color[r=255,g=0,b=0], java.awt.Color[r=255,g=0,b=0], java.awt.Color[r=0,g=255,b=0], java.awt.Color[r=255,g=0,b=0], java.awt.Color[r=0,g=255,b=0], java.awt.Color[r=0,g=255,b=0], java.awt.Color[r=255,g=0,b=0], java.awt.Color[r=0,g=255,b=0], java.awt.Color[r=0,g=0,b=255], java.awt.Color[r=0,g=255,b=0], java.awt.Color[r=0,g=255,b=0], java.awt.Color[r=0,g=255,b=0], java.awt.Color[r=0,g=255,b=0], java.awt.Color[r=0,g=0,b=255], java.awt.Color[r=255,g=0,b=0], java.awt.Color[r=0,g=255,b=0], java.awt.Color[r=0,g=0,b=255], java.awt.Color[r=255,g=0,b=0], java.awt.Color[r=255,g=0,b=0], java.awt.Color[r=255,g=0,b=0], java.awt.Color[r=0,g=255,b=0], java.awt.Color[r=255,g=0,b=0], java.awt.Color[r=0,g=255,b=0], java.awt.Color[r=0,g=255,b=0], java.awt.Color[r=255,g=0,b=0], java.awt.Color[r=0,g=0,b=255], java.awt.Color[r=0,g=255,b=0], java.awt.Color[r=0,g=255,b=0], java.awt.Color[r=0,g=255,b=0], java.awt.Color[r=0,g=255,b=0], java.awt.Color[r=255,g=0,b=0], java.awt.Color[r=0,g=0,b=255], java.awt.Color[r=0,g=255,b=0], java.awt.Color[r=0,g=0,b=255], java.awt.Color[r=0,g=255,b=0], java.awt.Color[r=0,g=255,b=0], java.awt.Color[r=255,g=0,b=0], java.awt.Color[r=255,g=0,b=0], java.awt.Color[r=0,g=0,b=255], java.awt.Color[r=0,g=255,b=0], java.awt.Color[r=255,g=0,b=0], java.awt.Color[r=0,g=0,b=255], java.awt.Color[r=0,g=255,b=0], java.awt.Color[r=0,g=0,b=255], java.awt.Color[r=255,g=0,b=0], java.awt.Color[r=0,g=0,b=255], java.awt.Color[r=0,g=255,b=0], java.awt.Color[r=0,g=0,b=255], java.awt.Color[r=255,g=0,b=0], java.awt.Color[r=0,g=0,b=255], java.awt.Color[r=0,g=255,b=0], java.awt.Color[r=0,g=0,b=255], java.awt.Color[r=0,g=255,b=0], java.awt.Color[r=255,g=0,b=0], java.awt.Color[r=0,g=255,b=0], java.awt.Color[r=0,g=255,b=0], java.awt.Color[r=0,g=0,b=255], java.awt.Color[r=255,g=0,b=0], java.awt.Color[r=255,g=0,b=0], java.awt.Color[r=255,g=0,b=0], java.awt.Color[r=255,g=0,b=0], java.awt.Color[r=0,g=255,b=0], java.awt.Color[r=0,g=0,b=255], java.awt.Color[r=255,g=0,b=0], java.awt.Color[r=0,g=255,b=0], java.awt.Color[r=255,g=0,b=0], java.awt.Color[r=255,g=0,b=0], java.awt.Color[r=255,g=0,b=0], java.awt.Color[r=0,g=255,b=0], java.awt.Color[r=0,g=0,b=255], java.awt.Color[r=0,g=0,b=255], java.awt.Color[r=0,g=255,b=0], java.awt.Color[r=0,g=255,b=0], java.awt.Color[r=0,g=0,b=255], java.awt.Color[r=0,g=255,b=0], java.awt.Color[r=255,g=0,b=0], java.awt.Color[r=255,g=0,b=0], java.awt.Color[r=0,g=255,b=0], java.awt.Color[r=255,g=0,b=0], java.awt.Color[r=0,g=0,b=255], java.awt.Color[r=0,g=0,b=255], java.awt.Color[r=0,g=0,b=255], java.awt.Color[r=0,g=255,b=0], java.awt.Color[r=0,g=255,b=0], java.awt.Color[r=255,g=0,b=0], java.awt.Color[r=0,g=0,b=255], java.awt.Color[r=0,g=0,b=255], java.awt.Color[r=0,g=0,b=255], java.awt.Color[r=0,g=0,b=255], java.awt.Color[r=255,g=0,b=0], java.awt.Color[r=0,g=0,b=255], java.awt.Color[r=0,g=0,b=255], java.awt.Color[r=0,g=255,b=0], java.awt.Color[r=255,g=0,b=0], java.awt.Color[r=255,g=0,b=0], java.awt.Color[r=0,g=255,b=0], java.awt.Color[r=255,g=0,b=0], java.awt.Color[r=255,g=0,b=0], java.awt.Color[r=0,g=0,b=255], java.awt.Color[r=0,g=255,b=0], java.awt.Color[r=255,g=0,b=0], java.awt.Color[r=0,g=0,b=255], java.awt.Color[r=0,g=255,b=0], java.awt.Color[r=0,g=255,b=0], java.awt.Color[r=0,g=0,b=255], java.awt.Color[r=0,g=255,b=0], java.awt.Color[r=0,g=0,b=255], java.awt.Color[r=0,g=0,b=255], java.awt.Color[r=0,g=255,b=0], java.awt.Color[r=0,g=0,b=255], java.awt.Color[r=0,g=255,b=0], java.awt.Color[r=255,g=0,b=0], java.awt.Color[r=255,g=0,b=0], java.awt.Color[r=255,g=0,b=0], java.awt.Color[r=255,g=0,b=0], java.awt.Color[r=0,g=255,b=0], java.awt.Color[r=0,g=255,b=0], java.awt.Color[r=0,g=255,b=0], java.awt.Color[r=0,g=255,b=0], java.awt.Color[r=0,g=255,b=0], java.awt.Color[r=0,g=0,b=255], java.awt.Color[r=0,g=0,b=255], java.awt.Color[r=255,g=0,b=0], java.awt.Color[r=0,g=255,b=0], java.awt.Color[r=0,g=255,b=0], java.awt.Color[r=255,g=0,b=0], java.awt.Color[r=255,g=0,b=0], java.awt.Color[r=255,g=0,b=0], java.awt.Color[r=0,g=0,b=255], java.awt.Color[r=255,g=0,b=0], java.awt.Color[r=0,g=0,b=255], java.awt.Color[r=0,g=0,b=255], java.awt.Color[r=255,g=0,b=0], java.awt.Color[r=255,g=0,b=0], java.awt.Color[r=0,g=0,b=255], java.awt.Color[r=0,g=0,b=255], java.awt.Color[r=0,g=0,b=255], java.awt.Color[r=255,g=0,b=0], java.awt.Color[r=0,g=255,b=0], java.awt.Color[r=0,g=255,b=0], java.awt.Color[r=0,g=0,b=255], java.awt.Color[r=255,g=0,b=0], java.awt.Color[r=0,g=255,b=0], java.awt.Color[r=0,g=0,b=255]]"
      ]
     },
     "execution_count": 20,
     "metadata": {},
     "output_type": "execute_result"
    }
   ],
   "source": [
    "val c = predictions.select(\"prediction\").as[Double].collect.map(Map(0.0 -> java.awt.Color.red, 1.0 -> java.awt.Color.blue,  2.0 -> java.awt.Color.green))\n",
    "\n",
    "plt += scatter(x1, x2, size = x1.map(i=>0.1), colors = c)\n",
    "\n",
    "plt.legend = true\n",
    "plt.title = \"KMeans\"\n",
    "plt.xlabel = \"x1\"\n",
    "//plt.xlim(0,6)\n",
    "plt.ylabel = \"x2\""
   ]
  },
  {
   "cell_type": "code",
   "execution_count": 21,
   "metadata": {},
   "outputs": [
    {
     "data": {
      "text/html": [
       "<img width=\"600\" height=\"400\" src=\"data:image/png;base64,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\" />"
      ]
     },
     "execution_count": 21,
     "metadata": {},
     "output_type": "execute_result"
    }
   ],
   "source": [
    "kernel.magics.html(tohtml(plt.chart))"
   ]
  },
  {
   "cell_type": "markdown",
   "metadata": {},
   "source": [
    "# The elbow method\n",
    "If K is not specified by the problem's context, the optimal number of clusters can\n",
    "be estimated using a technique called the elbow method. The elbow method plots\n",
    "the value of the cost function produced by different values of K . As K increases,\n",
    "the cost function will decrease because the instances will be closer to their respective centroids. However,\n",
    "the improvements to the cost function will decline as K increases. The value of K at which the improvement to the cost function declines the most is called the elbow."
   ]
  },
  {
   "cell_type": "markdown",
   "metadata": {},
   "source": [
    "## Calculate the cost function J(k)"
   ]
  },
  {
   "cell_type": "code",
   "execution_count": 22,
   "metadata": {},
   "outputs": [
    {
     "data": {
      "text/plain": [
       "x = Array(2.0, 3.0, 4.0, 5.0, 6.0)\n",
       "y = Array(239.01218048599586, 61.071807651178574, 52.64568129582726, 45.89645241173617, 39.66918647766452)\n"
      ]
     },
     "metadata": {},
     "output_type": "display_data"
    },
    {
     "data": {
      "text/plain": [
       "[239.01218048599586, 61.071807651178574, 52.64568129582726, 45.89645241173617, 39.66918647766452]"
      ]
     },
     "execution_count": 22,
     "metadata": {},
     "output_type": "execute_result"
    }
   ],
   "source": [
    "var x = new Array[Double](5)\n",
    "var y = new Array[Double](5)\n",
    "\n",
    "for(k <- 2 to 6){\n",
    "\n",
    "  val kmeans = new KMeans().setK(k)\n",
    "  val model = kmeans.fit(df_s)\n",
    "  val J = model.computeCost(df_s)\n",
    "\n",
    "  x(k-2) = k.toDouble\n",
    "  y(k-2) = J\n",
    "}"
   ]
  },
  {
   "cell_type": "markdown",
   "metadata": {},
   "source": [
    "## Plot J(k)"
   ]
  },
  {
   "cell_type": "code",
   "execution_count": 23,
   "metadata": {},
   "outputs": [
    {
     "data": {
      "text/plain": [
       "fig2 = breeze.plot.Figure@23105a8d\n",
       "plt2 = breeze.plot.Plot@1ffe7f27\n"
      ]
     },
     "metadata": {},
     "output_type": "display_data"
    },
    {
     "data": {
      "text/plain": [
       "breeze.plot.Plot@1ffe7f27"
      ]
     },
     "execution_count": 23,
     "metadata": {},
     "output_type": "execute_result"
    }
   ],
   "source": [
    "val fig2 = Figure()\n",
    "val plt2 = fig2.subplot(0)"
   ]
  },
  {
   "cell_type": "code",
   "execution_count": 24,
   "metadata": {},
   "outputs": [
    {
     "data": {
      "text/plain": [
       "plt2.legend: Boolean = true\n",
       "plt2.title: String = Elbow Method\n",
       "plt2.xlabel: String = k\n",
       "plt2.ylabel: String = J\n"
      ]
     },
     "metadata": {},
     "output_type": "display_data"
    }
   ],
   "source": [
    "plt2 += plot(x, y, name = \"points\", colorcode=\"red\")\n",
    "plt2.legend = true\n",
    "plt2.title = \"Elbow Method\"\n",
    "plt2.xlabel = \"k\"\n",
    "//plt.xlim(0,10)\n",
    "plt2.ylabel = \"J\""
   ]
  },
  {
   "cell_type": "code",
   "execution_count": 25,
   "metadata": {},
   "outputs": [
    {
     "data": {
      "text/html": [
       "<img width=\"600\" height=\"400\" src=\"data:image/png;base64,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\" />"
      ]
     },
     "execution_count": 25,
     "metadata": {},
     "output_type": "execute_result"
    }
   ],
   "source": [
    "kernel.magics.html(tohtml(plt2.chart))"
   ]
  }
 ],
 "metadata": {
  "kernelspec": {
   "display_name": "Apache Toree - Scala",
   "language": "scala",
   "name": "apache_toree_scala"
  },
  "language_info": {
   "codemirror_mode": "text/x-scala",
   "file_extension": ".scala",
   "mimetype": "text/x-scala",
   "name": "scala",
   "pygments_lexer": "scala",
   "version": "2.11.8"
  }
 },
 "nbformat": 4,
 "nbformat_minor": 2
}
