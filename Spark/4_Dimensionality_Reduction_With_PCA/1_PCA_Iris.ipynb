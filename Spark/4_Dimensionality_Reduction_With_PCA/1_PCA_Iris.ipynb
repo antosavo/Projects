{
 "cells": [
  {
   "cell_type": "markdown",
   "metadata": {},
   "source": [
    "# Principal Component Analysis (PCA)\n",
    "\n",
    "The goal in dimensionality reduction is to reduce the number of features in a dataset without significantly impacting the predictive performance of a model. PCA transforms the original set of features into a new set of ordered features by decreasing content of information. The PCA steps are:\n",
    "1.\t Standardize the d-dimensional dataset.\n",
    "2.\t Construct the covariance matrix.\n",
    "3.\t Decompose the covariance matrix into its eigenvectors and eigenvalues.\n",
    "4.\t Select k eigenvectors that correspond to the k largest eigenvalues, where k is the dimensionality of the new feature subspace ( k ≤ d ).\n",
    "5.\t Construct a projection matrix W from the \"top\" k eigenvectors.\n",
    "6.\t Transform the d-dimensional input dataset X using the projection matrix W to obtain the new k-dimensional feature subspace.\n",
    "\n",
    "The transformation for the input dataset X, is the following\n",
    "\n",
    "$$X'=X \\cdot W$$\n",
    "\n",
    "where $X \\in \\mathbb{R}^d$, $W \\in \\mathbb{R}^{d \\times k}$ and $X' \\in \\mathbb{R}^k$."
   ]
  },
  {
   "cell_type": "code",
   "execution_count": 1,
   "metadata": {
    "collapsed": true
   },
   "outputs": [],
   "source": [
    "import org.apache.spark.sql.functions._\n",
    "import org.apache.spark.ml.linalg.Vectors\n",
    "import org.apache.spark.ml.linalg.DenseVector\n",
    "import org.apache.spark.ml.feature.{VectorAssembler,StringIndexer}\n",
    "import org.apache.spark.ml.feature.StandardScaler\n",
    "import org.apache.spark.ml.feature.PCA\n",
    "import org.apache.spark.ml.Pipeline\n",
    "import breeze.plot._\n",
    "import convert.jfc.tohtml"
   ]
  },
  {
   "cell_type": "markdown",
   "metadata": {},
   "source": [
    "## Load the dataset"
   ]
  },
  {
   "cell_type": "code",
   "execution_count": 2,
   "metadata": {},
   "outputs": [
    {
     "data": {
      "text/plain": [
       "df = [sepal_length: double, sepal_width: double ... 3 more fields]\n"
      ]
     },
     "metadata": {},
     "output_type": "display_data"
    },
    {
     "data": {
      "text/plain": [
       "[sepal_length: double, sepal_width: double ... 3 more fields]"
      ]
     },
     "execution_count": 2,
     "metadata": {},
     "output_type": "execute_result"
    }
   ],
   "source": [
    "val df = spark.read.\n",
    "  format(\"csv\").\n",
    "  option(\"header\", \"true\").\n",
    "  option(\"inferschema\", \"true\").\n",
    "  load(\"../Datasets/Iris.csv\")\n",
    "  //option(\"delimiter\",\";\")"
   ]
  },
  {
   "cell_type": "markdown",
   "metadata": {},
   "source": [
    "## Explore the dataset"
   ]
  },
  {
   "cell_type": "code",
   "execution_count": 3,
   "metadata": {},
   "outputs": [
    {
     "name": "stdout",
     "output_type": "stream",
     "text": [
      "+------------+-----------+------------+-----------+-------+\n",
      "|sepal_length|sepal_width|petal_length|petal_width|species|\n",
      "+------------+-----------+------------+-----------+-------+\n",
      "|         5.1|        3.5|         1.4|        0.2| setosa|\n",
      "|         4.9|        3.0|         1.4|        0.2| setosa|\n",
      "|         4.7|        3.2|         1.3|        0.2| setosa|\n",
      "|         4.6|        3.1|         1.5|        0.2| setosa|\n",
      "|         5.0|        3.6|         1.4|        0.2| setosa|\n",
      "|         5.4|        3.9|         1.7|        0.4| setosa|\n",
      "|         4.6|        3.4|         1.4|        0.3| setosa|\n",
      "|         5.0|        3.4|         1.5|        0.2| setosa|\n",
      "|         4.4|        2.9|         1.4|        0.2| setosa|\n",
      "|         4.9|        3.1|         1.5|        0.1| setosa|\n",
      "+------------+-----------+------------+-----------+-------+\n",
      "only showing top 10 rows\n",
      "\n"
     ]
    }
   ],
   "source": [
    "df.show(10)"
   ]
  },
  {
   "cell_type": "code",
   "execution_count": 4,
   "metadata": {},
   "outputs": [
    {
     "name": "stdout",
     "output_type": "stream",
     "text": [
      "root\n",
      " |-- sepal_length: double (nullable = true)\n",
      " |-- sepal_width: double (nullable = true)\n",
      " |-- petal_length: double (nullable = true)\n",
      " |-- petal_width: double (nullable = true)\n",
      " |-- species: string (nullable = true)\n",
      "\n"
     ]
    }
   ],
   "source": [
    "df.printSchema"
   ]
  },
  {
   "cell_type": "code",
   "execution_count": 5,
   "metadata": {},
   "outputs": [
    {
     "data": {
      "text/plain": [
       "[sepal_length, sepal_width, petal_length, petal_width, species]"
      ]
     },
     "execution_count": 5,
     "metadata": {},
     "output_type": "execute_result"
    }
   ],
   "source": [
    "df.columns"
   ]
  },
  {
   "cell_type": "code",
   "execution_count": 6,
   "metadata": {},
   "outputs": [
    {
     "data": {
      "text/plain": [
       "5"
      ]
     },
     "execution_count": 6,
     "metadata": {},
     "output_type": "execute_result"
    }
   ],
   "source": [
    "df.columns.length"
   ]
  },
  {
   "cell_type": "code",
   "execution_count": 7,
   "metadata": {},
   "outputs": [
    {
     "data": {
      "text/plain": [
       "150"
      ]
     },
     "execution_count": 7,
     "metadata": {},
     "output_type": "execute_result"
    }
   ],
   "source": [
    "df.count"
   ]
  },
  {
   "cell_type": "code",
   "execution_count": 8,
   "metadata": {},
   "outputs": [
    {
     "name": "stdout",
     "output_type": "stream",
     "text": [
      "+-------+------------------+-------------------+------------------+------------------+\n",
      "|summary|      sepal_length|        sepal_width|      petal_length|       petal_width|\n",
      "+-------+------------------+-------------------+------------------+------------------+\n",
      "|  count|               150|                150|               150|               150|\n",
      "|   mean| 5.843333333333335| 3.0540000000000007|3.7586666666666693|1.1986666666666672|\n",
      "| stddev|0.8280661279778637|0.43359431136217375| 1.764420419952262|0.7631607417008414|\n",
      "|    min|               4.3|                2.0|               1.0|               0.1|\n",
      "|    max|               7.9|                4.4|               6.9|               2.5|\n",
      "+-------+------------------+-------------------+------------------+------------------+\n",
      "\n"
     ]
    }
   ],
   "source": [
    "df.describe().show()"
   ]
  },
  {
   "cell_type": "code",
   "execution_count": 9,
   "metadata": {},
   "outputs": [
    {
     "name": "stdout",
     "output_type": "stream",
     "text": [
      "[Stage 11:===================================================>  (190 + 4) / 199]+----------+-----+\n",
      "|   species|count|\n",
      "+----------+-----+\n",
      "| virginica|   50|\n",
      "|versicolor|   50|\n",
      "|    setosa|   50|\n",
      "+----------+-----+\n",
      "\n"
     ]
    }
   ],
   "source": [
    "df.groupBy(\"species\").count.show()"
   ]
  },
  {
   "cell_type": "markdown",
   "metadata": {},
   "source": [
    "## Apply Vector Assembler and String Indexer"
   ]
  },
  {
   "cell_type": "code",
   "execution_count": 10,
   "metadata": {},
   "outputs": [
    {
     "data": {
      "text/plain": [
       "features = Array(sepal_length, sepal_width, petal_length, petal_width)\n"
      ]
     },
     "metadata": {},
     "output_type": "display_data"
    },
    {
     "data": {
      "text/plain": [
       "[sepal_length, sepal_width, petal_length, petal_width]"
      ]
     },
     "execution_count": 10,
     "metadata": {},
     "output_type": "execute_result"
    }
   ],
   "source": [
    "val features = df.columns.slice(0, df.columns.length -1)"
   ]
  },
  {
   "cell_type": "code",
   "execution_count": 11,
   "metadata": {},
   "outputs": [
    {
     "data": {
      "text/plain": [
       "assembler = vecAssembler_863f90f78f7a\n"
      ]
     },
     "metadata": {},
     "output_type": "display_data"
    },
    {
     "data": {
      "text/plain": [
       "vecAssembler_863f90f78f7a"
      ]
     },
     "execution_count": 11,
     "metadata": {},
     "output_type": "execute_result"
    }
   ],
   "source": [
    "val assembler = new VectorAssembler().\n",
    "  setInputCols(features).//setInputCols(Array(\"_c1\", \"_c2\")).\n",
    "  setOutputCol(\"features\")"
   ]
  },
  {
   "cell_type": "code",
   "execution_count": 12,
   "metadata": {},
   "outputs": [
    {
     "data": {
      "text/plain": [
       "indexer = strIdx_6f23a5df332c\n"
      ]
     },
     "metadata": {},
     "output_type": "display_data"
    },
    {
     "data": {
      "text/plain": [
       "strIdx_6f23a5df332c"
      ]
     },
     "execution_count": 12,
     "metadata": {},
     "output_type": "execute_result"
    }
   ],
   "source": [
    "val indexer = new StringIndexer().\n",
    "  setInputCol(\"species\").\n",
    "  setOutputCol(\"label\")"
   ]
  },
  {
   "cell_type": "code",
   "execution_count": 13,
   "metadata": {},
   "outputs": [
    {
     "data": {
      "text/plain": [
       "pipeline = pipeline_4230f93bb32e\n"
      ]
     },
     "metadata": {},
     "output_type": "display_data"
    },
    {
     "data": {
      "text/plain": [
       "pipeline_4230f93bb32e"
      ]
     },
     "execution_count": 13,
     "metadata": {},
     "output_type": "execute_result"
    }
   ],
   "source": [
    "val pipeline = new Pipeline().\n",
    "  setStages(Array(assembler, indexer))"
   ]
  },
  {
   "cell_type": "code",
   "execution_count": 14,
   "metadata": {},
   "outputs": [
    {
     "name": "stdout",
     "output_type": "stream",
     "text": [
      "+-----------------+-----+\n",
      "|         features|label|\n",
      "+-----------------+-----+\n",
      "|[5.1,3.5,1.4,0.2]|  2.0|\n",
      "|[4.9,3.0,1.4,0.2]|  2.0|\n",
      "|[4.7,3.2,1.3,0.2]|  2.0|\n",
      "|[4.6,3.1,1.5,0.2]|  2.0|\n",
      "|[5.0,3.6,1.4,0.2]|  2.0|\n",
      "|[5.4,3.9,1.7,0.4]|  2.0|\n",
      "|[4.6,3.4,1.4,0.3]|  2.0|\n",
      "|[5.0,3.4,1.5,0.2]|  2.0|\n",
      "|[4.4,2.9,1.4,0.2]|  2.0|\n",
      "|[4.9,3.1,1.5,0.1]|  2.0|\n",
      "|[5.4,3.7,1.5,0.2]|  2.0|\n",
      "|[4.8,3.4,1.6,0.2]|  2.0|\n",
      "|[4.8,3.0,1.4,0.1]|  2.0|\n",
      "|[4.3,3.0,1.1,0.1]|  2.0|\n",
      "|[5.8,4.0,1.2,0.2]|  2.0|\n",
      "|[5.7,4.4,1.5,0.4]|  2.0|\n",
      "|[5.4,3.9,1.3,0.4]|  2.0|\n",
      "|[5.1,3.5,1.4,0.3]|  2.0|\n",
      "|[5.7,3.8,1.7,0.3]|  2.0|\n",
      "|[5.1,3.8,1.5,0.3]|  2.0|\n",
      "+-----------------+-----+\n",
      "only showing top 20 rows\n",
      "\n"
     ]
    },
    {
     "data": {
      "text/plain": [
       "df_v = [features: vector, label: double]\n"
      ]
     },
     "metadata": {},
     "output_type": "display_data"
    },
    {
     "data": {
      "text/plain": [
       "[features: vector, label: double]"
      ]
     },
     "execution_count": 14,
     "metadata": {},
     "output_type": "execute_result"
    }
   ],
   "source": [
    "val df_v = pipeline.fit(df).transform(df).select(\"features\",\"label\")\n",
    "df_v.show()"
   ]
  },
  {
   "cell_type": "markdown",
   "metadata": {},
   "source": [
    "## Scale the features"
   ]
  },
  {
   "cell_type": "code",
   "execution_count": 15,
   "metadata": {},
   "outputs": [
    {
     "data": {
      "text/plain": [
       "scaler = stdScal_28d5078270ef\n"
      ]
     },
     "metadata": {},
     "output_type": "display_data"
    },
    {
     "data": {
      "text/plain": [
       "stdScal_28d5078270ef"
      ]
     },
     "execution_count": 15,
     "metadata": {},
     "output_type": "execute_result"
    }
   ],
   "source": [
    "val scaler = new StandardScaler().\n",
    "  setInputCol(\"features\").\n",
    "  setOutputCol(\"scaledFeatures\")"
   ]
  },
  {
   "cell_type": "code",
   "execution_count": 16,
   "metadata": {},
   "outputs": [
    {
     "data": {
      "text/plain": [
       "df_s = [features: vector, label: double ... 1 more field]\n"
      ]
     },
     "metadata": {},
     "output_type": "display_data"
    },
    {
     "data": {
      "text/plain": [
       "[features: vector, label: double ... 1 more field]"
      ]
     },
     "execution_count": 16,
     "metadata": {},
     "output_type": "execute_result"
    }
   ],
   "source": [
    "val df_s = scaler.fit(df_v).transform(df_v)"
   ]
  },
  {
   "cell_type": "markdown",
   "metadata": {},
   "source": [
    "## Dimensionality Reduction with PCA"
   ]
  },
  {
   "cell_type": "code",
   "execution_count": 17,
   "metadata": {},
   "outputs": [
    {
     "data": {
      "text/plain": [
       "pca = pca_b01ee6eb90f5\n"
      ]
     },
     "metadata": {},
     "output_type": "display_data"
    },
    {
     "data": {
      "text/plain": [
       "pca_b01ee6eb90f5"
      ]
     },
     "execution_count": 17,
     "metadata": {},
     "output_type": "execute_result"
    }
   ],
   "source": [
    "val pca = new PCA().\n",
    "    setInputCol(\"scaledFeatures\").\n",
    "    setOutputCol(\"pcaFeatures\").\n",
    "    setK(2)"
   ]
  },
  {
   "cell_type": "code",
   "execution_count": 18,
   "metadata": {},
   "outputs": [
    {
     "data": {
      "text/plain": [
       "df_p = [features: vector, label: double ... 2 more fields]\n"
      ]
     },
     "metadata": {},
     "output_type": "display_data"
    },
    {
     "data": {
      "text/plain": [
       "[features: vector, label: double ... 2 more fields]"
      ]
     },
     "execution_count": 18,
     "metadata": {},
     "output_type": "execute_result"
    }
   ],
   "source": [
    "val df_p = pca.fit(df_s).transform(df_s)"
   ]
  },
  {
   "cell_type": "code",
   "execution_count": 19,
   "metadata": {},
   "outputs": [
    {
     "name": "stdout",
     "output_type": "stream",
     "text": [
      "+-----------------+-----+--------------------+--------------------+\n",
      "|         features|label|      scaledFeatures|         pcaFeatures|\n",
      "+-----------------+-----+--------------------+--------------------+\n",
      "|[5.1,3.5,1.4,0.2]|  2.0|[6.15892840883878...|[-1.7008636408214...|\n",
      "|[4.9,3.0,1.4,0.2]|  2.0|[5.9174018045706,...|[-1.8783851549940...|\n",
      "|[4.7,3.2,1.3,0.2]|  2.0|[5.67587520030241...|[-1.5978001923052...|\n",
      "|[4.6,3.1,1.5,0.2]|  2.0|[5.55511189816831...|[-1.6613406138855...|\n",
      "|[5.0,3.6,1.4,0.2]|  2.0|[6.03816510670469...|[-1.5770426874367...|\n",
      "|[5.4,3.9,1.7,0.4]|  2.0|[6.52121831524107...|[-1.8942207975522...|\n",
      "|[4.6,3.4,1.4,0.3]|  2.0|[5.55511189816831...|[-1.5202989381570...|\n",
      "|[5.0,3.4,1.5,0.2]|  2.0|[6.03816510670469...|[-1.7314610064823...|\n",
      "|[4.4,2.9,1.4,0.2]|  2.0|[5.31358529390013...|[-1.6237061774493...|\n",
      "|[4.9,3.1,1.5,0.1]|  2.0|[5.9174018045706,...|[-1.7764763044699...|\n",
      "+-----------------+-----+--------------------+--------------------+\n",
      "only showing top 10 rows\n",
      "\n"
     ]
    }
   ],
   "source": [
    "df_p.show(10)"
   ]
  },
  {
   "cell_type": "markdown",
   "metadata": {},
   "source": [
    "## Plot the first two principal components"
   ]
  },
  {
   "cell_type": "code",
   "execution_count": 20,
   "metadata": {},
   "outputs": [
    {
     "data": {
      "text/plain": [
       "x1 = Array(-1.7008636408214346, -1.8783851549940478, -1.597800192305247, -1.6613406138855684, -1.5770426874367196, -1.8942207975522354, -1.5202989381570455, -1.7314610064823877, -1.6237061774493644, -1.7764763044699745, -1.8015813990792064, -1.6382374187586244, -1.741187558292187, -1.3269417814262463, -1.7728726239179156, -1.7138964933624494, -1.7624485738747564, -1.7749779157017282, -2.0700941196997897, -1.6257080769316516, -2.049680405607393, -1.7605599833750938, -1.1929371764729746, -2.1435108963467235, -1.7370665865167336, -2.007354588654353, -1.9126326121623447, -1.7968900185623713, -1.824684594206151, -1.6966293600633562, -1.8204503134480712, -2.132022843529241, -1.3583499543031838, -1.5280335071656577, -1.7764763044699745, -1.7541071018505763, -1.9202538721883309, ...\n"
      ]
     },
     "metadata": {},
     "output_type": "display_data"
    },
    {
     "data": {
      "text/plain": [
       "[-1.7008636408214346, -1.8783851549940478, -1.597800192305247, -1.6613406138855684, -1.5770426874367196, -1.8942207975522354, -1.5202989381570455, -1.7314610064823877, -1.6237061774493644, -1.7764763044699745, -1.8015813990792064, -1.6382374187586244, -1.741187558292187, -1.3269417814262463, -1.7728726239179156, -1.7138964933624494, -1.7624485738747564, -1.7749779157017282, -2.0700941196997897, -1.6257080769316516, -2.049680405607393, -1.7605599833750938, -1.1929371764729746, -2.1435108963467235, -1.7370665865167336, -2.007354588654353, -1.9126326121623447, -1.7968900185623713, -1.824684594206151, -1.6966293600633562, -1.8204503134480712, -2.132022843529241, -1.3583499543031838, -1.5280335071656577, -1.7764763044699745, -1.7541071018505763, -1.9202538721883309, -1.7764763044699745, -1.5300254899668455, -1.7945443283039537, -1.6789515379607924, -2.0923865076107493, -1.4085502268405474, -2.000123530359783, -1.8315945754894243, -1.8894161080527745, -1.5845368579707277, -1.5676599264030497, -1.7384980772576395, -1.7592555821261673, -5.0581517940233685, -4.687880026135526, -5.195806490483986, -4.3538249844523325, -5.026856930129058, -4.341018749876569, -4.7040594594698435, -3.4616432058833166, -4.880974070626887, -3.962795711695961, -3.833563165796218, -4.395109512395883, -4.507636400482433, -4.6726147923187185, -3.920710293217526, -4.83081029236371, -4.304688714689292, -4.110724654942924, -5.169089698123883, -4.114261437467644, -4.693635409426684, -4.428636757565986, -5.1817323489334814, -4.5851238741212805, -4.655978259225646, -4.828464602105292, -5.207878732552201, -5.311549084083959, -4.617759633538707, -3.9107206291682886, -4.078972691289858, -3.971915360490194, -4.193067092864773, -5.0110075070615165, -4.17852207104616, -4.388185750603256, -5.003753735002112, -4.9902637827023435, -4.0246879412512255, -4.232349721326035, -4.229270038560071, -4.5789341048362, -4.286747780347291, -3.585464159268032, -4.239843891860042, -4.046600044111868, -4.181451950555311, -4.5298116155825126, -3.5023573250854847, -4.20924652619909, -5.799347660344293, -5.107183688059265, -6.156826974165726, -5.391726038757354, -5.8194982621972535, -6.702844974709146, -4.315022169514661, -6.253160648408606, -5.952895964134955, -6.217827717968313, -5.319193057874779, -5.551569730827403, -5.835804785023548, -5.206746848324921, -5.417017430897585, -5.544338672532834, -5.424211994917968, -6.3870845748251845, -7.255936540302006, -5.207638334077599, -5.991527505318145, -4.928507575894538, -6.846232340696088, -5.282599910448064, -5.656394680351275, -5.909035264139484, -5.125835901143979, -4.974220372115484, -5.737889816782951, -5.816395865666455, -6.385209764834876, -6.266193500949622, -5.812004091663244, -5.065405566082774, -5.151315190282492, -6.749441566694451, -5.532723530223372, -5.300391041533253, -4.8781939943745485, -5.805207419362597, -5.967269712199084, -5.854606801365075, -5.107183688059265, -5.994330295335317, -5.952851779872449, -5.82212084520446, -5.511132504374026, -5.473611376920447, -5.329639821682772, -4.913939840311092]"
      ]
     },
     "execution_count": 20,
     "metadata": {},
     "output_type": "execute_result"
    }
   ],
   "source": [
    "val x1 = df_p.select(\"pcaFeatures\").collect.map(row=>row(0).asInstanceOf[DenseVector](0))"
   ]
  },
  {
   "cell_type": "code",
   "execution_count": 21,
   "metadata": {},
   "outputs": [
    {
     "data": {
      "text/plain": [
       "x2 = Array(-9.798112476165109, -8.640880678324866, -8.976683127367169, -8.720650458966217, -9.96661148272853, -10.80757533867312, -9.368410789070643, -9.540884243679617, -8.202607301741613, -8.846965954487347, -10.361118028393015, -9.452155017757546, -8.587346593832775, -8.358947926562632, -11.177765120852797, -12.00737840334759, -10.80279308233496, -9.806684165653895, -10.720429432627522, -10.44826393443861, -9.723124951861918, -10.243374222360671, -9.78197964637715, -9.400491433751634, -9.455741710011164, -8.68823420149725, -9.559223186741729, -9.844270435252954, -9.629613469601686, -8.980269819620789, -8.811770813057368, -9.73787720267041, -11.116467155164525, -11.472191867145414, -8.846965954487347, -9.110374748292546, -9.97676649209379, -8.846965954487347, -8.4148731...\n"
      ]
     },
     "metadata": {},
     "output_type": "display_data"
    },
    {
     "data": {
      "text/plain": [
       "[-9.798112476165109, -8.640880678324866, -8.976683127367169, -8.720650458966217, -9.96661148272853, -10.80757533867312, -9.368410789070643, -9.540884243679617, -8.202607301741613, -8.846965954487347, -10.361118028393015, -9.452155017757546, -8.587346593832775, -8.358947926562632, -11.177765120852797, -12.00737840334759, -10.80279308233496, -9.806684165653895, -10.720429432627522, -10.44826393443861, -9.723124951861918, -10.243374222360671, -9.78197964637715, -9.400491433751634, -9.455741710011164, -8.68823420149725, -9.559223186741729, -9.844270435252954, -9.629613469601686, -8.980269819620789, -8.811770813057368, -9.73787720267041, -11.116467155164525, -11.472191867145414, -8.846965954487347, -9.110374748292546, -9.97676649209379, -8.846965954487347, -8.4148731392238, -9.585846638682922, -9.76052620656605, -6.9741774127488085, -8.841795942357253, -9.78982796728603, -10.461617880265555, -8.604489972810347, -10.440887809034365, -8.932916296448404, -10.31615563338971, -9.32622727802835, -10.15432766518297, -9.890733856482846, -9.906866686270806, -7.541798487952292, -9.083046209303786, -8.705008106215232, -10.070195680704133, -7.451401502441051, -9.324326626896243, -8.26813303461353, -6.644909419346531, -9.23541238607925, -7.527433992935734, -9.109281905453045, -8.862747036017796, -9.802392386352711, -9.104111893322953, -8.506011774847295, -7.666195050808973, -7.995344743026938, -9.6952236421863, -8.878879865805752, -8.356323906850616, -8.878677124908744, -9.230815144636015, -9.54396858978268, -9.211752832993994, -9.621819437759578, -9.070500071769446, -8.240414593770025, -7.735725382372367, -7.725958128799041, -8.520764025655787, -8.65932234263202, -9.014187103316342, -10.146378769091864, -9.814550768095115, -7.906279904316891, -9.082186258007221, -7.968721291085744, -8.178393259501844, -9.321547742935232, -8.3084981881736, -7.28290249587763, -8.442997617391581, -9.11977252760628, -8.914882815528339, -9.140890354629404, -7.759772691249554, -8.700225849877073, -10.162883219202223, -8.595112621091767, -9.846715852488801, -9.244253530175657, -9.584317607873217, -10.079896776097103, -7.7392114994437575, -9.702246428800485, -8.57264863209105, -11.209124543016689, -9.98572808343732, -8.867278119280677, -9.707046411140725, -8.130603548359256, -8.851432470102424, -9.968871885069454, -9.546444157664451, -11.842317637207545, -9.291743636064696, -7.582248081225061, -10.198466116424138, -8.724829793971589, -9.690560242562709, -8.808961778450428, -10.304859349006678, -10.294081546243739, -8.976265220929308, -9.359421193143996, -9.101469592078592, -9.847624235963636, -9.539927983556769, -11.911512355982964, -9.11004128156738, -8.999099239719873, -8.479657777513724, -10.136024729655283, -10.362990674942006, -9.714943164227874, -9.31326323405615, -9.96427464362622, -9.902456050255047, -9.977831330350174, -8.595112621091767, -10.155894849589913, -10.339146106961824, -9.675640702861376, -8.391806228890298, -9.560000844388405, -10.307065462280837, -9.271887531306465]"
      ]
     },
     "execution_count": 21,
     "metadata": {},
     "output_type": "execute_result"
    }
   ],
   "source": [
    "val x2 = df_p.select(\"pcaFeatures\").collect.map(row=>row(0).asInstanceOf[DenseVector](1))"
   ]
  },
  {
   "cell_type": "code",
   "execution_count": 22,
   "metadata": {},
   "outputs": [
    {
     "data": {
      "text/plain": [
       "fig = breeze.plot.Figure@78b3cd38\n",
       "plt = breeze.plot.Plot@fd12ed\n"
      ]
     },
     "metadata": {},
     "output_type": "display_data"
    },
    {
     "data": {
      "text/plain": [
       "breeze.plot.Plot@fd12ed"
      ]
     },
     "execution_count": 22,
     "metadata": {},
     "output_type": "execute_result"
    }
   ],
   "source": [
    "val fig = Figure()\n",
    "val plt = fig.subplot(0)"
   ]
  },
  {
   "cell_type": "code",
   "execution_count": 23,
   "metadata": {},
   "outputs": [
    {
     "data": {
      "text/plain": [
       "c = Array(java.awt.Color[r=0,g=255,b=0], java.awt.Color[r=0,g=255,b=0], java.awt.Color[r=0,g=255,b=0], java.awt.Color[r=0,g=255,b=0], java.awt.Color[r=0,g=255,b=0], java.awt.Color[r=0,g=255,b=0], java.awt.Color[r=0,g=255,b=0], java.awt.Color[r=0,g=255,b=0], java.awt.Color[r=0,g=255,b=0], java.awt.Color[r=0,g=255,b=0], java.awt.Color[r=0,g=255,b=0], java.awt.Color[r=0,g=255,b=0], java.awt.Color[r=0,g=255,b=0], java.awt.Color[r=0,g=255,b=0], java.awt.Color[r=0,g=255,b=0], java.awt.Color[r=0,g=255,b=0], java.awt.Color[r=0,g=255,b=0], java.awt.Color[r=0,g=255,b=0], java.awt.Color[r=0,g=255,b=0], java.awt.Color[r=0,g=255,b=0], java.awt.Color[r=0,g=255,b=0], java.awt.Color[r=0,g=255,b=0], java.awt.Color[r=0,g=255,b=0], java.awt.Color[r=0,g=255,b=0], java.awt.Color[r=0,g...\n"
      ]
     },
     "metadata": {},
     "output_type": "display_data"
    },
    {
     "data": {
      "text/plain": [
       "[java.awt.Color[r=0,g=255,b=0], java.awt.Color[r=0,g=255,b=0], java.awt.Color[r=0,g=255,b=0], java.awt.Color[r=0,g=255,b=0], java.awt.Color[r=0,g=255,b=0], java.awt.Color[r=0,g=255,b=0], java.awt.Color[r=0,g=255,b=0], java.awt.Color[r=0,g=255,b=0], java.awt.Color[r=0,g=255,b=0], java.awt.Color[r=0,g=255,b=0], java.awt.Color[r=0,g=255,b=0], java.awt.Color[r=0,g=255,b=0], java.awt.Color[r=0,g=255,b=0], java.awt.Color[r=0,g=255,b=0], java.awt.Color[r=0,g=255,b=0], java.awt.Color[r=0,g=255,b=0], java.awt.Color[r=0,g=255,b=0], java.awt.Color[r=0,g=255,b=0], java.awt.Color[r=0,g=255,b=0], java.awt.Color[r=0,g=255,b=0], java.awt.Color[r=0,g=255,b=0], java.awt.Color[r=0,g=255,b=0], java.awt.Color[r=0,g=255,b=0], java.awt.Color[r=0,g=255,b=0], java.awt.Color[r=0,g=255,b=0], java.awt.Color[r=0,g=255,b=0], java.awt.Color[r=0,g=255,b=0], java.awt.Color[r=0,g=255,b=0], java.awt.Color[r=0,g=255,b=0], java.awt.Color[r=0,g=255,b=0], java.awt.Color[r=0,g=255,b=0], java.awt.Color[r=0,g=255,b=0], java.awt.Color[r=0,g=255,b=0], java.awt.Color[r=0,g=255,b=0], java.awt.Color[r=0,g=255,b=0], java.awt.Color[r=0,g=255,b=0], java.awt.Color[r=0,g=255,b=0], java.awt.Color[r=0,g=255,b=0], java.awt.Color[r=0,g=255,b=0], java.awt.Color[r=0,g=255,b=0], java.awt.Color[r=0,g=255,b=0], java.awt.Color[r=0,g=255,b=0], java.awt.Color[r=0,g=255,b=0], java.awt.Color[r=0,g=255,b=0], java.awt.Color[r=0,g=255,b=0], java.awt.Color[r=0,g=255,b=0], java.awt.Color[r=0,g=255,b=0], java.awt.Color[r=0,g=255,b=0], java.awt.Color[r=0,g=255,b=0], java.awt.Color[r=0,g=255,b=0], java.awt.Color[r=255,g=0,b=0], java.awt.Color[r=255,g=0,b=0], java.awt.Color[r=255,g=0,b=0], java.awt.Color[r=255,g=0,b=0], java.awt.Color[r=255,g=0,b=0], java.awt.Color[r=255,g=0,b=0], java.awt.Color[r=255,g=0,b=0], java.awt.Color[r=255,g=0,b=0], java.awt.Color[r=255,g=0,b=0], java.awt.Color[r=255,g=0,b=0], java.awt.Color[r=255,g=0,b=0], java.awt.Color[r=255,g=0,b=0], java.awt.Color[r=255,g=0,b=0], java.awt.Color[r=255,g=0,b=0], java.awt.Color[r=255,g=0,b=0], java.awt.Color[r=255,g=0,b=0], java.awt.Color[r=255,g=0,b=0], java.awt.Color[r=255,g=0,b=0], java.awt.Color[r=255,g=0,b=0], java.awt.Color[r=255,g=0,b=0], java.awt.Color[r=255,g=0,b=0], java.awt.Color[r=255,g=0,b=0], java.awt.Color[r=255,g=0,b=0], java.awt.Color[r=255,g=0,b=0], java.awt.Color[r=255,g=0,b=0], java.awt.Color[r=255,g=0,b=0], java.awt.Color[r=255,g=0,b=0], java.awt.Color[r=255,g=0,b=0], java.awt.Color[r=255,g=0,b=0], java.awt.Color[r=255,g=0,b=0], java.awt.Color[r=255,g=0,b=0], java.awt.Color[r=255,g=0,b=0], java.awt.Color[r=255,g=0,b=0], java.awt.Color[r=255,g=0,b=0], java.awt.Color[r=255,g=0,b=0], java.awt.Color[r=255,g=0,b=0], java.awt.Color[r=255,g=0,b=0], java.awt.Color[r=255,g=0,b=0], java.awt.Color[r=255,g=0,b=0], java.awt.Color[r=255,g=0,b=0], java.awt.Color[r=255,g=0,b=0], java.awt.Color[r=255,g=0,b=0], java.awt.Color[r=255,g=0,b=0], java.awt.Color[r=255,g=0,b=0], java.awt.Color[r=255,g=0,b=0], java.awt.Color[r=255,g=0,b=0], java.awt.Color[r=255,g=0,b=0], java.awt.Color[r=255,g=0,b=0], java.awt.Color[r=255,g=0,b=0], java.awt.Color[r=255,g=0,b=0], java.awt.Color[r=0,g=0,b=255], java.awt.Color[r=0,g=0,b=255], java.awt.Color[r=0,g=0,b=255], java.awt.Color[r=0,g=0,b=255], java.awt.Color[r=0,g=0,b=255], java.awt.Color[r=0,g=0,b=255], java.awt.Color[r=0,g=0,b=255], java.awt.Color[r=0,g=0,b=255], java.awt.Color[r=0,g=0,b=255], java.awt.Color[r=0,g=0,b=255], java.awt.Color[r=0,g=0,b=255], java.awt.Color[r=0,g=0,b=255], java.awt.Color[r=0,g=0,b=255], java.awt.Color[r=0,g=0,b=255], java.awt.Color[r=0,g=0,b=255], java.awt.Color[r=0,g=0,b=255], java.awt.Color[r=0,g=0,b=255], java.awt.Color[r=0,g=0,b=255], java.awt.Color[r=0,g=0,b=255], java.awt.Color[r=0,g=0,b=255], java.awt.Color[r=0,g=0,b=255], java.awt.Color[r=0,g=0,b=255], java.awt.Color[r=0,g=0,b=255], java.awt.Color[r=0,g=0,b=255], java.awt.Color[r=0,g=0,b=255], java.awt.Color[r=0,g=0,b=255], java.awt.Color[r=0,g=0,b=255], java.awt.Color[r=0,g=0,b=255], java.awt.Color[r=0,g=0,b=255], java.awt.Color[r=0,g=0,b=255], java.awt.Color[r=0,g=0,b=255], java.awt.Color[r=0,g=0,b=255], java.awt.Color[r=0,g=0,b=255], java.awt.Color[r=0,g=0,b=255], java.awt.Color[r=0,g=0,b=255], java.awt.Color[r=0,g=0,b=255], java.awt.Color[r=0,g=0,b=255], java.awt.Color[r=0,g=0,b=255], java.awt.Color[r=0,g=0,b=255], java.awt.Color[r=0,g=0,b=255], java.awt.Color[r=0,g=0,b=255], java.awt.Color[r=0,g=0,b=255], java.awt.Color[r=0,g=0,b=255], java.awt.Color[r=0,g=0,b=255], java.awt.Color[r=0,g=0,b=255], java.awt.Color[r=0,g=0,b=255], java.awt.Color[r=0,g=0,b=255], java.awt.Color[r=0,g=0,b=255], java.awt.Color[r=0,g=0,b=255], java.awt.Color[r=0,g=0,b=255]]"
      ]
     },
     "execution_count": 23,
     "metadata": {},
     "output_type": "execute_result"
    }
   ],
   "source": [
    "val c = df_p.select(\"label\").as[Double].collect.map(\n",
    "    Map(\n",
    "        0.0 -> java.awt.Color.red, \n",
    "        1.0 -> java.awt.Color.blue,  \n",
    "        2.0 -> java.awt.Color.green\n",
    "       ))\n",
    "\n",
    "plt += scatter(x1, x2, size = x1.map(i=>0.1), colors = c)\n",
    "\n",
    "plt.legend = true\n",
    "plt.title = \"PCA Iris\"\n",
    "plt.xlabel = \"x1\"\n",
    "plt.ylabel = \"x2\""
   ]
  },
  {
   "cell_type": "code",
   "execution_count": 24,
   "metadata": {},
   "outputs": [
    {
     "data": {
      "text/html": [
       "<img width=\"600\" height=\"400\" src=\"data:image/png;base64,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\" />"
      ]
     },
     "execution_count": 24,
     "metadata": {},
     "output_type": "execute_result"
    }
   ],
   "source": [
    "kernel.magics.html(tohtml(plt.chart))"
   ]
  }
 ],
 "metadata": {
  "kernelspec": {
   "display_name": "Apache Toree - Scala",
   "language": "scala",
   "name": "apache_toree_scala"
  },
  "language_info": {
   "codemirror_mode": "text/x-scala",
   "file_extension": ".scala",
   "mimetype": "text/x-scala",
   "name": "scala",
   "pygments_lexer": "scala",
   "version": "2.11.8"
  }
 },
 "nbformat": 4,
 "nbformat_minor": 2
}
