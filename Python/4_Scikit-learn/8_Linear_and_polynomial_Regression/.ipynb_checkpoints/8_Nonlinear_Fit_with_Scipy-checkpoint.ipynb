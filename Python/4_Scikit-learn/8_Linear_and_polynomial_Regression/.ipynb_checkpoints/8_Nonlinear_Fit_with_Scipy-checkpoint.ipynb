{
 "cells": [
  {
   "cell_type": "markdown",
   "metadata": {},
   "source": [
    "# Nonlinear Fit\n",
    "The goal is to model the energy loss $a$ in an optical fiber as function of the features \n",
    "$G$, $D_z$, $B_2$, $DO$, $P_1$ and $P_2$."
   ]
  },
  {
   "cell_type": "code",
   "execution_count": 1,
   "metadata": {
    "collapsed": true
   },
   "outputs": [],
   "source": [
    "import numpy as np\n",
    "import pandas as pd\n",
    "from scipy.optimize import curve_fit\n",
    "from sklearn.metrics import r2_score\n",
    "from sklearn.model_selection import train_test_split"
   ]
  },
  {
   "cell_type": "markdown",
   "metadata": {},
   "source": [
    "## Load the dataset"
   ]
  },
  {
   "cell_type": "code",
   "execution_count": 2,
   "metadata": {},
   "outputs": [],
   "source": [
    "df = pd.read_csv('../Datasets/Interaction_coefficients_a_b.dat')"
   ]
  },
  {
   "cell_type": "markdown",
   "metadata": {},
   "source": [
    "## Explore the dataset"
   ]
  },
  {
   "cell_type": "code",
   "execution_count": 3,
   "metadata": {},
   "outputs": [
    {
     "data": {
      "text/html": [
       "<div>\n",
       "<table border=\"1\" class=\"dataframe\">\n",
       "  <thead>\n",
       "    <tr style=\"text-align: right;\">\n",
       "      <th></th>\n",
       "      <th>G</th>\n",
       "      <th>Dz</th>\n",
       "      <th>B2</th>\n",
       "      <th>DO</th>\n",
       "      <th>P1</th>\n",
       "      <th>P2</th>\n",
       "      <th>a</th>\n",
       "      <th>b</th>\n",
       "    </tr>\n",
       "  </thead>\n",
       "  <tbody>\n",
       "    <tr>\n",
       "      <th>count</th>\n",
       "      <td>44.000000</td>\n",
       "      <td>44.000000</td>\n",
       "      <td>44.000000</td>\n",
       "      <td>44.000000</td>\n",
       "      <td>44.000000</td>\n",
       "      <td>44.000000</td>\n",
       "      <td>44.000000</td>\n",
       "      <td>44.000000</td>\n",
       "    </tr>\n",
       "    <tr>\n",
       "      <th>mean</th>\n",
       "      <td>0.001966</td>\n",
       "      <td>0.468182</td>\n",
       "      <td>0.019659</td>\n",
       "      <td>5.204545</td>\n",
       "      <td>91.818182</td>\n",
       "      <td>15.113636</td>\n",
       "      <td>0.565755</td>\n",
       "      <td>1.573799</td>\n",
       "    </tr>\n",
       "    <tr>\n",
       "      <th>std</th>\n",
       "      <td>0.000331</td>\n",
       "      <td>0.109487</td>\n",
       "      <td>0.003306</td>\n",
       "      <td>0.823479</td>\n",
       "      <td>20.147448</td>\n",
       "      <td>13.829890</td>\n",
       "      <td>0.401413</td>\n",
       "      <td>1.006365</td>\n",
       "    </tr>\n",
       "    <tr>\n",
       "      <th>min</th>\n",
       "      <td>0.000500</td>\n",
       "      <td>0.000000</td>\n",
       "      <td>0.005000</td>\n",
       "      <td>4.000000</td>\n",
       "      <td>20.000000</td>\n",
       "      <td>5.000000</td>\n",
       "      <td>-0.000000</td>\n",
       "      <td>0.000000</td>\n",
       "    </tr>\n",
       "    <tr>\n",
       "      <th>25%</th>\n",
       "      <td>0.002000</td>\n",
       "      <td>0.500000</td>\n",
       "      <td>0.020000</td>\n",
       "      <td>5.000000</td>\n",
       "      <td>100.000000</td>\n",
       "      <td>10.000000</td>\n",
       "      <td>0.260383</td>\n",
       "      <td>0.787526</td>\n",
       "    </tr>\n",
       "    <tr>\n",
       "      <th>50%</th>\n",
       "      <td>0.002000</td>\n",
       "      <td>0.500000</td>\n",
       "      <td>0.020000</td>\n",
       "      <td>5.000000</td>\n",
       "      <td>100.000000</td>\n",
       "      <td>10.000000</td>\n",
       "      <td>0.570959</td>\n",
       "      <td>1.531123</td>\n",
       "    </tr>\n",
       "    <tr>\n",
       "      <th>75%</th>\n",
       "      <td>0.002000</td>\n",
       "      <td>0.500000</td>\n",
       "      <td>0.020000</td>\n",
       "      <td>5.000000</td>\n",
       "      <td>100.000000</td>\n",
       "      <td>10.000000</td>\n",
       "      <td>0.692926</td>\n",
       "      <td>2.114420</td>\n",
       "    </tr>\n",
       "    <tr>\n",
       "      <th>max</th>\n",
       "      <td>0.003000</td>\n",
       "      <td>0.600000</td>\n",
       "      <td>0.030000</td>\n",
       "      <td>9.000000</td>\n",
       "      <td>100.000000</td>\n",
       "      <td>70.000000</td>\n",
       "      <td>1.737158</td>\n",
       "      <td>4.323701</td>\n",
       "    </tr>\n",
       "  </tbody>\n",
       "</table>\n",
       "</div>"
      ],
      "text/plain": [
       "               G         Dz         B2         DO          P1         P2  \\\n",
       "count  44.000000  44.000000  44.000000  44.000000   44.000000  44.000000   \n",
       "mean    0.001966   0.468182   0.019659   5.204545   91.818182  15.113636   \n",
       "std     0.000331   0.109487   0.003306   0.823479   20.147448  13.829890   \n",
       "min     0.000500   0.000000   0.005000   4.000000   20.000000   5.000000   \n",
       "25%     0.002000   0.500000   0.020000   5.000000  100.000000  10.000000   \n",
       "50%     0.002000   0.500000   0.020000   5.000000  100.000000  10.000000   \n",
       "75%     0.002000   0.500000   0.020000   5.000000  100.000000  10.000000   \n",
       "max     0.003000   0.600000   0.030000   9.000000  100.000000  70.000000   \n",
       "\n",
       "               a          b  \n",
       "count  44.000000  44.000000  \n",
       "mean    0.565755   1.573799  \n",
       "std     0.401413   1.006365  \n",
       "min    -0.000000   0.000000  \n",
       "25%     0.260383   0.787526  \n",
       "50%     0.570959   1.531123  \n",
       "75%     0.692926   2.114420  \n",
       "max     1.737158   4.323701  "
      ]
     },
     "execution_count": 3,
     "metadata": {},
     "output_type": "execute_result"
    }
   ],
   "source": [
    "df.describe()"
   ]
  },
  {
   "cell_type": "code",
   "execution_count": 4,
   "metadata": {},
   "outputs": [
    {
     "data": {
      "text/html": [
       "<div>\n",
       "<table border=\"1\" class=\"dataframe\">\n",
       "  <thead>\n",
       "    <tr style=\"text-align: right;\">\n",
       "      <th></th>\n",
       "      <th>G</th>\n",
       "      <th>Dz</th>\n",
       "      <th>B2</th>\n",
       "      <th>DO</th>\n",
       "      <th>P1</th>\n",
       "      <th>P2</th>\n",
       "      <th>a</th>\n",
       "      <th>b</th>\n",
       "    </tr>\n",
       "  </thead>\n",
       "  <tbody>\n",
       "    <tr>\n",
       "      <th>0</th>\n",
       "      <td>0.002</td>\n",
       "      <td>0.5</td>\n",
       "      <td>0.005</td>\n",
       "      <td>5</td>\n",
       "      <td>100</td>\n",
       "      <td>10</td>\n",
       "      <td>0.154287</td>\n",
       "      <td>0.794660</td>\n",
       "    </tr>\n",
       "    <tr>\n",
       "      <th>1</th>\n",
       "      <td>0.002</td>\n",
       "      <td>0.5</td>\n",
       "      <td>0.010</td>\n",
       "      <td>5</td>\n",
       "      <td>100</td>\n",
       "      <td>10</td>\n",
       "      <td>0.339034</td>\n",
       "      <td>1.565490</td>\n",
       "    </tr>\n",
       "    <tr>\n",
       "      <th>2</th>\n",
       "      <td>0.002</td>\n",
       "      <td>0.5</td>\n",
       "      <td>0.015</td>\n",
       "      <td>5</td>\n",
       "      <td>100</td>\n",
       "      <td>10</td>\n",
       "      <td>0.450023</td>\n",
       "      <td>1.743379</td>\n",
       "    </tr>\n",
       "    <tr>\n",
       "      <th>3</th>\n",
       "      <td>0.002</td>\n",
       "      <td>0.5</td>\n",
       "      <td>0.020</td>\n",
       "      <td>5</td>\n",
       "      <td>100</td>\n",
       "      <td>10</td>\n",
       "      <td>0.570959</td>\n",
       "      <td>1.789472</td>\n",
       "    </tr>\n",
       "    <tr>\n",
       "      <th>4</th>\n",
       "      <td>0.002</td>\n",
       "      <td>0.5</td>\n",
       "      <td>0.025</td>\n",
       "      <td>5</td>\n",
       "      <td>100</td>\n",
       "      <td>10</td>\n",
       "      <td>0.673405</td>\n",
       "      <td>1.782381</td>\n",
       "    </tr>\n",
       "  </tbody>\n",
       "</table>\n",
       "</div>"
      ],
      "text/plain": [
       "       G   Dz     B2  DO   P1  P2         a         b\n",
       "0  0.002  0.5  0.005   5  100  10  0.154287  0.794660\n",
       "1  0.002  0.5  0.010   5  100  10  0.339034  1.565490\n",
       "2  0.002  0.5  0.015   5  100  10  0.450023  1.743379\n",
       "3  0.002  0.5  0.020   5  100  10  0.570959  1.789472\n",
       "4  0.002  0.5  0.025   5  100  10  0.673405  1.782381"
      ]
     },
     "execution_count": 4,
     "metadata": {},
     "output_type": "execute_result"
    }
   ],
   "source": [
    "df.head()"
   ]
  },
  {
   "cell_type": "markdown",
   "metadata": {},
   "source": [
    "## Select the features"
   ]
  },
  {
   "cell_type": "code",
   "execution_count": 5,
   "metadata": {},
   "outputs": [],
   "source": [
    "colnames = ['G','Dz','B2','DO','P1','P2']\n",
    "x = df[colnames]\n",
    "y = df['a']"
   ]
  },
  {
   "cell_type": "markdown",
   "metadata": {},
   "source": [
    "## Split into train and test sets"
   ]
  },
  {
   "cell_type": "code",
   "execution_count": 6,
   "metadata": {
    "collapsed": true
   },
   "outputs": [],
   "source": [
    "x_train, x_test, y_train, y_test = train_test_split( x, y)"
   ]
  },
  {
   "cell_type": "markdown",
   "metadata": {},
   "source": [
    "## Define the nonlinear function to fit"
   ]
  },
  {
   "cell_type": "code",
   "execution_count": 7,
   "metadata": {
    "collapsed": true
   },
   "outputs": [],
   "source": [
    "def func(x, g, l, n):\n",
    "    return g*x.iloc[:,0]*(x.iloc[:,1]**l)*(x.iloc[:,2]**(l-1))*(x.iloc[:,3]**(2*l-3))*(x.iloc[:,4]**n)*(x.iloc[:,5]**(2-n))"
   ]
  },
  {
   "cell_type": "markdown",
   "metadata": {},
   "source": [
    "## Train the model"
   ]
  },
  {
   "cell_type": "code",
   "execution_count": 8,
   "metadata": {
    "collapsed": true
   },
   "outputs": [],
   "source": [
    "#p0 = 1.88,1.59,1.54\n",
    "par_a, cov_a = curve_fit(func, x_train, y_train)"
   ]
  },
  {
   "cell_type": "code",
   "execution_count": 9,
   "metadata": {},
   "outputs": [
    {
     "data": {
      "text/plain": [
       "array([ 2.75751817,  1.67421149,  1.4146531 ])"
      ]
     },
     "execution_count": 9,
     "metadata": {},
     "output_type": "execute_result"
    }
   ],
   "source": [
    "par_a #parameter values"
   ]
  },
  {
   "cell_type": "code",
   "execution_count": 10,
   "metadata": {},
   "outputs": [
    {
     "data": {
      "text/plain": [
       "array([ 0.09841811,  0.0239098 ,  0.00766609])"
      ]
     },
     "execution_count": 10,
     "metadata": {},
     "output_type": "execute_result"
    }
   ],
   "source": [
    "np.sqrt(np.diagonal(cov_a)) #parameter standard deviations"
   ]
  },
  {
   "cell_type": "markdown",
   "metadata": {},
   "source": [
    "## Make predictions and evaluate the model"
   ]
  },
  {
   "cell_type": "code",
   "execution_count": 11,
   "metadata": {
    "collapsed": true
   },
   "outputs": [],
   "source": [
    "y_pred = func(x_test,*par_a)"
   ]
  },
  {
   "cell_type": "code",
   "execution_count": 12,
   "metadata": {},
   "outputs": [
    {
     "data": {
      "text/plain": [
       "0.99515704571343777"
      ]
     },
     "execution_count": 12,
     "metadata": {},
     "output_type": "execute_result"
    }
   ],
   "source": [
    "r2_score(y_test,y_pred)"
   ]
  }
 ],
 "metadata": {
  "kernelspec": {
   "display_name": "Python 2",
   "language": "python",
   "name": "python2"
  },
  "language_info": {
   "codemirror_mode": {
    "name": "ipython",
    "version": 2
   },
   "file_extension": ".py",
   "mimetype": "text/x-python",
   "name": "python",
   "nbconvert_exporter": "python",
   "pygments_lexer": "ipython2",
   "version": "2.7.2"
  }
 },
 "nbformat": 4,
 "nbformat_minor": 2
}
