{
 "cells": [
  {
   "cell_type": "code",
   "execution_count": 1,
   "metadata": {
    "collapsed": true
   },
   "outputs": [],
   "source": [
    "import numpy as np\n",
    "import pandas as pd\n",
    "import matplotlib.pyplot as plt\n",
    "import seaborn as sbn\n",
    "from scipy import misc, ndimage\n",
    "from sklearn.preprocessing import StandardScaler\n",
    "from sklearn.model_selection import train_test_split\n",
    "from sklearn.decomposition import PCA\n",
    "from sklearn.naive_bayes import GaussianNB\n",
    "import warnings\n",
    "warnings.filterwarnings('ignore')"
   ]
  },
  {
   "cell_type": "markdown",
   "metadata": {},
   "source": [
    "## Load images and  transform them into feature vectors"
   ]
  },
  {
   "cell_type": "code",
   "execution_count": 2,
   "metadata": {
    "collapsed": true
   },
   "outputs": [],
   "source": [
    "x = []\n",
    "y = []\n",
    "\n",
    "for j in range(1,11):#63\n",
    "    for k in range(1,56):#56\n",
    "        if j<=9 and k<=9:\n",
    "            image_filename = '../Datasets/Hand_drawn_characters/Sample00%d/img00%d-00%d.png'%(j,j,k)\n",
    "        if j<=9 and k>9:\n",
    "            image_filename = '../Datasets/Hand_drawn_characters/Sample00%d/img00%d-0%d.png'%(j,j,k)\n",
    "        if j>9 and k<=9:\n",
    "            image_filename = '../Datasets/Hand_drawn_characters/Sample0%d/img0%d-00%d.png'%(j,j,k)\n",
    "        if j>9 and k>9:\n",
    "            image_filename = '../Datasets/Hand_drawn_characters/Sample0%d/img0%d-0%d.png'%(j,j,k)\n",
    "        #reading the image\n",
    "        image = misc.imread(image_filename, flatten=True)\n",
    "        #resizing 0.20 => from 900*1200 to 180*240\n",
    "        image = misc.imresize(image,0.20) \n",
    "        #finding the object\n",
    "        objs = ndimage.find_objects(image - image.max()) #use of negative image to find the object\n",
    "        image = image[int(objs[0][0].start):int(objs[0][0].stop),int(objs[0][1].start):int(objs[0][1].stop)]\n",
    "        #zooming to 90x60\n",
    "        h = 91.0/image.shape[0]\n",
    "        l = 61.0/image.shape[1]\n",
    "        image = ndimage.zoom(image,(h,l))\n",
    "        #flattening to one dimensional vector\n",
    "        image = image[0:90,0:60].reshape(90*60).astype('float32')\n",
    "        x.append(image)\n",
    "        y.append(j)"
   ]
  },
  {
   "cell_type": "markdown",
   "metadata": {},
   "source": [
    "## Convert lists to arrays"
   ]
  },
  {
   "cell_type": "code",
   "execution_count": 3,
   "metadata": {},
   "outputs": [
    {
     "data": {
      "text/plain": [
       "(550, 5400)"
      ]
     },
     "execution_count": 3,
     "metadata": {},
     "output_type": "execute_result"
    }
   ],
   "source": [
    "x = np.array(x)\n",
    "x.shape"
   ]
  },
  {
   "cell_type": "code",
   "execution_count": 4,
   "metadata": {},
   "outputs": [
    {
     "data": {
      "text/plain": [
       "(550,)"
      ]
     },
     "execution_count": 4,
     "metadata": {},
     "output_type": "execute_result"
    }
   ],
   "source": [
    "y = np.array(y)\n",
    "y.shape"
   ]
  },
  {
   "cell_type": "markdown",
   "metadata": {},
   "source": [
    "## Split into train and test sets"
   ]
  },
  {
   "cell_type": "code",
   "execution_count": 5,
   "metadata": {
    "collapsed": true
   },
   "outputs": [],
   "source": [
    "x_train, x_test, y_train, y_test = train_test_split(x, y, test_size=0.33, random_state=1)"
   ]
  },
  {
   "cell_type": "markdown",
   "metadata": {},
   "source": [
    "## Scale the features for PCA"
   ]
  },
  {
   "cell_type": "code",
   "execution_count": 6,
   "metadata": {
    "collapsed": true
   },
   "outputs": [],
   "source": [
    "scaler = StandardScaler()\n",
    "x_train = scaler.fit_transform(x_train)\n",
    "x_test = scaler.transform(x_test)"
   ]
  },
  {
   "cell_type": "markdown",
   "metadata": {},
   "source": [
    "## Dimensionality Reduction with PCA"
   ]
  },
  {
   "cell_type": "code",
   "execution_count": 7,
   "metadata": {
    "collapsed": true
   },
   "outputs": [],
   "source": [
    "pca = PCA(n_components=30)\n",
    "x_train_reduced = pca.fit_transform(x_train)\n",
    "x_test_reduced = pca.transform(x_test)"
   ]
  },
  {
   "cell_type": "code",
   "execution_count": 8,
   "metadata": {},
   "outputs": [
    {
     "data": {
      "text/plain": [
       "array([ 0.1050298 ,  0.09610634,  0.0720462 ,  0.06861351,  0.05490972,\n",
       "        0.04660005,  0.039905  ,  0.0320131 ,  0.03032806,  0.02238169,\n",
       "        0.02171815,  0.01851993,  0.01694439,  0.01529647,  0.01441361,\n",
       "        0.01394854,  0.01139868,  0.01058782,  0.01033299,  0.00979238,\n",
       "        0.00908763,  0.00886927,  0.00830251,  0.00767874,  0.00719372,\n",
       "        0.00687712,  0.00639377,  0.00625857,  0.00574655,  0.00538092])"
      ]
     },
     "execution_count": 8,
     "metadata": {},
     "output_type": "execute_result"
    }
   ],
   "source": [
    "pca.explained_variance_ratio_"
   ]
  },
  {
   "cell_type": "code",
   "execution_count": 9,
   "metadata": {},
   "outputs": [
    {
     "data": {
      "text/plain": [
       "array([ 0.1050298 ,  0.20113615,  0.27318235,  0.34179585,  0.39670557,\n",
       "        0.44330562,  0.48321061,  0.51522371,  0.54555177,  0.56793346,\n",
       "        0.5896516 ,  0.60817154,  0.62511593,  0.64041239,  0.654826  ,\n",
       "        0.66877454,  0.68017323,  0.69076105,  0.70109404,  0.71088642,\n",
       "        0.71997405,  0.72884333,  0.73714584,  0.74482457,  0.75201829,\n",
       "        0.75889542,  0.76528918,  0.77154775,  0.7772943 ,  0.78267522])"
      ]
     },
     "execution_count": 9,
     "metadata": {},
     "output_type": "execute_result"
    }
   ],
   "source": [
    "np.cumsum(pca.explained_variance_ratio_)"
   ]
  },
  {
   "cell_type": "markdown",
   "metadata": {},
   "source": [
    "## Train the model"
   ]
  },
  {
   "cell_type": "code",
   "execution_count": 10,
   "metadata": {},
   "outputs": [
    {
     "data": {
      "text/plain": [
       "GaussianNB(priors=None)"
      ]
     },
     "execution_count": 10,
     "metadata": {},
     "output_type": "execute_result"
    }
   ],
   "source": [
    "model = GaussianNB()\n",
    "model.fit(x_train_reduced,y_train)"
   ]
  },
  {
   "cell_type": "markdown",
   "metadata": {},
   "source": [
    "## Make predictions"
   ]
  },
  {
   "cell_type": "code",
   "execution_count": 11,
   "metadata": {
    "collapsed": true
   },
   "outputs": [],
   "source": [
    "y_pred = model.predict(x_test_reduced)"
   ]
  },
  {
   "cell_type": "code",
   "execution_count": 12,
   "metadata": {},
   "outputs": [
    {
     "data": {
      "image/png": "[encoded data removed]",
      "text/plain": [
       "<matplotlib.figure.Figure at 0x52a6150>"
      ]
     },
     "metadata": {},
     "output_type": "display_data"
    }
   ],
   "source": [
    "table = pd.crosstab(y_test, y_pred, rownames=['Actual'], colnames=['Predictions'])\n",
    "\n",
    "sbn.heatmap(table, cbar=True, cmap='Blues',annot=True, square=True, fmt='d', annot_kws={'size': 20})\n",
    "\n",
    "plt.show()"
   ]
  },
  {
   "cell_type": "markdown",
   "metadata": {},
   "source": [
    "## Evaluate the model"
   ]
  },
  {
   "cell_type": "code",
   "execution_count": 13,
   "metadata": {},
   "outputs": [
    {
     "data": {
      "text/plain": [
       "0.91208791208791207"
      ]
     },
     "execution_count": 13,
     "metadata": {},
     "output_type": "execute_result"
    }
   ],
   "source": [
    "model.score(x_test_reduced,y_test)"
   ]
  }
 ],
 "metadata": {
  "kernelspec": {
   "display_name": "Python 2",
   "language": "python",
   "name": "python2"
  },
  "language_info": {
   "codemirror_mode": {
    "name": "ipython",
    "version": 2
   },
   "file_extension": ".py",
   "mimetype": "text/x-python",
   "name": "python",
   "nbconvert_exporter": "python",
   "pygments_lexer": "ipython2",
   "version": "2.7.2"
  }
 },
 "nbformat": 4,
 "nbformat_minor": 1
}
