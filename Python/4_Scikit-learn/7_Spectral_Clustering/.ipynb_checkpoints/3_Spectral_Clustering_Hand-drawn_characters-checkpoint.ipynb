{
 "cells": [
  {
   "cell_type": "code",
   "execution_count": 1,
   "metadata": {
    "collapsed": true
   },
   "outputs": [],
   "source": [
    "import numpy as np\n",
    "import pandas as pd\n",
    "import matplotlib.pyplot as plt\n",
    "from scipy import misc, ndimage\n",
    "from sklearn.preprocessing import StandardScaler\n",
    "from sklearn.decomposition import PCA\n",
    "from sklearn.cluster import KMeans, SpectralClustering\n",
    "from sklearn.metrics import silhouette_score\n",
    "import warnings\n",
    "warnings.filterwarnings('ignore')"
   ]
  },
  {
   "cell_type": "code",
   "execution_count": 2,
   "metadata": {
    "collapsed": true
   },
   "outputs": [],
   "source": [
    "np.random.seed(3)"
   ]
  },
  {
   "cell_type": "markdown",
   "metadata": {},
   "source": [
    "## Load images and transform them into feature vectors"
   ]
  },
  {
   "cell_type": "code",
   "execution_count": 3,
   "metadata": {
    "collapsed": true
   },
   "outputs": [],
   "source": [
    "x = []\n",
    "y = []\n",
    "\n",
    "for j in range(1,11):#63\n",
    "    for k in range(1,56):#56\n",
    "        if j<=9 and k<=9:\n",
    "            image_filename = '../Datasets/Hand_drawn_characters/Sample00%d/img00%d-00%d.png'%(j,j,k)\n",
    "        if j<=9 and k>9:\n",
    "            image_filename = '../Datasets/Hand_drawn_characters/Sample00%d/img00%d-0%d.png'%(j,j,k)\n",
    "        if j>9 and k<=9:\n",
    "            image_filename = '../Datasets/Hand_drawn_characters/Sample0%d/img0%d-00%d.png'%(j,j,k)\n",
    "        if j>9 and k>9:\n",
    "            image_filename = '../Datasets/Hand_drawn_characters/Sample0%d/img0%d-0%d.png'%(j,j,k)\n",
    "        #reading the image\n",
    "        image = misc.imread(image_filename, flatten=True)\n",
    "        #resizing 0.20 => from 900*1200 to 180*240\n",
    "        image = misc.imresize(image,0.20) \n",
    "        #finding the object\n",
    "        objs = ndimage.find_objects(image - image.max()) #use of negative image to find the object\n",
    "        image = image[int(objs[0][0].start):int(objs[0][0].stop),int(objs[0][1].start):int(objs[0][1].stop)]\n",
    "        #zooming to 90x60\n",
    "        h = 91.0/image.shape[0]\n",
    "        l = 61.0/image.shape[1]\n",
    "        image = ndimage.zoom(image,(h,l))\n",
    "        #flattening to one dimensional vector\n",
    "        image = image[0:90,0:60].reshape(90*60).astype('float32')\n",
    "        x.append(image)\n",
    "        y.append(j)"
   ]
  },
  {
   "cell_type": "markdown",
   "metadata": {},
   "source": [
    "## Convert lists to arrays"
   ]
  },
  {
   "cell_type": "code",
   "execution_count": 4,
   "metadata": {},
   "outputs": [
    {
     "data": {
      "text/plain": [
       "(550, 5400)"
      ]
     },
     "execution_count": 4,
     "metadata": {},
     "output_type": "execute_result"
    }
   ],
   "source": [
    "x = np.array(x)\n",
    "x.shape"
   ]
  },
  {
   "cell_type": "code",
   "execution_count": 5,
   "metadata": {},
   "outputs": [
    {
     "data": {
      "text/plain": [
       "(550,)"
      ]
     },
     "execution_count": 5,
     "metadata": {},
     "output_type": "execute_result"
    }
   ],
   "source": [
    "y = np.array(y)\n",
    "y.shape"
   ]
  },
  {
   "cell_type": "markdown",
   "metadata": {},
   "source": [
    "## Scale the features"
   ]
  },
  {
   "cell_type": "code",
   "execution_count": 6,
   "metadata": {
    "collapsed": true
   },
   "outputs": [],
   "source": [
    "scaler = StandardScaler()\n",
    "x = scaler.fit_transform(x)"
   ]
  },
  {
   "cell_type": "markdown",
   "metadata": {},
   "source": [
    "## Dimensionality Reduction with PCA"
   ]
  },
  {
   "cell_type": "code",
   "execution_count": 7,
   "metadata": {},
   "outputs": [
    {
     "data": {
      "text/plain": [
       "array([ 0.10620904,  0.09310655,  0.07339637,  0.06717056,  0.05420745,\n",
       "        0.04783076,  0.03963526,  0.03167517,  0.02885387,  0.02335468,\n",
       "        0.02195581,  0.01849945,  0.01654601,  0.01494023,  0.0138337 ,\n",
       "        0.01295852,  0.01144657,  0.01048185,  0.01004905,  0.00949703,\n",
       "        0.00915331,  0.00874156,  0.00787107,  0.00732721,  0.00677888,\n",
       "        0.00661084,  0.00630055,  0.00609576,  0.0059409 ,  0.00545993])"
      ]
     },
     "execution_count": 7,
     "metadata": {},
     "output_type": "execute_result"
    }
   ],
   "source": [
    "pca = PCA(n_components=30)\n",
    "x_reduced = pca.fit_transform(x)\n",
    "pca.explained_variance_ratio_"
   ]
  },
  {
   "cell_type": "markdown",
   "metadata": {},
   "source": [
    "## Silhouette coefficient for K-Means"
   ]
  },
  {
   "cell_type": "code",
   "execution_count": 8,
   "metadata": {},
   "outputs": [
    {
     "data": {
      "image/png": "[encoded data removed]",
      "text/plain": [
       "<matplotlib.figure.Figure at 0x107e28f50>"
      ]
     },
     "metadata": {},
     "output_type": "display_data"
    }
   ],
   "source": [
    "K = np.arange(6, 15)\n",
    "S = []\n",
    "\n",
    "for k in K:\n",
    "  model = KMeans(n_clusters=k, init ='k-means++', random_state=3)\n",
    "  model.fit(x_reduced)\n",
    "  S.append(silhouette_score(x_reduced, model.predict(x_reduced), metric='euclidean'))\n",
    "\n",
    "plt.plot(K, S, 'bx-')\n",
    "plt.title('K-means')\n",
    "plt.xlabel('clusters K')\n",
    "plt.ylabel('Silhouette Coefficient S')\n",
    "plt.show()"
   ]
  },
  {
   "cell_type": "markdown",
   "metadata": {},
   "source": [
    "## Silhouette coefficient for Spectral Clustering"
   ]
  },
  {
   "cell_type": "code",
   "execution_count": 9,
   "metadata": {},
   "outputs": [
    {
     "data": {
      "image/png": "[encoded data removed]",
      "text/plain": [
       "<matplotlib.figure.Figure at 0x10d1ddfd0>"
      ]
     },
     "metadata": {},
     "output_type": "display_data"
    }
   ],
   "source": [
    "S2 = []\n",
    "\n",
    "for k in K:  \n",
    "  nl_model = SpectralClustering(n_clusters=k, affinity='nearest_neighbors', n_neighbors=4)\n",
    "  S2.append(silhouette_score(x_reduced, nl_model.fit_predict(x_reduced), metric='euclidean'))\n",
    "\n",
    "plt.plot(K, S2, 'bx-')\n",
    "plt.title('Spectral Clustering')\n",
    "plt.xlabel('clusters K')\n",
    "plt.ylabel('Silhouette Coefficient S')\n",
    "plt.show()"
   ]
  }
 ],
 "metadata": {
  "kernelspec": {
   "display_name": "Python 2",
   "language": "python",
   "name": "python2"
  },
  "language_info": {
   "codemirror_mode": {
    "name": "ipython",
    "version": 2
   },
   "file_extension": ".py",
   "mimetype": "text/x-python",
   "name": "python",
   "nbconvert_exporter": "python",
   "pygments_lexer": "ipython2",
   "version": "2.7.10"
  }
 },
 "nbformat": 4,
 "nbformat_minor": 2
}
