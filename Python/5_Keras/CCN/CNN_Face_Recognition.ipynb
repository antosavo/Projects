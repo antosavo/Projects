{
 "cells": [
  {
   "cell_type": "markdown",
   "metadata": {},
   "source": [
    "# Convolutional neural networks\n",
    "\n",
    "To classify an image we need to flatten the data to one dimension, when using typical machine learning algorithms. It is better to build a model that can handle two-dimensional data as it is, otherwise, some information embedded in the data, such as positional relationships, is lost when flattened to one dimension.\n",
    "Convolutional Neural Networks (CNN) solve this problem. In CNN, features are extracted from two-dimensional input data through convolutional layers and pooling layers, and then these features are put into a multi-layer perceptron (MLP) for classification.\n",
    "\n",
    "## Convolution\n",
    "\n",
    "Convolutional layers perform convolution, which means applying several filters to the image to extract features. These filters are called kernels, and convolved images are called feature maps. The number of kernels corresponds to the number of feature maps. The kernel slides across the image and returns the summation of its values within the kernel as a multiplication filter. We don't have to set these kernel values manually, CNN itself will learn the the weights of kernels through the learning algorithm. Connections among neurons in convolutional layers are limited to their kernel size, thus, CNN are able to acquire translation invariance when kernels are optimized.\n",
    "\n",
    "## Pooling\n",
    "\n",
    "In a max-pooling layer, the input image is segmented into a set of non-overlapping sub-data and the maximum value is output from each data. This process is necessary to make the network keep its translation invariance and also reduces the computation for the upper layers.\n",
    "\n",
    "With convolution and pooling, CNN can acquire robust features from the input, and the final MLP layer  can proceed with the classification of the data."
   ]
  },
  {
   "cell_type": "code",
   "execution_count": 1,
   "metadata": {},
   "outputs": [
    {
     "name": "stderr",
     "output_type": "stream",
     "text": [
      "Using TensorFlow backend.\n"
     ]
    }
   ],
   "source": [
    "import numpy as np\n",
    "import pandas as pd\n",
    "import matplotlib.pyplot as plt\n",
    "import seaborn as sbn\n",
    "from scipy import misc, ndimage\n",
    "from sklearn.model_selection import train_test_split\n",
    "import keras\n",
    "from keras.models import Sequential\n",
    "from keras.layers import Dense, Dropout, Flatten\n",
    "from keras.layers import Conv2D, MaxPooling2D\n",
    "#from keras import backend as K"
   ]
  },
  {
   "cell_type": "code",
   "execution_count": 2,
   "metadata": {},
   "outputs": [
    {
     "data": {
      "image/png": "[encoded data removed]",
      "text/plain": [
       "<matplotlib.figure.Figure at 0x10743f790>"
      ]
     },
     "metadata": {},
     "output_type": "display_data"
    }
   ],
   "source": [
    "plt.gray()\n",
    "x_0 = misc.imread('faces/s1/1.pgm', flatten=True)\n",
    "plt.imshow(x_0)\n",
    "plt.grid(False)\n",
    "plt.show()"
   ]
  },
  {
   "cell_type": "code",
   "execution_count": 3,
   "metadata": {},
   "outputs": [
    {
     "data": {
      "text/plain": [
       "(112, 92)"
      ]
     },
     "execution_count": 3,
     "metadata": {},
     "output_type": "execute_result"
    }
   ],
   "source": [
    "x_0.shape"
   ]
  },
  {
   "cell_type": "code",
   "execution_count": 4,
   "metadata": {
    "collapsed": true
   },
   "outputs": [],
   "source": [
    "x = []\n",
    "y = []\n",
    "\n",
    "for j in range(1,11):\n",
    "  for k in range(1,11):\n",
    "    image_filename = 'faces/s%d/%d.pgm'%(j,k)\n",
    "    image = misc.imread(image_filename, flatten=True)\n",
    "    #h = 28.0/image.shape[0]\n",
    "    #l = 28.0/image.shape[1]\n",
    "    #image = ndimage.zoom(image,(h,l))\n",
    "    x.append(image)\n",
    "    y.append('%d'%(j-1))"
   ]
  },
  {
   "cell_type": "code",
   "execution_count": 5,
   "metadata": {
    "collapsed": true
   },
   "outputs": [],
   "source": [
    "x = np.array(x)\n",
    "y = np.array(y)"
   ]
  },
  {
   "cell_type": "code",
   "execution_count": 6,
   "metadata": {},
   "outputs": [
    {
     "data": {
      "text/plain": [
       "(100, 112, 92)"
      ]
     },
     "execution_count": 6,
     "metadata": {},
     "output_type": "execute_result"
    }
   ],
   "source": [
    "x.shape"
   ]
  },
  {
   "cell_type": "code",
   "execution_count": 7,
   "metadata": {
    "collapsed": true
   },
   "outputs": [],
   "source": [
    "x_train, x_test, y_train, y_test = train_test_split(x, y,test_size=0.3)"
   ]
  },
  {
   "cell_type": "code",
   "execution_count": 8,
   "metadata": {
    "collapsed": true
   },
   "outputs": [],
   "source": [
    "num_classes = 10\n",
    "img_rows, img_cols = 112, 92\n",
    "input_shape = (img_rows, img_cols, 1)"
   ]
  },
  {
   "cell_type": "code",
   "execution_count": 9,
   "metadata": {
    "collapsed": true
   },
   "outputs": [],
   "source": [
    "x_train = x_train.reshape(x_train.shape[0], img_rows, img_cols, 1)\n",
    "x_test = x_test.reshape(x_test.shape[0], img_rows, img_cols, 1)\n",
    "x_train /= 255\n",
    "x_test /= 255"
   ]
  },
  {
   "cell_type": "code",
   "execution_count": 10,
   "metadata": {
    "collapsed": true
   },
   "outputs": [],
   "source": [
    "y_train = keras.utils.to_categorical(y_train, num_classes)\n",
    "y_test = keras.utils.to_categorical(y_test, num_classes)"
   ]
  },
  {
   "cell_type": "code",
   "execution_count": 11,
   "metadata": {
    "collapsed": true
   },
   "outputs": [],
   "source": [
    "model = Sequential()\n",
    "model.add(Conv2D(filters = 40, kernel_size=(3, 3), activation='relu',input_shape=input_shape))\n",
    "model.add(MaxPooling2D(pool_size=(2, 2)))\n",
    "model.add(Flatten())\n",
    "model.add(Dense(num_classes, activation='sigmoid')) #'sigmoid','relu' rectified linear unit"
   ]
  },
  {
   "cell_type": "code",
   "execution_count": 12,
   "metadata": {
    "collapsed": true
   },
   "outputs": [],
   "source": [
    "model.compile(loss='categorical_crossentropy', optimizer='Adadelta', metrics=['accuracy'])\n",
    "#loss='mean_squared_error', optimizer='sgd'"
   ]
  },
  {
   "cell_type": "code",
   "execution_count": 13,
   "metadata": {},
   "outputs": [
    {
     "name": "stdout",
     "output_type": "stream",
     "text": [
      "Epoch 1/15\n",
      "70/70 [==============================] - 1s - loss: 2.5751 - acc: 0.1571     \n",
      "Epoch 2/15\n",
      "70/70 [==============================] - 0s - loss: 2.1972 - acc: 0.2571     \n",
      "Epoch 3/15\n",
      "70/70 [==============================] - 0s - loss: 1.9478 - acc: 0.3429     \n",
      "Epoch 4/15\n",
      "70/70 [==============================] - 0s - loss: 1.7275 - acc: 0.3714     \n",
      "Epoch 5/15\n",
      "70/70 [==============================] - 0s - loss: 1.2791 - acc: 0.5286     \n",
      "Epoch 6/15\n",
      "70/70 [==============================] - 0s - loss: 1.0077 - acc: 0.5857     \n",
      "Epoch 7/15\n",
      "70/70 [==============================] - 0s - loss: 0.7273 - acc: 0.8143     \n",
      "Epoch 8/15\n",
      "70/70 [==============================] - 0s - loss: 0.2626 - acc: 0.9571     \n",
      "Epoch 9/15\n",
      "70/70 [==============================] - 0s - loss: 0.1373 - acc: 0.9857     \n",
      "Epoch 10/15\n",
      "70/70 [==============================] - 0s - loss: 0.1419 - acc: 0.9857     \n",
      "Epoch 11/15\n",
      "70/70 [==============================] - 0s - loss: 0.0737 - acc: 1.0000     \n",
      "Epoch 12/15\n",
      "70/70 [==============================] - 0s - loss: 0.0578 - acc: 1.0000     \n",
      "Epoch 13/15\n",
      "70/70 [==============================] - 0s - loss: 0.0494 - acc: 1.0000     \n",
      "Epoch 14/15\n",
      "70/70 [==============================] - 0s - loss: 0.0377 - acc: 1.0000     \n",
      "Epoch 15/15\n",
      "70/70 [==============================] - 0s - loss: 0.0282 - acc: 1.0000     \n"
     ]
    },
    {
     "data": {
      "text/plain": [
       "<keras.callbacks.History at 0x115492a50>"
      ]
     },
     "execution_count": 13,
     "metadata": {},
     "output_type": "execute_result"
    }
   ],
   "source": [
    "model.fit(x_train, y_train, batch_size=10, epochs=15)"
   ]
  },
  {
   "cell_type": "code",
   "execution_count": 14,
   "metadata": {
    "collapsed": true
   },
   "outputs": [],
   "source": [
    "y_pred = model.predict(x_test, batch_size= x_test.shape[0])"
   ]
  },
  {
   "cell_type": "code",
   "execution_count": 15,
   "metadata": {
    "collapsed": true
   },
   "outputs": [],
   "source": [
    "# Reversing to_categorical\n",
    "y_pred_r = np.argmax(y_pred,axis=1)\n",
    "y_test_r = np.argmax(y_test,axis=1)"
   ]
  },
  {
   "cell_type": "code",
   "execution_count": 16,
   "metadata": {},
   "outputs": [
    {
     "data": {
      "image/png": "[encoded data removed]",
      "text/plain": [
       "<matplotlib.figure.Figure at 0x115210f90>"
      ]
     },
     "metadata": {},
     "output_type": "display_data"
    }
   ],
   "source": [
    "table = pd.crosstab(y_test_r, y_pred_r, rownames=['Actual'], colnames=['Predictions'])\n",
    "\n",
    "sbn.heatmap(table, cbar=True, cmap='Blues',annot=True, square=True, fmt='d', annot_kws={'size': 20})\n",
    "\n",
    "plt.show()"
   ]
  },
  {
   "cell_type": "code",
   "execution_count": 17,
   "metadata": {},
   "outputs": [
    {
     "data": {
      "text/plain": [
       "[0.12448368221521378, 1.0]"
      ]
     },
     "execution_count": 17,
     "metadata": {},
     "output_type": "execute_result"
    }
   ],
   "source": [
    "model.evaluate(x_test, y_test, verbose=0) # [loss, accuracy]"
   ]
  }
 ],
 "metadata": {
  "kernelspec": {
   "display_name": "Python 2",
   "language": "python",
   "name": "python2"
  },
  "language_info": {
   "codemirror_mode": {
    "name": "ipython",
    "version": 2
   },
   "file_extension": ".py",
   "mimetype": "text/x-python",
   "name": "python",
   "nbconvert_exporter": "python",
   "pygments_lexer": "ipython2",
   "version": "2.7.10"
  }
 },
 "nbformat": 4,
 "nbformat_minor": 2
}
