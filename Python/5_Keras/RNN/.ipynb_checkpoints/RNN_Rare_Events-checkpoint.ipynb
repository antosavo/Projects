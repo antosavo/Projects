{
 "cells": [
  {
   "cell_type": "code",
   "execution_count": 1,
   "metadata": {},
   "outputs": [
    {
     "name": "stderr",
     "output_type": "stream",
     "text": [
      "Using TensorFlow backend.\n"
     ]
    }
   ],
   "source": [
    "import numpy as np\n",
    "import pandas as pd\n",
    "import matplotlib.pyplot as plt\n",
    "from sklearn.metrics import mean_squared_error\n",
    "from keras.models import Sequential\n",
    "from keras.layers import Dense\n",
    "from keras.layers import LSTM"
   ]
  },
  {
   "cell_type": "code",
   "execution_count": 2,
   "metadata": {},
   "outputs": [
    {
     "data": {
      "text/html": [
       "<div>\n",
       "<table border=\"1\" class=\"dataframe\">\n",
       "  <thead>\n",
       "    <tr style=\"text-align: right;\">\n",
       "      <th></th>\n",
       "      <th>t</th>\n",
       "      <th>I</th>\n",
       "    </tr>\n",
       "  </thead>\n",
       "  <tbody>\n",
       "    <tr>\n",
       "      <th>0</th>\n",
       "      <td>0.038148</td>\n",
       "      <td>0.027355</td>\n",
       "    </tr>\n",
       "    <tr>\n",
       "      <th>1</th>\n",
       "      <td>0.114443</td>\n",
       "      <td>0.032728</td>\n",
       "    </tr>\n",
       "    <tr>\n",
       "      <th>2</th>\n",
       "      <td>0.190738</td>\n",
       "      <td>0.045104</td>\n",
       "    </tr>\n",
       "    <tr>\n",
       "      <th>3</th>\n",
       "      <td>0.267033</td>\n",
       "      <td>0.068821</td>\n",
       "    </tr>\n",
       "    <tr>\n",
       "      <th>4</th>\n",
       "      <td>0.343328</td>\n",
       "      <td>0.110740</td>\n",
       "    </tr>\n",
       "  </tbody>\n",
       "</table>\n",
       "</div>"
      ],
      "text/plain": [
       "          t         I\n",
       "0  0.038148  0.027355\n",
       "1  0.114443  0.032728\n",
       "2  0.190738  0.045104\n",
       "3  0.267033  0.068821\n",
       "4  0.343328  0.110740"
      ]
     },
     "execution_count": 2,
     "metadata": {},
     "output_type": "execute_result"
    }
   ],
   "source": [
    "df = pd.read_csv('Intensity_Rare_Events.dat',sep='\\t').iloc[0:4000,:]\n",
    "df.head()"
   ]
  },
  {
   "cell_type": "code",
   "execution_count": 3,
   "metadata": {
    "collapsed": true
   },
   "outputs": [],
   "source": [
    "t = df.iloc[:,0] #time\n",
    "I = df.iloc[:,1]/10.0 #intensity"
   ]
  },
  {
   "cell_type": "code",
   "execution_count": 4,
   "metadata": {},
   "outputs": [
    {
     "data": {
      "image/png": "[encoded data removed]",
      "text/plain": [
       "<matplotlib.figure.Figure at 0x109d44750>"
      ]
     },
     "metadata": {},
     "output_type": "display_data"
    }
   ],
   "source": [
    "plt.plot(t,I)\n",
    "plt.ylabel('Intensity')\n",
    "plt.xlabel('Time')\n",
    "plt.xlim([0,300])\n",
    "plt.show()"
   ]
  },
  {
   "cell_type": "code",
   "execution_count": 5,
   "metadata": {},
   "outputs": [
    {
     "data": {
      "text/plain": [
       "0.076295000000000002"
      ]
     },
     "execution_count": 5,
     "metadata": {},
     "output_type": "execute_result"
    }
   ],
   "source": [
    "# time step\n",
    "dt = t[1]-t[0]\n",
    "dt"
   ]
  },
  {
   "cell_type": "code",
   "execution_count": 6,
   "metadata": {},
   "outputs": [
    {
     "data": {
      "text/plain": [
       "393"
      ]
     },
     "execution_count": 6,
     "metadata": {},
     "output_type": "execute_result"
    }
   ],
   "source": [
    "# number of points to look back\n",
    "look_back =int(30/dt)\n",
    "look_back"
   ]
  },
  {
   "cell_type": "code",
   "execution_count": 7,
   "metadata": {
    "collapsed": true
   },
   "outputs": [],
   "source": [
    "# convert an array of values into a dataset matrix\n",
    "y_seq = []\n",
    "y_next = [] \n",
    "\n",
    "for i in range(len(I)-look_back-1):\n",
    "    a = I[i:(i+look_back)]\n",
    "    y_seq.append(a)\n",
    "    y_next.append(I[i + look_back])\n",
    "    \n",
    "y_seq = np.array(y_seq)\n",
    "y_next = np.array(y_next)"
   ]
  },
  {
   "cell_type": "code",
   "execution_count": 8,
   "metadata": {},
   "outputs": [
    {
     "data": {
      "text/plain": [
       "(3606, 393)"
      ]
     },
     "execution_count": 8,
     "metadata": {},
     "output_type": "execute_result"
    }
   ],
   "source": [
    "y_seq.shape"
   ]
  },
  {
   "cell_type": "code",
   "execution_count": 9,
   "metadata": {},
   "outputs": [
    {
     "data": {
      "text/plain": [
       "(3606,)"
      ]
     },
     "execution_count": 9,
     "metadata": {},
     "output_type": "execute_result"
    }
   ],
   "source": [
    "y_next.shape"
   ]
  },
  {
   "cell_type": "code",
   "execution_count": 10,
   "metadata": {
    "collapsed": true
   },
   "outputs": [],
   "source": [
    "# split into train and test sets\n",
    "train_size = int(y_seq.shape[0] * 0.67)\n",
    "test_size = y_seq.shape[0] - train_size\n",
    "y_seq_train, y_seq_test = y_seq[0:train_size,:], y_seq[train_size:y_seq.shape[0],:]\n",
    "y_next_train, y_next_test = y_next[0:train_size], y_next[train_size:y_seq.shape[0]]"
   ]
  },
  {
   "cell_type": "code",
   "execution_count": 11,
   "metadata": {
    "collapsed": true
   },
   "outputs": [],
   "source": [
    "# reshape input to be [samples, time steps, features]\n",
    "y_seq_train = np.reshape(y_seq_train, (y_seq_train.shape[0], y_seq_train.shape[1], 1))\n",
    "y_seq_test = np.reshape(y_seq_test, (y_seq_test.shape[0], y_seq_test.shape[1], 1))"
   ]
  },
  {
   "cell_type": "code",
   "execution_count": 12,
   "metadata": {},
   "outputs": [
    {
     "name": "stdout",
     "output_type": "stream",
     "text": [
      "Epoch 1/10\n",
      "2416/2416 [==============================] - 12s - loss: 0.0734    \n",
      "Epoch 2/10\n",
      "2416/2416 [==============================] - 11s - loss: 0.0636    \n",
      "Epoch 3/10\n",
      "2416/2416 [==============================] - 11s - loss: 0.0582    \n",
      "Epoch 4/10\n",
      "2416/2416 [==============================] - 11s - loss: 0.0541    \n",
      "Epoch 5/10\n",
      "2416/2416 [==============================] - 11s - loss: 0.0523    \n",
      "Epoch 6/10\n",
      "2416/2416 [==============================] - 11s - loss: 0.0505    \n",
      "Epoch 7/10\n",
      "2416/2416 [==============================] - 11s - loss: 0.0488    \n",
      "Epoch 8/10\n",
      "2416/2416 [==============================] - 11s - loss: 0.0472    \n",
      "Epoch 9/10\n",
      "2416/2416 [==============================] - 11s - loss: 0.0459    \n",
      "Epoch 10/10\n",
      "2416/2416 [==============================] - 11s - loss: 0.0446    \n"
     ]
    },
    {
     "data": {
      "text/plain": [
       "<keras.callbacks.History at 0x119d71d50>"
      ]
     },
     "execution_count": 12,
     "metadata": {},
     "output_type": "execute_result"
    }
   ],
   "source": [
    "# create and fit the LSTM network\n",
    "model = Sequential()\n",
    "model.add(LSTM(5, activation= 'linear', input_shape=(look_back, 1)))#5 units\n",
    "model.add(Dense(1, activation= 'linear'))\n",
    "model.compile(loss='mean_squared_error', optimizer='adam')#adam\n",
    "model.fit(y_seq_train, y_next_train, epochs=10, batch_size=300)"
   ]
  },
  {
   "cell_type": "code",
   "execution_count": 13,
   "metadata": {
    "collapsed": true
   },
   "outputs": [],
   "source": [
    "# make predictions\n",
    "y_next_train_pred = model.predict(y_seq_train)\n",
    "y_next_test_pred = model.predict(y_seq_test)"
   ]
  },
  {
   "cell_type": "code",
   "execution_count": 14,
   "metadata": {},
   "outputs": [
    {
     "data": {
      "text/plain": [
       "0.043982656290589242"
      ]
     },
     "execution_count": 14,
     "metadata": {},
     "output_type": "execute_result"
    }
   ],
   "source": [
    "mean_squared_error(y_next_test, y_next_test_pred)"
   ]
  },
  {
   "cell_type": "code",
   "execution_count": 15,
   "metadata": {},
   "outputs": [
    {
     "data": {
      "image/png": "[encoded data removed]",
      "text/plain": [
       "<matplotlib.figure.Figure at 0x117f9c6d0>"
      ]
     },
     "metadata": {},
     "output_type": "display_data"
    }
   ],
   "source": [
    "plt.plot(t,I, c='g', label = 'Original data')\n",
    "plt.plot(np.arange(0,train_size)*dt,y_next_train_pred, c='r', label='Train prediction')\n",
    "plt.plot(np.arange(train_size,y_seq.shape[0])*dt,y_next_test_pred, c='b', label='Test prediction')\n",
    "plt.ylabel('Intensity')\n",
    "plt.xlabel('Time')\n",
    "plt.xlim([0,300])\n",
    "plt.legend()\n",
    "plt.show()"
   ]
  }
 ],
 "metadata": {
  "kernelspec": {
   "display_name": "Python 2",
   "language": "python",
   "name": "python2"
  },
  "language_info": {
   "codemirror_mode": {
    "name": "ipython",
    "version": 2
   },
   "file_extension": ".py",
   "mimetype": "text/x-python",
   "name": "python",
   "nbconvert_exporter": "python",
   "pygments_lexer": "ipython2",
   "version": "2.7.10"
  }
 },
 "nbformat": 4,
 "nbformat_minor": 2
}
