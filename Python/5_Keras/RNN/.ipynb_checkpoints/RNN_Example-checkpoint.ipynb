{
 "cells": [
  {
   "cell_type": "markdown",
   "metadata": {},
   "source": [
    "# Recurrent neural networks\n",
    "\n",
    "Recurrent neural network (RNN) can be trained with time sequential data such as precipitation, stock prices. The difference with a standard neural networks is that RNN has connections\n",
    "between hidden layers with respect to time. The input at time t is activated in the\n",
    "hidden layer at time t , preserved in the hidden layer, and then propagated to the\n",
    "hidden layer at time t +1 with the input at time t +1. This enables the networks to\n",
    "contain the states of past data.\n",
    "We train this model using the backpropagation algorithm. However, we\n",
    "need to consider time relevance when training, and there is a technique called\n",
    "Backpropagation through Time (BPTT) to handle this. In BPTT, the errors and\n",
    "gradients of the parameter are backpropagated to the layers of the past.\n",
    "Theoretically, the network at each time step should consider the whole sequence up to then, but practically, time windows are truncated to make the calculation less complicated or to prevent the vanishing gradient problem and the exploding gradient problem.\n",
    "\n",
    "## The Long Short-Term Memory network\n",
    "\n",
    "The Long Short-Term Memory (LSTM) network is a recurrent neural network that is trained using Backpropagation Through Time and overcomes the vanishing gradient problem. Instead of neurons, LSTM networks have memory blocks that are connected through layers.\n",
    "A block contains gates that manage the block’s state and output. There are three types of gates within a unit:\n",
    "- Forget Gate: decides what information to forget.\n",
    "- Input Gate: decides what information to update in memory.\n",
    "- Output Gate: decides what information to output based on input and the memory of the block.\n",
    "The gates of the units have weights that are learned during the training procedure."
   ]
  },
  {
   "cell_type": "markdown",
   "metadata": {},
   "source": [
    "We want to predict what is the next point after a sequence of points, for example: \n",
    "\n",
    "2,4,6 ---> 8"
   ]
  },
  {
   "cell_type": "code",
   "execution_count": 1,
   "metadata": {},
   "outputs": [
    {
     "name": "stderr",
     "output_type": "stream",
     "text": [
      "Using TensorFlow backend.\n"
     ]
    }
   ],
   "source": [
    "import numpy as np\n",
    "import pandas as pd\n",
    "import matplotlib.pyplot as plt\n",
    "from sklearn.preprocessing import MinMaxScaler\n",
    "from sklearn.metrics import mean_squared_error\n",
    "from keras.models import Sequential\n",
    "from keras.layers import Dense\n",
    "from keras.layers import LSTM"
   ]
  },
  {
   "cell_type": "code",
   "execution_count": 2,
   "metadata": {},
   "outputs": [],
   "source": [
    "# fix random seed for reproducibility\n",
    "np.random.seed(7)"
   ]
  },
  {
   "cell_type": "code",
   "execution_count": 3,
   "metadata": {},
   "outputs": [
    {
     "data": {
      "text/html": [
       "<div>\n",
       "<table border=\"1\" class=\"dataframe\">\n",
       "  <thead>\n",
       "    <tr style=\"text-align: right;\">\n",
       "      <th></th>\n",
       "      <th>Month</th>\n",
       "      <th>Passengers</th>\n",
       "    </tr>\n",
       "  </thead>\n",
       "  <tbody>\n",
       "    <tr>\n",
       "      <th>0</th>\n",
       "      <td>1949-01</td>\n",
       "      <td>112</td>\n",
       "    </tr>\n",
       "    <tr>\n",
       "      <th>1</th>\n",
       "      <td>1949-02</td>\n",
       "      <td>118</td>\n",
       "    </tr>\n",
       "    <tr>\n",
       "      <th>2</th>\n",
       "      <td>1949-03</td>\n",
       "      <td>132</td>\n",
       "    </tr>\n",
       "    <tr>\n",
       "      <th>3</th>\n",
       "      <td>1949-04</td>\n",
       "      <td>129</td>\n",
       "    </tr>\n",
       "    <tr>\n",
       "      <th>4</th>\n",
       "      <td>1949-05</td>\n",
       "      <td>121</td>\n",
       "    </tr>\n",
       "  </tbody>\n",
       "</table>\n",
       "</div>"
      ],
      "text/plain": [
       "     Month  Passengers\n",
       "0  1949-01         112\n",
       "1  1949-02         118\n",
       "2  1949-03         132\n",
       "3  1949-04         129\n",
       "4  1949-05         121"
      ]
     },
     "execution_count": 3,
     "metadata": {},
     "output_type": "execute_result"
    }
   ],
   "source": [
    "df = pd.read_csv('international-airline-passengers.csv', sep =';')\n",
    "df.head()"
   ]
  },
  {
   "cell_type": "code",
   "execution_count": 4,
   "metadata": {},
   "outputs": [],
   "source": [
    "y_t = df.iloc[:,1].values.astype('float32')/df.iloc[:,1].max()"
   ]
  },
  {
   "cell_type": "code",
   "execution_count": 5,
   "metadata": {},
   "outputs": [],
   "source": [
    "# convert an array of values into a dataset matrix\n",
    "y_seq = []\n",
    "y_next = []\n",
    "look_back =3 \n",
    "\n",
    "for i in range(len(y_t)-look_back-1):\n",
    "    a = y_t[i:(i+look_back)]\n",
    "    y_seq.append(a)\n",
    "    y_next.append(y_t[i + look_back])\n",
    "    \n",
    "y_seq = np.array(y_seq)\n",
    "y_next = np.array(y_next)"
   ]
  },
  {
   "cell_type": "code",
   "execution_count": 6,
   "metadata": {},
   "outputs": [
    {
     "data": {
      "text/plain": [
       "(140, 3)"
      ]
     },
     "execution_count": 6,
     "metadata": {},
     "output_type": "execute_result"
    }
   ],
   "source": [
    "y_seq.shape"
   ]
  },
  {
   "cell_type": "code",
   "execution_count": 7,
   "metadata": {},
   "outputs": [
    {
     "data": {
      "text/plain": [
       "(140,)"
      ]
     },
     "execution_count": 7,
     "metadata": {},
     "output_type": "execute_result"
    }
   ],
   "source": [
    "y_next.shape"
   ]
  },
  {
   "cell_type": "code",
   "execution_count": 8,
   "metadata": {},
   "outputs": [],
   "source": [
    "# split into train and test sets\n",
    "train_size = int(y_seq.shape[0] * 0.67)\n",
    "test_size = y_seq.shape[0] - train_size\n",
    "y_seq_train, y_seq_test = y_seq[0:train_size,:], y_seq[train_size:y_seq.shape[0],:]\n",
    "y_next_train, y_next_test = y_next[0:train_size], y_next[train_size:y_seq.shape[0]]"
   ]
  },
  {
   "cell_type": "code",
   "execution_count": 9,
   "metadata": {
    "collapsed": true
   },
   "outputs": [],
   "source": [
    "# reshape input to be [samples, time steps, features]\n",
    "y_seq_train = np.reshape(y_seq_train, (y_seq_train.shape[0], y_seq_train.shape[1], 1))\n",
    "y_seq_test = np.reshape(y_seq_test, (y_seq_test.shape[0], y_seq_test.shape[1], 1))"
   ]
  },
  {
   "cell_type": "code",
   "execution_count": 10,
   "metadata": {},
   "outputs": [
    {
     "name": "stdout",
     "output_type": "stream",
     "text": [
      "Epoch 1/20\n",
      "93/93 [==============================] - 2s - loss: 0.0482     \n",
      "Epoch 2/20\n",
      "93/93 [==============================] - 1s - loss: 0.0064     \n",
      "Epoch 3/20\n",
      "93/93 [==============================] - 1s - loss: 0.0054     \n",
      "Epoch 4/20\n",
      "93/93 [==============================] - 1s - loss: 0.0050     \n",
      "Epoch 5/20\n",
      "93/93 [==============================] - 1s - loss: 0.0044     \n",
      "Epoch 6/20\n",
      "93/93 [==============================] - 1s - loss: 0.0041     \n",
      "Epoch 7/20\n",
      "93/93 [==============================] - 1s - loss: 0.0039     \n",
      "Epoch 8/20\n",
      "93/93 [==============================] - 1s - loss: 0.0034     \n",
      "Epoch 9/20\n",
      "93/93 [==============================] - 1s - loss: 0.0034     \n",
      "Epoch 10/20\n",
      "93/93 [==============================] - 1s - loss: 0.0033     \n",
      "Epoch 11/20\n",
      "93/93 [==============================] - 1s - loss: 0.0030     \n",
      "Epoch 12/20\n",
      "93/93 [==============================] - 1s - loss: 0.0030     \n",
      "Epoch 13/20\n",
      "93/93 [==============================] - 1s - loss: 0.0031     \n",
      "Epoch 14/20\n",
      "93/93 [==============================] - 1s - loss: 0.0030     \n",
      "Epoch 15/20\n",
      "93/93 [==============================] - 1s - loss: 0.0029     \n",
      "Epoch 16/20\n",
      "93/93 [==============================] - 1s - loss: 0.0029     \n",
      "Epoch 17/20\n",
      "93/93 [==============================] - 1s - loss: 0.0028     \n",
      "Epoch 18/20\n",
      "93/93 [==============================] - 1s - loss: 0.0029     \n",
      "Epoch 19/20\n",
      "93/93 [==============================] - 1s - loss: 0.0028     \n",
      "Epoch 20/20\n",
      "93/93 [==============================] - 1s - loss: 0.0028     \n"
     ]
    },
    {
     "data": {
      "text/plain": [
       "<keras.callbacks.History at 0x111464a10>"
      ]
     },
     "execution_count": 10,
     "metadata": {},
     "output_type": "execute_result"
    }
   ],
   "source": [
    "# create and fit the LSTM network\n",
    "model = Sequential()\n",
    "model.add(LSTM(5, activation= 'linear', input_shape=(look_back, 1)))#5 units\n",
    "model.add(Dense(1, activation= 'linear'))\n",
    "model.compile(loss='mean_squared_error', optimizer='adam')#adam\n",
    "model.fit(y_seq_train, y_next_train, epochs=20, batch_size=1)"
   ]
  },
  {
   "cell_type": "code",
   "execution_count": 11,
   "metadata": {
    "collapsed": true
   },
   "outputs": [],
   "source": [
    "# make predictions\n",
    "y_next_train_pred = model.predict(y_seq_train)\n",
    "y_next_test_pred = model.predict(y_seq_test)"
   ]
  },
  {
   "cell_type": "code",
   "execution_count": 12,
   "metadata": {},
   "outputs": [
    {
     "data": {
      "text/plain": [
       "0.01423372"
      ]
     },
     "execution_count": 12,
     "metadata": {},
     "output_type": "execute_result"
    }
   ],
   "source": [
    "# calculate root mean squared error\n",
    "mean_squared_error(y_next_test, y_next_test_pred)"
   ]
  },
  {
   "cell_type": "code",
   "execution_count": 13,
   "metadata": {},
   "outputs": [
    {
     "data": {
      "image/png": "[encoded data removed]",
      "text/plain": [
       "<matplotlib.figure.Figure at 0x110117110>"
      ]
     },
     "metadata": {},
     "output_type": "display_data"
    }
   ],
   "source": [
    "plt.plot(y_t, c='g')\n",
    "plt.plot(y_next_train_pred, c='r')\n",
    "plt.plot(np.arange(94,141),y_next_test_pred, c='b')\n",
    "plt.show()"
   ]
  }
 ],
 "metadata": {
  "kernelspec": {
   "display_name": "Python 2",
   "language": "python",
   "name": "python2"
  },
  "language_info": {
   "codemirror_mode": {
    "name": "ipython",
    "version": 2
   },
   "file_extension": ".py",
   "mimetype": "text/x-python",
   "name": "python",
   "nbconvert_exporter": "python",
   "pygments_lexer": "ipython2",
   "version": "2.7.10"
  }
 },
 "nbformat": 4,
 "nbformat_minor": 2
}
